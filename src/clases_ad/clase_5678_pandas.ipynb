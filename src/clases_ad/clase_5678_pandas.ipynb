{
 "cells": [
  {
   "cell_type": "markdown",
   "id": "2b0a60ea",
   "metadata": {},
   "source": [
    "# Pandas "
   ]
  },
  {
   "cell_type": "markdown",
   "id": "dbfa3cb5",
   "metadata": {},
   "source": [
    "## contenido\n",
    "- Fundamentos y E/S\n",
    "- Selección, filtrado e indexación \n",
    "- Limpieza y preparación de datos \n",
    "- Transformaciones y funciones\n",
    "- Agrupaciones, pivotes y ventanas \n",
    "- Joins, concat y reshaping \n",
    "- Series de tiempo \n",
    "- Texto y categóricos\n",
    "- Rendimiento y depuración\n",
    "- Visualización con Matplotlib \n",
    "\n",
    "[Cheat sheet](https://pandas.pydata.org/Pandas_Cheat_Sheet.pdf)"
   ]
  },
  {
   "cell_type": "markdown",
   "id": "690f91c9",
   "metadata": {},
   "source": [
    "# importaciones"
   ]
  },
  {
   "cell_type": "code",
   "execution_count": 70,
   "id": "4e1ffcbd",
   "metadata": {},
   "outputs": [],
   "source": [
    "import numpy as np\n",
    "import pandas as pd\n",
    "from pathlib import Path\n",
    "from sklearn.preprocessing import MinMaxScaler"
   ]
  },
  {
   "cell_type": "markdown",
   "id": "f61ddc99",
   "metadata": {},
   "source": [
    "# rutas"
   ]
  },
  {
   "cell_type": "code",
   "execution_count": 2,
   "id": "36d797ca",
   "metadata": {},
   "outputs": [],
   "source": [
    "np.random.seed(42)\n",
    "data_dir = Path('static/data/')\n",
    "data_dir.mkdir(parents=True, exist_ok=True)"
   ]
  },
  {
   "cell_type": "markdown",
   "id": "b2878ea3",
   "metadata": {},
   "source": [
    "# Fundamentos y E/S"
   ]
  },
  {
   "cell_type": "markdown",
   "id": "f3cd303f",
   "metadata": {},
   "source": [
    "### Crear Series y DataFrames\n",
    "\n",
    "![Serie](static/img/serie.png) ![DataFrame](static/img/dataframe.png) "
   ]
  },
  {
   "cell_type": "code",
   "execution_count": 3,
   "id": "3195a131",
   "metadata": {},
   "outputs": [
    {
     "name": "stdout",
     "output_type": "stream",
     "text": [
      "0    x\n",
      "1    y\n",
      "2    z\n",
      "Name: S, dtype: object\n"
     ]
    }
   ],
   "source": [
    "s = [\"x\",\"y\",\"z\"]\n",
    "series = pd.Series(s, name=\"S\")\n",
    "print(series)"
   ]
  },
  {
   "cell_type": "code",
   "execution_count": 4,
   "id": "731322c1",
   "metadata": {},
   "outputs": [
    {
     "name": "stdout",
     "output_type": "stream",
     "text": [
      "   A  B\n",
      "0  1  x\n",
      "1  2  y\n",
      "2  3  z\n"
     ]
    }
   ],
   "source": [
    "a = [1,2,3]\n",
    "b = [\"x\",\"y\",\"z\"]\n",
    "df = pd.DataFrame({\"A\":a, \"B\":b})\n",
    "print(df)"
   ]
  },
  {
   "cell_type": "markdown",
   "id": "3d2da592",
   "metadata": {},
   "source": [
    "### Lectura"
   ]
  },
  {
   "cell_type": "code",
   "execution_count": 5,
   "id": "08071e25",
   "metadata": {},
   "outputs": [
    {
     "data": {
      "text/html": [
       "<div>\n",
       "<style scoped>\n",
       "    .dataframe tbody tr th:only-of-type {\n",
       "        vertical-align: middle;\n",
       "    }\n",
       "\n",
       "    .dataframe tbody tr th {\n",
       "        vertical-align: top;\n",
       "    }\n",
       "\n",
       "    .dataframe thead th {\n",
       "        text-align: right;\n",
       "    }\n",
       "</style>\n",
       "<table border=\"1\" class=\"dataframe\">\n",
       "  <thead>\n",
       "    <tr style=\"text-align: right;\">\n",
       "      <th></th>\n",
       "      <th>country</th>\n",
       "      <th>designation</th>\n",
       "      <th>points</th>\n",
       "      <th>price</th>\n",
       "      <th>province</th>\n",
       "      <th>region_1</th>\n",
       "      <th>region_2</th>\n",
       "      <th>variety</th>\n",
       "      <th>winery</th>\n",
       "      <th>last_year_points</th>\n",
       "    </tr>\n",
       "  </thead>\n",
       "  <tbody>\n",
       "    <tr>\n",
       "      <th>0</th>\n",
       "      <td>US</td>\n",
       "      <td>Martha's Vineyard</td>\n",
       "      <td>96.0</td>\n",
       "      <td>235.0</td>\n",
       "      <td>California</td>\n",
       "      <td>Napa Valley</td>\n",
       "      <td>Napa</td>\n",
       "      <td>Cabernet Sauvignon</td>\n",
       "      <td>Heitz</td>\n",
       "      <td>94</td>\n",
       "    </tr>\n",
       "    <tr>\n",
       "      <th>1</th>\n",
       "      <td>Spain</td>\n",
       "      <td>Carodorum Selección Especial Reserva</td>\n",
       "      <td>96.0</td>\n",
       "      <td>110.0</td>\n",
       "      <td>Northern Spain</td>\n",
       "      <td>Toro</td>\n",
       "      <td>NaN</td>\n",
       "      <td>Tinta de Toro</td>\n",
       "      <td>Bodega Carmen Rodríguez</td>\n",
       "      <td>92</td>\n",
       "    </tr>\n",
       "  </tbody>\n",
       "</table>\n",
       "</div>"
      ],
      "text/plain": [
       "  country                           designation  points  price  \\\n",
       "0      US                     Martha's Vineyard    96.0  235.0   \n",
       "1   Spain  Carodorum Selección Especial Reserva    96.0  110.0   \n",
       "\n",
       "         province     region_1 region_2             variety  \\\n",
       "0      California  Napa Valley     Napa  Cabernet Sauvignon   \n",
       "1  Northern Spain         Toro      NaN       Tinta de Toro   \n",
       "\n",
       "                    winery  last_year_points  \n",
       "0                    Heitz                94  \n",
       "1  Bodega Carmen Rodríguez                92  "
      ]
     },
     "execution_count": 5,
     "metadata": {},
     "output_type": "execute_result"
    }
   ],
   "source": [
    "# ruta\n",
    "ruta_csv = \"static/csv/winemag-data_first150k.csv\"\n",
    "# variable\n",
    "#lectura de csv\n",
    "df_csv = pd.read_csv(ruta_csv,delimiter=\";\")\n",
    "df_csv.head(2)\n",
    "#lectura de excel\n",
    "#ruta_excel = \"static/excel/mi_excel.xlsx\"\n",
    "#df_excel = pd.read_excel(ruta_excel, sheet_name=\"Hoja1\")\n",
    "#LECTURA DE JSON\n",
    "# ruta_json = \"static/json/mi_json.json\"  \n",
    "# df_json = pd.read_json(ruta_json)\n",
    "#LECTURA DE HTML\n",
    "# ruta_html = \"static/html/mi_html.html\"\n",
    "# df_html = pd.read_html(ruta_html)\n",
    "#LECTURA DE PARQUET\n",
    "# ruta_parquet = \"static/parquet/mi_parquet.parquet\"    \n",
    "# df_parquet = pd.read_parquet(ruta_parquet)"
   ]
  },
  {
   "cell_type": "markdown",
   "id": "d38e98a2",
   "metadata": {},
   "source": [
    "### Selección de columnas"
   ]
  },
  {
   "cell_type": "code",
   "execution_count": 6,
   "id": "af4c561e",
   "metadata": {},
   "outputs": [
    {
     "data": {
      "text/plain": [
       "['country',\n",
       " 'designation',\n",
       " 'points',\n",
       " 'price',\n",
       " 'province',\n",
       " 'region_1',\n",
       " 'region_2',\n",
       " 'variety',\n",
       " 'winery',\n",
       " 'last_year_points']"
      ]
     },
     "execution_count": 6,
     "metadata": {},
     "output_type": "execute_result"
    }
   ],
   "source": [
    "columnas = ['country', 'designation', 'points', 'price', 'province', 'region_1','region_2', 'variety', 'winery', 'last_year_points']\n",
    "columnas"
   ]
  },
  {
   "cell_type": "code",
   "execution_count": 7,
   "id": "2d9221f6",
   "metadata": {},
   "outputs": [
    {
     "data": {
      "text/plain": [
       "0       US\n",
       "1    Spain\n",
       "Name: country, dtype: object"
      ]
     },
     "execution_count": 7,
     "metadata": {},
     "output_type": "execute_result"
    }
   ],
   "source": [
    "columnas_filtradas = ['country', 'designation', 'price']\n",
    "df_csv['country'].head(2)"
   ]
  },
  {
   "cell_type": "code",
   "execution_count": 8,
   "id": "b18e0aaa",
   "metadata": {},
   "outputs": [
    {
     "data": {
      "text/html": [
       "<div>\n",
       "<style scoped>\n",
       "    .dataframe tbody tr th:only-of-type {\n",
       "        vertical-align: middle;\n",
       "    }\n",
       "\n",
       "    .dataframe tbody tr th {\n",
       "        vertical-align: top;\n",
       "    }\n",
       "\n",
       "    .dataframe thead th {\n",
       "        text-align: right;\n",
       "    }\n",
       "</style>\n",
       "<table border=\"1\" class=\"dataframe\">\n",
       "  <thead>\n",
       "    <tr style=\"text-align: right;\">\n",
       "      <th></th>\n",
       "      <th>country</th>\n",
       "      <th>designation</th>\n",
       "      <th>price</th>\n",
       "    </tr>\n",
       "  </thead>\n",
       "  <tbody>\n",
       "    <tr>\n",
       "      <th>0</th>\n",
       "      <td>US</td>\n",
       "      <td>Martha's Vineyard</td>\n",
       "      <td>235.0</td>\n",
       "    </tr>\n",
       "    <tr>\n",
       "      <th>1</th>\n",
       "      <td>Spain</td>\n",
       "      <td>Carodorum Selección Especial Reserva</td>\n",
       "      <td>110.0</td>\n",
       "    </tr>\n",
       "  </tbody>\n",
       "</table>\n",
       "</div>"
      ],
      "text/plain": [
       "  country                           designation  price\n",
       "0      US                     Martha's Vineyard  235.0\n",
       "1   Spain  Carodorum Selección Especial Reserva  110.0"
      ]
     },
     "execution_count": 8,
     "metadata": {},
     "output_type": "execute_result"
    }
   ],
   "source": [
    "columnas_filtradas = ['country', 'designation', 'price']\n",
    "df_csv[columnas_filtradas].head(2)\n",
    "#df_2 =df_csv[columnas_filtradas].head(2)"
   ]
  },
  {
   "cell_type": "markdown",
   "id": "cfa8806d",
   "metadata": {},
   "source": [
    "### Información general dataframe"
   ]
  },
  {
   "cell_type": "code",
   "execution_count": 9,
   "id": "8ece8ebc",
   "metadata": {},
   "outputs": [
    {
     "name": "stdout",
     "output_type": "stream",
     "text": [
      "<class 'pandas.core.frame.DataFrame'>\n",
      "RangeIndex: 144037 entries, 0 to 144036\n",
      "Data columns (total 10 columns):\n",
      " #   Column            Non-Null Count   Dtype  \n",
      "---  ------            --------------   -----  \n",
      " 0   country           144035 non-null  object \n",
      " 1   designation       100211 non-null  object \n",
      " 2   points            144032 non-null  float64\n",
      " 3   price             130641 non-null  float64\n",
      " 4   province          144030 non-null  object \n",
      " 5   region_1          120192 non-null  object \n",
      " 6   region_2          58378 non-null   object \n",
      " 7   variety           144032 non-null  object \n",
      " 8   winery            144032 non-null  object \n",
      " 9   last_year_points  144037 non-null  int64  \n",
      "dtypes: float64(2), int64(1), object(7)\n",
      "memory usage: 11.0+ MB\n"
     ]
    }
   ],
   "source": [
    "df_csv.info()"
   ]
  },
  {
   "cell_type": "code",
   "execution_count": 10,
   "id": "41475796",
   "metadata": {},
   "outputs": [
    {
     "data": {
      "text/html": [
       "<div>\n",
       "<style scoped>\n",
       "    .dataframe tbody tr th:only-of-type {\n",
       "        vertical-align: middle;\n",
       "    }\n",
       "\n",
       "    .dataframe tbody tr th {\n",
       "        vertical-align: top;\n",
       "    }\n",
       "\n",
       "    .dataframe thead th {\n",
       "        text-align: right;\n",
       "    }\n",
       "</style>\n",
       "<table border=\"1\" class=\"dataframe\">\n",
       "  <thead>\n",
       "    <tr style=\"text-align: right;\">\n",
       "      <th></th>\n",
       "      <th>points</th>\n",
       "      <th>price</th>\n",
       "      <th>last_year_points</th>\n",
       "    </tr>\n",
       "  </thead>\n",
       "  <tbody>\n",
       "    <tr>\n",
       "      <th>count</th>\n",
       "      <td>144032.000000</td>\n",
       "      <td>130641.000000</td>\n",
       "      <td>144037.000000</td>\n",
       "    </tr>\n",
       "    <tr>\n",
       "      <th>mean</th>\n",
       "      <td>87.873424</td>\n",
       "      <td>33.123399</td>\n",
       "      <td>89.998452</td>\n",
       "    </tr>\n",
       "    <tr>\n",
       "      <th>std</th>\n",
       "      <td>3.215821</td>\n",
       "      <td>36.368177</td>\n",
       "      <td>6.050240</td>\n",
       "    </tr>\n",
       "    <tr>\n",
       "      <th>min</th>\n",
       "      <td>80.000000</td>\n",
       "      <td>4.000000</td>\n",
       "      <td>80.000000</td>\n",
       "    </tr>\n",
       "    <tr>\n",
       "      <th>25%</th>\n",
       "      <td>86.000000</td>\n",
       "      <td>16.000000</td>\n",
       "      <td>85.000000</td>\n",
       "    </tr>\n",
       "    <tr>\n",
       "      <th>50%</th>\n",
       "      <td>88.000000</td>\n",
       "      <td>24.000000</td>\n",
       "      <td>90.000000</td>\n",
       "    </tr>\n",
       "    <tr>\n",
       "      <th>75%</th>\n",
       "      <td>90.000000</td>\n",
       "      <td>40.000000</td>\n",
       "      <td>95.000000</td>\n",
       "    </tr>\n",
       "    <tr>\n",
       "      <th>max</th>\n",
       "      <td>100.000000</td>\n",
       "      <td>2300.000000</td>\n",
       "      <td>100.000000</td>\n",
       "    </tr>\n",
       "  </tbody>\n",
       "</table>\n",
       "</div>"
      ],
      "text/plain": [
       "              points          price  last_year_points\n",
       "count  144032.000000  130641.000000     144037.000000\n",
       "mean       87.873424      33.123399         89.998452\n",
       "std         3.215821      36.368177          6.050240\n",
       "min        80.000000       4.000000         80.000000\n",
       "25%        86.000000      16.000000         85.000000\n",
       "50%        88.000000      24.000000         90.000000\n",
       "75%        90.000000      40.000000         95.000000\n",
       "max       100.000000    2300.000000        100.000000"
      ]
     },
     "execution_count": 10,
     "metadata": {},
     "output_type": "execute_result"
    }
   ],
   "source": [
    "df_csv.describe()"
   ]
  },
  {
   "cell_type": "markdown",
   "id": "b2b9ddec",
   "metadata": {},
   "source": [
    "### Tipos de Conversion"
   ]
  },
  {
   "cell_type": "code",
   "execution_count": 11,
   "id": "818de027",
   "metadata": {},
   "outputs": [
    {
     "data": {
      "text/plain": [
       "144037"
      ]
     },
     "execution_count": 11,
     "metadata": {},
     "output_type": "execute_result"
    }
   ],
   "source": [
    "len(df_csv)"
   ]
  },
  {
   "cell_type": "code",
   "execution_count": 12,
   "id": "904ef0f7",
   "metadata": {},
   "outputs": [
    {
     "data": {
      "text/plain": [
       "0   2025-04-13\n",
       "1   2025-12-15\n",
       "Name: date_f, dtype: datetime64[ns]"
      ]
     },
     "execution_count": 12,
     "metadata": {},
     "output_type": "execute_result"
    }
   ],
   "source": [
    "df_csv[\"date_f\"]= np.random.choice(pd.date_range(\"2025-01-01\", \"2025-12-31\"), size=len(df_csv))\n",
    "df_csv[\"date_f\"].head(2)"
   ]
  },
  {
   "cell_type": "code",
   "execution_count": 13,
   "id": "c95092f7",
   "metadata": {},
   "outputs": [
    {
     "data": {
      "text/plain": [
       "0   2025-04-13\n",
       "1   2025-12-15\n",
       "Name: fecha, dtype: datetime64[ns]"
      ]
     },
     "execution_count": 13,
     "metadata": {},
     "output_type": "execute_result"
    }
   ],
   "source": [
    "df_fecha = pd.DataFrame()\n",
    "df_fecha[\"fecha\"] = pd.to_datetime(df_csv[\"date_f\"], format=\"%Y-%m-%d\")\n",
    "#df_fecha[\"fecha\"] = pd.to_datetime(df_csv[\"date_f\"], format=\"%Y-%m-%d\")\n",
    "df_fecha[\"fecha\"].head(2)"
   ]
  },
  {
   "cell_type": "code",
   "execution_count": 14,
   "id": "b38b398a",
   "metadata": {},
   "outputs": [
    {
     "data": {
      "text/plain": [
       "fecha   2025-01-01\n",
       "dtype: datetime64[ns]"
      ]
     },
     "execution_count": 14,
     "metadata": {},
     "output_type": "execute_result"
    }
   ],
   "source": [
    "df_fecha.min()"
   ]
  },
  {
   "cell_type": "code",
   "execution_count": 15,
   "id": "bbc10099",
   "metadata": {},
   "outputs": [
    {
     "data": {
      "text/plain": [
       "fecha   2025-12-31\n",
       "dtype: datetime64[ns]"
      ]
     },
     "execution_count": 15,
     "metadata": {},
     "output_type": "execute_result"
    }
   ],
   "source": [
    "df_fecha.max()"
   ]
  },
  {
   "cell_type": "markdown",
   "id": "4c004dae",
   "metadata": {},
   "source": [
    "### Guardado de subconjunto"
   ]
  },
  {
   "cell_type": "code",
   "execution_count": 16,
   "id": "52c0db3b",
   "metadata": {},
   "outputs": [],
   "source": [
    "df_fecha[\"fecha2\"] = pd.to_datetime(df_csv[\"date_f\"], format=\"%Y-%m-%d\").copy()"
   ]
  },
  {
   "cell_type": "code",
   "execution_count": 17,
   "id": "b66ebf93",
   "metadata": {},
   "outputs": [
    {
     "data": {
      "text/html": [
       "<div>\n",
       "<style scoped>\n",
       "    .dataframe tbody tr th:only-of-type {\n",
       "        vertical-align: middle;\n",
       "    }\n",
       "\n",
       "    .dataframe tbody tr th {\n",
       "        vertical-align: top;\n",
       "    }\n",
       "\n",
       "    .dataframe thead th {\n",
       "        text-align: right;\n",
       "    }\n",
       "</style>\n",
       "<table border=\"1\" class=\"dataframe\">\n",
       "  <thead>\n",
       "    <tr style=\"text-align: right;\">\n",
       "      <th></th>\n",
       "      <th>fecha</th>\n",
       "      <th>fecha2</th>\n",
       "    </tr>\n",
       "  </thead>\n",
       "  <tbody>\n",
       "    <tr>\n",
       "      <th>1</th>\n",
       "      <td>2025-12-15</td>\n",
       "      <td>2025-12-15</td>\n",
       "    </tr>\n",
       "    <tr>\n",
       "      <th>2</th>\n",
       "      <td>2025-09-28</td>\n",
       "      <td>2025-09-28</td>\n",
       "    </tr>\n",
       "    <tr>\n",
       "      <th>10</th>\n",
       "      <td>2025-11-27</td>\n",
       "      <td>2025-11-27</td>\n",
       "    </tr>\n",
       "    <tr>\n",
       "      <th>13</th>\n",
       "      <td>2025-12-26</td>\n",
       "      <td>2025-12-26</td>\n",
       "    </tr>\n",
       "    <tr>\n",
       "      <th>17</th>\n",
       "      <td>2025-11-05</td>\n",
       "      <td>2025-11-05</td>\n",
       "    </tr>\n",
       "    <tr>\n",
       "      <th>...</th>\n",
       "      <td>...</td>\n",
       "      <td>...</td>\n",
       "    </tr>\n",
       "    <tr>\n",
       "      <th>144024</th>\n",
       "      <td>2025-12-16</td>\n",
       "      <td>2025-12-16</td>\n",
       "    </tr>\n",
       "    <tr>\n",
       "      <th>144028</th>\n",
       "      <td>2025-10-31</td>\n",
       "      <td>2025-10-31</td>\n",
       "    </tr>\n",
       "    <tr>\n",
       "      <th>144033</th>\n",
       "      <td>2025-10-22</td>\n",
       "      <td>2025-10-22</td>\n",
       "    </tr>\n",
       "    <tr>\n",
       "      <th>144035</th>\n",
       "      <td>2025-09-06</td>\n",
       "      <td>2025-09-06</td>\n",
       "    </tr>\n",
       "    <tr>\n",
       "      <th>144036</th>\n",
       "      <td>2025-09-22</td>\n",
       "      <td>2025-09-22</td>\n",
       "    </tr>\n",
       "  </tbody>\n",
       "</table>\n",
       "<p>47899 rows × 2 columns</p>\n",
       "</div>"
      ],
      "text/plain": [
       "            fecha     fecha2\n",
       "1      2025-12-15 2025-12-15\n",
       "2      2025-09-28 2025-09-28\n",
       "10     2025-11-27 2025-11-27\n",
       "13     2025-12-26 2025-12-26\n",
       "17     2025-11-05 2025-11-05\n",
       "...           ...        ...\n",
       "144024 2025-12-16 2025-12-16\n",
       "144028 2025-10-31 2025-10-31\n",
       "144033 2025-10-22 2025-10-22\n",
       "144035 2025-09-06 2025-09-06\n",
       "144036 2025-09-22 2025-09-22\n",
       "\n",
       "[47899 rows x 2 columns]"
      ]
     },
     "execution_count": 17,
     "metadata": {},
     "output_type": "execute_result"
    }
   ],
   "source": [
    "df_fecha[df_fecha[\"fecha2\"] > \"2025-08-31\"].copy()"
   ]
  },
  {
   "cell_type": "markdown",
   "id": "fdf0b533",
   "metadata": {},
   "source": [
    "### Creación de indice"
   ]
  },
  {
   "cell_type": "code",
   "execution_count": 18,
   "id": "fb190ad7",
   "metadata": {},
   "outputs": [
    {
     "name": "stdout",
     "output_type": "stream",
     "text": [
      "               fecha2\n",
      "fecha                \n",
      "2025-04-13 2025-04-13\n",
      "2025-12-15 2025-12-15\n",
      "   index      fecha     fecha2\n",
      "0      0 2025-04-13 2025-04-13\n",
      "1      1 2025-12-15 2025-12-15\n"
     ]
    }
   ],
   "source": [
    "# definir la columna fecha como indice\n",
    "indices =   df_fecha.set_index(\"fecha\").copy()\n",
    "print(indices.head(2))\n",
    "# crear indice general\n",
    "indices2 = df_fecha.reset_index().copy()\n",
    "print(indices2.head(2))"
   ]
  },
  {
   "cell_type": "markdown",
   "id": "05dd35e9",
   "metadata": {},
   "source": [
    "### valores unicos"
   ]
  },
  {
   "cell_type": "code",
   "execution_count": 19,
   "id": "160811ff",
   "metadata": {},
   "outputs": [
    {
     "data": {
      "text/plain": [
       "365"
      ]
     },
     "execution_count": 19,
     "metadata": {},
     "output_type": "execute_result"
    }
   ],
   "source": [
    "indices2[\"fecha\"].nunique()"
   ]
  },
  {
   "cell_type": "markdown",
   "id": "82276424",
   "metadata": {},
   "source": [
    "### Ordenar"
   ]
  },
  {
   "cell_type": "code",
   "execution_count": 20,
   "id": "6ab81216",
   "metadata": {},
   "outputs": [
    {
     "data": {
      "text/html": [
       "<div>\n",
       "<style scoped>\n",
       "    .dataframe tbody tr th:only-of-type {\n",
       "        vertical-align: middle;\n",
       "    }\n",
       "\n",
       "    .dataframe tbody tr th {\n",
       "        vertical-align: top;\n",
       "    }\n",
       "\n",
       "    .dataframe thead th {\n",
       "        text-align: right;\n",
       "    }\n",
       "</style>\n",
       "<table border=\"1\" class=\"dataframe\">\n",
       "  <thead>\n",
       "    <tr style=\"text-align: right;\">\n",
       "      <th></th>\n",
       "      <th>index</th>\n",
       "      <th>fecha</th>\n",
       "      <th>fecha2</th>\n",
       "    </tr>\n",
       "  </thead>\n",
       "  <tbody>\n",
       "    <tr>\n",
       "      <th>52566</th>\n",
       "      <td>52566</td>\n",
       "      <td>2025-01-01</td>\n",
       "      <td>2025-01-01</td>\n",
       "    </tr>\n",
       "    <tr>\n",
       "      <th>117850</th>\n",
       "      <td>117850</td>\n",
       "      <td>2025-01-01</td>\n",
       "      <td>2025-01-01</td>\n",
       "    </tr>\n",
       "    <tr>\n",
       "      <th>57006</th>\n",
       "      <td>57006</td>\n",
       "      <td>2025-01-01</td>\n",
       "      <td>2025-01-01</td>\n",
       "    </tr>\n",
       "    <tr>\n",
       "      <th>37688</th>\n",
       "      <td>37688</td>\n",
       "      <td>2025-01-01</td>\n",
       "      <td>2025-01-01</td>\n",
       "    </tr>\n",
       "    <tr>\n",
       "      <th>96327</th>\n",
       "      <td>96327</td>\n",
       "      <td>2025-01-01</td>\n",
       "      <td>2025-01-01</td>\n",
       "    </tr>\n",
       "    <tr>\n",
       "      <th>69559</th>\n",
       "      <td>69559</td>\n",
       "      <td>2025-01-01</td>\n",
       "      <td>2025-01-01</td>\n",
       "    </tr>\n",
       "    <tr>\n",
       "      <th>32314</th>\n",
       "      <td>32314</td>\n",
       "      <td>2025-01-01</td>\n",
       "      <td>2025-01-01</td>\n",
       "    </tr>\n",
       "    <tr>\n",
       "      <th>108096</th>\n",
       "      <td>108096</td>\n",
       "      <td>2025-01-01</td>\n",
       "      <td>2025-01-01</td>\n",
       "    </tr>\n",
       "    <tr>\n",
       "      <th>120621</th>\n",
       "      <td>120621</td>\n",
       "      <td>2025-01-01</td>\n",
       "      <td>2025-01-01</td>\n",
       "    </tr>\n",
       "    <tr>\n",
       "      <th>57008</th>\n",
       "      <td>57008</td>\n",
       "      <td>2025-01-01</td>\n",
       "      <td>2025-01-01</td>\n",
       "    </tr>\n",
       "  </tbody>\n",
       "</table>\n",
       "</div>"
      ],
      "text/plain": [
       "         index      fecha     fecha2\n",
       "52566    52566 2025-01-01 2025-01-01\n",
       "117850  117850 2025-01-01 2025-01-01\n",
       "57006    57006 2025-01-01 2025-01-01\n",
       "37688    37688 2025-01-01 2025-01-01\n",
       "96327    96327 2025-01-01 2025-01-01\n",
       "69559    69559 2025-01-01 2025-01-01\n",
       "32314    32314 2025-01-01 2025-01-01\n",
       "108096  108096 2025-01-01 2025-01-01\n",
       "120621  120621 2025-01-01 2025-01-01\n",
       "57008    57008 2025-01-01 2025-01-01"
      ]
     },
     "execution_count": 20,
     "metadata": {},
     "output_type": "execute_result"
    }
   ],
   "source": [
    "indices2.sort_values(by=\"fecha\", ascending=True).head(10)"
   ]
  },
  {
   "cell_type": "markdown",
   "id": "99fe4f8e",
   "metadata": {},
   "source": [
    "# Selección, filtrado e indexación "
   ]
  },
  {
   "cell_type": "markdown",
   "id": "5edd9e63",
   "metadata": {},
   "source": [
    "### loc / iloc"
   ]
  },
  {
   "cell_type": "code",
   "execution_count": 21,
   "id": "9167d99f",
   "metadata": {},
   "outputs": [
    {
     "data": {
      "text/html": [
       "<div>\n",
       "<style scoped>\n",
       "    .dataframe tbody tr th:only-of-type {\n",
       "        vertical-align: middle;\n",
       "    }\n",
       "\n",
       "    .dataframe tbody tr th {\n",
       "        vertical-align: top;\n",
       "    }\n",
       "\n",
       "    .dataframe thead th {\n",
       "        text-align: right;\n",
       "    }\n",
       "</style>\n",
       "<table border=\"1\" class=\"dataframe\">\n",
       "  <thead>\n",
       "    <tr style=\"text-align: right;\">\n",
       "      <th></th>\n",
       "      <th>fecha</th>\n",
       "    </tr>\n",
       "  </thead>\n",
       "  <tbody>\n",
       "    <tr>\n",
       "      <th>500</th>\n",
       "      <td>2025-09-04</td>\n",
       "    </tr>\n",
       "    <tr>\n",
       "      <th>501</th>\n",
       "      <td>2025-09-15</td>\n",
       "    </tr>\n",
       "    <tr>\n",
       "      <th>502</th>\n",
       "      <td>2025-06-09</td>\n",
       "    </tr>\n",
       "    <tr>\n",
       "      <th>503</th>\n",
       "      <td>2025-12-06</td>\n",
       "    </tr>\n",
       "    <tr>\n",
       "      <th>504</th>\n",
       "      <td>2025-06-01</td>\n",
       "    </tr>\n",
       "    <tr>\n",
       "      <th>...</th>\n",
       "      <td>...</td>\n",
       "    </tr>\n",
       "    <tr>\n",
       "      <th>144032</th>\n",
       "      <td>2025-02-15</td>\n",
       "    </tr>\n",
       "    <tr>\n",
       "      <th>144033</th>\n",
       "      <td>2025-10-22</td>\n",
       "    </tr>\n",
       "    <tr>\n",
       "      <th>144034</th>\n",
       "      <td>2025-02-28</td>\n",
       "    </tr>\n",
       "    <tr>\n",
       "      <th>144035</th>\n",
       "      <td>2025-09-06</td>\n",
       "    </tr>\n",
       "    <tr>\n",
       "      <th>144036</th>\n",
       "      <td>2025-09-22</td>\n",
       "    </tr>\n",
       "  </tbody>\n",
       "</table>\n",
       "<p>143537 rows × 1 columns</p>\n",
       "</div>"
      ],
      "text/plain": [
       "            fecha\n",
       "500    2025-09-04\n",
       "501    2025-09-15\n",
       "502    2025-06-09\n",
       "503    2025-12-06\n",
       "504    2025-06-01\n",
       "...           ...\n",
       "144032 2025-02-15\n",
       "144033 2025-10-22\n",
       "144034 2025-02-28\n",
       "144035 2025-09-06\n",
       "144036 2025-09-22\n",
       "\n",
       "[143537 rows x 1 columns]"
      ]
     },
     "execution_count": 21,
     "metadata": {},
     "output_type": "execute_result"
    }
   ],
   "source": [
    "df_fecha.loc[500:, [\"fecha\"]]"
   ]
  },
  {
   "cell_type": "code",
   "execution_count": 22,
   "id": "28bc5bc0",
   "metadata": {},
   "outputs": [
    {
     "data": {
      "text/html": [
       "<div>\n",
       "<style scoped>\n",
       "    .dataframe tbody tr th:only-of-type {\n",
       "        vertical-align: middle;\n",
       "    }\n",
       "\n",
       "    .dataframe tbody tr th {\n",
       "        vertical-align: top;\n",
       "    }\n",
       "\n",
       "    .dataframe thead th {\n",
       "        text-align: right;\n",
       "    }\n",
       "</style>\n",
       "<table border=\"1\" class=\"dataframe\">\n",
       "  <thead>\n",
       "    <tr style=\"text-align: right;\">\n",
       "      <th></th>\n",
       "      <th>index</th>\n",
       "      <th>fecha</th>\n",
       "      <th>fecha2</th>\n",
       "    </tr>\n",
       "  </thead>\n",
       "  <tbody>\n",
       "    <tr>\n",
       "      <th>0</th>\n",
       "      <td>0</td>\n",
       "      <td>2025-04-13</td>\n",
       "      <td>2025-04-13</td>\n",
       "    </tr>\n",
       "    <tr>\n",
       "      <th>1</th>\n",
       "      <td>1</td>\n",
       "      <td>2025-12-15</td>\n",
       "      <td>2025-12-15</td>\n",
       "    </tr>\n",
       "    <tr>\n",
       "      <th>2</th>\n",
       "      <td>2</td>\n",
       "      <td>2025-09-28</td>\n",
       "      <td>2025-09-28</td>\n",
       "    </tr>\n",
       "    <tr>\n",
       "      <th>3</th>\n",
       "      <td>3</td>\n",
       "      <td>2025-04-17</td>\n",
       "      <td>2025-04-17</td>\n",
       "    </tr>\n",
       "    <tr>\n",
       "      <th>4</th>\n",
       "      <td>4</td>\n",
       "      <td>2025-03-13</td>\n",
       "      <td>2025-03-13</td>\n",
       "    </tr>\n",
       "    <tr>\n",
       "      <th>...</th>\n",
       "      <td>...</td>\n",
       "      <td>...</td>\n",
       "      <td>...</td>\n",
       "    </tr>\n",
       "    <tr>\n",
       "      <th>144032</th>\n",
       "      <td>144032</td>\n",
       "      <td>2025-02-15</td>\n",
       "      <td>2025-02-15</td>\n",
       "    </tr>\n",
       "    <tr>\n",
       "      <th>144033</th>\n",
       "      <td>144033</td>\n",
       "      <td>2025-10-22</td>\n",
       "      <td>2025-10-22</td>\n",
       "    </tr>\n",
       "    <tr>\n",
       "      <th>144034</th>\n",
       "      <td>144034</td>\n",
       "      <td>2025-02-28</td>\n",
       "      <td>2025-02-28</td>\n",
       "    </tr>\n",
       "    <tr>\n",
       "      <th>144035</th>\n",
       "      <td>144035</td>\n",
       "      <td>2025-09-06</td>\n",
       "      <td>2025-09-06</td>\n",
       "    </tr>\n",
       "    <tr>\n",
       "      <th>144036</th>\n",
       "      <td>144036</td>\n",
       "      <td>2025-09-22</td>\n",
       "      <td>2025-09-22</td>\n",
       "    </tr>\n",
       "  </tbody>\n",
       "</table>\n",
       "<p>144037 rows × 3 columns</p>\n",
       "</div>"
      ],
      "text/plain": [
       "         index      fecha     fecha2\n",
       "0            0 2025-04-13 2025-04-13\n",
       "1            1 2025-12-15 2025-12-15\n",
       "2            2 2025-09-28 2025-09-28\n",
       "3            3 2025-04-17 2025-04-17\n",
       "4            4 2025-03-13 2025-03-13\n",
       "...        ...        ...        ...\n",
       "144032  144032 2025-02-15 2025-02-15\n",
       "144033  144033 2025-10-22 2025-10-22\n",
       "144034  144034 2025-02-28 2025-02-28\n",
       "144035  144035 2025-09-06 2025-09-06\n",
       "144036  144036 2025-09-22 2025-09-22\n",
       "\n",
       "[144037 rows x 3 columns]"
      ]
     },
     "execution_count": 22,
     "metadata": {},
     "output_type": "execute_result"
    }
   ],
   "source": [
    "df_fecha.reset_index()"
   ]
  },
  {
   "cell_type": "code",
   "execution_count": 23,
   "id": "2eec191a",
   "metadata": {},
   "outputs": [
    {
     "data": {
      "text/html": [
       "<div>\n",
       "<style scoped>\n",
       "    .dataframe tbody tr th:only-of-type {\n",
       "        vertical-align: middle;\n",
       "    }\n",
       "\n",
       "    .dataframe tbody tr th {\n",
       "        vertical-align: top;\n",
       "    }\n",
       "\n",
       "    .dataframe thead th {\n",
       "        text-align: right;\n",
       "    }\n",
       "</style>\n",
       "<table border=\"1\" class=\"dataframe\">\n",
       "  <thead>\n",
       "    <tr style=\"text-align: right;\">\n",
       "      <th></th>\n",
       "      <th>country</th>\n",
       "      <th>designation</th>\n",
       "    </tr>\n",
       "  </thead>\n",
       "  <tbody>\n",
       "    <tr>\n",
       "      <th>3</th>\n",
       "      <td>US</td>\n",
       "      <td>Reserve</td>\n",
       "    </tr>\n",
       "    <tr>\n",
       "      <th>4</th>\n",
       "      <td>France</td>\n",
       "      <td>La Brûlade</td>\n",
       "    </tr>\n",
       "  </tbody>\n",
       "</table>\n",
       "</div>"
      ],
      "text/plain": [
       "  country designation\n",
       "3      US     Reserve\n",
       "4  France  La Brûlade"
      ]
     },
     "execution_count": 23,
     "metadata": {},
     "output_type": "execute_result"
    }
   ],
   "source": [
    "df_csv.iloc[3:5, 0:2]"
   ]
  },
  {
   "cell_type": "markdown",
   "id": "998193b3",
   "metadata": {},
   "source": [
    "### filtrado por condiciones"
   ]
  },
  {
   "cell_type": "code",
   "execution_count": 24,
   "id": "3a4183fb",
   "metadata": {},
   "outputs": [
    {
     "data": {
      "text/plain": [
       "Index(['country', 'designation', 'points', 'price', 'province', 'region_1',\n",
       "       'region_2', 'variety', 'winery', 'last_year_points', 'date_f'],\n",
       "      dtype='object')"
      ]
     },
     "execution_count": 24,
     "metadata": {},
     "output_type": "execute_result"
    }
   ],
   "source": [
    "df_csv.columns"
   ]
  },
  {
   "cell_type": "code",
   "execution_count": 25,
   "id": "946c807b",
   "metadata": {},
   "outputs": [
    {
     "data": {
      "text/html": [
       "<div>\n",
       "<style scoped>\n",
       "    .dataframe tbody tr th:only-of-type {\n",
       "        vertical-align: middle;\n",
       "    }\n",
       "\n",
       "    .dataframe tbody tr th {\n",
       "        vertical-align: top;\n",
       "    }\n",
       "\n",
       "    .dataframe thead th {\n",
       "        text-align: right;\n",
       "    }\n",
       "</style>\n",
       "<table border=\"1\" class=\"dataframe\">\n",
       "  <thead>\n",
       "    <tr style=\"text-align: right;\">\n",
       "      <th></th>\n",
       "      <th>country</th>\n",
       "      <th>designation</th>\n",
       "      <th>points</th>\n",
       "      <th>price</th>\n",
       "      <th>province</th>\n",
       "      <th>region_1</th>\n",
       "      <th>region_2</th>\n",
       "      <th>variety</th>\n",
       "      <th>winery</th>\n",
       "      <th>last_year_points</th>\n",
       "      <th>date_f</th>\n",
       "    </tr>\n",
       "  </thead>\n",
       "  <tbody>\n",
       "    <tr>\n",
       "      <th>75</th>\n",
       "      <td>US</td>\n",
       "      <td>Premier Cuvée</td>\n",
       "      <td>91.0</td>\n",
       "      <td>54.0</td>\n",
       "      <td>Oregon</td>\n",
       "      <td>Willamette Valley</td>\n",
       "      <td>Willamette Valley</td>\n",
       "      <td>Pinot Noir</td>\n",
       "      <td>Archery Summit</td>\n",
       "      <td>93</td>\n",
       "      <td>2025-10-31</td>\n",
       "    </tr>\n",
       "    <tr>\n",
       "      <th>273</th>\n",
       "      <td>US</td>\n",
       "      <td>Vintage Brut</td>\n",
       "      <td>92.0</td>\n",
       "      <td>48.0</td>\n",
       "      <td>California</td>\n",
       "      <td>Russian River Valley</td>\n",
       "      <td>Sonoma</td>\n",
       "      <td>Sparkling Blend</td>\n",
       "      <td>J Vineyards &amp; Winery</td>\n",
       "      <td>98</td>\n",
       "      <td>2025-10-31</td>\n",
       "    </tr>\n",
       "    <tr>\n",
       "      <th>301</th>\n",
       "      <td>Italy</td>\n",
       "      <td>Vigneto Monte Sant'Urbano</td>\n",
       "      <td>94.0</td>\n",
       "      <td>85.0</td>\n",
       "      <td>Veneto</td>\n",
       "      <td>Amarone della Valpolicella Classico</td>\n",
       "      <td>NaN</td>\n",
       "      <td>Red Blend</td>\n",
       "      <td>Speri</td>\n",
       "      <td>88</td>\n",
       "      <td>2025-10-31</td>\n",
       "    </tr>\n",
       "    <tr>\n",
       "      <th>323</th>\n",
       "      <td>US</td>\n",
       "      <td>Pellet Vineyard</td>\n",
       "      <td>94.0</td>\n",
       "      <td>95.0</td>\n",
       "      <td>California</td>\n",
       "      <td>Napa Valley</td>\n",
       "      <td>Napa</td>\n",
       "      <td>Cabernet Sauvignon</td>\n",
       "      <td>Pellet Estate</td>\n",
       "      <td>89</td>\n",
       "      <td>2025-10-31</td>\n",
       "    </tr>\n",
       "    <tr>\n",
       "      <th>2128</th>\n",
       "      <td>France</td>\n",
       "      <td>NaN</td>\n",
       "      <td>97.0</td>\n",
       "      <td>450.0</td>\n",
       "      <td>Bordeaux</td>\n",
       "      <td>Margaux</td>\n",
       "      <td>NaN</td>\n",
       "      <td>Bordeaux-style Red Blend</td>\n",
       "      <td>Château Margaux</td>\n",
       "      <td>92</td>\n",
       "      <td>2025-10-31</td>\n",
       "    </tr>\n",
       "  </tbody>\n",
       "</table>\n",
       "</div>"
      ],
      "text/plain": [
       "     country                designation  points  price    province  \\\n",
       "75        US              Premier Cuvée    91.0   54.0      Oregon   \n",
       "273       US               Vintage Brut    92.0   48.0  California   \n",
       "301    Italy  Vigneto Monte Sant'Urbano    94.0   85.0      Veneto   \n",
       "323       US            Pellet Vineyard    94.0   95.0  California   \n",
       "2128  France                        NaN    97.0  450.0    Bordeaux   \n",
       "\n",
       "                                 region_1           region_2  \\\n",
       "75                      Willamette Valley  Willamette Valley   \n",
       "273                  Russian River Valley             Sonoma   \n",
       "301   Amarone della Valpolicella Classico                NaN   \n",
       "323                           Napa Valley               Napa   \n",
       "2128                              Margaux                NaN   \n",
       "\n",
       "                       variety                winery  last_year_points  \\\n",
       "75                  Pinot Noir        Archery Summit                93   \n",
       "273            Sparkling Blend  J Vineyards & Winery                98   \n",
       "301                  Red Blend                 Speri                88   \n",
       "323         Cabernet Sauvignon         Pellet Estate                89   \n",
       "2128  Bordeaux-style Red Blend       Château Margaux                92   \n",
       "\n",
       "         date_f  \n",
       "75   2025-10-31  \n",
       "273  2025-10-31  \n",
       "301  2025-10-31  \n",
       "323  2025-10-31  \n",
       "2128 2025-10-31  "
      ]
     },
     "execution_count": 25,
     "metadata": {},
     "output_type": "execute_result"
    }
   ],
   "source": [
    "df_csv[(df_csv['date_f'] == \"2025-10-31 00:00:00\") & (df_csv['points'] > 90)].head(5)"
   ]
  },
  {
   "cell_type": "markdown",
   "id": "c482a4ef",
   "metadata": {},
   "source": [
    "### filtrado por multiplex condiciones"
   ]
  },
  {
   "cell_type": "code",
   "execution_count": 26,
   "id": "81b5cb18",
   "metadata": {},
   "outputs": [
    {
     "data": {
      "text/html": [
       "<div>\n",
       "<style scoped>\n",
       "    .dataframe tbody tr th:only-of-type {\n",
       "        vertical-align: middle;\n",
       "    }\n",
       "\n",
       "    .dataframe tbody tr th {\n",
       "        vertical-align: top;\n",
       "    }\n",
       "\n",
       "    .dataframe thead th {\n",
       "        text-align: right;\n",
       "    }\n",
       "</style>\n",
       "<table border=\"1\" class=\"dataframe\">\n",
       "  <thead>\n",
       "    <tr style=\"text-align: right;\">\n",
       "      <th></th>\n",
       "      <th>country</th>\n",
       "      <th>designation</th>\n",
       "      <th>points</th>\n",
       "      <th>price</th>\n",
       "      <th>province</th>\n",
       "      <th>region_1</th>\n",
       "      <th>region_2</th>\n",
       "      <th>variety</th>\n",
       "      <th>winery</th>\n",
       "      <th>last_year_points</th>\n",
       "      <th>date_f</th>\n",
       "    </tr>\n",
       "  </thead>\n",
       "  <tbody>\n",
       "    <tr>\n",
       "      <th>48</th>\n",
       "      <td>Italy</td>\n",
       "      <td>NaN</td>\n",
       "      <td>90.0</td>\n",
       "      <td>50.0</td>\n",
       "      <td>Tuscany</td>\n",
       "      <td>Brunello di Montalcino</td>\n",
       "      <td>NaN</td>\n",
       "      <td>Sangiovese</td>\n",
       "      <td>Brunelli Martoccia</td>\n",
       "      <td>98</td>\n",
       "      <td>2025-03-30</td>\n",
       "    </tr>\n",
       "    <tr>\n",
       "      <th>68</th>\n",
       "      <td>US</td>\n",
       "      <td>Schindler Vineyard</td>\n",
       "      <td>91.0</td>\n",
       "      <td>50.0</td>\n",
       "      <td>Oregon</td>\n",
       "      <td>Eola-Amity Hills</td>\n",
       "      <td>Willamette Valley</td>\n",
       "      <td>Pinot Noir</td>\n",
       "      <td>Panther Creek</td>\n",
       "      <td>94</td>\n",
       "      <td>2025-07-10</td>\n",
       "    </tr>\n",
       "    <tr>\n",
       "      <th>89</th>\n",
       "      <td>US</td>\n",
       "      <td>Magnificat</td>\n",
       "      <td>91.0</td>\n",
       "      <td>50.0</td>\n",
       "      <td>California</td>\n",
       "      <td>Napa Valley</td>\n",
       "      <td>Napa</td>\n",
       "      <td>Meritage</td>\n",
       "      <td>Franciscan</td>\n",
       "      <td>90</td>\n",
       "      <td>2025-07-07</td>\n",
       "    </tr>\n",
       "    <tr>\n",
       "      <th>90</th>\n",
       "      <td>US</td>\n",
       "      <td>NaN</td>\n",
       "      <td>86.0</td>\n",
       "      <td>10.0</td>\n",
       "      <td>California</td>\n",
       "      <td>California</td>\n",
       "      <td>California Other</td>\n",
       "      <td>Cabernet Sauvignon</td>\n",
       "      <td>Belle Ambiance</td>\n",
       "      <td>83</td>\n",
       "      <td>2025-02-10</td>\n",
       "    </tr>\n",
       "    <tr>\n",
       "      <th>94</th>\n",
       "      <td>Portugal</td>\n",
       "      <td>Muros de Vinha</td>\n",
       "      <td>86.0</td>\n",
       "      <td>10.0</td>\n",
       "      <td>Douro</td>\n",
       "      <td>NaN</td>\n",
       "      <td>NaN</td>\n",
       "      <td>Portuguese Red</td>\n",
       "      <td>Quinta do Portal</td>\n",
       "      <td>98</td>\n",
       "      <td>2025-03-06</td>\n",
       "    </tr>\n",
       "  </tbody>\n",
       "</table>\n",
       "</div>"
      ],
      "text/plain": [
       "     country         designation  points  price    province  \\\n",
       "48     Italy                 NaN    90.0   50.0     Tuscany   \n",
       "68        US  Schindler Vineyard    91.0   50.0      Oregon   \n",
       "89        US          Magnificat    91.0   50.0  California   \n",
       "90        US                 NaN    86.0   10.0  California   \n",
       "94  Portugal      Muros de Vinha    86.0   10.0       Douro   \n",
       "\n",
       "                  region_1           region_2             variety  \\\n",
       "48  Brunello di Montalcino                NaN          Sangiovese   \n",
       "68        Eola-Amity Hills  Willamette Valley          Pinot Noir   \n",
       "89             Napa Valley               Napa            Meritage   \n",
       "90              California   California Other  Cabernet Sauvignon   \n",
       "94                     NaN                NaN      Portuguese Red   \n",
       "\n",
       "                winery  last_year_points     date_f  \n",
       "48  Brunelli Martoccia                98 2025-03-30  \n",
       "68       Panther Creek                94 2025-07-10  \n",
       "89          Franciscan                90 2025-07-07  \n",
       "90      Belle Ambiance                83 2025-02-10  \n",
       "94    Quinta do Portal                98 2025-03-06  "
      ]
     },
     "execution_count": 26,
     "metadata": {},
     "output_type": "execute_result"
    }
   ],
   "source": [
    "df_csv[(df_csv['price'].isin([10,50])) & (df_csv['points'].between(75,95))].head(5)"
   ]
  },
  {
   "cell_type": "markdown",
   "id": "5795050a",
   "metadata": {},
   "source": [
    "### isin"
   ]
  },
  {
   "cell_type": "code",
   "execution_count": 27,
   "id": "4d680935",
   "metadata": {},
   "outputs": [
    {
     "data": {
      "text/plain": [
       "0    False\n",
       "1    False\n",
       "Name: price, dtype: bool"
      ]
     },
     "execution_count": 27,
     "metadata": {},
     "output_type": "execute_result"
    }
   ],
   "source": [
    "df_csv['price'].isin([10,50]).head(2)"
   ]
  },
  {
   "cell_type": "markdown",
   "id": "7e854e89",
   "metadata": {},
   "source": [
    "### BETWEEN "
   ]
  },
  {
   "cell_type": "code",
   "execution_count": 28,
   "id": "c0f4f24b",
   "metadata": {},
   "outputs": [
    {
     "data": {
      "text/plain": [
       "0    False\n",
       "1    False\n",
       "2    False\n",
       "3    False\n",
       "4     True\n",
       "Name: points, dtype: bool"
      ]
     },
     "execution_count": 28,
     "metadata": {},
     "output_type": "execute_result"
    }
   ],
   "source": [
    "(df_csv['points'].between(75,95)).head(5) # QUERY"
   ]
  },
  {
   "cell_type": "markdown",
   "id": "96907262",
   "metadata": {},
   "source": [
    "### QUERY"
   ]
  },
  {
   "cell_type": "code",
   "execution_count": 29,
   "id": "240e4a25",
   "metadata": {},
   "outputs": [
    {
     "data": {
      "text/plain": [
       "0    False\n",
       "1    False\n",
       "2    False\n",
       "3    False\n",
       "4     True\n",
       "Name: points, dtype: bool"
      ]
     },
     "execution_count": 29,
     "metadata": {},
     "output_type": "execute_result"
    }
   ],
   "source": [
    "((df_csv['points'] >= 75) & (df_csv['points'] <= 95)).head(5)"
   ]
  },
  {
   "cell_type": "markdown",
   "id": "ca39e2a7",
   "metadata": {},
   "source": [
    "### top-k por grupo"
   ]
  },
  {
   "cell_type": "code",
   "execution_count": 30,
   "id": "26fcabc8",
   "metadata": {},
   "outputs": [
    {
     "data": {
      "text/html": [
       "<div>\n",
       "<style scoped>\n",
       "    .dataframe tbody tr th:only-of-type {\n",
       "        vertical-align: middle;\n",
       "    }\n",
       "\n",
       "    .dataframe tbody tr th {\n",
       "        vertical-align: top;\n",
       "    }\n",
       "\n",
       "    .dataframe thead th {\n",
       "        text-align: right;\n",
       "    }\n",
       "</style>\n",
       "<table border=\"1\" class=\"dataframe\">\n",
       "  <thead>\n",
       "    <tr style=\"text-align: right;\">\n",
       "      <th></th>\n",
       "      <th>country</th>\n",
       "      <th>designation</th>\n",
       "      <th>points</th>\n",
       "      <th>price</th>\n",
       "      <th>province</th>\n",
       "      <th>region_1</th>\n",
       "      <th>region_2</th>\n",
       "      <th>variety</th>\n",
       "      <th>winery</th>\n",
       "      <th>last_year_points</th>\n",
       "      <th>date_f</th>\n",
       "    </tr>\n",
       "  </thead>\n",
       "  <tbody>\n",
       "    <tr>\n",
       "      <th>113579</th>\n",
       "      <td>US</td>\n",
       "      <td>NaN</td>\n",
       "      <td>84.0</td>\n",
       "      <td>4.0</td>\n",
       "      <td>California</td>\n",
       "      <td>California</td>\n",
       "      <td>California Other</td>\n",
       "      <td>Cabernet Sauvignon</td>\n",
       "      <td>Bandit</td>\n",
       "      <td>90</td>\n",
       "      <td>2025-11-09</td>\n",
       "    </tr>\n",
       "    <tr>\n",
       "      <th>114469</th>\n",
       "      <td>US</td>\n",
       "      <td>NaN</td>\n",
       "      <td>84.0</td>\n",
       "      <td>4.0</td>\n",
       "      <td>California</td>\n",
       "      <td>California</td>\n",
       "      <td>California Other</td>\n",
       "      <td>Chardonnay</td>\n",
       "      <td>Bandit</td>\n",
       "      <td>80</td>\n",
       "      <td>2025-01-02</td>\n",
       "    </tr>\n",
       "    <tr>\n",
       "      <th>114479</th>\n",
       "      <td>US</td>\n",
       "      <td>NaN</td>\n",
       "      <td>84.0</td>\n",
       "      <td>4.0</td>\n",
       "      <td>California</td>\n",
       "      <td>California</td>\n",
       "      <td>California Other</td>\n",
       "      <td>Merlot</td>\n",
       "      <td>Bandit</td>\n",
       "      <td>82</td>\n",
       "      <td>2025-01-06</td>\n",
       "    </tr>\n",
       "    <tr>\n",
       "      <th>47305</th>\n",
       "      <td>US</td>\n",
       "      <td>NaN</td>\n",
       "      <td>86.0</td>\n",
       "      <td>4.0</td>\n",
       "      <td>California</td>\n",
       "      <td>California</td>\n",
       "      <td>California Other</td>\n",
       "      <td>Merlot</td>\n",
       "      <td>Bandit</td>\n",
       "      <td>97</td>\n",
       "      <td>2025-08-13</td>\n",
       "    </tr>\n",
       "    <tr>\n",
       "      <th>77245</th>\n",
       "      <td>US</td>\n",
       "      <td>NaN</td>\n",
       "      <td>86.0</td>\n",
       "      <td>4.0</td>\n",
       "      <td>California</td>\n",
       "      <td>California</td>\n",
       "      <td>California Other</td>\n",
       "      <td>Merlot</td>\n",
       "      <td>Bandit</td>\n",
       "      <td>88</td>\n",
       "      <td>2025-04-23</td>\n",
       "    </tr>\n",
       "    <tr>\n",
       "      <th>...</th>\n",
       "      <td>...</td>\n",
       "      <td>...</td>\n",
       "      <td>...</td>\n",
       "      <td>...</td>\n",
       "      <td>...</td>\n",
       "      <td>...</td>\n",
       "      <td>...</td>\n",
       "      <td>...</td>\n",
       "      <td>...</td>\n",
       "      <td>...</td>\n",
       "      <td>...</td>\n",
       "    </tr>\n",
       "    <tr>\n",
       "      <th>114188</th>\n",
       "      <td>Egypt</td>\n",
       "      <td>Caspar Blanc de Noirs</td>\n",
       "      <td>84.0</td>\n",
       "      <td>NaN</td>\n",
       "      <td>Egypt</td>\n",
       "      <td>NaN</td>\n",
       "      <td>NaN</td>\n",
       "      <td>Grenache</td>\n",
       "      <td>Sahara Vineyards</td>\n",
       "      <td>91</td>\n",
       "      <td>2025-08-02</td>\n",
       "    </tr>\n",
       "    <tr>\n",
       "      <th>114213</th>\n",
       "      <td>Egypt</td>\n",
       "      <td>Caspar</td>\n",
       "      <td>84.0</td>\n",
       "      <td>NaN</td>\n",
       "      <td>Egypt</td>\n",
       "      <td>NaN</td>\n",
       "      <td>NaN</td>\n",
       "      <td>Chenin Blanc</td>\n",
       "      <td>Sahara Vineyards</td>\n",
       "      <td>98</td>\n",
       "      <td>2025-12-17</td>\n",
       "    </tr>\n",
       "    <tr>\n",
       "      <th>115051</th>\n",
       "      <td>Egypt</td>\n",
       "      <td>NaN</td>\n",
       "      <td>83.0</td>\n",
       "      <td>NaN</td>\n",
       "      <td>Egypt</td>\n",
       "      <td>NaN</td>\n",
       "      <td>NaN</td>\n",
       "      <td>Viognier</td>\n",
       "      <td>Sahara Vineyards</td>\n",
       "      <td>97</td>\n",
       "      <td>2025-05-24</td>\n",
       "    </tr>\n",
       "    <tr>\n",
       "      <th>132359</th>\n",
       "      <td>Tunisia</td>\n",
       "      <td>Selian Mystère</td>\n",
       "      <td>87.0</td>\n",
       "      <td>NaN</td>\n",
       "      <td>Tunisia</td>\n",
       "      <td>NaN</td>\n",
       "      <td>NaN</td>\n",
       "      <td>Rosé</td>\n",
       "      <td>Domaine Neferis</td>\n",
       "      <td>81</td>\n",
       "      <td>2025-11-30</td>\n",
       "    </tr>\n",
       "    <tr>\n",
       "      <th>134014</th>\n",
       "      <td>Tunisia</td>\n",
       "      <td>Selian</td>\n",
       "      <td>85.0</td>\n",
       "      <td>NaN</td>\n",
       "      <td>Tunisia</td>\n",
       "      <td>NaN</td>\n",
       "      <td>NaN</td>\n",
       "      <td>White Blend</td>\n",
       "      <td>Domaine Neferis</td>\n",
       "      <td>94</td>\n",
       "      <td>2025-07-11</td>\n",
       "    </tr>\n",
       "  </tbody>\n",
       "</table>\n",
       "<p>385 rows × 11 columns</p>\n",
       "</div>"
      ],
      "text/plain": [
       "        country            designation  points  price    province    region_1  \\\n",
       "113579       US                    NaN    84.0    4.0  California  California   \n",
       "114469       US                    NaN    84.0    4.0  California  California   \n",
       "114479       US                    NaN    84.0    4.0  California  California   \n",
       "47305        US                    NaN    86.0    4.0  California  California   \n",
       "77245        US                    NaN    86.0    4.0  California  California   \n",
       "...         ...                    ...     ...    ...         ...         ...   \n",
       "114188    Egypt  Caspar Blanc de Noirs    84.0    NaN       Egypt         NaN   \n",
       "114213    Egypt                 Caspar    84.0    NaN       Egypt         NaN   \n",
       "115051    Egypt                    NaN    83.0    NaN       Egypt         NaN   \n",
       "132359  Tunisia         Selian Mystère    87.0    NaN     Tunisia         NaN   \n",
       "134014  Tunisia                 Selian    85.0    NaN     Tunisia         NaN   \n",
       "\n",
       "                region_2             variety            winery  \\\n",
       "113579  California Other  Cabernet Sauvignon            Bandit   \n",
       "114469  California Other          Chardonnay            Bandit   \n",
       "114479  California Other              Merlot            Bandit   \n",
       "47305   California Other              Merlot            Bandit   \n",
       "77245   California Other              Merlot            Bandit   \n",
       "...                  ...                 ...               ...   \n",
       "114188               NaN            Grenache  Sahara Vineyards   \n",
       "114213               NaN        Chenin Blanc  Sahara Vineyards   \n",
       "115051               NaN            Viognier  Sahara Vineyards   \n",
       "132359               NaN                Rosé   Domaine Neferis   \n",
       "134014               NaN         White Blend   Domaine Neferis   \n",
       "\n",
       "        last_year_points     date_f  \n",
       "113579                90 2025-11-09  \n",
       "114469                80 2025-01-02  \n",
       "114479                82 2025-01-06  \n",
       "47305                 97 2025-08-13  \n",
       "77245                 88 2025-04-23  \n",
       "...                  ...        ...  \n",
       "114188                91 2025-08-02  \n",
       "114213                98 2025-12-17  \n",
       "115051                97 2025-05-24  \n",
       "132359                81 2025-11-30  \n",
       "134014                94 2025-07-11  \n",
       "\n",
       "[385 rows x 11 columns]"
      ]
     },
     "execution_count": 30,
     "metadata": {},
     "output_type": "execute_result"
    }
   ],
   "source": [
    "df_csv.sort_values('price', ascending= True).groupby('country').head(10)"
   ]
  },
  {
   "cell_type": "markdown",
   "id": "c45609ee",
   "metadata": {},
   "source": [
    "### muestra aleatoria"
   ]
  },
  {
   "cell_type": "code",
   "execution_count": 31,
   "id": "61da081f",
   "metadata": {},
   "outputs": [
    {
     "data": {
      "text/html": [
       "<div>\n",
       "<style scoped>\n",
       "    .dataframe tbody tr th:only-of-type {\n",
       "        vertical-align: middle;\n",
       "    }\n",
       "\n",
       "    .dataframe tbody tr th {\n",
       "        vertical-align: top;\n",
       "    }\n",
       "\n",
       "    .dataframe thead th {\n",
       "        text-align: right;\n",
       "    }\n",
       "</style>\n",
       "<table border=\"1\" class=\"dataframe\">\n",
       "  <thead>\n",
       "    <tr style=\"text-align: right;\">\n",
       "      <th></th>\n",
       "      <th>country</th>\n",
       "      <th>designation</th>\n",
       "      <th>points</th>\n",
       "      <th>price</th>\n",
       "      <th>province</th>\n",
       "      <th>region_1</th>\n",
       "      <th>region_2</th>\n",
       "      <th>variety</th>\n",
       "      <th>winery</th>\n",
       "      <th>last_year_points</th>\n",
       "      <th>date_f</th>\n",
       "    </tr>\n",
       "  </thead>\n",
       "  <tbody>\n",
       "    <tr>\n",
       "      <th>48804</th>\n",
       "      <td>US</td>\n",
       "      <td>NaN</td>\n",
       "      <td>83.0</td>\n",
       "      <td>9.0</td>\n",
       "      <td>California</td>\n",
       "      <td>California</td>\n",
       "      <td>California Other</td>\n",
       "      <td>Chardonnay</td>\n",
       "      <td>Happy Camper</td>\n",
       "      <td>100</td>\n",
       "      <td>2025-02-28</td>\n",
       "    </tr>\n",
       "    <tr>\n",
       "      <th>81868</th>\n",
       "      <td>Italy</td>\n",
       "      <td>Vigna Rionda Riserva</td>\n",
       "      <td>93.0</td>\n",
       "      <td>134.0</td>\n",
       "      <td>Piedmont</td>\n",
       "      <td>Barolo</td>\n",
       "      <td>NaN</td>\n",
       "      <td>Nebbiolo</td>\n",
       "      <td>Massolino</td>\n",
       "      <td>86</td>\n",
       "      <td>2025-12-03</td>\n",
       "    </tr>\n",
       "    <tr>\n",
       "      <th>15626</th>\n",
       "      <td>US</td>\n",
       "      <td>Dusi Vineyard/Martini Vineyard</td>\n",
       "      <td>85.0</td>\n",
       "      <td>20.0</td>\n",
       "      <td>California</td>\n",
       "      <td>Paso Robles</td>\n",
       "      <td>Central Coast</td>\n",
       "      <td>Zinfandel</td>\n",
       "      <td>Stephen Ross</td>\n",
       "      <td>85</td>\n",
       "      <td>2025-05-09</td>\n",
       "    </tr>\n",
       "    <tr>\n",
       "      <th>74237</th>\n",
       "      <td>France</td>\n",
       "      <td>Perrières Premier Cru</td>\n",
       "      <td>93.0</td>\n",
       "      <td>80.0</td>\n",
       "      <td>Burgundy</td>\n",
       "      <td>Meursault</td>\n",
       "      <td>NaN</td>\n",
       "      <td>Chardonnay</td>\n",
       "      <td>Domaine Vincent Girardin</td>\n",
       "      <td>94</td>\n",
       "      <td>2025-02-09</td>\n",
       "    </tr>\n",
       "    <tr>\n",
       "      <th>28762</th>\n",
       "      <td>Italy</td>\n",
       "      <td>Muntacc</td>\n",
       "      <td>90.0</td>\n",
       "      <td>24.0</td>\n",
       "      <td>Piedmont</td>\n",
       "      <td>Coste della Sesia</td>\n",
       "      <td>NaN</td>\n",
       "      <td>Red Blend</td>\n",
       "      <td>La Prevostura</td>\n",
       "      <td>100</td>\n",
       "      <td>2025-06-11</td>\n",
       "    </tr>\n",
       "    <tr>\n",
       "      <th>...</th>\n",
       "      <td>...</td>\n",
       "      <td>...</td>\n",
       "      <td>...</td>\n",
       "      <td>...</td>\n",
       "      <td>...</td>\n",
       "      <td>...</td>\n",
       "      <td>...</td>\n",
       "      <td>...</td>\n",
       "      <td>...</td>\n",
       "      <td>...</td>\n",
       "      <td>...</td>\n",
       "    </tr>\n",
       "    <tr>\n",
       "      <th>84945</th>\n",
       "      <td>US</td>\n",
       "      <td>Spinning Red</td>\n",
       "      <td>89.0</td>\n",
       "      <td>20.0</td>\n",
       "      <td>California</td>\n",
       "      <td>Napa Valley</td>\n",
       "      <td>Napa</td>\n",
       "      <td>Red Blend</td>\n",
       "      <td>Curveball</td>\n",
       "      <td>94</td>\n",
       "      <td>2025-05-29</td>\n",
       "    </tr>\n",
       "    <tr>\n",
       "      <th>91485</th>\n",
       "      <td>Italy</td>\n",
       "      <td>Scaccomatto</td>\n",
       "      <td>92.0</td>\n",
       "      <td>66.0</td>\n",
       "      <td>Central Italy</td>\n",
       "      <td>Albana di Romagna</td>\n",
       "      <td>NaN</td>\n",
       "      <td>Albana</td>\n",
       "      <td>Fattoria Zerbina</td>\n",
       "      <td>87</td>\n",
       "      <td>2025-12-12</td>\n",
       "    </tr>\n",
       "    <tr>\n",
       "      <th>19537</th>\n",
       "      <td>Portugal</td>\n",
       "      <td>Terra de Lobos Branco</td>\n",
       "      <td>87.0</td>\n",
       "      <td>8.0</td>\n",
       "      <td>Tejo</td>\n",
       "      <td>NaN</td>\n",
       "      <td>NaN</td>\n",
       "      <td>Portuguese White</td>\n",
       "      <td>Quinta do Casal Branco</td>\n",
       "      <td>88</td>\n",
       "      <td>2025-02-15</td>\n",
       "    </tr>\n",
       "    <tr>\n",
       "      <th>81730</th>\n",
       "      <td>Chile</td>\n",
       "      <td>NaN</td>\n",
       "      <td>83.0</td>\n",
       "      <td>10.0</td>\n",
       "      <td>Central Valley</td>\n",
       "      <td>NaN</td>\n",
       "      <td>NaN</td>\n",
       "      <td>Cabernet Sauvignon</td>\n",
       "      <td>Paso Grande</td>\n",
       "      <td>83</td>\n",
       "      <td>2025-11-13</td>\n",
       "    </tr>\n",
       "    <tr>\n",
       "      <th>117807</th>\n",
       "      <td>US</td>\n",
       "      <td>Hawk Hill Vineyard</td>\n",
       "      <td>95.0</td>\n",
       "      <td>50.0</td>\n",
       "      <td>California</td>\n",
       "      <td>Russian River Valley</td>\n",
       "      <td>Sonoma</td>\n",
       "      <td>Chardonnay</td>\n",
       "      <td>Williams Selyem</td>\n",
       "      <td>88</td>\n",
       "      <td>2025-02-27</td>\n",
       "    </tr>\n",
       "  </tbody>\n",
       "</table>\n",
       "<p>2881 rows × 11 columns</p>\n",
       "</div>"
      ],
      "text/plain": [
       "         country                     designation  points  price  \\\n",
       "48804         US                             NaN    83.0    9.0   \n",
       "81868      Italy            Vigna Rionda Riserva    93.0  134.0   \n",
       "15626         US  Dusi Vineyard/Martini Vineyard    85.0   20.0   \n",
       "74237     France           Perrières Premier Cru    93.0   80.0   \n",
       "28762      Italy                         Muntacc    90.0   24.0   \n",
       "...          ...                             ...     ...    ...   \n",
       "84945         US                    Spinning Red    89.0   20.0   \n",
       "91485      Italy                     Scaccomatto    92.0   66.0   \n",
       "19537   Portugal           Terra de Lobos Branco    87.0    8.0   \n",
       "81730      Chile                             NaN    83.0   10.0   \n",
       "117807        US              Hawk Hill Vineyard    95.0   50.0   \n",
       "\n",
       "              province              region_1          region_2  \\\n",
       "48804       California            California  California Other   \n",
       "81868         Piedmont                Barolo               NaN   \n",
       "15626       California           Paso Robles     Central Coast   \n",
       "74237         Burgundy             Meursault               NaN   \n",
       "28762         Piedmont     Coste della Sesia               NaN   \n",
       "...                ...                   ...               ...   \n",
       "84945       California           Napa Valley              Napa   \n",
       "91485    Central Italy     Albana di Romagna               NaN   \n",
       "19537             Tejo                   NaN               NaN   \n",
       "81730   Central Valley                   NaN               NaN   \n",
       "117807      California  Russian River Valley            Sonoma   \n",
       "\n",
       "                   variety                    winery  last_year_points  \\\n",
       "48804           Chardonnay              Happy Camper               100   \n",
       "81868             Nebbiolo                 Massolino                86   \n",
       "15626            Zinfandel              Stephen Ross                85   \n",
       "74237           Chardonnay  Domaine Vincent Girardin                94   \n",
       "28762            Red Blend             La Prevostura               100   \n",
       "...                    ...                       ...               ...   \n",
       "84945            Red Blend                 Curveball                94   \n",
       "91485               Albana          Fattoria Zerbina                87   \n",
       "19537     Portuguese White    Quinta do Casal Branco                88   \n",
       "81730   Cabernet Sauvignon               Paso Grande                83   \n",
       "117807          Chardonnay           Williams Selyem                88   \n",
       "\n",
       "           date_f  \n",
       "48804  2025-02-28  \n",
       "81868  2025-12-03  \n",
       "15626  2025-05-09  \n",
       "74237  2025-02-09  \n",
       "28762  2025-06-11  \n",
       "...           ...  \n",
       "84945  2025-05-29  \n",
       "91485  2025-12-12  \n",
       "19537  2025-02-15  \n",
       "81730  2025-11-13  \n",
       "117807 2025-02-27  \n",
       "\n",
       "[2881 rows x 11 columns]"
      ]
     },
     "execution_count": 31,
     "metadata": {},
     "output_type": "execute_result"
    }
   ],
   "source": [
    "df_csv.sample(frac=0.02, random_state=42)"
   ]
  },
  {
   "cell_type": "markdown",
   "id": "1af808f5",
   "metadata": {},
   "source": [
    "### Manejo de duplicados"
   ]
  },
  {
   "cell_type": "code",
   "execution_count": 34,
   "id": "76aca7fd",
   "metadata": {},
   "outputs": [
    {
     "data": {
      "text/plain": [
       "(144037,)"
      ]
     },
     "execution_count": 34,
     "metadata": {},
     "output_type": "execute_result"
    }
   ],
   "source": [
    "df_duplicados = df_csv.duplicated(subset=[\"province\",\"region_1\"])\n",
    "df_duplicados.shape"
   ]
  },
  {
   "cell_type": "code",
   "execution_count": 36,
   "id": "bb4aa62a",
   "metadata": {},
   "outputs": [
    {
     "data": {
      "text/plain": [
       "(1623, 11)"
      ]
     },
     "execution_count": 36,
     "metadata": {},
     "output_type": "execute_result"
    }
   ],
   "source": [
    "noduplicados = df_csv[~df_duplicados].copy()\n",
    "noduplicados.shape"
   ]
  },
  {
   "cell_type": "markdown",
   "id": "c68e4b6d",
   "metadata": {},
   "source": [
    "### Reindices"
   ]
  },
  {
   "cell_type": "code",
   "execution_count": 39,
   "id": "eb0879eb",
   "metadata": {},
   "outputs": [
    {
     "name": "stdout",
     "output_type": "stream",
     "text": [
      "range(0, 10)\n"
     ]
    }
   ],
   "source": [
    "rango =range(10)\n",
    "print(rango)"
   ]
  },
  {
   "cell_type": "code",
   "execution_count": 49,
   "id": "70725757",
   "metadata": {},
   "outputs": [
    {
     "data": {
      "text/html": [
       "<div>\n",
       "<style scoped>\n",
       "    .dataframe tbody tr th:only-of-type {\n",
       "        vertical-align: middle;\n",
       "    }\n",
       "\n",
       "    .dataframe tbody tr th {\n",
       "        vertical-align: top;\n",
       "    }\n",
       "\n",
       "    .dataframe thead th {\n",
       "        text-align: right;\n",
       "    }\n",
       "</style>\n",
       "<table border=\"1\" class=\"dataframe\">\n",
       "  <thead>\n",
       "    <tr style=\"text-align: right;\">\n",
       "      <th></th>\n",
       "      <th>province</th>\n",
       "    </tr>\n",
       "  </thead>\n",
       "  <tbody>\n",
       "    <tr>\n",
       "      <th>0</th>\n",
       "      <td>California</td>\n",
       "    </tr>\n",
       "    <tr>\n",
       "      <th>1</th>\n",
       "      <td>Northern Spain</td>\n",
       "    </tr>\n",
       "    <tr>\n",
       "      <th>2</th>\n",
       "      <td>California</td>\n",
       "    </tr>\n",
       "    <tr>\n",
       "      <th>3</th>\n",
       "      <td>Oregon</td>\n",
       "    </tr>\n",
       "    <tr>\n",
       "      <th>4</th>\n",
       "      <td>Provence</td>\n",
       "    </tr>\n",
       "    <tr>\n",
       "      <th>...</th>\n",
       "      <td>...</td>\n",
       "    </tr>\n",
       "    <tr>\n",
       "      <th>1625</th>\n",
       "      <td>NaN</td>\n",
       "    </tr>\n",
       "    <tr>\n",
       "      <th>1626</th>\n",
       "      <td>NaN</td>\n",
       "    </tr>\n",
       "    <tr>\n",
       "      <th>1627</th>\n",
       "      <td>NaN</td>\n",
       "    </tr>\n",
       "    <tr>\n",
       "      <th>1628</th>\n",
       "      <td>NaN</td>\n",
       "    </tr>\n",
       "    <tr>\n",
       "      <th>1629</th>\n",
       "      <td>NaN</td>\n",
       "    </tr>\n",
       "  </tbody>\n",
       "</table>\n",
       "<p>1630 rows × 1 columns</p>\n",
       "</div>"
      ],
      "text/plain": [
       "            province\n",
       "0         California\n",
       "1     Northern Spain\n",
       "2         California\n",
       "3             Oregon\n",
       "4           Provence\n",
       "...              ...\n",
       "1625             NaN\n",
       "1626             NaN\n",
       "1627             NaN\n",
       "1628             NaN\n",
       "1629             NaN\n",
       "\n",
       "[1630 rows x 1 columns]"
      ]
     },
     "execution_count": 49,
     "metadata": {},
     "output_type": "execute_result"
    }
   ],
   "source": [
    "province = noduplicados[[\"province\"]].copy()\n",
    "pro2 = province.reindex(range(len(province)+7))\n",
    "pro2"
   ]
  },
  {
   "cell_type": "code",
   "execution_count": 43,
   "id": "12db5f14",
   "metadata": {},
   "outputs": [
    {
     "data": {
      "text/plain": [
       "1623"
      ]
     },
     "execution_count": 43,
     "metadata": {},
     "output_type": "execute_result"
    }
   ],
   "source": [
    "len(province)"
   ]
  },
  {
   "cell_type": "markdown",
   "id": "da4576ac",
   "metadata": {},
   "source": [
    "### rellenado fill"
   ]
  },
  {
   "cell_type": "code",
   "execution_count": 53,
   "id": "62a244ee",
   "metadata": {},
   "outputs": [
    {
     "data": {
      "text/html": [
       "<div>\n",
       "<style scoped>\n",
       "    .dataframe tbody tr th:only-of-type {\n",
       "        vertical-align: middle;\n",
       "    }\n",
       "\n",
       "    .dataframe tbody tr th {\n",
       "        vertical-align: top;\n",
       "    }\n",
       "\n",
       "    .dataframe thead th {\n",
       "        text-align: right;\n",
       "    }\n",
       "</style>\n",
       "<table border=\"1\" class=\"dataframe\">\n",
       "  <thead>\n",
       "    <tr style=\"text-align: right;\">\n",
       "      <th></th>\n",
       "      <th>province</th>\n",
       "    </tr>\n",
       "  </thead>\n",
       "  <tbody>\n",
       "    <tr>\n",
       "      <th>1625</th>\n",
       "      <td>California</td>\n",
       "    </tr>\n",
       "    <tr>\n",
       "      <th>1626</th>\n",
       "      <td>California</td>\n",
       "    </tr>\n",
       "    <tr>\n",
       "      <th>1627</th>\n",
       "      <td>California</td>\n",
       "    </tr>\n",
       "    <tr>\n",
       "      <th>1628</th>\n",
       "      <td>California</td>\n",
       "    </tr>\n",
       "    <tr>\n",
       "      <th>1629</th>\n",
       "      <td>California</td>\n",
       "    </tr>\n",
       "  </tbody>\n",
       "</table>\n",
       "</div>"
      ],
      "text/plain": [
       "        province\n",
       "1625  California\n",
       "1626  California\n",
       "1627  California\n",
       "1628  California\n",
       "1629  California"
      ]
     },
     "execution_count": 53,
     "metadata": {},
     "output_type": "execute_result"
    }
   ],
   "source": [
    "pro2[\"province\"] = pro2[\"province\"].ffill()\n",
    "pro2.tail(5)"
   ]
  },
  {
   "cell_type": "markdown",
   "id": "0a57514d",
   "metadata": {},
   "source": [
    "## Limpieza y preparación de datos "
   ]
  },
  {
   "cell_type": "markdown",
   "id": "f13936d0",
   "metadata": {},
   "source": [
    "### Valores perdidos"
   ]
  },
  {
   "cell_type": "code",
   "execution_count": 55,
   "id": "ec4ef8e3",
   "metadata": {},
   "outputs": [
    {
     "data": {
      "text/plain": [
       "Index(['country', 'designation', 'points', 'price', 'province', 'region_1',\n",
       "       'region_2', 'variety', 'winery', 'last_year_points', 'date_f'],\n",
       "      dtype='object')"
      ]
     },
     "execution_count": 55,
     "metadata": {},
     "output_type": "execute_result"
    }
   ],
   "source": [
    "df_limpieza.columns"
   ]
  },
  {
   "cell_type": "code",
   "execution_count": 54,
   "id": "27663fe6",
   "metadata": {},
   "outputs": [
    {
     "data": {
      "text/plain": [
       "Index([ 48804,  81868,  15626,  74237,  28762, 101461, 101773,  94157,  12528,\n",
       "       132245,\n",
       "       ...\n",
       "        72543,  48160,  22281, 131826,  77845, 102444,  50381,  97422,  83523,\n",
       "         5737],\n",
       "      dtype='int64', length=7202)"
      ]
     },
     "execution_count": 54,
     "metadata": {},
     "output_type": "execute_result"
    }
   ],
   "source": [
    "df_limpieza = df_csv.copy()\n",
    "idx = df_limpieza.sample(frac=0.05, random_state=42).index\n",
    "idx"
   ]
  },
  {
   "cell_type": "code",
   "execution_count": 58,
   "id": "e2da8296",
   "metadata": {},
   "outputs": [
    {
     "data": {
      "text/html": [
       "<div>\n",
       "<style scoped>\n",
       "    .dataframe tbody tr th:only-of-type {\n",
       "        vertical-align: middle;\n",
       "    }\n",
       "\n",
       "    .dataframe tbody tr th {\n",
       "        vertical-align: top;\n",
       "    }\n",
       "\n",
       "    .dataframe thead th {\n",
       "        text-align: right;\n",
       "    }\n",
       "</style>\n",
       "<table border=\"1\" class=\"dataframe\">\n",
       "  <thead>\n",
       "    <tr style=\"text-align: right;\">\n",
       "      <th></th>\n",
       "      <th>country</th>\n",
       "      <th>designation</th>\n",
       "      <th>points</th>\n",
       "      <th>price</th>\n",
       "      <th>province</th>\n",
       "      <th>region_1</th>\n",
       "      <th>region_2</th>\n",
       "      <th>variety</th>\n",
       "      <th>winery</th>\n",
       "      <th>last_year_points</th>\n",
       "      <th>date_f</th>\n",
       "    </tr>\n",
       "  </thead>\n",
       "  <tbody>\n",
       "    <tr>\n",
       "      <th>0</th>\n",
       "      <td>US</td>\n",
       "      <td>Martha's Vineyard</td>\n",
       "      <td>96.0</td>\n",
       "      <td>NaN</td>\n",
       "      <td>California</td>\n",
       "      <td>Napa Valley</td>\n",
       "      <td>Napa</td>\n",
       "      <td>Cabernet Sauvignon</td>\n",
       "      <td>Heitz</td>\n",
       "      <td>94</td>\n",
       "      <td>2025-04-13</td>\n",
       "    </tr>\n",
       "    <tr>\n",
       "      <th>1</th>\n",
       "      <td>Spain</td>\n",
       "      <td>Carodorum Selección Especial Reserva</td>\n",
       "      <td>96.0</td>\n",
       "      <td>110.0</td>\n",
       "      <td>Northern Spain</td>\n",
       "      <td>Toro</td>\n",
       "      <td>NaN</td>\n",
       "      <td>Tinta de Toro</td>\n",
       "      <td>Bodega Carmen Rodríguez</td>\n",
       "      <td>92</td>\n",
       "      <td>2025-12-15</td>\n",
       "    </tr>\n",
       "  </tbody>\n",
       "</table>\n",
       "</div>"
      ],
      "text/plain": [
       "  country                           designation  points  price  \\\n",
       "0      US                     Martha's Vineyard    96.0    NaN   \n",
       "1   Spain  Carodorum Selección Especial Reserva    96.0  110.0   \n",
       "\n",
       "         province     region_1 region_2             variety  \\\n",
       "0      California  Napa Valley     Napa  Cabernet Sauvignon   \n",
       "1  Northern Spain         Toro      NaN       Tinta de Toro   \n",
       "\n",
       "                    winery  last_year_points     date_f  \n",
       "0                    Heitz                94 2025-04-13  \n",
       "1  Bodega Carmen Rodríguez                92 2025-12-15  "
      ]
     },
     "execution_count": 58,
     "metadata": {},
     "output_type": "execute_result"
    }
   ],
   "source": [
    "df_limpieza.loc[idx,\"price\"] = np.nan\n",
    "df_limpieza.head(2)"
   ]
  },
  {
   "cell_type": "code",
   "execution_count": 62,
   "id": "efbcd766",
   "metadata": {},
   "outputs": [
    {
     "name": "stderr",
     "output_type": "stream",
     "text": [
      "/home/codespace/.local/lib/python3.12/site-packages/numpy/lib/_nanfunctions_impl.py:1214: RuntimeWarning: Mean of empty slice\n",
      "  return np.nanmean(a, axis, out=out, keepdims=keepdims)\n",
      "/home/codespace/.local/lib/python3.12/site-packages/numpy/lib/_nanfunctions_impl.py:1214: RuntimeWarning: Mean of empty slice\n",
      "  return np.nanmean(a, axis, out=out, keepdims=keepdims)\n",
      "/home/codespace/.local/lib/python3.12/site-packages/numpy/lib/_nanfunctions_impl.py:1214: RuntimeWarning: Mean of empty slice\n",
      "  return np.nanmean(a, axis, out=out, keepdims=keepdims)\n",
      "/home/codespace/.local/lib/python3.12/site-packages/numpy/lib/_nanfunctions_impl.py:1214: RuntimeWarning: Mean of empty slice\n",
      "  return np.nanmean(a, axis, out=out, keepdims=keepdims)\n",
      "/home/codespace/.local/lib/python3.12/site-packages/numpy/lib/_nanfunctions_impl.py:1214: RuntimeWarning: Mean of empty slice\n",
      "  return np.nanmean(a, axis, out=out, keepdims=keepdims)\n",
      "/home/codespace/.local/lib/python3.12/site-packages/numpy/lib/_nanfunctions_impl.py:1214: RuntimeWarning: Mean of empty slice\n",
      "  return np.nanmean(a, axis, out=out, keepdims=keepdims)\n",
      "/home/codespace/.local/lib/python3.12/site-packages/numpy/lib/_nanfunctions_impl.py:1214: RuntimeWarning: Mean of empty slice\n",
      "  return np.nanmean(a, axis, out=out, keepdims=keepdims)\n",
      "/home/codespace/.local/lib/python3.12/site-packages/numpy/lib/_nanfunctions_impl.py:1214: RuntimeWarning: Mean of empty slice\n",
      "  return np.nanmean(a, axis, out=out, keepdims=keepdims)\n",
      "/home/codespace/.local/lib/python3.12/site-packages/numpy/lib/_nanfunctions_impl.py:1214: RuntimeWarning: Mean of empty slice\n",
      "  return np.nanmean(a, axis, out=out, keepdims=keepdims)\n",
      "/home/codespace/.local/lib/python3.12/site-packages/numpy/lib/_nanfunctions_impl.py:1214: RuntimeWarning: Mean of empty slice\n",
      "  return np.nanmean(a, axis, out=out, keepdims=keepdims)\n",
      "/home/codespace/.local/lib/python3.12/site-packages/numpy/lib/_nanfunctions_impl.py:1214: RuntimeWarning: Mean of empty slice\n",
      "  return np.nanmean(a, axis, out=out, keepdims=keepdims)\n",
      "/home/codespace/.local/lib/python3.12/site-packages/numpy/lib/_nanfunctions_impl.py:1214: RuntimeWarning: Mean of empty slice\n",
      "  return np.nanmean(a, axis, out=out, keepdims=keepdims)\n",
      "/home/codespace/.local/lib/python3.12/site-packages/numpy/lib/_nanfunctions_impl.py:1214: RuntimeWarning: Mean of empty slice\n",
      "  return np.nanmean(a, axis, out=out, keepdims=keepdims)\n"
     ]
    },
    {
     "data": {
      "text/plain": [
       "np.int64(39)"
      ]
     },
     "execution_count": 62,
     "metadata": {},
     "output_type": "execute_result"
    }
   ],
   "source": [
    "df_limpieza[\"price\"] = df_limpieza.groupby(\"province\")[\"price\"].transform(lambda s : s.fillna(s.median()))\n",
    "df_limpieza[\"price\"].isna().sum() \n"
   ]
  },
  {
   "cell_type": "markdown",
   "id": "5994e152",
   "metadata": {},
   "source": [
    "### Outliers (IQR)\n",
    "![](data:image/png;base64,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)"
   ]
  },
  {
   "cell_type": "code",
   "execution_count": 64,
   "id": "896a3170",
   "metadata": {},
   "outputs": [
    {
     "data": {
      "text/plain": [
       "np.float64(16.0)"
      ]
     },
     "execution_count": 64,
     "metadata": {},
     "output_type": "execute_result"
    }
   ],
   "source": [
    "q1 = df_limpieza[\"price\"].quantile(0.25)\n",
    "q1"
   ]
  },
  {
   "cell_type": "code",
   "execution_count": 66,
   "id": "08c77a23",
   "metadata": {},
   "outputs": [
    {
     "data": {
      "text/plain": [
       "np.float64(38.0)"
      ]
     },
     "execution_count": 66,
     "metadata": {},
     "output_type": "execute_result"
    }
   ],
   "source": [
    "q3 = df_limpieza[\"price\"].quantile(0.75)\n",
    "q3"
   ]
  },
  {
   "cell_type": "code",
   "execution_count": 67,
   "id": "60e9b21b",
   "metadata": {},
   "outputs": [
    {
     "data": {
      "text/plain": [
       "np.float64(22.0)"
      ]
     },
     "execution_count": 67,
     "metadata": {},
     "output_type": "execute_result"
    }
   ],
   "source": [
    "iqr = q3-q1\n",
    "iqr"
   ]
  },
  {
   "cell_type": "code",
   "execution_count": 68,
   "id": "c3372f08",
   "metadata": {},
   "outputs": [
    {
     "data": {
      "text/plain": [
       "(np.float64(-17.0), np.float64(71.0))"
      ]
     },
     "execution_count": 68,
     "metadata": {},
     "output_type": "execute_result"
    }
   ],
   "source": [
    "debajo, encima = (q1 - 1.5*iqr), (q3 + 1.5*iqr)\n",
    "debajo, encima"
   ]
  },
  {
   "cell_type": "code",
   "execution_count": 69,
   "id": "9d37ab39",
   "metadata": {},
   "outputs": [
    {
     "data": {
      "text/html": [
       "<div>\n",
       "<style scoped>\n",
       "    .dataframe tbody tr th:only-of-type {\n",
       "        vertical-align: middle;\n",
       "    }\n",
       "\n",
       "    .dataframe tbody tr th {\n",
       "        vertical-align: top;\n",
       "    }\n",
       "\n",
       "    .dataframe thead th {\n",
       "        text-align: right;\n",
       "    }\n",
       "</style>\n",
       "<table border=\"1\" class=\"dataframe\">\n",
       "  <thead>\n",
       "    <tr style=\"text-align: right;\">\n",
       "      <th></th>\n",
       "      <th>price</th>\n",
       "      <th>price_outlier</th>\n",
       "    </tr>\n",
       "  </thead>\n",
       "  <tbody>\n",
       "    <tr>\n",
       "      <th>count</th>\n",
       "      <td>130641.000000</td>\n",
       "      <td>130641.000000</td>\n",
       "    </tr>\n",
       "    <tr>\n",
       "      <th>mean</th>\n",
       "      <td>33.123399</td>\n",
       "      <td>31.945048</td>\n",
       "    </tr>\n",
       "    <tr>\n",
       "      <th>std</th>\n",
       "      <td>36.368177</td>\n",
       "      <td>24.915466</td>\n",
       "    </tr>\n",
       "    <tr>\n",
       "      <th>min</th>\n",
       "      <td>4.000000</td>\n",
       "      <td>8.000000</td>\n",
       "    </tr>\n",
       "    <tr>\n",
       "      <th>25%</th>\n",
       "      <td>16.000000</td>\n",
       "      <td>16.000000</td>\n",
       "    </tr>\n",
       "    <tr>\n",
       "      <th>50%</th>\n",
       "      <td>24.000000</td>\n",
       "      <td>24.000000</td>\n",
       "    </tr>\n",
       "    <tr>\n",
       "      <th>75%</th>\n",
       "      <td>40.000000</td>\n",
       "      <td>40.000000</td>\n",
       "    </tr>\n",
       "    <tr>\n",
       "      <th>max</th>\n",
       "      <td>2300.000000</td>\n",
       "      <td>150.000000</td>\n",
       "    </tr>\n",
       "  </tbody>\n",
       "</table>\n",
       "</div>"
      ],
      "text/plain": [
       "               price  price_outlier\n",
       "count  130641.000000  130641.000000\n",
       "mean       33.123399      31.945048\n",
       "std        36.368177      24.915466\n",
       "min         4.000000       8.000000\n",
       "25%        16.000000      16.000000\n",
       "50%        24.000000      24.000000\n",
       "75%        40.000000      40.000000\n",
       "max      2300.000000     150.000000"
      ]
     },
     "execution_count": 69,
     "metadata": {},
     "output_type": "execute_result"
    }
   ],
   "source": [
    "df_limpieza = df_csv.copy()\n",
    "df_limpieza[\"price_outlier\"] = df_limpieza[\"price\"].clip(lower=df_limpieza[\"price\"].quantile(0.01),upper=df_limpieza[\"price\"].quantile(0.99))\n",
    "df_limpieza[[\"price\",\"price_outlier\"]].describe()"
   ]
  },
  {
   "cell_type": "markdown",
   "id": "292ac36a",
   "metadata": {},
   "source": [
    "### Normalizacion o Estandarizacion"
   ]
  },
  {
   "cell_type": "code",
   "execution_count": 73,
   "id": "c3e48bbb",
   "metadata": {},
   "outputs": [
    {
     "data": {
      "text/html": [
       "<div>\n",
       "<style scoped>\n",
       "    .dataframe tbody tr th:only-of-type {\n",
       "        vertical-align: middle;\n",
       "    }\n",
       "\n",
       "    .dataframe tbody tr th {\n",
       "        vertical-align: top;\n",
       "    }\n",
       "\n",
       "    .dataframe thead th {\n",
       "        text-align: right;\n",
       "    }\n",
       "</style>\n",
       "<table border=\"1\" class=\"dataframe\">\n",
       "  <thead>\n",
       "    <tr style=\"text-align: right;\">\n",
       "      <th></th>\n",
       "      <th>price</th>\n",
       "      <th>price_minmax</th>\n",
       "      <th>price_z</th>\n",
       "    </tr>\n",
       "  </thead>\n",
       "  <tbody>\n",
       "    <tr>\n",
       "      <th>0</th>\n",
       "      <td>235.0</td>\n",
       "      <td>0.100610</td>\n",
       "      <td>5.550913</td>\n",
       "    </tr>\n",
       "    <tr>\n",
       "      <th>1</th>\n",
       "      <td>110.0</td>\n",
       "      <td>0.046167</td>\n",
       "      <td>2.113843</td>\n",
       "    </tr>\n",
       "    <tr>\n",
       "      <th>2</th>\n",
       "      <td>90.0</td>\n",
       "      <td>0.037456</td>\n",
       "      <td>1.563911</td>\n",
       "    </tr>\n",
       "    <tr>\n",
       "      <th>3</th>\n",
       "      <td>65.0</td>\n",
       "      <td>0.026568</td>\n",
       "      <td>0.876497</td>\n",
       "    </tr>\n",
       "    <tr>\n",
       "      <th>4</th>\n",
       "      <td>66.0</td>\n",
       "      <td>0.027003</td>\n",
       "      <td>0.903994</td>\n",
       "    </tr>\n",
       "  </tbody>\n",
       "</table>\n",
       "</div>"
      ],
      "text/plain": [
       "   price  price_minmax   price_z\n",
       "0  235.0      0.100610  5.550913\n",
       "1  110.0      0.046167  2.113843\n",
       "2   90.0      0.037456  1.563911\n",
       "3   65.0      0.026568  0.876497\n",
       "4   66.0      0.027003  0.903994"
      ]
     },
     "execution_count": 73,
     "metadata": {},
     "output_type": "execute_result"
    }
   ],
   "source": [
    "df_limpieza = df_csv.copy()\n",
    "sc = MinMaxScaler()\n",
    "df_limpieza[\"price_minmax\"] = sc.fit_transform(df_limpieza[[\"price\"]])\n",
    "df_limpieza[\"price_z\"] = (df_limpieza[\"price\"]-df_limpieza[\"price\"].mean())/df_limpieza[\"price\"].std()\n",
    "df_limpieza[[\"price\",\"price_minmax\",\"price_z\"]].head(5)"
   ]
  },
  {
   "cell_type": "markdown",
   "id": "8c1fd0a1",
   "metadata": {},
   "source": [
    "### Parseo de fechas"
   ]
  },
  {
   "cell_type": "code",
   "execution_count": 74,
   "id": "9bdd6e22",
   "metadata": {},
   "outputs": [
    {
     "data": {
      "text/plain": [
       "0    2025\n",
       "1    2025\n",
       "Name: year, dtype: int32"
      ]
     },
     "execution_count": 74,
     "metadata": {},
     "output_type": "execute_result"
    }
   ],
   "source": [
    "df_limpieza = df_csv.copy()\n",
    "#date_f\n",
    "df_limpieza[\"year\"]= df_limpieza[\"date_f\"].dt.year\n",
    "df_limpieza[\"year\"].head(2)"
   ]
  },
  {
   "cell_type": "code",
   "execution_count": 75,
   "id": "84a96e5c",
   "metadata": {},
   "outputs": [
    {
     "data": {
      "text/plain": [
       "0     4\n",
       "1    12\n",
       "Name: month, dtype: int32"
      ]
     },
     "execution_count": 75,
     "metadata": {},
     "output_type": "execute_result"
    }
   ],
   "source": [
    "df_limpieza[\"month\"]= df_limpieza[\"date_f\"].dt.month\n",
    "df_limpieza[\"month\"].head(2)"
   ]
  },
  {
   "cell_type": "code",
   "execution_count": 76,
   "id": "e36194dd",
   "metadata": {},
   "outputs": [
    {
     "data": {
      "text/plain": [
       "0    13\n",
       "1    15\n",
       "Name: day, dtype: int32"
      ]
     },
     "execution_count": 76,
     "metadata": {},
     "output_type": "execute_result"
    }
   ],
   "source": [
    "df_limpieza[\"day\"]= df_limpieza[\"date_f\"].dt.day\n",
    "df_limpieza[\"day\"].head(2)"
   ]
  },
  {
   "cell_type": "code",
   "execution_count": 78,
   "id": "a8928c37",
   "metadata": {},
   "outputs": [
    {
     "data": {
      "text/html": [
       "<div>\n",
       "<style scoped>\n",
       "    .dataframe tbody tr th:only-of-type {\n",
       "        vertical-align: middle;\n",
       "    }\n",
       "\n",
       "    .dataframe tbody tr th {\n",
       "        vertical-align: top;\n",
       "    }\n",
       "\n",
       "    .dataframe thead th {\n",
       "        text-align: right;\n",
       "    }\n",
       "</style>\n",
       "<table border=\"1\" class=\"dataframe\">\n",
       "  <thead>\n",
       "    <tr style=\"text-align: right;\">\n",
       "      <th></th>\n",
       "      <th>date_f</th>\n",
       "      <th>year</th>\n",
       "      <th>month</th>\n",
       "      <th>day</th>\n",
       "    </tr>\n",
       "  </thead>\n",
       "  <tbody>\n",
       "    <tr>\n",
       "      <th>0</th>\n",
       "      <td>2025-04-13</td>\n",
       "      <td>2025</td>\n",
       "      <td>4</td>\n",
       "      <td>13</td>\n",
       "    </tr>\n",
       "    <tr>\n",
       "      <th>1</th>\n",
       "      <td>2025-12-15</td>\n",
       "      <td>2025</td>\n",
       "      <td>12</td>\n",
       "      <td>15</td>\n",
       "    </tr>\n",
       "    <tr>\n",
       "      <th>2</th>\n",
       "      <td>2025-09-28</td>\n",
       "      <td>2025</td>\n",
       "      <td>9</td>\n",
       "      <td>28</td>\n",
       "    </tr>\n",
       "    <tr>\n",
       "      <th>3</th>\n",
       "      <td>2025-04-17</td>\n",
       "      <td>2025</td>\n",
       "      <td>4</td>\n",
       "      <td>17</td>\n",
       "    </tr>\n",
       "    <tr>\n",
       "      <th>4</th>\n",
       "      <td>2025-03-13</td>\n",
       "      <td>2025</td>\n",
       "      <td>3</td>\n",
       "      <td>13</td>\n",
       "    </tr>\n",
       "  </tbody>\n",
       "</table>\n",
       "</div>"
      ],
      "text/plain": [
       "      date_f  year  month  day\n",
       "0 2025-04-13  2025      4   13\n",
       "1 2025-12-15  2025     12   15\n",
       "2 2025-09-28  2025      9   28\n",
       "3 2025-04-17  2025      4   17\n",
       "4 2025-03-13  2025      3   13"
      ]
     },
     "execution_count": 78,
     "metadata": {},
     "output_type": "execute_result"
    }
   ],
   "source": [
    "df_limpieza[[\"date_f\",\"year\",\"month\",\"day\"]].head(5)"
   ]
  },
  {
   "cell_type": "markdown",
   "id": "dd746089",
   "metadata": {},
   "source": [
    "### Renombrado de columnas"
   ]
  },
  {
   "cell_type": "code",
   "execution_count": 82,
   "id": "c354061e",
   "metadata": {},
   "outputs": [
    {
     "data": {
      "text/plain": [
       "Index(['country', 'designation', 'points', 'price', 'province', 'region1',\n",
       "       'region2', 'variety', 'winery', 'lastyearpoints', 'datef'],\n",
       "      dtype='object')"
      ]
     },
     "execution_count": 82,
     "metadata": {},
     "output_type": "execute_result"
    }
   ],
   "source": [
    "df_limpieza = df_csv.copy()\n",
    "df_limpieza.columns = df_limpieza.columns.str.lower().str.replace(\"_\",\"\")\n",
    "df_limpieza.columns"
   ]
  },
  {
   "cell_type": "markdown",
   "id": "c1a483f4",
   "metadata": {},
   "source": [
    "### Eliminar columnas o filas"
   ]
  },
  {
   "cell_type": "code",
   "execution_count": 95,
   "id": "dcf9418c",
   "metadata": {},
   "outputs": [
    {
     "data": {
      "text/plain": [
       "128248"
      ]
     },
     "execution_count": 95,
     "metadata": {},
     "output_type": "execute_result"
    }
   ],
   "source": [
    "df_limpieza = df_csv.copy()\n",
    "df_limpieza = df_limpieza.drop(columns=[\"country\"]).query(\"price > 7 and price < 151\")\n",
    "len(df_limpieza)"
   ]
  },
  {
   "cell_type": "code",
   "execution_count": 96,
   "id": "ddefa70a",
   "metadata": {},
   "outputs": [
    {
     "data": {
      "text/plain": [
       "count    128248.000000\n",
       "mean         30.979017\n",
       "std          22.085517\n",
       "min           8.000000\n",
       "25%          16.000000\n",
       "50%          24.000000\n",
       "75%          40.000000\n",
       "max         150.000000\n",
       "Name: price, dtype: float64"
      ]
     },
     "execution_count": 96,
     "metadata": {},
     "output_type": "execute_result"
    }
   ],
   "source": [
    "df_limpieza[\"price\"].describe()"
   ]
  },
  {
   "cell_type": "markdown",
   "id": "649f0a21",
   "metadata": {},
   "source": [
    "### validaciones"
   ]
  },
  {
   "cell_type": "code",
   "execution_count": null,
   "id": "6f08b078",
   "metadata": {},
   "outputs": [
    {
     "ename": "AssertionError",
     "evalue": "x debe ser menor que 5",
     "output_type": "error",
     "traceback": [
      "\u001b[31m---------------------------------------------------------------------------\u001b[39m",
      "\u001b[31mAssertionError\u001b[39m                            Traceback (most recent call last)",
      "\u001b[36mCell\u001b[39m\u001b[36m \u001b[39m\u001b[32mIn[97]\u001b[39m\u001b[32m, line 3\u001b[39m\n\u001b[32m      1\u001b[39m x = \u001b[32m10\u001b[39m\n\u001b[32m      2\u001b[39m \u001b[38;5;28;01massert\u001b[39;00m x > \u001b[32m0\u001b[39m, \u001b[33m\"\u001b[39m\u001b[33mx debe ser mayor que 0\u001b[39m\u001b[33m\"\u001b[39m   \u001b[38;5;66;03m# ✅ no pasa nada\u001b[39;00m\n\u001b[32m----> \u001b[39m\u001b[32m3\u001b[39m \u001b[38;5;28;01massert\u001b[39;00m x < \u001b[32m5\u001b[39m, \u001b[33m\"\u001b[39m\u001b[33mx debe ser menor que 5\u001b[39m\u001b[33m\"\u001b[39m   \u001b[38;5;66;03m# ❌ lanza AssertionError\u001b[39;00m\n",
      "\u001b[31mAssertionError\u001b[39m: x debe ser menor que 5"
     ]
    }
   ],
   "source": [
    "x = 10\n",
    "assert x > 0, \"x debe ser mayor que 0\"   # ✅ no pasa nada\n",
    "assert x < 5, \"x debe ser menor que 5\"   # ❌ lanza AssertionError"
   ]
  },
  {
   "cell_type": "code",
   "execution_count": 106,
   "id": "6fe4c924",
   "metadata": {},
   "outputs": [
    {
     "data": {
      "text/plain": [
       "0         False\n",
       "1         False\n",
       "2         False\n",
       "3         False\n",
       "4         False\n",
       "          ...  \n",
       "144032    False\n",
       "144033    False\n",
       "144034    False\n",
       "144035    False\n",
       "144036    False\n",
       "Name: price, Length: 144037, dtype: bool"
      ]
     },
     "execution_count": 106,
     "metadata": {},
     "output_type": "execute_result"
    }
   ],
   "source": [
    "df_limpieza = df_csv.copy()\n",
    "(df_limpieza[\"price\"] > 3000)"
   ]
  },
  {
   "cell_type": "code",
   "execution_count": null,
   "id": "8f24e65b",
   "metadata": {},
   "outputs": [
    {
     "ename": "AssertionError",
     "evalue": "price es outlier por encima ",
     "output_type": "error",
     "traceback": [
      "\u001b[31m---------------------------------------------------------------------------\u001b[39m",
      "\u001b[31mAssertionError\u001b[39m                            Traceback (most recent call last)",
      "\u001b[36mCell\u001b[39m\u001b[36m \u001b[39m\u001b[32mIn[102]\u001b[39m\u001b[32m, line 2\u001b[39m\n\u001b[32m      1\u001b[39m df_limpieza = df_csv.copy()\n\u001b[32m----> \u001b[39m\u001b[32m2\u001b[39m \u001b[38;5;28;01massert\u001b[39;00m (df_limpieza[\u001b[33m\"\u001b[39m\u001b[33mprice\u001b[39m\u001b[33m\"\u001b[39m] > \u001b[32m3000\u001b[39m).all(), \u001b[33m\"\u001b[39m\u001b[33mprice es outlier por encima \u001b[39m\u001b[33m\"\u001b[39m\n\u001b[32m      3\u001b[39m \u001b[38;5;28;01massert\u001b[39;00m (df_limpieza[\u001b[33m\"\u001b[39m\u001b[33mprice\u001b[39m\u001b[33m\"\u001b[39m] > \u001b[32m8\u001b[39m).all(), \u001b[33m\"\u001b[39m\u001b[33mprice es outlier por debajo \u001b[39m\u001b[33m\"\u001b[39m\n\u001b[32m      4\u001b[39m \u001b[33m\"\u001b[39m\u001b[33mel precio esta ok\u001b[39m\u001b[33m\"\u001b[39m\n",
      "\u001b[31mAssertionError\u001b[39m: price es outlier por encima "
     ]
    }
   ],
   "source": [
    "df_limpieza = df_csv.copy()\n",
    "assert (df_limpieza[\"price\"] > 3000).all(), \"price es outlier por encima \"\n",
    "assert (df_limpieza[\"price\"] > 8).all(), \"price es outlier por debajo \"\n",
    "\"el precio esta ok\""
   ]
  }
 ],
 "metadata": {
  "kernelspec": {
   "display_name": "Python 3",
   "language": "python",
   "name": "python3"
  },
  "language_info": {
   "codemirror_mode": {
    "name": "ipython",
    "version": 3
   },
   "file_extension": ".py",
   "mimetype": "text/x-python",
   "name": "python",
   "nbconvert_exporter": "python",
   "pygments_lexer": "ipython3",
   "version": "3.12.1"
  }
 },
 "nbformat": 4,
 "nbformat_minor": 5
}
