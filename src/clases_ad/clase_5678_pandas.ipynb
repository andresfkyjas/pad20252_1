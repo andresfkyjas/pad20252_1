{
 "cells": [
  {
   "cell_type": "markdown",
   "id": "2b0a60ea",
   "metadata": {},
   "source": [
    "# Pandas "
   ]
  },
  {
   "cell_type": "markdown",
   "id": "dbfa3cb5",
   "metadata": {},
   "source": [
    "## contenido\n",
    "- Fundamentos y E/S\n",
    "- Selección, filtrado e indexación \n",
    "- Limpieza y preparación de datos \n",
    "- Transformaciones y funciones\n",
    "- Agrupaciones, pivotes y ventanas \n",
    "- Joins, concat y reshaping \n",
    "- Series de tiempo \n",
    "- Texto y categóricos\n",
    "- Rendimiento y depuración\n",
    "- Visualización con Matplotlib "
   ]
  },
  {
   "cell_type": "markdown",
   "id": "690f91c9",
   "metadata": {},
   "source": [
    "# importaciones"
   ]
  },
  {
   "cell_type": "code",
   "execution_count": null,
   "id": "4e1ffcbd",
   "metadata": {},
   "outputs": [],
   "source": [
    "import numpy as np\n",
    "import pandas as pd\n",
    "from pathlib import Path"
   ]
  },
  {
   "cell_type": "markdown",
   "id": "f61ddc99",
   "metadata": {},
   "source": [
    "# rutas"
   ]
  },
  {
   "cell_type": "code",
   "execution_count": null,
   "id": "36d797ca",
   "metadata": {},
   "outputs": [],
   "source": [
    "np.random.seed(42)\n",
    "data_dir = Path('static/data/')\n",
    "data_dir.mkdir(parents=True, exist_ok=True)"
   ]
  },
  {
   "cell_type": "markdown",
   "id": "b2878ea3",
   "metadata": {},
   "source": [
    "# Fundamentos y E/S"
   ]
  },
  {
   "cell_type": "markdown",
   "id": "f3cd303f",
   "metadata": {},
   "source": [
    "### Crear Series y DataFrames\n",
    "\n",
    "![Serie](static/img/serie.png) ![DataFrame](static/img/dataframe.png) "
   ]
  },
  {
   "cell_type": "code",
   "execution_count": 13,
   "id": "3195a131",
   "metadata": {},
   "outputs": [
    {
     "name": "stdout",
     "output_type": "stream",
     "text": [
      "0    x\n",
      "1    y\n",
      "2    z\n",
      "Name: S, dtype: object\n"
     ]
    }
   ],
   "source": [
    "s = [\"x\",\"y\",\"z\"]\n",
    "series = pd.Series(s, name=\"S\")\n",
    "print(series)"
   ]
  },
  {
   "cell_type": "code",
   "execution_count": 14,
   "id": "731322c1",
   "metadata": {},
   "outputs": [
    {
     "name": "stdout",
     "output_type": "stream",
     "text": [
      "   A  B\n",
      "0  1  x\n",
      "1  2  y\n",
      "2  3  z\n"
     ]
    }
   ],
   "source": [
    "a = [1,2,3]\n",
    "b = [\"x\",\"y\",\"z\"]\n",
    "df = pd.DataFrame({\"A\":a, \"B\":b})\n",
    "print(df)"
   ]
  },
  {
   "cell_type": "markdown",
   "id": "3d2da592",
   "metadata": {},
   "source": [
    "### Lectura"
   ]
  },
  {
   "cell_type": "code",
   "execution_count": 20,
   "id": "08071e25",
   "metadata": {},
   "outputs": [
    {
     "data": {
      "application/vnd.microsoft.datawrangler.viewer.v0+json": {
       "columns": [
        {
         "name": "index",
         "rawType": "int64",
         "type": "integer"
        },
        {
         "name": "country",
         "rawType": "object",
         "type": "string"
        },
        {
         "name": "designation",
         "rawType": "object",
         "type": "string"
        },
        {
         "name": "points",
         "rawType": "float64",
         "type": "float"
        },
        {
         "name": "price",
         "rawType": "float64",
         "type": "float"
        },
        {
         "name": "province",
         "rawType": "object",
         "type": "string"
        },
        {
         "name": "region_1",
         "rawType": "object",
         "type": "string"
        },
        {
         "name": "region_2",
         "rawType": "object",
         "type": "unknown"
        },
        {
         "name": "variety",
         "rawType": "object",
         "type": "string"
        },
        {
         "name": "winery",
         "rawType": "object",
         "type": "string"
        },
        {
         "name": "last_year_points",
         "rawType": "int64",
         "type": "integer"
        }
       ],
       "ref": "16d80bcb-ab12-4586-b05b-3cf0f2b58c2f",
       "rows": [
        [
         "0",
         "US",
         "Martha's Vineyard",
         "96.0",
         "235.0",
         "California",
         "Napa Valley",
         "Napa",
         "Cabernet Sauvignon",
         "Heitz",
         "94"
        ],
        [
         "1",
         "Spain",
         "Carodorum Selección Especial Reserva",
         "96.0",
         "110.0",
         "Northern Spain",
         "Toro",
         null,
         "Tinta de Toro",
         "Bodega Carmen Rodríguez",
         "92"
        ]
       ],
       "shape": {
        "columns": 10,
        "rows": 2
       }
      },
      "text/html": [
       "<div>\n",
       "<style scoped>\n",
       "    .dataframe tbody tr th:only-of-type {\n",
       "        vertical-align: middle;\n",
       "    }\n",
       "\n",
       "    .dataframe tbody tr th {\n",
       "        vertical-align: top;\n",
       "    }\n",
       "\n",
       "    .dataframe thead th {\n",
       "        text-align: right;\n",
       "    }\n",
       "</style>\n",
       "<table border=\"1\" class=\"dataframe\">\n",
       "  <thead>\n",
       "    <tr style=\"text-align: right;\">\n",
       "      <th></th>\n",
       "      <th>country</th>\n",
       "      <th>designation</th>\n",
       "      <th>points</th>\n",
       "      <th>price</th>\n",
       "      <th>province</th>\n",
       "      <th>region_1</th>\n",
       "      <th>region_2</th>\n",
       "      <th>variety</th>\n",
       "      <th>winery</th>\n",
       "      <th>last_year_points</th>\n",
       "    </tr>\n",
       "  </thead>\n",
       "  <tbody>\n",
       "    <tr>\n",
       "      <th>0</th>\n",
       "      <td>US</td>\n",
       "      <td>Martha's Vineyard</td>\n",
       "      <td>96.0</td>\n",
       "      <td>235.0</td>\n",
       "      <td>California</td>\n",
       "      <td>Napa Valley</td>\n",
       "      <td>Napa</td>\n",
       "      <td>Cabernet Sauvignon</td>\n",
       "      <td>Heitz</td>\n",
       "      <td>94</td>\n",
       "    </tr>\n",
       "    <tr>\n",
       "      <th>1</th>\n",
       "      <td>Spain</td>\n",
       "      <td>Carodorum Selección Especial Reserva</td>\n",
       "      <td>96.0</td>\n",
       "      <td>110.0</td>\n",
       "      <td>Northern Spain</td>\n",
       "      <td>Toro</td>\n",
       "      <td>NaN</td>\n",
       "      <td>Tinta de Toro</td>\n",
       "      <td>Bodega Carmen Rodríguez</td>\n",
       "      <td>92</td>\n",
       "    </tr>\n",
       "  </tbody>\n",
       "</table>\n",
       "</div>"
      ],
      "text/plain": [
       "  country                           designation  points  price  \\\n",
       "0      US                     Martha's Vineyard    96.0  235.0   \n",
       "1   Spain  Carodorum Selección Especial Reserva    96.0  110.0   \n",
       "\n",
       "         province     region_1 region_2             variety  \\\n",
       "0      California  Napa Valley     Napa  Cabernet Sauvignon   \n",
       "1  Northern Spain         Toro      NaN       Tinta de Toro   \n",
       "\n",
       "                    winery  last_year_points  \n",
       "0                    Heitz                94  \n",
       "1  Bodega Carmen Rodríguez                92  "
      ]
     },
     "execution_count": 20,
     "metadata": {},
     "output_type": "execute_result"
    }
   ],
   "source": [
    "# ruta\n",
    "ruta_csv = \"static/csv/winemag-data_first150k.csv\"\n",
    "# variable\n",
    "#lectura de csv\n",
    "df_csv = pd.read_csv(ruta_csv,delimiter=\";\")\n",
    "df_csv.head(2)\n",
    "#lectura de excel\n",
    "#ruta_excel = \"static/excel/mi_excel.xlsx\"\n",
    "#df_excel = pd.read_excel(ruta_excel, sheet_name=\"Hoja1\")\n",
    "#LECTURA DE JSON\n",
    "# ruta_json = \"static/json/mi_json.json\"  \n",
    "# df_json = pd.read_json(ruta_json)\n",
    "#LECTURA DE HTML\n",
    "# ruta_html = \"static/html/mi_html.html\"\n",
    "# df_html = pd.read_html(ruta_html)\n",
    "#LECTURA DE PARQUET\n",
    "# ruta_parquet = \"static/parquet/mi_parquet.parquet\"    \n",
    "# df_parquet = pd.read_parquet(ruta_parquet)"
   ]
  },
  {
   "cell_type": "markdown",
   "id": "d38e98a2",
   "metadata": {},
   "source": [
    "### Selección de columnas"
   ]
  },
  {
   "cell_type": "code",
   "execution_count": 22,
   "id": "af4c561e",
   "metadata": {},
   "outputs": [
    {
     "data": {
      "text/plain": [
       "['country',\n",
       " 'designation',\n",
       " 'points',\n",
       " 'price',\n",
       " 'province',\n",
       " 'region_1',\n",
       " 'region_2',\n",
       " 'variety',\n",
       " 'winery',\n",
       " 'last_year_points']"
      ]
     },
     "execution_count": 22,
     "metadata": {},
     "output_type": "execute_result"
    }
   ],
   "source": [
    "columnas = ['country', 'designation', 'points', 'price', 'province', 'region_1','region_2', 'variety', 'winery', 'last_year_points']\n",
    "columnas"
   ]
  },
  {
   "cell_type": "code",
   "execution_count": 23,
   "id": "2d9221f6",
   "metadata": {},
   "outputs": [
    {
     "data": {
      "application/vnd.microsoft.datawrangler.viewer.v0+json": {
       "columns": [
        {
         "name": "index",
         "rawType": "int64",
         "type": "integer"
        },
        {
         "name": "country",
         "rawType": "object",
         "type": "string"
        }
       ],
       "ref": "7a9f45d8-793c-4793-8036-6d213d809bdf",
       "rows": [
        [
         "0",
         "US"
        ],
        [
         "1",
         "Spain"
        ]
       ],
       "shape": {
        "columns": 1,
        "rows": 2
       }
      },
      "text/plain": [
       "0       US\n",
       "1    Spain\n",
       "Name: country, dtype: object"
      ]
     },
     "execution_count": 23,
     "metadata": {},
     "output_type": "execute_result"
    }
   ],
   "source": [
    "columnas_filtradas = ['country', 'designation', 'price']\n",
    "df_csv['country'].head(2)"
   ]
  },
  {
   "cell_type": "code",
   "execution_count": 25,
   "id": "b18e0aaa",
   "metadata": {},
   "outputs": [
    {
     "data": {
      "application/vnd.microsoft.datawrangler.viewer.v0+json": {
       "columns": [
        {
         "name": "index",
         "rawType": "int64",
         "type": "integer"
        },
        {
         "name": "country",
         "rawType": "object",
         "type": "string"
        },
        {
         "name": "designation",
         "rawType": "object",
         "type": "string"
        },
        {
         "name": "price",
         "rawType": "float64",
         "type": "float"
        }
       ],
       "ref": "fef2195e-3c68-48fd-a5f2-d693732afcdf",
       "rows": [
        [
         "0",
         "US",
         "Martha's Vineyard",
         "235.0"
        ],
        [
         "1",
         "Spain",
         "Carodorum Selección Especial Reserva",
         "110.0"
        ]
       ],
       "shape": {
        "columns": 3,
        "rows": 2
       }
      },
      "text/html": [
       "<div>\n",
       "<style scoped>\n",
       "    .dataframe tbody tr th:only-of-type {\n",
       "        vertical-align: middle;\n",
       "    }\n",
       "\n",
       "    .dataframe tbody tr th {\n",
       "        vertical-align: top;\n",
       "    }\n",
       "\n",
       "    .dataframe thead th {\n",
       "        text-align: right;\n",
       "    }\n",
       "</style>\n",
       "<table border=\"1\" class=\"dataframe\">\n",
       "  <thead>\n",
       "    <tr style=\"text-align: right;\">\n",
       "      <th></th>\n",
       "      <th>country</th>\n",
       "      <th>designation</th>\n",
       "      <th>price</th>\n",
       "    </tr>\n",
       "  </thead>\n",
       "  <tbody>\n",
       "    <tr>\n",
       "      <th>0</th>\n",
       "      <td>US</td>\n",
       "      <td>Martha's Vineyard</td>\n",
       "      <td>235.0</td>\n",
       "    </tr>\n",
       "    <tr>\n",
       "      <th>1</th>\n",
       "      <td>Spain</td>\n",
       "      <td>Carodorum Selección Especial Reserva</td>\n",
       "      <td>110.0</td>\n",
       "    </tr>\n",
       "  </tbody>\n",
       "</table>\n",
       "</div>"
      ],
      "text/plain": [
       "  country                           designation  price\n",
       "0      US                     Martha's Vineyard  235.0\n",
       "1   Spain  Carodorum Selección Especial Reserva  110.0"
      ]
     },
     "execution_count": 25,
     "metadata": {},
     "output_type": "execute_result"
    }
   ],
   "source": [
    "columnas_filtradas = ['country', 'designation', 'price']\n",
    "df_csv[columnas_filtradas].head(2)\n",
    "#df_2 =df_csv[columnas_filtradas].head(2)"
   ]
  },
  {
   "cell_type": "markdown",
   "id": "cfa8806d",
   "metadata": {},
   "source": [
    "### Información general dataframe"
   ]
  },
  {
   "cell_type": "code",
   "execution_count": 26,
   "id": "8ece8ebc",
   "metadata": {},
   "outputs": [
    {
     "name": "stdout",
     "output_type": "stream",
     "text": [
      "<class 'pandas.core.frame.DataFrame'>\n",
      "RangeIndex: 144037 entries, 0 to 144036\n",
      "Data columns (total 10 columns):\n",
      " #   Column            Non-Null Count   Dtype  \n",
      "---  ------            --------------   -----  \n",
      " 0   country           144035 non-null  object \n",
      " 1   designation       100211 non-null  object \n",
      " 2   points            144032 non-null  float64\n",
      " 3   price             130641 non-null  float64\n",
      " 4   province          144030 non-null  object \n",
      " 5   region_1          120192 non-null  object \n",
      " 6   region_2          58378 non-null   object \n",
      " 7   variety           144032 non-null  object \n",
      " 8   winery            144032 non-null  object \n",
      " 9   last_year_points  144037 non-null  int64  \n",
      "dtypes: float64(2), int64(1), object(7)\n",
      "memory usage: 11.0+ MB\n"
     ]
    }
   ],
   "source": [
    "df_csv.info()"
   ]
  },
  {
   "cell_type": "code",
   "execution_count": 28,
   "id": "41475796",
   "metadata": {},
   "outputs": [
    {
     "data": {
      "application/vnd.microsoft.datawrangler.viewer.v0+json": {
       "columns": [
        {
         "name": "index",
         "rawType": "object",
         "type": "string"
        },
        {
         "name": "points",
         "rawType": "float64",
         "type": "float"
        },
        {
         "name": "price",
         "rawType": "float64",
         "type": "float"
        },
        {
         "name": "last_year_points",
         "rawType": "float64",
         "type": "float"
        }
       ],
       "ref": "c1836f54-5c42-4445-99f1-6b250aa2ca53",
       "rows": [
        [
         "count",
         "144032.0",
         "130641.0",
         "144037.0"
        ],
        [
         "mean",
         "87.87342396134193",
         "33.12339923913626",
         "89.99845178669369"
        ],
        [
         "std",
         "3.2158211384041513",
         "36.368176847459615",
         "6.050240387805439"
        ],
        [
         "min",
         "80.0",
         "4.0",
         "80.0"
        ],
        [
         "25%",
         "86.0",
         "16.0",
         "85.0"
        ],
        [
         "50%",
         "88.0",
         "24.0",
         "90.0"
        ],
        [
         "75%",
         "90.0",
         "40.0",
         "95.0"
        ],
        [
         "max",
         "100.0",
         "2300.0",
         "100.0"
        ]
       ],
       "shape": {
        "columns": 3,
        "rows": 8
       }
      },
      "text/html": [
       "<div>\n",
       "<style scoped>\n",
       "    .dataframe tbody tr th:only-of-type {\n",
       "        vertical-align: middle;\n",
       "    }\n",
       "\n",
       "    .dataframe tbody tr th {\n",
       "        vertical-align: top;\n",
       "    }\n",
       "\n",
       "    .dataframe thead th {\n",
       "        text-align: right;\n",
       "    }\n",
       "</style>\n",
       "<table border=\"1\" class=\"dataframe\">\n",
       "  <thead>\n",
       "    <tr style=\"text-align: right;\">\n",
       "      <th></th>\n",
       "      <th>points</th>\n",
       "      <th>price</th>\n",
       "      <th>last_year_points</th>\n",
       "    </tr>\n",
       "  </thead>\n",
       "  <tbody>\n",
       "    <tr>\n",
       "      <th>count</th>\n",
       "      <td>144032.000000</td>\n",
       "      <td>130641.000000</td>\n",
       "      <td>144037.000000</td>\n",
       "    </tr>\n",
       "    <tr>\n",
       "      <th>mean</th>\n",
       "      <td>87.873424</td>\n",
       "      <td>33.123399</td>\n",
       "      <td>89.998452</td>\n",
       "    </tr>\n",
       "    <tr>\n",
       "      <th>std</th>\n",
       "      <td>3.215821</td>\n",
       "      <td>36.368177</td>\n",
       "      <td>6.050240</td>\n",
       "    </tr>\n",
       "    <tr>\n",
       "      <th>min</th>\n",
       "      <td>80.000000</td>\n",
       "      <td>4.000000</td>\n",
       "      <td>80.000000</td>\n",
       "    </tr>\n",
       "    <tr>\n",
       "      <th>25%</th>\n",
       "      <td>86.000000</td>\n",
       "      <td>16.000000</td>\n",
       "      <td>85.000000</td>\n",
       "    </tr>\n",
       "    <tr>\n",
       "      <th>50%</th>\n",
       "      <td>88.000000</td>\n",
       "      <td>24.000000</td>\n",
       "      <td>90.000000</td>\n",
       "    </tr>\n",
       "    <tr>\n",
       "      <th>75%</th>\n",
       "      <td>90.000000</td>\n",
       "      <td>40.000000</td>\n",
       "      <td>95.000000</td>\n",
       "    </tr>\n",
       "    <tr>\n",
       "      <th>max</th>\n",
       "      <td>100.000000</td>\n",
       "      <td>2300.000000</td>\n",
       "      <td>100.000000</td>\n",
       "    </tr>\n",
       "  </tbody>\n",
       "</table>\n",
       "</div>"
      ],
      "text/plain": [
       "              points          price  last_year_points\n",
       "count  144032.000000  130641.000000     144037.000000\n",
       "mean       87.873424      33.123399         89.998452\n",
       "std         3.215821      36.368177          6.050240\n",
       "min        80.000000       4.000000         80.000000\n",
       "25%        86.000000      16.000000         85.000000\n",
       "50%        88.000000      24.000000         90.000000\n",
       "75%        90.000000      40.000000         95.000000\n",
       "max       100.000000    2300.000000        100.000000"
      ]
     },
     "execution_count": 28,
     "metadata": {},
     "output_type": "execute_result"
    }
   ],
   "source": [
    "df_csv.describe()"
   ]
  },
  {
   "cell_type": "markdown",
   "id": "b2b9ddec",
   "metadata": {},
   "source": [
    "### Tipos de Conversion"
   ]
  },
  {
   "cell_type": "markdown",
   "id": "9cf9785d",
   "metadata": {},
   "source": []
  },
  {
   "cell_type": "markdown",
   "id": "967a9bcb",
   "metadata": {},
   "source": []
  }
 ],
 "metadata": {
  "kernelspec": {
   "display_name": "venv (3.13.2)",
   "language": "python",
   "name": "python3"
  },
  "language_info": {
   "codemirror_mode": {
    "name": "ipython",
    "version": 3
   },
   "file_extension": ".py",
   "mimetype": "text/x-python",
   "name": "python",
   "nbconvert_exporter": "python",
   "pygments_lexer": "ipython3",
   "version": "3.13.2"
  }
 },
 "nbformat": 4,
 "nbformat_minor": 5
}
