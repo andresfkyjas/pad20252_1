{
 "cells": [
  {
   "cell_type": "markdown",
   "id": "2b0a60ea",
   "metadata": {},
   "source": [
    "# Pandas "
   ]
  },
  {
   "cell_type": "markdown",
   "id": "dbfa3cb5",
   "metadata": {},
   "source": [
    "## contenido\n",
    "- Fundamentos y E/S\n",
    "- Selección, filtrado e indexación \n",
    "- Limpieza y preparación de datos \n",
    "- Transformaciones y funciones\n",
    "- Agrupaciones, pivotes y ventanas \n",
    "- Joins, concat y reshaping \n",
    "- Series de tiempo \n",
    "- Texto y categóricos\n",
    "- Rendimiento y depuración\n",
    "- Visualización con Matplotlib \n",
    "\n",
    "[Cheat sheet](https://pandas.pydata.org/Pandas_Cheat_Sheet.pdf)"
   ]
  },
  {
   "cell_type": "markdown",
   "id": "690f91c9",
   "metadata": {},
   "source": [
    "# importaciones"
   ]
  },
  {
   "cell_type": "code",
   "execution_count": 10,
   "id": "4e1ffcbd",
   "metadata": {},
   "outputs": [],
   "source": [
    "import numpy as np\n",
    "import pandas as pd\n",
    "from pathlib import Path\n",
    "from sklearn.preprocessing import MinMaxScaler"
   ]
  },
  {
   "cell_type": "markdown",
   "id": "f61ddc99",
   "metadata": {},
   "source": [
    "# rutas"
   ]
  },
  {
   "cell_type": "code",
   "execution_count": 11,
   "id": "36d797ca",
   "metadata": {},
   "outputs": [],
   "source": [
    "np.random.seed(42)\n",
    "data_dir = Path('static/data/')\n",
    "data_dir.mkdir(parents=True, exist_ok=True)"
   ]
  },
  {
   "cell_type": "markdown",
   "id": "b2878ea3",
   "metadata": {},
   "source": [
    "# Fundamentos y E/S"
   ]
  },
  {
   "cell_type": "markdown",
   "id": "f3cd303f",
   "metadata": {},
   "source": [
    "### Crear Series y DataFrames\n",
    "\n",
    "![Serie](static/img/serie.png) ![DataFrame](static/img/dataframe.png) "
   ]
  },
  {
   "cell_type": "code",
   "execution_count": 12,
   "id": "3195a131",
   "metadata": {},
   "outputs": [
    {
     "name": "stdout",
     "output_type": "stream",
     "text": [
      "0    x\n",
      "1    y\n",
      "2    z\n",
      "Name: S, dtype: object\n"
     ]
    }
   ],
   "source": [
    "s = [\"x\",\"y\",\"z\"]\n",
    "series = pd.Series(s, name=\"S\")\n",
    "print(series)"
   ]
  },
  {
   "cell_type": "code",
   "execution_count": 13,
   "id": "731322c1",
   "metadata": {},
   "outputs": [
    {
     "name": "stdout",
     "output_type": "stream",
     "text": [
      "   A  B\n",
      "0  1  x\n",
      "1  2  y\n",
      "2  3  z\n"
     ]
    }
   ],
   "source": [
    "a = [1,2,3]\n",
    "b = [\"x\",\"y\",\"z\"]\n",
    "df = pd.DataFrame({\"A\":a, \"B\":b})\n",
    "print(df)"
   ]
  },
  {
   "cell_type": "markdown",
   "id": "3d2da592",
   "metadata": {},
   "source": [
    "### Lectura"
   ]
  },
  {
   "cell_type": "code",
   "execution_count": null,
   "id": "8ce77fba",
   "metadata": {},
   "outputs": [],
   "source": []
  },
  {
   "cell_type": "code",
   "execution_count": 14,
   "id": "08071e25",
   "metadata": {},
   "outputs": [
    {
     "data": {
      "text/html": [
       "<div>\n",
       "<style scoped>\n",
       "    .dataframe tbody tr th:only-of-type {\n",
       "        vertical-align: middle;\n",
       "    }\n",
       "\n",
       "    .dataframe tbody tr th {\n",
       "        vertical-align: top;\n",
       "    }\n",
       "\n",
       "    .dataframe thead th {\n",
       "        text-align: right;\n",
       "    }\n",
       "</style>\n",
       "<table border=\"1\" class=\"dataframe\">\n",
       "  <thead>\n",
       "    <tr style=\"text-align: right;\">\n",
       "      <th></th>\n",
       "      <th>Unnamed: 0</th>\n",
       "      <th>country</th>\n",
       "      <th>description</th>\n",
       "      <th>designation</th>\n",
       "      <th>points</th>\n",
       "      <th>price</th>\n",
       "      <th>province</th>\n",
       "      <th>region_1</th>\n",
       "      <th>region_2</th>\n",
       "      <th>variety</th>\n",
       "      <th>winery</th>\n",
       "    </tr>\n",
       "  </thead>\n",
       "  <tbody>\n",
       "    <tr>\n",
       "      <th>0</th>\n",
       "      <td>0</td>\n",
       "      <td>US</td>\n",
       "      <td>This tremendous 100% varietal wine hails from ...</td>\n",
       "      <td>Martha's Vineyard</td>\n",
       "      <td>96</td>\n",
       "      <td>235.0</td>\n",
       "      <td>California</td>\n",
       "      <td>Napa Valley</td>\n",
       "      <td>Napa</td>\n",
       "      <td>Cabernet Sauvignon</td>\n",
       "      <td>Heitz</td>\n",
       "    </tr>\n",
       "    <tr>\n",
       "      <th>1</th>\n",
       "      <td>1</td>\n",
       "      <td>Spain</td>\n",
       "      <td>Ripe aromas of fig, blackberry and cassis are ...</td>\n",
       "      <td>Carodorum Selección Especial Reserva</td>\n",
       "      <td>96</td>\n",
       "      <td>110.0</td>\n",
       "      <td>Northern Spain</td>\n",
       "      <td>Toro</td>\n",
       "      <td>NaN</td>\n",
       "      <td>Tinta de Toro</td>\n",
       "      <td>Bodega Carmen Rodríguez</td>\n",
       "    </tr>\n",
       "    <tr>\n",
       "      <th>2</th>\n",
       "      <td>2</td>\n",
       "      <td>US</td>\n",
       "      <td>Mac Watson honors the memory of a wine once ma...</td>\n",
       "      <td>Special Selected Late Harvest</td>\n",
       "      <td>96</td>\n",
       "      <td>90.0</td>\n",
       "      <td>California</td>\n",
       "      <td>Knights Valley</td>\n",
       "      <td>Sonoma</td>\n",
       "      <td>Sauvignon Blanc</td>\n",
       "      <td>Macauley</td>\n",
       "    </tr>\n",
       "    <tr>\n",
       "      <th>3</th>\n",
       "      <td>3</td>\n",
       "      <td>US</td>\n",
       "      <td>This spent 20 months in 30% new French oak, an...</td>\n",
       "      <td>Reserve</td>\n",
       "      <td>96</td>\n",
       "      <td>65.0</td>\n",
       "      <td>Oregon</td>\n",
       "      <td>Willamette Valley</td>\n",
       "      <td>Willamette Valley</td>\n",
       "      <td>Pinot Noir</td>\n",
       "      <td>Ponzi</td>\n",
       "    </tr>\n",
       "    <tr>\n",
       "      <th>4</th>\n",
       "      <td>4</td>\n",
       "      <td>France</td>\n",
       "      <td>This is the top wine from La Bégude, named aft...</td>\n",
       "      <td>La Brûlade</td>\n",
       "      <td>95</td>\n",
       "      <td>66.0</td>\n",
       "      <td>Provence</td>\n",
       "      <td>Bandol</td>\n",
       "      <td>NaN</td>\n",
       "      <td>Provence red blend</td>\n",
       "      <td>Domaine de la Bégude</td>\n",
       "    </tr>\n",
       "  </tbody>\n",
       "</table>\n",
       "</div>"
      ],
      "text/plain": [
       "   Unnamed: 0 country                                        description  \\\n",
       "0           0      US  This tremendous 100% varietal wine hails from ...   \n",
       "1           1   Spain  Ripe aromas of fig, blackberry and cassis are ...   \n",
       "2           2      US  Mac Watson honors the memory of a wine once ma...   \n",
       "3           3      US  This spent 20 months in 30% new French oak, an...   \n",
       "4           4  France  This is the top wine from La Bégude, named aft...   \n",
       "\n",
       "                            designation  points  price        province  \\\n",
       "0                     Martha's Vineyard      96  235.0      California   \n",
       "1  Carodorum Selección Especial Reserva      96  110.0  Northern Spain   \n",
       "2         Special Selected Late Harvest      96   90.0      California   \n",
       "3                               Reserve      96   65.0          Oregon   \n",
       "4                            La Brûlade      95   66.0        Provence   \n",
       "\n",
       "            region_1           region_2             variety  \\\n",
       "0        Napa Valley               Napa  Cabernet Sauvignon   \n",
       "1               Toro                NaN       Tinta de Toro   \n",
       "2     Knights Valley             Sonoma     Sauvignon Blanc   \n",
       "3  Willamette Valley  Willamette Valley          Pinot Noir   \n",
       "4             Bandol                NaN  Provence red blend   \n",
       "\n",
       "                    winery  \n",
       "0                    Heitz  \n",
       "1  Bodega Carmen Rodríguez  \n",
       "2                 Macauley  \n",
       "3                    Ponzi  \n",
       "4     Domaine de la Bégude  "
      ]
     },
     "execution_count": 14,
     "metadata": {},
     "output_type": "execute_result"
    }
   ],
   "source": [
    "# ruta\n",
    "ruta_csv = \"static/csv/winemag-data_first150k.csv\"\n",
    "# variable\n",
    "#lectura de csv\n",
    "df_csv = pd.read_csv(ruta_csv,delimiter=\",\")\n",
    "df_csv.head()\n",
    "#lectura de excel\n",
    "#ruta_excel = \"static/excel/mi_excel.xlsx\"\n",
    "#df_excel = pd.read_excel(ruta_excel, sheet_name=\"Hoja1\")\n",
    "#LECTURA DE JSON\n",
    "# ruta_json = \"static/json/mi_json.json\"  \n",
    "# df_json = pd.read_json(ruta_json)\n",
    "#LECTURA DE HTML\n",
    "# ruta_html = \"static/html/mi_html.html\"\n",
    "# df_html = pd.read_html(ruta_html)\n",
    "#LECTURA DE PARQUET\n",
    "# ruta_parquet = \"static/parquet/mi_parquet.parquet\"    \n",
    "# df_parquet = pd.read_parquet(ruta_parquet)"
   ]
  },
  {
   "cell_type": "markdown",
   "id": "d38e98a2",
   "metadata": {},
   "source": [
    "### Selección de columnas"
   ]
  },
  {
   "cell_type": "code",
   "execution_count": 15,
   "id": "af4c561e",
   "metadata": {},
   "outputs": [
    {
     "data": {
      "text/plain": [
       "['country',\n",
       " 'designation',\n",
       " 'points',\n",
       " 'price',\n",
       " 'province',\n",
       " 'region_1',\n",
       " 'region_2',\n",
       " 'variety',\n",
       " 'winery',\n",
       " 'last_year_points']"
      ]
     },
     "execution_count": 15,
     "metadata": {},
     "output_type": "execute_result"
    }
   ],
   "source": [
    "columnas = ['country', 'designation', 'points', 'price', 'province', 'region_1','region_2', 'variety', 'winery', 'last_year_points']\n",
    "columnas"
   ]
  },
  {
   "cell_type": "code",
   "execution_count": 16,
   "id": "2d9221f6",
   "metadata": {},
   "outputs": [
    {
     "data": {
      "text/plain": [
       "0       US\n",
       "1    Spain\n",
       "Name: country, dtype: object"
      ]
     },
     "execution_count": 16,
     "metadata": {},
     "output_type": "execute_result"
    }
   ],
   "source": [
    "columnas_filtradas = ['country', 'designation', 'price']\n",
    "df_csv['country'].head(2)"
   ]
  },
  {
   "cell_type": "code",
   "execution_count": 17,
   "id": "b18e0aaa",
   "metadata": {},
   "outputs": [
    {
     "data": {
      "text/html": [
       "<div>\n",
       "<style scoped>\n",
       "    .dataframe tbody tr th:only-of-type {\n",
       "        vertical-align: middle;\n",
       "    }\n",
       "\n",
       "    .dataframe tbody tr th {\n",
       "        vertical-align: top;\n",
       "    }\n",
       "\n",
       "    .dataframe thead th {\n",
       "        text-align: right;\n",
       "    }\n",
       "</style>\n",
       "<table border=\"1\" class=\"dataframe\">\n",
       "  <thead>\n",
       "    <tr style=\"text-align: right;\">\n",
       "      <th></th>\n",
       "      <th>country</th>\n",
       "      <th>designation</th>\n",
       "      <th>price</th>\n",
       "    </tr>\n",
       "  </thead>\n",
       "  <tbody>\n",
       "    <tr>\n",
       "      <th>0</th>\n",
       "      <td>US</td>\n",
       "      <td>Martha's Vineyard</td>\n",
       "      <td>235.0</td>\n",
       "    </tr>\n",
       "    <tr>\n",
       "      <th>1</th>\n",
       "      <td>Spain</td>\n",
       "      <td>Carodorum Selección Especial Reserva</td>\n",
       "      <td>110.0</td>\n",
       "    </tr>\n",
       "  </tbody>\n",
       "</table>\n",
       "</div>"
      ],
      "text/plain": [
       "  country                           designation  price\n",
       "0      US                     Martha's Vineyard  235.0\n",
       "1   Spain  Carodorum Selección Especial Reserva  110.0"
      ]
     },
     "execution_count": 17,
     "metadata": {},
     "output_type": "execute_result"
    }
   ],
   "source": [
    "columnas_filtradas = ['country', 'designation', 'price']\n",
    "df_csv[columnas_filtradas].head(2)\n",
    "#df_2 =df_csv[columnas_filtradas].head(2)"
   ]
  },
  {
   "cell_type": "markdown",
   "id": "cfa8806d",
   "metadata": {},
   "source": [
    "### Información general dataframe"
   ]
  },
  {
   "cell_type": "code",
   "execution_count": 18,
   "id": "8ece8ebc",
   "metadata": {},
   "outputs": [
    {
     "name": "stdout",
     "output_type": "stream",
     "text": [
      "<class 'pandas.core.frame.DataFrame'>\n",
      "RangeIndex: 150930 entries, 0 to 150929\n",
      "Data columns (total 11 columns):\n",
      " #   Column       Non-Null Count   Dtype  \n",
      "---  ------       --------------   -----  \n",
      " 0   Unnamed: 0   150930 non-null  int64  \n",
      " 1   country      150925 non-null  object \n",
      " 2   description  150930 non-null  object \n",
      " 3   designation  105195 non-null  object \n",
      " 4   points       150930 non-null  int64  \n",
      " 5   price        137235 non-null  float64\n",
      " 6   province     150925 non-null  object \n",
      " 7   region_1     125870 non-null  object \n",
      " 8   region_2     60953 non-null   object \n",
      " 9   variety      150930 non-null  object \n",
      " 10  winery       150930 non-null  object \n",
      "dtypes: float64(1), int64(2), object(8)\n",
      "memory usage: 12.7+ MB\n"
     ]
    }
   ],
   "source": [
    "df_csv.info()"
   ]
  },
  {
   "cell_type": "code",
   "execution_count": 19,
   "id": "41475796",
   "metadata": {},
   "outputs": [
    {
     "data": {
      "text/html": [
       "<div>\n",
       "<style scoped>\n",
       "    .dataframe tbody tr th:only-of-type {\n",
       "        vertical-align: middle;\n",
       "    }\n",
       "\n",
       "    .dataframe tbody tr th {\n",
       "        vertical-align: top;\n",
       "    }\n",
       "\n",
       "    .dataframe thead th {\n",
       "        text-align: right;\n",
       "    }\n",
       "</style>\n",
       "<table border=\"1\" class=\"dataframe\">\n",
       "  <thead>\n",
       "    <tr style=\"text-align: right;\">\n",
       "      <th></th>\n",
       "      <th>Unnamed: 0</th>\n",
       "      <th>points</th>\n",
       "      <th>price</th>\n",
       "    </tr>\n",
       "  </thead>\n",
       "  <tbody>\n",
       "    <tr>\n",
       "      <th>count</th>\n",
       "      <td>150930.000000</td>\n",
       "      <td>150930.000000</td>\n",
       "      <td>137235.000000</td>\n",
       "    </tr>\n",
       "    <tr>\n",
       "      <th>mean</th>\n",
       "      <td>75464.500000</td>\n",
       "      <td>87.888418</td>\n",
       "      <td>33.131482</td>\n",
       "    </tr>\n",
       "    <tr>\n",
       "      <th>std</th>\n",
       "      <td>43569.882402</td>\n",
       "      <td>3.222392</td>\n",
       "      <td>36.322536</td>\n",
       "    </tr>\n",
       "    <tr>\n",
       "      <th>min</th>\n",
       "      <td>0.000000</td>\n",
       "      <td>80.000000</td>\n",
       "      <td>4.000000</td>\n",
       "    </tr>\n",
       "    <tr>\n",
       "      <th>25%</th>\n",
       "      <td>37732.250000</td>\n",
       "      <td>86.000000</td>\n",
       "      <td>16.000000</td>\n",
       "    </tr>\n",
       "    <tr>\n",
       "      <th>50%</th>\n",
       "      <td>75464.500000</td>\n",
       "      <td>88.000000</td>\n",
       "      <td>24.000000</td>\n",
       "    </tr>\n",
       "    <tr>\n",
       "      <th>75%</th>\n",
       "      <td>113196.750000</td>\n",
       "      <td>90.000000</td>\n",
       "      <td>40.000000</td>\n",
       "    </tr>\n",
       "    <tr>\n",
       "      <th>max</th>\n",
       "      <td>150929.000000</td>\n",
       "      <td>100.000000</td>\n",
       "      <td>2300.000000</td>\n",
       "    </tr>\n",
       "  </tbody>\n",
       "</table>\n",
       "</div>"
      ],
      "text/plain": [
       "          Unnamed: 0         points          price\n",
       "count  150930.000000  150930.000000  137235.000000\n",
       "mean    75464.500000      87.888418      33.131482\n",
       "std     43569.882402       3.222392      36.322536\n",
       "min         0.000000      80.000000       4.000000\n",
       "25%     37732.250000      86.000000      16.000000\n",
       "50%     75464.500000      88.000000      24.000000\n",
       "75%    113196.750000      90.000000      40.000000\n",
       "max    150929.000000     100.000000    2300.000000"
      ]
     },
     "execution_count": 19,
     "metadata": {},
     "output_type": "execute_result"
    }
   ],
   "source": [
    "df_csv.describe()"
   ]
  },
  {
   "cell_type": "markdown",
   "id": "b2b9ddec",
   "metadata": {},
   "source": [
    "### Tipos de Conversion"
   ]
  },
  {
   "cell_type": "code",
   "execution_count": 20,
   "id": "818de027",
   "metadata": {},
   "outputs": [
    {
     "data": {
      "text/plain": [
       "150930"
      ]
     },
     "execution_count": 20,
     "metadata": {},
     "output_type": "execute_result"
    }
   ],
   "source": [
    "len(df_csv)"
   ]
  },
  {
   "cell_type": "code",
   "execution_count": 21,
   "id": "904ef0f7",
   "metadata": {},
   "outputs": [
    {
     "data": {
      "text/plain": [
       "0   2025-04-13\n",
       "1   2025-12-15\n",
       "Name: date_f, dtype: datetime64[ns]"
      ]
     },
     "execution_count": 21,
     "metadata": {},
     "output_type": "execute_result"
    }
   ],
   "source": [
    "df_csv[\"date_f\"]= np.random.choice(pd.date_range(\"2025-01-01\", \"2025-12-31\"), size=len(df_csv))\n",
    "df_csv[\"date_f\"].head(2)"
   ]
  },
  {
   "cell_type": "code",
   "execution_count": 22,
   "id": "c95092f7",
   "metadata": {},
   "outputs": [
    {
     "data": {
      "text/plain": [
       "0   2025-04-13\n",
       "1   2025-12-15\n",
       "Name: fecha, dtype: datetime64[ns]"
      ]
     },
     "execution_count": 22,
     "metadata": {},
     "output_type": "execute_result"
    }
   ],
   "source": [
    "df_fecha = pd.DataFrame()\n",
    "df_fecha[\"fecha\"] = pd.to_datetime(df_csv[\"date_f\"], format=\"%Y-%m-%d\")\n",
    "#df_fecha[\"fecha\"] = pd.to_datetime(df_csv[\"date_f\"], format=\"%Y-%m-%d\")\n",
    "df_fecha[\"fecha\"].head(2)"
   ]
  },
  {
   "cell_type": "code",
   "execution_count": 23,
   "id": "b38b398a",
   "metadata": {},
   "outputs": [
    {
     "data": {
      "text/plain": [
       "fecha   2025-01-01\n",
       "dtype: datetime64[ns]"
      ]
     },
     "execution_count": 23,
     "metadata": {},
     "output_type": "execute_result"
    }
   ],
   "source": [
    "df_fecha.min()"
   ]
  },
  {
   "cell_type": "code",
   "execution_count": 24,
   "id": "bbc10099",
   "metadata": {},
   "outputs": [
    {
     "data": {
      "text/plain": [
       "fecha   2025-12-31\n",
       "dtype: datetime64[ns]"
      ]
     },
     "execution_count": 24,
     "metadata": {},
     "output_type": "execute_result"
    }
   ],
   "source": [
    "df_fecha.max()"
   ]
  },
  {
   "cell_type": "markdown",
   "id": "4c004dae",
   "metadata": {},
   "source": [
    "### Guardado de subconjunto"
   ]
  },
  {
   "cell_type": "code",
   "execution_count": 25,
   "id": "52c0db3b",
   "metadata": {},
   "outputs": [],
   "source": [
    "df_fecha[\"fecha2\"] = pd.to_datetime(df_csv[\"date_f\"], format=\"%Y-%m-%d\").copy()"
   ]
  },
  {
   "cell_type": "code",
   "execution_count": 26,
   "id": "b66ebf93",
   "metadata": {},
   "outputs": [
    {
     "data": {
      "text/html": [
       "<div>\n",
       "<style scoped>\n",
       "    .dataframe tbody tr th:only-of-type {\n",
       "        vertical-align: middle;\n",
       "    }\n",
       "\n",
       "    .dataframe tbody tr th {\n",
       "        vertical-align: top;\n",
       "    }\n",
       "\n",
       "    .dataframe thead th {\n",
       "        text-align: right;\n",
       "    }\n",
       "</style>\n",
       "<table border=\"1\" class=\"dataframe\">\n",
       "  <thead>\n",
       "    <tr style=\"text-align: right;\">\n",
       "      <th></th>\n",
       "      <th>fecha</th>\n",
       "      <th>fecha2</th>\n",
       "    </tr>\n",
       "  </thead>\n",
       "  <tbody>\n",
       "    <tr>\n",
       "      <th>1</th>\n",
       "      <td>2025-12-15</td>\n",
       "      <td>2025-12-15</td>\n",
       "    </tr>\n",
       "    <tr>\n",
       "      <th>2</th>\n",
       "      <td>2025-09-28</td>\n",
       "      <td>2025-09-28</td>\n",
       "    </tr>\n",
       "    <tr>\n",
       "      <th>10</th>\n",
       "      <td>2025-11-27</td>\n",
       "      <td>2025-11-27</td>\n",
       "    </tr>\n",
       "    <tr>\n",
       "      <th>13</th>\n",
       "      <td>2025-12-26</td>\n",
       "      <td>2025-12-26</td>\n",
       "    </tr>\n",
       "    <tr>\n",
       "      <th>17</th>\n",
       "      <td>2025-11-05</td>\n",
       "      <td>2025-11-05</td>\n",
       "    </tr>\n",
       "    <tr>\n",
       "      <th>...</th>\n",
       "      <td>...</td>\n",
       "      <td>...</td>\n",
       "    </tr>\n",
       "    <tr>\n",
       "      <th>150915</th>\n",
       "      <td>2025-09-22</td>\n",
       "      <td>2025-09-22</td>\n",
       "    </tr>\n",
       "    <tr>\n",
       "      <th>150916</th>\n",
       "      <td>2025-09-08</td>\n",
       "      <td>2025-09-08</td>\n",
       "    </tr>\n",
       "    <tr>\n",
       "      <th>150919</th>\n",
       "      <td>2025-10-28</td>\n",
       "      <td>2025-10-28</td>\n",
       "    </tr>\n",
       "    <tr>\n",
       "      <th>150920</th>\n",
       "      <td>2025-09-28</td>\n",
       "      <td>2025-09-28</td>\n",
       "    </tr>\n",
       "    <tr>\n",
       "      <th>150921</th>\n",
       "      <td>2025-09-02</td>\n",
       "      <td>2025-09-02</td>\n",
       "    </tr>\n",
       "  </tbody>\n",
       "</table>\n",
       "<p>50218 rows × 2 columns</p>\n",
       "</div>"
      ],
      "text/plain": [
       "            fecha     fecha2\n",
       "1      2025-12-15 2025-12-15\n",
       "2      2025-09-28 2025-09-28\n",
       "10     2025-11-27 2025-11-27\n",
       "13     2025-12-26 2025-12-26\n",
       "17     2025-11-05 2025-11-05\n",
       "...           ...        ...\n",
       "150915 2025-09-22 2025-09-22\n",
       "150916 2025-09-08 2025-09-08\n",
       "150919 2025-10-28 2025-10-28\n",
       "150920 2025-09-28 2025-09-28\n",
       "150921 2025-09-02 2025-09-02\n",
       "\n",
       "[50218 rows x 2 columns]"
      ]
     },
     "execution_count": 26,
     "metadata": {},
     "output_type": "execute_result"
    }
   ],
   "source": [
    "df_fecha[df_fecha[\"fecha2\"] > \"2025-08-31\"].copy()"
   ]
  },
  {
   "cell_type": "markdown",
   "id": "fdf0b533",
   "metadata": {},
   "source": [
    "### Creación de indice"
   ]
  },
  {
   "cell_type": "code",
   "execution_count": 27,
   "id": "fb190ad7",
   "metadata": {},
   "outputs": [
    {
     "name": "stdout",
     "output_type": "stream",
     "text": [
      "               fecha2\n",
      "fecha                \n",
      "2025-04-13 2025-04-13\n",
      "2025-12-15 2025-12-15\n",
      "   index      fecha     fecha2\n",
      "0      0 2025-04-13 2025-04-13\n",
      "1      1 2025-12-15 2025-12-15\n"
     ]
    }
   ],
   "source": [
    "# definir la columna fecha como indice\n",
    "indices =   df_fecha.set_index(\"fecha\").copy()\n",
    "print(indices.head(2))\n",
    "# crear indice general\n",
    "indices2 = df_fecha.reset_index().copy()\n",
    "print(indices2.head(2))"
   ]
  },
  {
   "cell_type": "markdown",
   "id": "05dd35e9",
   "metadata": {},
   "source": [
    "### valores unicos"
   ]
  },
  {
   "cell_type": "code",
   "execution_count": 28,
   "id": "160811ff",
   "metadata": {},
   "outputs": [
    {
     "data": {
      "text/plain": [
       "365"
      ]
     },
     "execution_count": 28,
     "metadata": {},
     "output_type": "execute_result"
    }
   ],
   "source": [
    "indices2[\"fecha\"].nunique()"
   ]
  },
  {
   "cell_type": "markdown",
   "id": "82276424",
   "metadata": {},
   "source": [
    "### Ordenar"
   ]
  },
  {
   "cell_type": "code",
   "execution_count": 29,
   "id": "6ab81216",
   "metadata": {},
   "outputs": [
    {
     "data": {
      "text/html": [
       "<div>\n",
       "<style scoped>\n",
       "    .dataframe tbody tr th:only-of-type {\n",
       "        vertical-align: middle;\n",
       "    }\n",
       "\n",
       "    .dataframe tbody tr th {\n",
       "        vertical-align: top;\n",
       "    }\n",
       "\n",
       "    .dataframe thead th {\n",
       "        text-align: right;\n",
       "    }\n",
       "</style>\n",
       "<table border=\"1\" class=\"dataframe\">\n",
       "  <thead>\n",
       "    <tr style=\"text-align: right;\">\n",
       "      <th></th>\n",
       "      <th>index</th>\n",
       "      <th>fecha</th>\n",
       "      <th>fecha2</th>\n",
       "    </tr>\n",
       "  </thead>\n",
       "  <tbody>\n",
       "    <tr>\n",
       "      <th>149131</th>\n",
       "      <td>149131</td>\n",
       "      <td>2025-01-01</td>\n",
       "      <td>2025-01-01</td>\n",
       "    </tr>\n",
       "    <tr>\n",
       "      <th>22318</th>\n",
       "      <td>22318</td>\n",
       "      <td>2025-01-01</td>\n",
       "      <td>2025-01-01</td>\n",
       "    </tr>\n",
       "    <tr>\n",
       "      <th>20391</th>\n",
       "      <td>20391</td>\n",
       "      <td>2025-01-01</td>\n",
       "      <td>2025-01-01</td>\n",
       "    </tr>\n",
       "    <tr>\n",
       "      <th>50579</th>\n",
       "      <td>50579</td>\n",
       "      <td>2025-01-01</td>\n",
       "      <td>2025-01-01</td>\n",
       "    </tr>\n",
       "    <tr>\n",
       "      <th>57445</th>\n",
       "      <td>57445</td>\n",
       "      <td>2025-01-01</td>\n",
       "      <td>2025-01-01</td>\n",
       "    </tr>\n",
       "    <tr>\n",
       "      <th>114318</th>\n",
       "      <td>114318</td>\n",
       "      <td>2025-01-01</td>\n",
       "      <td>2025-01-01</td>\n",
       "    </tr>\n",
       "    <tr>\n",
       "      <th>46874</th>\n",
       "      <td>46874</td>\n",
       "      <td>2025-01-01</td>\n",
       "      <td>2025-01-01</td>\n",
       "    </tr>\n",
       "    <tr>\n",
       "      <th>36857</th>\n",
       "      <td>36857</td>\n",
       "      <td>2025-01-01</td>\n",
       "      <td>2025-01-01</td>\n",
       "    </tr>\n",
       "    <tr>\n",
       "      <th>91758</th>\n",
       "      <td>91758</td>\n",
       "      <td>2025-01-01</td>\n",
       "      <td>2025-01-01</td>\n",
       "    </tr>\n",
       "    <tr>\n",
       "      <th>92985</th>\n",
       "      <td>92985</td>\n",
       "      <td>2025-01-01</td>\n",
       "      <td>2025-01-01</td>\n",
       "    </tr>\n",
       "  </tbody>\n",
       "</table>\n",
       "</div>"
      ],
      "text/plain": [
       "         index      fecha     fecha2\n",
       "149131  149131 2025-01-01 2025-01-01\n",
       "22318    22318 2025-01-01 2025-01-01\n",
       "20391    20391 2025-01-01 2025-01-01\n",
       "50579    50579 2025-01-01 2025-01-01\n",
       "57445    57445 2025-01-01 2025-01-01\n",
       "114318  114318 2025-01-01 2025-01-01\n",
       "46874    46874 2025-01-01 2025-01-01\n",
       "36857    36857 2025-01-01 2025-01-01\n",
       "91758    91758 2025-01-01 2025-01-01\n",
       "92985    92985 2025-01-01 2025-01-01"
      ]
     },
     "execution_count": 29,
     "metadata": {},
     "output_type": "execute_result"
    }
   ],
   "source": [
    "indices2.sort_values(by=\"fecha\", ascending=True).head(10)"
   ]
  },
  {
   "cell_type": "markdown",
   "id": "99fe4f8e",
   "metadata": {},
   "source": [
    "# Selección, filtrado e indexación "
   ]
  },
  {
   "cell_type": "markdown",
   "id": "5edd9e63",
   "metadata": {},
   "source": [
    "### loc / iloc"
   ]
  },
  {
   "cell_type": "code",
   "execution_count": 30,
   "id": "9167d99f",
   "metadata": {},
   "outputs": [
    {
     "data": {
      "text/html": [
       "<div>\n",
       "<style scoped>\n",
       "    .dataframe tbody tr th:only-of-type {\n",
       "        vertical-align: middle;\n",
       "    }\n",
       "\n",
       "    .dataframe tbody tr th {\n",
       "        vertical-align: top;\n",
       "    }\n",
       "\n",
       "    .dataframe thead th {\n",
       "        text-align: right;\n",
       "    }\n",
       "</style>\n",
       "<table border=\"1\" class=\"dataframe\">\n",
       "  <thead>\n",
       "    <tr style=\"text-align: right;\">\n",
       "      <th></th>\n",
       "      <th>fecha</th>\n",
       "    </tr>\n",
       "  </thead>\n",
       "  <tbody>\n",
       "    <tr>\n",
       "      <th>500</th>\n",
       "      <td>2025-09-04</td>\n",
       "    </tr>\n",
       "    <tr>\n",
       "      <th>501</th>\n",
       "      <td>2025-09-15</td>\n",
       "    </tr>\n",
       "    <tr>\n",
       "      <th>502</th>\n",
       "      <td>2025-06-09</td>\n",
       "    </tr>\n",
       "    <tr>\n",
       "      <th>503</th>\n",
       "      <td>2025-12-06</td>\n",
       "    </tr>\n",
       "    <tr>\n",
       "      <th>504</th>\n",
       "      <td>2025-06-01</td>\n",
       "    </tr>\n",
       "    <tr>\n",
       "      <th>...</th>\n",
       "      <td>...</td>\n",
       "    </tr>\n",
       "    <tr>\n",
       "      <th>150925</th>\n",
       "      <td>2025-04-20</td>\n",
       "    </tr>\n",
       "    <tr>\n",
       "      <th>150926</th>\n",
       "      <td>2025-04-17</td>\n",
       "    </tr>\n",
       "    <tr>\n",
       "      <th>150927</th>\n",
       "      <td>2025-04-26</td>\n",
       "    </tr>\n",
       "    <tr>\n",
       "      <th>150928</th>\n",
       "      <td>2025-01-27</td>\n",
       "    </tr>\n",
       "    <tr>\n",
       "      <th>150929</th>\n",
       "      <td>2025-07-11</td>\n",
       "    </tr>\n",
       "  </tbody>\n",
       "</table>\n",
       "<p>150430 rows × 1 columns</p>\n",
       "</div>"
      ],
      "text/plain": [
       "            fecha\n",
       "500    2025-09-04\n",
       "501    2025-09-15\n",
       "502    2025-06-09\n",
       "503    2025-12-06\n",
       "504    2025-06-01\n",
       "...           ...\n",
       "150925 2025-04-20\n",
       "150926 2025-04-17\n",
       "150927 2025-04-26\n",
       "150928 2025-01-27\n",
       "150929 2025-07-11\n",
       "\n",
       "[150430 rows x 1 columns]"
      ]
     },
     "execution_count": 30,
     "metadata": {},
     "output_type": "execute_result"
    }
   ],
   "source": [
    "df_fecha.loc[500:, [\"fecha\"]]"
   ]
  },
  {
   "cell_type": "code",
   "execution_count": 31,
   "id": "28bc5bc0",
   "metadata": {},
   "outputs": [
    {
     "data": {
      "text/html": [
       "<div>\n",
       "<style scoped>\n",
       "    .dataframe tbody tr th:only-of-type {\n",
       "        vertical-align: middle;\n",
       "    }\n",
       "\n",
       "    .dataframe tbody tr th {\n",
       "        vertical-align: top;\n",
       "    }\n",
       "\n",
       "    .dataframe thead th {\n",
       "        text-align: right;\n",
       "    }\n",
       "</style>\n",
       "<table border=\"1\" class=\"dataframe\">\n",
       "  <thead>\n",
       "    <tr style=\"text-align: right;\">\n",
       "      <th></th>\n",
       "      <th>index</th>\n",
       "      <th>fecha</th>\n",
       "      <th>fecha2</th>\n",
       "    </tr>\n",
       "  </thead>\n",
       "  <tbody>\n",
       "    <tr>\n",
       "      <th>0</th>\n",
       "      <td>0</td>\n",
       "      <td>2025-04-13</td>\n",
       "      <td>2025-04-13</td>\n",
       "    </tr>\n",
       "    <tr>\n",
       "      <th>1</th>\n",
       "      <td>1</td>\n",
       "      <td>2025-12-15</td>\n",
       "      <td>2025-12-15</td>\n",
       "    </tr>\n",
       "    <tr>\n",
       "      <th>2</th>\n",
       "      <td>2</td>\n",
       "      <td>2025-09-28</td>\n",
       "      <td>2025-09-28</td>\n",
       "    </tr>\n",
       "    <tr>\n",
       "      <th>3</th>\n",
       "      <td>3</td>\n",
       "      <td>2025-04-17</td>\n",
       "      <td>2025-04-17</td>\n",
       "    </tr>\n",
       "    <tr>\n",
       "      <th>4</th>\n",
       "      <td>4</td>\n",
       "      <td>2025-03-13</td>\n",
       "      <td>2025-03-13</td>\n",
       "    </tr>\n",
       "    <tr>\n",
       "      <th>...</th>\n",
       "      <td>...</td>\n",
       "      <td>...</td>\n",
       "      <td>...</td>\n",
       "    </tr>\n",
       "    <tr>\n",
       "      <th>150925</th>\n",
       "      <td>150925</td>\n",
       "      <td>2025-04-20</td>\n",
       "      <td>2025-04-20</td>\n",
       "    </tr>\n",
       "    <tr>\n",
       "      <th>150926</th>\n",
       "      <td>150926</td>\n",
       "      <td>2025-04-17</td>\n",
       "      <td>2025-04-17</td>\n",
       "    </tr>\n",
       "    <tr>\n",
       "      <th>150927</th>\n",
       "      <td>150927</td>\n",
       "      <td>2025-04-26</td>\n",
       "      <td>2025-04-26</td>\n",
       "    </tr>\n",
       "    <tr>\n",
       "      <th>150928</th>\n",
       "      <td>150928</td>\n",
       "      <td>2025-01-27</td>\n",
       "      <td>2025-01-27</td>\n",
       "    </tr>\n",
       "    <tr>\n",
       "      <th>150929</th>\n",
       "      <td>150929</td>\n",
       "      <td>2025-07-11</td>\n",
       "      <td>2025-07-11</td>\n",
       "    </tr>\n",
       "  </tbody>\n",
       "</table>\n",
       "<p>150930 rows × 3 columns</p>\n",
       "</div>"
      ],
      "text/plain": [
       "         index      fecha     fecha2\n",
       "0            0 2025-04-13 2025-04-13\n",
       "1            1 2025-12-15 2025-12-15\n",
       "2            2 2025-09-28 2025-09-28\n",
       "3            3 2025-04-17 2025-04-17\n",
       "4            4 2025-03-13 2025-03-13\n",
       "...        ...        ...        ...\n",
       "150925  150925 2025-04-20 2025-04-20\n",
       "150926  150926 2025-04-17 2025-04-17\n",
       "150927  150927 2025-04-26 2025-04-26\n",
       "150928  150928 2025-01-27 2025-01-27\n",
       "150929  150929 2025-07-11 2025-07-11\n",
       "\n",
       "[150930 rows x 3 columns]"
      ]
     },
     "execution_count": 31,
     "metadata": {},
     "output_type": "execute_result"
    }
   ],
   "source": [
    "df_fecha.reset_index()"
   ]
  },
  {
   "cell_type": "code",
   "execution_count": 32,
   "id": "2eec191a",
   "metadata": {},
   "outputs": [
    {
     "data": {
      "text/html": [
       "<div>\n",
       "<style scoped>\n",
       "    .dataframe tbody tr th:only-of-type {\n",
       "        vertical-align: middle;\n",
       "    }\n",
       "\n",
       "    .dataframe tbody tr th {\n",
       "        vertical-align: top;\n",
       "    }\n",
       "\n",
       "    .dataframe thead th {\n",
       "        text-align: right;\n",
       "    }\n",
       "</style>\n",
       "<table border=\"1\" class=\"dataframe\">\n",
       "  <thead>\n",
       "    <tr style=\"text-align: right;\">\n",
       "      <th></th>\n",
       "      <th>Unnamed: 0</th>\n",
       "      <th>country</th>\n",
       "    </tr>\n",
       "  </thead>\n",
       "  <tbody>\n",
       "    <tr>\n",
       "      <th>3</th>\n",
       "      <td>3</td>\n",
       "      <td>US</td>\n",
       "    </tr>\n",
       "    <tr>\n",
       "      <th>4</th>\n",
       "      <td>4</td>\n",
       "      <td>France</td>\n",
       "    </tr>\n",
       "  </tbody>\n",
       "</table>\n",
       "</div>"
      ],
      "text/plain": [
       "   Unnamed: 0 country\n",
       "3           3      US\n",
       "4           4  France"
      ]
     },
     "execution_count": 32,
     "metadata": {},
     "output_type": "execute_result"
    }
   ],
   "source": [
    "df_csv.iloc[3:5, 0:2]"
   ]
  },
  {
   "cell_type": "markdown",
   "id": "998193b3",
   "metadata": {},
   "source": [
    "### filtrado por condiciones"
   ]
  },
  {
   "cell_type": "code",
   "execution_count": 33,
   "id": "3a4183fb",
   "metadata": {},
   "outputs": [
    {
     "data": {
      "text/plain": [
       "Index(['Unnamed: 0', 'country', 'description', 'designation', 'points',\n",
       "       'price', 'province', 'region_1', 'region_2', 'variety', 'winery',\n",
       "       'date_f'],\n",
       "      dtype='object')"
      ]
     },
     "execution_count": 33,
     "metadata": {},
     "output_type": "execute_result"
    }
   ],
   "source": [
    "df_csv.columns"
   ]
  },
  {
   "cell_type": "code",
   "execution_count": 34,
   "id": "946c807b",
   "metadata": {},
   "outputs": [
    {
     "data": {
      "text/html": [
       "<div>\n",
       "<style scoped>\n",
       "    .dataframe tbody tr th:only-of-type {\n",
       "        vertical-align: middle;\n",
       "    }\n",
       "\n",
       "    .dataframe tbody tr th {\n",
       "        vertical-align: top;\n",
       "    }\n",
       "\n",
       "    .dataframe thead th {\n",
       "        text-align: right;\n",
       "    }\n",
       "</style>\n",
       "<table border=\"1\" class=\"dataframe\">\n",
       "  <thead>\n",
       "    <tr style=\"text-align: right;\">\n",
       "      <th></th>\n",
       "      <th>Unnamed: 0</th>\n",
       "      <th>country</th>\n",
       "      <th>description</th>\n",
       "      <th>designation</th>\n",
       "      <th>points</th>\n",
       "      <th>price</th>\n",
       "      <th>province</th>\n",
       "      <th>region_1</th>\n",
       "      <th>region_2</th>\n",
       "      <th>variety</th>\n",
       "      <th>winery</th>\n",
       "      <th>date_f</th>\n",
       "    </tr>\n",
       "  </thead>\n",
       "  <tbody>\n",
       "    <tr>\n",
       "      <th>75</th>\n",
       "      <td>75</td>\n",
       "      <td>US</td>\n",
       "      <td>An elegant blend from different estate vineyar...</td>\n",
       "      <td>Premier Cuvée</td>\n",
       "      <td>91</td>\n",
       "      <td>54.0</td>\n",
       "      <td>Oregon</td>\n",
       "      <td>Willamette Valley</td>\n",
       "      <td>Willamette Valley</td>\n",
       "      <td>Pinot Noir</td>\n",
       "      <td>Archery Summit</td>\n",
       "      <td>2025-10-31</td>\n",
       "    </tr>\n",
       "    <tr>\n",
       "      <th>273</th>\n",
       "      <td>273</td>\n",
       "      <td>US</td>\n",
       "      <td>From the estimable Shake Ridge Ranch, winemake...</td>\n",
       "      <td>Suzuri Series Shake Ridge Ranch</td>\n",
       "      <td>92</td>\n",
       "      <td>50.0</td>\n",
       "      <td>California</td>\n",
       "      <td>Amador County</td>\n",
       "      <td>Sierra Foothills</td>\n",
       "      <td>Rhône-style Red Blend</td>\n",
       "      <td>Gallica</td>\n",
       "      <td>2025-10-31</td>\n",
       "    </tr>\n",
       "    <tr>\n",
       "      <th>301</th>\n",
       "      <td>301</td>\n",
       "      <td>US</td>\n",
       "      <td>Entirely estate grown from dry-farmed grapes, ...</td>\n",
       "      <td>Estate Bottled</td>\n",
       "      <td>94</td>\n",
       "      <td>30.0</td>\n",
       "      <td>California</td>\n",
       "      <td>Napa Valley</td>\n",
       "      <td>Napa</td>\n",
       "      <td>Riesling</td>\n",
       "      <td>Smith-Madrone</td>\n",
       "      <td>2025-10-31</td>\n",
       "    </tr>\n",
       "    <tr>\n",
       "      <th>323</th>\n",
       "      <td>323</td>\n",
       "      <td>Spain</td>\n",
       "      <td>Ripe pure black-fruit aromas are touched up by...</td>\n",
       "      <td>Prestigio Pago de las Solanas</td>\n",
       "      <td>94</td>\n",
       "      <td>NaN</td>\n",
       "      <td>Northern Spain</td>\n",
       "      <td>Ribera del Duero</td>\n",
       "      <td>NaN</td>\n",
       "      <td>Red Blend</td>\n",
       "      <td>Matarromera</td>\n",
       "      <td>2025-10-31</td>\n",
       "    </tr>\n",
       "    <tr>\n",
       "      <th>7647</th>\n",
       "      <td>7647</td>\n",
       "      <td>US</td>\n",
       "      <td>This reserved and classically styled wine has ...</td>\n",
       "      <td>Dach Vineyard</td>\n",
       "      <td>91</td>\n",
       "      <td>55.0</td>\n",
       "      <td>California</td>\n",
       "      <td>Anderson Valley</td>\n",
       "      <td>Mendocino/Lake Counties</td>\n",
       "      <td>Chardonnay</td>\n",
       "      <td>Domaine Anderson</td>\n",
       "      <td>2025-10-31</td>\n",
       "    </tr>\n",
       "  </tbody>\n",
       "</table>\n",
       "</div>"
      ],
      "text/plain": [
       "      Unnamed: 0 country                                        description  \\\n",
       "75            75      US  An elegant blend from different estate vineyar...   \n",
       "273          273      US  From the estimable Shake Ridge Ranch, winemake...   \n",
       "301          301      US  Entirely estate grown from dry-farmed grapes, ...   \n",
       "323          323   Spain  Ripe pure black-fruit aromas are touched up by...   \n",
       "7647        7647      US  This reserved and classically styled wine has ...   \n",
       "\n",
       "                          designation  points  price        province  \\\n",
       "75                      Premier Cuvée      91   54.0          Oregon   \n",
       "273   Suzuri Series Shake Ridge Ranch      92   50.0      California   \n",
       "301                    Estate Bottled      94   30.0      California   \n",
       "323     Prestigio Pago de las Solanas      94    NaN  Northern Spain   \n",
       "7647                    Dach Vineyard      91   55.0      California   \n",
       "\n",
       "               region_1                 region_2                variety  \\\n",
       "75    Willamette Valley        Willamette Valley             Pinot Noir   \n",
       "273       Amador County         Sierra Foothills  Rhône-style Red Blend   \n",
       "301         Napa Valley                     Napa               Riesling   \n",
       "323    Ribera del Duero                      NaN              Red Blend   \n",
       "7647    Anderson Valley  Mendocino/Lake Counties             Chardonnay   \n",
       "\n",
       "                winery     date_f  \n",
       "75      Archery Summit 2025-10-31  \n",
       "273            Gallica 2025-10-31  \n",
       "301      Smith-Madrone 2025-10-31  \n",
       "323        Matarromera 2025-10-31  \n",
       "7647  Domaine Anderson 2025-10-31  "
      ]
     },
     "execution_count": 34,
     "metadata": {},
     "output_type": "execute_result"
    }
   ],
   "source": [
    "df_csv[(df_csv['date_f'] == \"2025-10-31 00:00:00\") & (df_csv['points'] > 90)].head(5)"
   ]
  },
  {
   "cell_type": "markdown",
   "id": "c482a4ef",
   "metadata": {},
   "source": [
    "### filtrado por multiplex condiciones"
   ]
  },
  {
   "cell_type": "code",
   "execution_count": 35,
   "id": "81b5cb18",
   "metadata": {},
   "outputs": [
    {
     "data": {
      "text/html": [
       "<div>\n",
       "<style scoped>\n",
       "    .dataframe tbody tr th:only-of-type {\n",
       "        vertical-align: middle;\n",
       "    }\n",
       "\n",
       "    .dataframe tbody tr th {\n",
       "        vertical-align: top;\n",
       "    }\n",
       "\n",
       "    .dataframe thead th {\n",
       "        text-align: right;\n",
       "    }\n",
       "</style>\n",
       "<table border=\"1\" class=\"dataframe\">\n",
       "  <thead>\n",
       "    <tr style=\"text-align: right;\">\n",
       "      <th></th>\n",
       "      <th>Unnamed: 0</th>\n",
       "      <th>country</th>\n",
       "      <th>description</th>\n",
       "      <th>designation</th>\n",
       "      <th>points</th>\n",
       "      <th>price</th>\n",
       "      <th>province</th>\n",
       "      <th>region_1</th>\n",
       "      <th>region_2</th>\n",
       "      <th>variety</th>\n",
       "      <th>winery</th>\n",
       "      <th>date_f</th>\n",
       "    </tr>\n",
       "  </thead>\n",
       "  <tbody>\n",
       "    <tr>\n",
       "      <th>48</th>\n",
       "      <td>48</td>\n",
       "      <td>Italy</td>\n",
       "      <td>Ripe dark-skinned berry, forest floor and cook...</td>\n",
       "      <td>NaN</td>\n",
       "      <td>90</td>\n",
       "      <td>50.0</td>\n",
       "      <td>Tuscany</td>\n",
       "      <td>Brunello di Montalcino</td>\n",
       "      <td>NaN</td>\n",
       "      <td>Sangiovese</td>\n",
       "      <td>Brunelli Martoccia</td>\n",
       "      <td>2025-03-30</td>\n",
       "    </tr>\n",
       "    <tr>\n",
       "      <th>68</th>\n",
       "      <td>68</td>\n",
       "      <td>US</td>\n",
       "      <td>Big, bold, dark and chewy, this builds upon su...</td>\n",
       "      <td>Schindler Vineyard</td>\n",
       "      <td>91</td>\n",
       "      <td>50.0</td>\n",
       "      <td>Oregon</td>\n",
       "      <td>Eola-Amity Hills</td>\n",
       "      <td>Willamette Valley</td>\n",
       "      <td>Pinot Noir</td>\n",
       "      <td>Panther Creek</td>\n",
       "      <td>2025-07-10</td>\n",
       "    </tr>\n",
       "    <tr>\n",
       "      <th>89</th>\n",
       "      <td>89</td>\n",
       "      <td>US</td>\n",
       "      <td>A red Meritage driven by 73% Cabernet Sauvigno...</td>\n",
       "      <td>Magnificat</td>\n",
       "      <td>91</td>\n",
       "      <td>50.0</td>\n",
       "      <td>California</td>\n",
       "      <td>Napa Valley</td>\n",
       "      <td>Napa</td>\n",
       "      <td>Meritage</td>\n",
       "      <td>Franciscan</td>\n",
       "      <td>2025-07-07</td>\n",
       "    </tr>\n",
       "    <tr>\n",
       "      <th>90</th>\n",
       "      <td>90</td>\n",
       "      <td>US</td>\n",
       "      <td>Bright, light oak shadings dress up this mediu...</td>\n",
       "      <td>NaN</td>\n",
       "      <td>86</td>\n",
       "      <td>10.0</td>\n",
       "      <td>California</td>\n",
       "      <td>California</td>\n",
       "      <td>California Other</td>\n",
       "      <td>Cabernet Sauvignon</td>\n",
       "      <td>Belle Ambiance</td>\n",
       "      <td>2025-02-10</td>\n",
       "    </tr>\n",
       "    <tr>\n",
       "      <th>94</th>\n",
       "      <td>94</td>\n",
       "      <td>Portugal</td>\n",
       "      <td>This family-owned estate has produced an immed...</td>\n",
       "      <td>Muros de Vinha</td>\n",
       "      <td>86</td>\n",
       "      <td>10.0</td>\n",
       "      <td>Douro</td>\n",
       "      <td>NaN</td>\n",
       "      <td>NaN</td>\n",
       "      <td>Portuguese Red</td>\n",
       "      <td>Quinta do Portal</td>\n",
       "      <td>2025-03-06</td>\n",
       "    </tr>\n",
       "  </tbody>\n",
       "</table>\n",
       "</div>"
      ],
      "text/plain": [
       "    Unnamed: 0   country                                        description  \\\n",
       "48          48     Italy  Ripe dark-skinned berry, forest floor and cook...   \n",
       "68          68        US  Big, bold, dark and chewy, this builds upon su...   \n",
       "89          89        US  A red Meritage driven by 73% Cabernet Sauvigno...   \n",
       "90          90        US  Bright, light oak shadings dress up this mediu...   \n",
       "94          94  Portugal  This family-owned estate has produced an immed...   \n",
       "\n",
       "           designation  points  price    province                region_1  \\\n",
       "48                 NaN      90   50.0     Tuscany  Brunello di Montalcino   \n",
       "68  Schindler Vineyard      91   50.0      Oregon        Eola-Amity Hills   \n",
       "89          Magnificat      91   50.0  California             Napa Valley   \n",
       "90                 NaN      86   10.0  California              California   \n",
       "94      Muros de Vinha      86   10.0       Douro                     NaN   \n",
       "\n",
       "             region_2             variety              winery     date_f  \n",
       "48                NaN          Sangiovese  Brunelli Martoccia 2025-03-30  \n",
       "68  Willamette Valley          Pinot Noir       Panther Creek 2025-07-10  \n",
       "89               Napa            Meritage          Franciscan 2025-07-07  \n",
       "90   California Other  Cabernet Sauvignon      Belle Ambiance 2025-02-10  \n",
       "94                NaN      Portuguese Red    Quinta do Portal 2025-03-06  "
      ]
     },
     "execution_count": 35,
     "metadata": {},
     "output_type": "execute_result"
    }
   ],
   "source": [
    "df_csv[(df_csv['price'].isin([10,50])) & (df_csv['points'].between(75,95))].head(5)"
   ]
  },
  {
   "cell_type": "markdown",
   "id": "5795050a",
   "metadata": {},
   "source": [
    "### isin"
   ]
  },
  {
   "cell_type": "code",
   "execution_count": 36,
   "id": "4d680935",
   "metadata": {},
   "outputs": [
    {
     "data": {
      "text/plain": [
       "0    False\n",
       "1    False\n",
       "Name: price, dtype: bool"
      ]
     },
     "execution_count": 36,
     "metadata": {},
     "output_type": "execute_result"
    }
   ],
   "source": [
    "df_csv['price'].isin([10,50]).head(2)"
   ]
  },
  {
   "cell_type": "markdown",
   "id": "7e854e89",
   "metadata": {},
   "source": [
    "### BETWEEN "
   ]
  },
  {
   "cell_type": "code",
   "execution_count": 37,
   "id": "c0f4f24b",
   "metadata": {},
   "outputs": [
    {
     "data": {
      "text/plain": [
       "0    False\n",
       "1    False\n",
       "2    False\n",
       "3    False\n",
       "4     True\n",
       "Name: points, dtype: bool"
      ]
     },
     "execution_count": 37,
     "metadata": {},
     "output_type": "execute_result"
    }
   ],
   "source": [
    "(df_csv['points'].between(75,95)).head(5) # QUERY"
   ]
  },
  {
   "cell_type": "markdown",
   "id": "96907262",
   "metadata": {},
   "source": [
    "### QUERY"
   ]
  },
  {
   "cell_type": "code",
   "execution_count": 38,
   "id": "240e4a25",
   "metadata": {},
   "outputs": [
    {
     "data": {
      "text/plain": [
       "0    False\n",
       "1    False\n",
       "2    False\n",
       "3    False\n",
       "4     True\n",
       "Name: points, dtype: bool"
      ]
     },
     "execution_count": 38,
     "metadata": {},
     "output_type": "execute_result"
    }
   ],
   "source": [
    "((df_csv['points'] >= 75) & (df_csv['points'] <= 95)).head(5)"
   ]
  },
  {
   "cell_type": "markdown",
   "id": "ca39e2a7",
   "metadata": {},
   "source": [
    "### top-k por grupo"
   ]
  },
  {
   "cell_type": "code",
   "execution_count": 39,
   "id": "26fcabc8",
   "metadata": {},
   "outputs": [
    {
     "data": {
      "text/html": [
       "<div>\n",
       "<style scoped>\n",
       "    .dataframe tbody tr th:only-of-type {\n",
       "        vertical-align: middle;\n",
       "    }\n",
       "\n",
       "    .dataframe tbody tr th {\n",
       "        vertical-align: top;\n",
       "    }\n",
       "\n",
       "    .dataframe thead th {\n",
       "        text-align: right;\n",
       "    }\n",
       "</style>\n",
       "<table border=\"1\" class=\"dataframe\">\n",
       "  <thead>\n",
       "    <tr style=\"text-align: right;\">\n",
       "      <th></th>\n",
       "      <th>Unnamed: 0</th>\n",
       "      <th>country</th>\n",
       "      <th>description</th>\n",
       "      <th>designation</th>\n",
       "      <th>points</th>\n",
       "      <th>price</th>\n",
       "      <th>province</th>\n",
       "      <th>region_1</th>\n",
       "      <th>region_2</th>\n",
       "      <th>variety</th>\n",
       "      <th>winery</th>\n",
       "      <th>date_f</th>\n",
       "    </tr>\n",
       "  </thead>\n",
       "  <tbody>\n",
       "    <tr>\n",
       "      <th>126595</th>\n",
       "      <td>126595</td>\n",
       "      <td>US</td>\n",
       "      <td>There's a lot going on in this Merlot, which i...</td>\n",
       "      <td>NaN</td>\n",
       "      <td>86</td>\n",
       "      <td>4.0</td>\n",
       "      <td>California</td>\n",
       "      <td>California</td>\n",
       "      <td>California Other</td>\n",
       "      <td>Merlot</td>\n",
       "      <td>Bandit</td>\n",
       "      <td>2025-01-14</td>\n",
       "    </tr>\n",
       "    <tr>\n",
       "      <th>34415</th>\n",
       "      <td>34415</td>\n",
       "      <td>Spain</td>\n",
       "      <td>This opens with standard cherry and berry arom...</td>\n",
       "      <td>NaN</td>\n",
       "      <td>84</td>\n",
       "      <td>4.0</td>\n",
       "      <td>Levante</td>\n",
       "      <td>Yecla</td>\n",
       "      <td>NaN</td>\n",
       "      <td>Cabernet Sauvignon</td>\n",
       "      <td>Terrenal</td>\n",
       "      <td>2025-02-18</td>\n",
       "    </tr>\n",
       "    <tr>\n",
       "      <th>48655</th>\n",
       "      <td>48655</td>\n",
       "      <td>US</td>\n",
       "      <td>There's a lot going on in this Merlot, which i...</td>\n",
       "      <td>NaN</td>\n",
       "      <td>86</td>\n",
       "      <td>4.0</td>\n",
       "      <td>California</td>\n",
       "      <td>California</td>\n",
       "      <td>California Other</td>\n",
       "      <td>Merlot</td>\n",
       "      <td>Bandit</td>\n",
       "      <td>2025-04-22</td>\n",
       "    </tr>\n",
       "    <tr>\n",
       "      <th>73417</th>\n",
       "      <td>73417</td>\n",
       "      <td>Romania</td>\n",
       "      <td>Notes of sun-dried hay and green flower highli...</td>\n",
       "      <td>UnWineD</td>\n",
       "      <td>86</td>\n",
       "      <td>4.0</td>\n",
       "      <td>Viile Timisului</td>\n",
       "      <td>NaN</td>\n",
       "      <td>NaN</td>\n",
       "      <td>Pinot Grigio</td>\n",
       "      <td>Cramele Recas</td>\n",
       "      <td>2025-03-02</td>\n",
       "    </tr>\n",
       "    <tr>\n",
       "      <th>114167</th>\n",
       "      <td>114167</td>\n",
       "      <td>US</td>\n",
       "      <td>Easy, simple peach and strawberry flavors are ...</td>\n",
       "      <td>White Zinfandel</td>\n",
       "      <td>83</td>\n",
       "      <td>4.0</td>\n",
       "      <td>California</td>\n",
       "      <td>California</td>\n",
       "      <td>California Other</td>\n",
       "      <td>Zinfandel</td>\n",
       "      <td>Round Hill</td>\n",
       "      <td>2025-11-22</td>\n",
       "    </tr>\n",
       "    <tr>\n",
       "      <th>...</th>\n",
       "      <td>...</td>\n",
       "      <td>...</td>\n",
       "      <td>...</td>\n",
       "      <td>...</td>\n",
       "      <td>...</td>\n",
       "      <td>...</td>\n",
       "      <td>...</td>\n",
       "      <td>...</td>\n",
       "      <td>...</td>\n",
       "      <td>...</td>\n",
       "      <td>...</td>\n",
       "      <td>...</td>\n",
       "    </tr>\n",
       "    <tr>\n",
       "      <th>118982</th>\n",
       "      <td>118982</td>\n",
       "      <td>Egypt</td>\n",
       "      <td>Ripe pear, apple and tropical fruit in the nos...</td>\n",
       "      <td>Caspar Blanc de Noirs</td>\n",
       "      <td>84</td>\n",
       "      <td>NaN</td>\n",
       "      <td>Egypt</td>\n",
       "      <td>NaN</td>\n",
       "      <td>NaN</td>\n",
       "      <td>Grenache</td>\n",
       "      <td>Sahara Vineyards</td>\n",
       "      <td>2025-02-05</td>\n",
       "    </tr>\n",
       "    <tr>\n",
       "      <th>119008</th>\n",
       "      <td>119008</td>\n",
       "      <td>Egypt</td>\n",
       "      <td>This fresh, approachable Chenin starts with br...</td>\n",
       "      <td>Caspar</td>\n",
       "      <td>84</td>\n",
       "      <td>NaN</td>\n",
       "      <td>Egypt</td>\n",
       "      <td>NaN</td>\n",
       "      <td>NaN</td>\n",
       "      <td>Chenin Blanc</td>\n",
       "      <td>Sahara Vineyards</td>\n",
       "      <td>2025-07-23</td>\n",
       "    </tr>\n",
       "    <tr>\n",
       "      <th>119894</th>\n",
       "      <td>119894</td>\n",
       "      <td>Egypt</td>\n",
       "      <td>The character of this feminine, aromatic Viogn...</td>\n",
       "      <td>NaN</td>\n",
       "      <td>83</td>\n",
       "      <td>NaN</td>\n",
       "      <td>Egypt</td>\n",
       "      <td>NaN</td>\n",
       "      <td>NaN</td>\n",
       "      <td>Viognier</td>\n",
       "      <td>Sahara Vineyards</td>\n",
       "      <td>2025-04-03</td>\n",
       "    </tr>\n",
       "    <tr>\n",
       "      <th>138139</th>\n",
       "      <td>138139</td>\n",
       "      <td>Tunisia</td>\n",
       "      <td>An irresistible rosé from Tunisia (made by Sic...</td>\n",
       "      <td>Selian Mystère</td>\n",
       "      <td>87</td>\n",
       "      <td>NaN</td>\n",
       "      <td>Tunisia</td>\n",
       "      <td>NaN</td>\n",
       "      <td>NaN</td>\n",
       "      <td>Rosé</td>\n",
       "      <td>Domaine Neferis</td>\n",
       "      <td>2025-05-07</td>\n",
       "    </tr>\n",
       "    <tr>\n",
       "      <th>139931</th>\n",
       "      <td>139931</td>\n",
       "      <td>Tunisia</td>\n",
       "      <td>Sicily's Calatrasi is also present in Tunisia ...</td>\n",
       "      <td>Selian</td>\n",
       "      <td>85</td>\n",
       "      <td>NaN</td>\n",
       "      <td>Tunisia</td>\n",
       "      <td>NaN</td>\n",
       "      <td>NaN</td>\n",
       "      <td>White Blend</td>\n",
       "      <td>Domaine Neferis</td>\n",
       "      <td>2025-04-04</td>\n",
       "    </tr>\n",
       "  </tbody>\n",
       "</table>\n",
       "<p>385 rows × 12 columns</p>\n",
       "</div>"
      ],
      "text/plain": [
       "        Unnamed: 0  country  \\\n",
       "126595      126595       US   \n",
       "34415        34415    Spain   \n",
       "48655        48655       US   \n",
       "73417        73417  Romania   \n",
       "114167      114167       US   \n",
       "...            ...      ...   \n",
       "118982      118982    Egypt   \n",
       "119008      119008    Egypt   \n",
       "119894      119894    Egypt   \n",
       "138139      138139  Tunisia   \n",
       "139931      139931  Tunisia   \n",
       "\n",
       "                                              description  \\\n",
       "126595  There's a lot going on in this Merlot, which i...   \n",
       "34415   This opens with standard cherry and berry arom...   \n",
       "48655   There's a lot going on in this Merlot, which i...   \n",
       "73417   Notes of sun-dried hay and green flower highli...   \n",
       "114167  Easy, simple peach and strawberry flavors are ...   \n",
       "...                                                   ...   \n",
       "118982  Ripe pear, apple and tropical fruit in the nos...   \n",
       "119008  This fresh, approachable Chenin starts with br...   \n",
       "119894  The character of this feminine, aromatic Viogn...   \n",
       "138139  An irresistible rosé from Tunisia (made by Sic...   \n",
       "139931  Sicily's Calatrasi is also present in Tunisia ...   \n",
       "\n",
       "                  designation  points  price         province    region_1  \\\n",
       "126595                    NaN      86    4.0       California  California   \n",
       "34415                     NaN      84    4.0          Levante       Yecla   \n",
       "48655                     NaN      86    4.0       California  California   \n",
       "73417                 UnWineD      86    4.0  Viile Timisului         NaN   \n",
       "114167        White Zinfandel      83    4.0       California  California   \n",
       "...                       ...     ...    ...              ...         ...   \n",
       "118982  Caspar Blanc de Noirs      84    NaN            Egypt         NaN   \n",
       "119008                 Caspar      84    NaN            Egypt         NaN   \n",
       "119894                    NaN      83    NaN            Egypt         NaN   \n",
       "138139         Selian Mystère      87    NaN          Tunisia         NaN   \n",
       "139931                 Selian      85    NaN          Tunisia         NaN   \n",
       "\n",
       "                region_2             variety            winery     date_f  \n",
       "126595  California Other              Merlot            Bandit 2025-01-14  \n",
       "34415                NaN  Cabernet Sauvignon          Terrenal 2025-02-18  \n",
       "48655   California Other              Merlot            Bandit 2025-04-22  \n",
       "73417                NaN        Pinot Grigio     Cramele Recas 2025-03-02  \n",
       "114167  California Other           Zinfandel        Round Hill 2025-11-22  \n",
       "...                  ...                 ...               ...        ...  \n",
       "118982               NaN            Grenache  Sahara Vineyards 2025-02-05  \n",
       "119008               NaN        Chenin Blanc  Sahara Vineyards 2025-07-23  \n",
       "119894               NaN            Viognier  Sahara Vineyards 2025-04-03  \n",
       "138139               NaN                Rosé   Domaine Neferis 2025-05-07  \n",
       "139931               NaN         White Blend   Domaine Neferis 2025-04-04  \n",
       "\n",
       "[385 rows x 12 columns]"
      ]
     },
     "execution_count": 39,
     "metadata": {},
     "output_type": "execute_result"
    }
   ],
   "source": [
    "df_csv.sort_values('price', ascending= True).groupby('country').head(10)"
   ]
  },
  {
   "cell_type": "markdown",
   "id": "c45609ee",
   "metadata": {},
   "source": [
    "### muestra aleatoria"
   ]
  },
  {
   "cell_type": "code",
   "execution_count": 40,
   "id": "61da081f",
   "metadata": {},
   "outputs": [
    {
     "data": {
      "text/html": [
       "<div>\n",
       "<style scoped>\n",
       "    .dataframe tbody tr th:only-of-type {\n",
       "        vertical-align: middle;\n",
       "    }\n",
       "\n",
       "    .dataframe tbody tr th {\n",
       "        vertical-align: top;\n",
       "    }\n",
       "\n",
       "    .dataframe thead th {\n",
       "        text-align: right;\n",
       "    }\n",
       "</style>\n",
       "<table border=\"1\" class=\"dataframe\">\n",
       "  <thead>\n",
       "    <tr style=\"text-align: right;\">\n",
       "      <th></th>\n",
       "      <th>Unnamed: 0</th>\n",
       "      <th>country</th>\n",
       "      <th>description</th>\n",
       "      <th>designation</th>\n",
       "      <th>points</th>\n",
       "      <th>price</th>\n",
       "      <th>province</th>\n",
       "      <th>region_1</th>\n",
       "      <th>region_2</th>\n",
       "      <th>variety</th>\n",
       "      <th>winery</th>\n",
       "      <th>date_f</th>\n",
       "    </tr>\n",
       "  </thead>\n",
       "  <tbody>\n",
       "    <tr>\n",
       "      <th>82957</th>\n",
       "      <td>82957</td>\n",
       "      <td>Argentina</td>\n",
       "      <td>A cool cherry aroma and a mild, creamy paste n...</td>\n",
       "      <td>Colección</td>\n",
       "      <td>84</td>\n",
       "      <td>10.0</td>\n",
       "      <td>Mendoza Province</td>\n",
       "      <td>Mendoza</td>\n",
       "      <td>NaN</td>\n",
       "      <td>Malbec</td>\n",
       "      <td>Finca Los Maza</td>\n",
       "      <td>2025-11-24</td>\n",
       "    </tr>\n",
       "    <tr>\n",
       "      <th>60768</th>\n",
       "      <td>60768</td>\n",
       "      <td>Germany</td>\n",
       "      <td>This lightweight Pinot could use a larger help...</td>\n",
       "      <td>NaN</td>\n",
       "      <td>81</td>\n",
       "      <td>18.0</td>\n",
       "      <td>Baden</td>\n",
       "      <td>NaN</td>\n",
       "      <td>NaN</td>\n",
       "      <td>Pinot Noir</td>\n",
       "      <td>Fischer</td>\n",
       "      <td>2025-11-05</td>\n",
       "    </tr>\n",
       "    <tr>\n",
       "      <th>63047</th>\n",
       "      <td>63047</td>\n",
       "      <td>US</td>\n",
       "      <td>Pure Syrah from a great lineup of vineyards. I...</td>\n",
       "      <td>NaN</td>\n",
       "      <td>93</td>\n",
       "      <td>42.0</td>\n",
       "      <td>Washington</td>\n",
       "      <td>Columbia Valley (WA)</td>\n",
       "      <td>Columbia Valley</td>\n",
       "      <td>Syrah</td>\n",
       "      <td>Basel Cellars</td>\n",
       "      <td>2025-11-11</td>\n",
       "    </tr>\n",
       "    <tr>\n",
       "      <th>71004</th>\n",
       "      <td>71004</td>\n",
       "      <td>Chile</td>\n",
       "      <td>Heavy aromas of horse stable and compost give ...</td>\n",
       "      <td>Tribute</td>\n",
       "      <td>81</td>\n",
       "      <td>17.0</td>\n",
       "      <td>Colchagua Valley</td>\n",
       "      <td>NaN</td>\n",
       "      <td>NaN</td>\n",
       "      <td>Shiraz</td>\n",
       "      <td>Caliterra</td>\n",
       "      <td>2025-08-15</td>\n",
       "    </tr>\n",
       "    <tr>\n",
       "      <th>78169</th>\n",
       "      <td>78169</td>\n",
       "      <td>US</td>\n",
       "      <td>The is dry and well balanced, with red licoric...</td>\n",
       "      <td>Reserve</td>\n",
       "      <td>88</td>\n",
       "      <td>35.0</td>\n",
       "      <td>California</td>\n",
       "      <td>Paso Robles</td>\n",
       "      <td>Central Coast</td>\n",
       "      <td>Pinot Noir</td>\n",
       "      <td>Cerro Prieto</td>\n",
       "      <td>2025-05-17</td>\n",
       "    </tr>\n",
       "    <tr>\n",
       "      <th>...</th>\n",
       "      <td>...</td>\n",
       "      <td>...</td>\n",
       "      <td>...</td>\n",
       "      <td>...</td>\n",
       "      <td>...</td>\n",
       "      <td>...</td>\n",
       "      <td>...</td>\n",
       "      <td>...</td>\n",
       "      <td>...</td>\n",
       "      <td>...</td>\n",
       "      <td>...</td>\n",
       "      <td>...</td>\n",
       "    </tr>\n",
       "    <tr>\n",
       "      <th>19240</th>\n",
       "      <td>19240</td>\n",
       "      <td>US</td>\n",
       "      <td>This young wine has not come into focus; it fe...</td>\n",
       "      <td>Jubilee Vineyard</td>\n",
       "      <td>83</td>\n",
       "      <td>28.0</td>\n",
       "      <td>Oregon</td>\n",
       "      <td>Willamette Valley</td>\n",
       "      <td>Willamette Valley</td>\n",
       "      <td>Pinot Noir</td>\n",
       "      <td>Artisanal Wine Cellars</td>\n",
       "      <td>2025-06-02</td>\n",
       "    </tr>\n",
       "    <tr>\n",
       "      <th>18871</th>\n",
       "      <td>18871</td>\n",
       "      <td>Argentina</td>\n",
       "      <td>Dark, rubbery aromas lead to a simple, sweet, ...</td>\n",
       "      <td>NaN</td>\n",
       "      <td>85</td>\n",
       "      <td>NaN</td>\n",
       "      <td>Other</td>\n",
       "      <td>Neuquén</td>\n",
       "      <td>NaN</td>\n",
       "      <td>Malbec</td>\n",
       "      <td>Ruta 22</td>\n",
       "      <td>2025-07-19</td>\n",
       "    </tr>\n",
       "    <tr>\n",
       "      <th>83756</th>\n",
       "      <td>83756</td>\n",
       "      <td>Argentina</td>\n",
       "      <td>Smells like corn and a burning hay field, and ...</td>\n",
       "      <td>Alto Las Tacas</td>\n",
       "      <td>81</td>\n",
       "      <td>10.0</td>\n",
       "      <td>Mendoza Province</td>\n",
       "      <td>Mendoza</td>\n",
       "      <td>NaN</td>\n",
       "      <td>Torrontés</td>\n",
       "      <td>Bodega Vistandes</td>\n",
       "      <td>2025-01-08</td>\n",
       "    </tr>\n",
       "    <tr>\n",
       "      <th>131557</th>\n",
       "      <td>131557</td>\n",
       "      <td>France</td>\n",
       "      <td>With superripe fruit, fat and glossy, with ric...</td>\n",
       "      <td>Vaillons Premier Cru</td>\n",
       "      <td>88</td>\n",
       "      <td>30.0</td>\n",
       "      <td>Burgundy</td>\n",
       "      <td>Chablis</td>\n",
       "      <td>NaN</td>\n",
       "      <td>Chardonnay</td>\n",
       "      <td>Simonnet-Febvre</td>\n",
       "      <td>2025-11-27</td>\n",
       "    </tr>\n",
       "    <tr>\n",
       "      <th>22987</th>\n",
       "      <td>22987</td>\n",
       "      <td>Argentina</td>\n",
       "      <td>Light oak aromas blend nicely with white flowe...</td>\n",
       "      <td>Felino</td>\n",
       "      <td>87</td>\n",
       "      <td>19.0</td>\n",
       "      <td>Mendoza Province</td>\n",
       "      <td>Perdriel</td>\n",
       "      <td>NaN</td>\n",
       "      <td>Chardonnay</td>\n",
       "      <td>Viña Cobos</td>\n",
       "      <td>2025-09-03</td>\n",
       "    </tr>\n",
       "  </tbody>\n",
       "</table>\n",
       "<p>3019 rows × 12 columns</p>\n",
       "</div>"
      ],
      "text/plain": [
       "        Unnamed: 0    country  \\\n",
       "82957        82957  Argentina   \n",
       "60768        60768    Germany   \n",
       "63047        63047         US   \n",
       "71004        71004      Chile   \n",
       "78169        78169         US   \n",
       "...            ...        ...   \n",
       "19240        19240         US   \n",
       "18871        18871  Argentina   \n",
       "83756        83756  Argentina   \n",
       "131557      131557     France   \n",
       "22987        22987  Argentina   \n",
       "\n",
       "                                              description  \\\n",
       "82957   A cool cherry aroma and a mild, creamy paste n...   \n",
       "60768   This lightweight Pinot could use a larger help...   \n",
       "63047   Pure Syrah from a great lineup of vineyards. I...   \n",
       "71004   Heavy aromas of horse stable and compost give ...   \n",
       "78169   The is dry and well balanced, with red licoric...   \n",
       "...                                                   ...   \n",
       "19240   This young wine has not come into focus; it fe...   \n",
       "18871   Dark, rubbery aromas lead to a simple, sweet, ...   \n",
       "83756   Smells like corn and a burning hay field, and ...   \n",
       "131557  With superripe fruit, fat and glossy, with ric...   \n",
       "22987   Light oak aromas blend nicely with white flowe...   \n",
       "\n",
       "                 designation  points  price          province  \\\n",
       "82957              Colección      84   10.0  Mendoza Province   \n",
       "60768                    NaN      81   18.0             Baden   \n",
       "63047                    NaN      93   42.0        Washington   \n",
       "71004                Tribute      81   17.0  Colchagua Valley   \n",
       "78169                Reserve      88   35.0        California   \n",
       "...                      ...     ...    ...               ...   \n",
       "19240       Jubilee Vineyard      83   28.0            Oregon   \n",
       "18871                    NaN      85    NaN             Other   \n",
       "83756         Alto Las Tacas      81   10.0  Mendoza Province   \n",
       "131557  Vaillons Premier Cru      88   30.0          Burgundy   \n",
       "22987                 Felino      87   19.0  Mendoza Province   \n",
       "\n",
       "                    region_1           region_2     variety  \\\n",
       "82957                Mendoza                NaN      Malbec   \n",
       "60768                    NaN                NaN  Pinot Noir   \n",
       "63047   Columbia Valley (WA)    Columbia Valley       Syrah   \n",
       "71004                    NaN                NaN      Shiraz   \n",
       "78169            Paso Robles      Central Coast  Pinot Noir   \n",
       "...                      ...                ...         ...   \n",
       "19240      Willamette Valley  Willamette Valley  Pinot Noir   \n",
       "18871                Neuquén                NaN      Malbec   \n",
       "83756                Mendoza                NaN   Torrontés   \n",
       "131557               Chablis                NaN  Chardonnay   \n",
       "22987               Perdriel                NaN  Chardonnay   \n",
       "\n",
       "                        winery     date_f  \n",
       "82957           Finca Los Maza 2025-11-24  \n",
       "60768                  Fischer 2025-11-05  \n",
       "63047            Basel Cellars 2025-11-11  \n",
       "71004                Caliterra 2025-08-15  \n",
       "78169             Cerro Prieto 2025-05-17  \n",
       "...                        ...        ...  \n",
       "19240   Artisanal Wine Cellars 2025-06-02  \n",
       "18871                  Ruta 22 2025-07-19  \n",
       "83756         Bodega Vistandes 2025-01-08  \n",
       "131557         Simonnet-Febvre 2025-11-27  \n",
       "22987               Viña Cobos 2025-09-03  \n",
       "\n",
       "[3019 rows x 12 columns]"
      ]
     },
     "execution_count": 40,
     "metadata": {},
     "output_type": "execute_result"
    }
   ],
   "source": [
    "df_csv.sample(frac=0.02, random_state=42)"
   ]
  },
  {
   "cell_type": "markdown",
   "id": "1af808f5",
   "metadata": {},
   "source": [
    "### Manejo de duplicados"
   ]
  },
  {
   "cell_type": "code",
   "execution_count": 41,
   "id": "76aca7fd",
   "metadata": {},
   "outputs": [
    {
     "data": {
      "text/plain": [
       "(150930,)"
      ]
     },
     "execution_count": 41,
     "metadata": {},
     "output_type": "execute_result"
    }
   ],
   "source": [
    "df_duplicados = df_csv.duplicated(subset=[\"province\",\"region_1\"])\n",
    "df_duplicados.shape"
   ]
  },
  {
   "cell_type": "code",
   "execution_count": 42,
   "id": "bb4aa62a",
   "metadata": {},
   "outputs": [
    {
     "data": {
      "text/plain": [
       "(1634, 12)"
      ]
     },
     "execution_count": 42,
     "metadata": {},
     "output_type": "execute_result"
    }
   ],
   "source": [
    "noduplicados = df_csv[~df_duplicados].copy()\n",
    "noduplicados.shape"
   ]
  },
  {
   "cell_type": "markdown",
   "id": "c68e4b6d",
   "metadata": {},
   "source": [
    "### Reindices"
   ]
  },
  {
   "cell_type": "code",
   "execution_count": 43,
   "id": "eb0879eb",
   "metadata": {},
   "outputs": [
    {
     "name": "stdout",
     "output_type": "stream",
     "text": [
      "range(0, 10)\n"
     ]
    }
   ],
   "source": [
    "rango =range(10)\n",
    "print(rango)"
   ]
  },
  {
   "cell_type": "code",
   "execution_count": 44,
   "id": "70725757",
   "metadata": {},
   "outputs": [
    {
     "data": {
      "text/html": [
       "<div>\n",
       "<style scoped>\n",
       "    .dataframe tbody tr th:only-of-type {\n",
       "        vertical-align: middle;\n",
       "    }\n",
       "\n",
       "    .dataframe tbody tr th {\n",
       "        vertical-align: top;\n",
       "    }\n",
       "\n",
       "    .dataframe thead th {\n",
       "        text-align: right;\n",
       "    }\n",
       "</style>\n",
       "<table border=\"1\" class=\"dataframe\">\n",
       "  <thead>\n",
       "    <tr style=\"text-align: right;\">\n",
       "      <th></th>\n",
       "      <th>province</th>\n",
       "    </tr>\n",
       "  </thead>\n",
       "  <tbody>\n",
       "    <tr>\n",
       "      <th>0</th>\n",
       "      <td>California</td>\n",
       "    </tr>\n",
       "    <tr>\n",
       "      <th>1</th>\n",
       "      <td>Northern Spain</td>\n",
       "    </tr>\n",
       "    <tr>\n",
       "      <th>2</th>\n",
       "      <td>California</td>\n",
       "    </tr>\n",
       "    <tr>\n",
       "      <th>3</th>\n",
       "      <td>Oregon</td>\n",
       "    </tr>\n",
       "    <tr>\n",
       "      <th>4</th>\n",
       "      <td>Provence</td>\n",
       "    </tr>\n",
       "    <tr>\n",
       "      <th>...</th>\n",
       "      <td>...</td>\n",
       "    </tr>\n",
       "    <tr>\n",
       "      <th>1636</th>\n",
       "      <td>NaN</td>\n",
       "    </tr>\n",
       "    <tr>\n",
       "      <th>1637</th>\n",
       "      <td>NaN</td>\n",
       "    </tr>\n",
       "    <tr>\n",
       "      <th>1638</th>\n",
       "      <td>NaN</td>\n",
       "    </tr>\n",
       "    <tr>\n",
       "      <th>1639</th>\n",
       "      <td>NaN</td>\n",
       "    </tr>\n",
       "    <tr>\n",
       "      <th>1640</th>\n",
       "      <td>NaN</td>\n",
       "    </tr>\n",
       "  </tbody>\n",
       "</table>\n",
       "<p>1641 rows × 1 columns</p>\n",
       "</div>"
      ],
      "text/plain": [
       "            province\n",
       "0         California\n",
       "1     Northern Spain\n",
       "2         California\n",
       "3             Oregon\n",
       "4           Provence\n",
       "...              ...\n",
       "1636             NaN\n",
       "1637             NaN\n",
       "1638             NaN\n",
       "1639             NaN\n",
       "1640             NaN\n",
       "\n",
       "[1641 rows x 1 columns]"
      ]
     },
     "execution_count": 44,
     "metadata": {},
     "output_type": "execute_result"
    }
   ],
   "source": [
    "province = noduplicados[[\"province\"]].copy()\n",
    "pro2 = province.reindex(range(len(province)+7))\n",
    "pro2"
   ]
  },
  {
   "cell_type": "code",
   "execution_count": 45,
   "id": "12db5f14",
   "metadata": {},
   "outputs": [
    {
     "data": {
      "text/plain": [
       "1634"
      ]
     },
     "execution_count": 45,
     "metadata": {},
     "output_type": "execute_result"
    }
   ],
   "source": [
    "len(province)"
   ]
  },
  {
   "cell_type": "markdown",
   "id": "da4576ac",
   "metadata": {},
   "source": [
    "### rellenado fill"
   ]
  },
  {
   "cell_type": "code",
   "execution_count": 46,
   "id": "62a244ee",
   "metadata": {},
   "outputs": [
    {
     "data": {
      "text/html": [
       "<div>\n",
       "<style scoped>\n",
       "    .dataframe tbody tr th:only-of-type {\n",
       "        vertical-align: middle;\n",
       "    }\n",
       "\n",
       "    .dataframe tbody tr th {\n",
       "        vertical-align: top;\n",
       "    }\n",
       "\n",
       "    .dataframe thead th {\n",
       "        text-align: right;\n",
       "    }\n",
       "</style>\n",
       "<table border=\"1\" class=\"dataframe\">\n",
       "  <thead>\n",
       "    <tr style=\"text-align: right;\">\n",
       "      <th></th>\n",
       "      <th>province</th>\n",
       "    </tr>\n",
       "  </thead>\n",
       "  <tbody>\n",
       "    <tr>\n",
       "      <th>1636</th>\n",
       "      <td>California</td>\n",
       "    </tr>\n",
       "    <tr>\n",
       "      <th>1637</th>\n",
       "      <td>California</td>\n",
       "    </tr>\n",
       "    <tr>\n",
       "      <th>1638</th>\n",
       "      <td>California</td>\n",
       "    </tr>\n",
       "    <tr>\n",
       "      <th>1639</th>\n",
       "      <td>California</td>\n",
       "    </tr>\n",
       "    <tr>\n",
       "      <th>1640</th>\n",
       "      <td>California</td>\n",
       "    </tr>\n",
       "  </tbody>\n",
       "</table>\n",
       "</div>"
      ],
      "text/plain": [
       "        province\n",
       "1636  California\n",
       "1637  California\n",
       "1638  California\n",
       "1639  California\n",
       "1640  California"
      ]
     },
     "execution_count": 46,
     "metadata": {},
     "output_type": "execute_result"
    }
   ],
   "source": [
    "pro2[\"province\"] = pro2[\"province\"].ffill()\n",
    "pro2.tail(5)"
   ]
  },
  {
   "cell_type": "markdown",
   "id": "0a57514d",
   "metadata": {},
   "source": [
    "## Limpieza y preparación de datos "
   ]
  },
  {
   "cell_type": "markdown",
   "id": "f13936d0",
   "metadata": {},
   "source": [
    "### Valores perdidos"
   ]
  },
  {
   "cell_type": "code",
   "execution_count": 47,
   "id": "ec4ef8e3",
   "metadata": {},
   "outputs": [],
   "source": [
    "#df_limpieza.columns"
   ]
  },
  {
   "cell_type": "code",
   "execution_count": 48,
   "id": "27663fe6",
   "metadata": {},
   "outputs": [
    {
     "data": {
      "text/plain": [
       "Index([ 82957,  60768,  63047,  71004,  78169,  43160,  15346,    378,   2800,\n",
       "        33072,\n",
       "       ...\n",
       "        39439,  26031, 107671,  29945,  88085,   6098,  70450,  40216,  84519,\n",
       "        16759],\n",
       "      dtype='int64', length=7546)"
      ]
     },
     "execution_count": 48,
     "metadata": {},
     "output_type": "execute_result"
    }
   ],
   "source": [
    "df_limpieza = df_csv.copy()\n",
    "idx = df_limpieza.sample(frac=0.05, random_state=42).index\n",
    "idx"
   ]
  },
  {
   "cell_type": "code",
   "execution_count": 49,
   "id": "e2da8296",
   "metadata": {},
   "outputs": [
    {
     "data": {
      "text/html": [
       "<div>\n",
       "<style scoped>\n",
       "    .dataframe tbody tr th:only-of-type {\n",
       "        vertical-align: middle;\n",
       "    }\n",
       "\n",
       "    .dataframe tbody tr th {\n",
       "        vertical-align: top;\n",
       "    }\n",
       "\n",
       "    .dataframe thead th {\n",
       "        text-align: right;\n",
       "    }\n",
       "</style>\n",
       "<table border=\"1\" class=\"dataframe\">\n",
       "  <thead>\n",
       "    <tr style=\"text-align: right;\">\n",
       "      <th></th>\n",
       "      <th>Unnamed: 0</th>\n",
       "      <th>country</th>\n",
       "      <th>description</th>\n",
       "      <th>designation</th>\n",
       "      <th>points</th>\n",
       "      <th>price</th>\n",
       "      <th>province</th>\n",
       "      <th>region_1</th>\n",
       "      <th>region_2</th>\n",
       "      <th>variety</th>\n",
       "      <th>winery</th>\n",
       "      <th>date_f</th>\n",
       "    </tr>\n",
       "  </thead>\n",
       "  <tbody>\n",
       "    <tr>\n",
       "      <th>0</th>\n",
       "      <td>0</td>\n",
       "      <td>US</td>\n",
       "      <td>This tremendous 100% varietal wine hails from ...</td>\n",
       "      <td>Martha's Vineyard</td>\n",
       "      <td>96</td>\n",
       "      <td>235.0</td>\n",
       "      <td>California</td>\n",
       "      <td>Napa Valley</td>\n",
       "      <td>Napa</td>\n",
       "      <td>Cabernet Sauvignon</td>\n",
       "      <td>Heitz</td>\n",
       "      <td>2025-04-13</td>\n",
       "    </tr>\n",
       "    <tr>\n",
       "      <th>1</th>\n",
       "      <td>1</td>\n",
       "      <td>Spain</td>\n",
       "      <td>Ripe aromas of fig, blackberry and cassis are ...</td>\n",
       "      <td>Carodorum Selección Especial Reserva</td>\n",
       "      <td>96</td>\n",
       "      <td>110.0</td>\n",
       "      <td>Northern Spain</td>\n",
       "      <td>Toro</td>\n",
       "      <td>NaN</td>\n",
       "      <td>Tinta de Toro</td>\n",
       "      <td>Bodega Carmen Rodríguez</td>\n",
       "      <td>2025-12-15</td>\n",
       "    </tr>\n",
       "  </tbody>\n",
       "</table>\n",
       "</div>"
      ],
      "text/plain": [
       "   Unnamed: 0 country                                        description  \\\n",
       "0           0      US  This tremendous 100% varietal wine hails from ...   \n",
       "1           1   Spain  Ripe aromas of fig, blackberry and cassis are ...   \n",
       "\n",
       "                            designation  points  price        province  \\\n",
       "0                     Martha's Vineyard      96  235.0      California   \n",
       "1  Carodorum Selección Especial Reserva      96  110.0  Northern Spain   \n",
       "\n",
       "      region_1 region_2             variety                   winery  \\\n",
       "0  Napa Valley     Napa  Cabernet Sauvignon                    Heitz   \n",
       "1         Toro      NaN       Tinta de Toro  Bodega Carmen Rodríguez   \n",
       "\n",
       "      date_f  \n",
       "0 2025-04-13  \n",
       "1 2025-12-15  "
      ]
     },
     "execution_count": 49,
     "metadata": {},
     "output_type": "execute_result"
    }
   ],
   "source": [
    "df_limpieza.loc[idx,\"price\"] = np.nan\n",
    "df_limpieza.head(2)"
   ]
  },
  {
   "cell_type": "code",
   "execution_count": 50,
   "id": "efbcd766",
   "metadata": {},
   "outputs": [
    {
     "name": "stderr",
     "output_type": "stream",
     "text": [
      "/home/codespace/.local/lib/python3.12/site-packages/numpy/lib/_nanfunctions_impl.py:1214: RuntimeWarning: Mean of empty slice\n",
      "  return np.nanmean(a, axis, out=out, keepdims=keepdims)\n",
      "/home/codespace/.local/lib/python3.12/site-packages/numpy/lib/_nanfunctions_impl.py:1214: RuntimeWarning: Mean of empty slice\n",
      "  return np.nanmean(a, axis, out=out, keepdims=keepdims)\n",
      "/home/codespace/.local/lib/python3.12/site-packages/numpy/lib/_nanfunctions_impl.py:1214: RuntimeWarning: Mean of empty slice\n",
      "  return np.nanmean(a, axis, out=out, keepdims=keepdims)\n",
      "/home/codespace/.local/lib/python3.12/site-packages/numpy/lib/_nanfunctions_impl.py:1214: RuntimeWarning: Mean of empty slice\n",
      "  return np.nanmean(a, axis, out=out, keepdims=keepdims)\n",
      "/home/codespace/.local/lib/python3.12/site-packages/numpy/lib/_nanfunctions_impl.py:1214: RuntimeWarning: Mean of empty slice\n",
      "  return np.nanmean(a, axis, out=out, keepdims=keepdims)\n",
      "/home/codespace/.local/lib/python3.12/site-packages/numpy/lib/_nanfunctions_impl.py:1214: RuntimeWarning: Mean of empty slice\n",
      "  return np.nanmean(a, axis, out=out, keepdims=keepdims)\n",
      "/home/codespace/.local/lib/python3.12/site-packages/numpy/lib/_nanfunctions_impl.py:1214: RuntimeWarning: Mean of empty slice\n",
      "  return np.nanmean(a, axis, out=out, keepdims=keepdims)\n",
      "/home/codespace/.local/lib/python3.12/site-packages/numpy/lib/_nanfunctions_impl.py:1214: RuntimeWarning: Mean of empty slice\n",
      "  return np.nanmean(a, axis, out=out, keepdims=keepdims)\n",
      "/home/codespace/.local/lib/python3.12/site-packages/numpy/lib/_nanfunctions_impl.py:1214: RuntimeWarning: Mean of empty slice\n",
      "  return np.nanmean(a, axis, out=out, keepdims=keepdims)\n",
      "/home/codespace/.local/lib/python3.12/site-packages/numpy/lib/_nanfunctions_impl.py:1214: RuntimeWarning: Mean of empty slice\n",
      "  return np.nanmean(a, axis, out=out, keepdims=keepdims)\n"
     ]
    },
    {
     "data": {
      "text/plain": [
       "np.int64(34)"
      ]
     },
     "execution_count": 50,
     "metadata": {},
     "output_type": "execute_result"
    }
   ],
   "source": [
    "df_limpieza[\"price\"] = df_limpieza.groupby(\"province\")[\"price\"].transform(lambda s : s.fillna(s.median()))\n",
    "df_limpieza[\"price\"].isna().sum() \n"
   ]
  },
  {
   "cell_type": "markdown",
   "id": "5994e152",
   "metadata": {},
   "source": [
    "### Outliers (IQR)\n",
    "![](data:image/png;base64,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)"
   ]
  },
  {
   "cell_type": "code",
   "execution_count": 51,
   "id": "896a3170",
   "metadata": {},
   "outputs": [
    {
     "data": {
      "text/plain": [
       "np.float64(16.0)"
      ]
     },
     "execution_count": 51,
     "metadata": {},
     "output_type": "execute_result"
    }
   ],
   "source": [
    "q1 = df_limpieza[\"price\"].quantile(0.25)\n",
    "q1"
   ]
  },
  {
   "cell_type": "code",
   "execution_count": 52,
   "id": "08c77a23",
   "metadata": {},
   "outputs": [
    {
     "data": {
      "text/plain": [
       "np.float64(37.0)"
      ]
     },
     "execution_count": 52,
     "metadata": {},
     "output_type": "execute_result"
    }
   ],
   "source": [
    "q3 = df_limpieza[\"price\"].quantile(0.75)\n",
    "q3"
   ]
  },
  {
   "cell_type": "code",
   "execution_count": 53,
   "id": "60e9b21b",
   "metadata": {},
   "outputs": [
    {
     "data": {
      "text/plain": [
       "np.float64(21.0)"
      ]
     },
     "execution_count": 53,
     "metadata": {},
     "output_type": "execute_result"
    }
   ],
   "source": [
    "iqr = q3-q1\n",
    "iqr"
   ]
  },
  {
   "cell_type": "code",
   "execution_count": 54,
   "id": "c3372f08",
   "metadata": {},
   "outputs": [
    {
     "data": {
      "text/plain": [
       "(np.float64(-15.5), np.float64(68.5))"
      ]
     },
     "execution_count": 54,
     "metadata": {},
     "output_type": "execute_result"
    }
   ],
   "source": [
    "debajo, encima = (q1 - 1.5*iqr), (q3 + 1.5*iqr)\n",
    "debajo, encima"
   ]
  },
  {
   "cell_type": "code",
   "execution_count": 55,
   "id": "9d37ab39",
   "metadata": {},
   "outputs": [
    {
     "data": {
      "text/html": [
       "<div>\n",
       "<style scoped>\n",
       "    .dataframe tbody tr th:only-of-type {\n",
       "        vertical-align: middle;\n",
       "    }\n",
       "\n",
       "    .dataframe tbody tr th {\n",
       "        vertical-align: top;\n",
       "    }\n",
       "\n",
       "    .dataframe thead th {\n",
       "        text-align: right;\n",
       "    }\n",
       "</style>\n",
       "<table border=\"1\" class=\"dataframe\">\n",
       "  <thead>\n",
       "    <tr style=\"text-align: right;\">\n",
       "      <th></th>\n",
       "      <th>price</th>\n",
       "      <th>price_outlier</th>\n",
       "    </tr>\n",
       "  </thead>\n",
       "  <tbody>\n",
       "    <tr>\n",
       "      <th>count</th>\n",
       "      <td>137235.000000</td>\n",
       "      <td>137235.000000</td>\n",
       "    </tr>\n",
       "    <tr>\n",
       "      <th>mean</th>\n",
       "      <td>33.131482</td>\n",
       "      <td>31.954735</td>\n",
       "    </tr>\n",
       "    <tr>\n",
       "      <th>std</th>\n",
       "      <td>36.322536</td>\n",
       "      <td>24.953382</td>\n",
       "    </tr>\n",
       "    <tr>\n",
       "      <th>min</th>\n",
       "      <td>4.000000</td>\n",
       "      <td>8.000000</td>\n",
       "    </tr>\n",
       "    <tr>\n",
       "      <th>25%</th>\n",
       "      <td>16.000000</td>\n",
       "      <td>16.000000</td>\n",
       "    </tr>\n",
       "    <tr>\n",
       "      <th>50%</th>\n",
       "      <td>24.000000</td>\n",
       "      <td>24.000000</td>\n",
       "    </tr>\n",
       "    <tr>\n",
       "      <th>75%</th>\n",
       "      <td>40.000000</td>\n",
       "      <td>40.000000</td>\n",
       "    </tr>\n",
       "    <tr>\n",
       "      <th>max</th>\n",
       "      <td>2300.000000</td>\n",
       "      <td>150.000000</td>\n",
       "    </tr>\n",
       "  </tbody>\n",
       "</table>\n",
       "</div>"
      ],
      "text/plain": [
       "               price  price_outlier\n",
       "count  137235.000000  137235.000000\n",
       "mean       33.131482      31.954735\n",
       "std        36.322536      24.953382\n",
       "min         4.000000       8.000000\n",
       "25%        16.000000      16.000000\n",
       "50%        24.000000      24.000000\n",
       "75%        40.000000      40.000000\n",
       "max      2300.000000     150.000000"
      ]
     },
     "execution_count": 55,
     "metadata": {},
     "output_type": "execute_result"
    }
   ],
   "source": [
    "df_limpieza = df_csv.copy()\n",
    "df_limpieza[\"price_outlier\"] = df_limpieza[\"price\"].clip(lower=df_limpieza[\"price\"].quantile(0.01),upper=df_limpieza[\"price\"].quantile(0.99))\n",
    "df_limpieza[[\"price\",\"price_outlier\"]].describe()"
   ]
  },
  {
   "cell_type": "markdown",
   "id": "292ac36a",
   "metadata": {},
   "source": [
    "### Normalizacion o Estandarizacion"
   ]
  },
  {
   "cell_type": "code",
   "execution_count": 56,
   "id": "c3e48bbb",
   "metadata": {},
   "outputs": [
    {
     "data": {
      "text/html": [
       "<div>\n",
       "<style scoped>\n",
       "    .dataframe tbody tr th:only-of-type {\n",
       "        vertical-align: middle;\n",
       "    }\n",
       "\n",
       "    .dataframe tbody tr th {\n",
       "        vertical-align: top;\n",
       "    }\n",
       "\n",
       "    .dataframe thead th {\n",
       "        text-align: right;\n",
       "    }\n",
       "</style>\n",
       "<table border=\"1\" class=\"dataframe\">\n",
       "  <thead>\n",
       "    <tr style=\"text-align: right;\">\n",
       "      <th></th>\n",
       "      <th>price</th>\n",
       "      <th>price_minmax</th>\n",
       "      <th>price_z</th>\n",
       "    </tr>\n",
       "  </thead>\n",
       "  <tbody>\n",
       "    <tr>\n",
       "      <th>0</th>\n",
       "      <td>235.0</td>\n",
       "      <td>0.100610</td>\n",
       "      <td>5.557666</td>\n",
       "    </tr>\n",
       "    <tr>\n",
       "      <th>1</th>\n",
       "      <td>110.0</td>\n",
       "      <td>0.046167</td>\n",
       "      <td>2.116276</td>\n",
       "    </tr>\n",
       "    <tr>\n",
       "      <th>2</th>\n",
       "      <td>90.0</td>\n",
       "      <td>0.037456</td>\n",
       "      <td>1.565654</td>\n",
       "    </tr>\n",
       "    <tr>\n",
       "      <th>3</th>\n",
       "      <td>65.0</td>\n",
       "      <td>0.026568</td>\n",
       "      <td>0.877376</td>\n",
       "    </tr>\n",
       "    <tr>\n",
       "      <th>4</th>\n",
       "      <td>66.0</td>\n",
       "      <td>0.027003</td>\n",
       "      <td>0.904907</td>\n",
       "    </tr>\n",
       "  </tbody>\n",
       "</table>\n",
       "</div>"
      ],
      "text/plain": [
       "   price  price_minmax   price_z\n",
       "0  235.0      0.100610  5.557666\n",
       "1  110.0      0.046167  2.116276\n",
       "2   90.0      0.037456  1.565654\n",
       "3   65.0      0.026568  0.877376\n",
       "4   66.0      0.027003  0.904907"
      ]
     },
     "execution_count": 56,
     "metadata": {},
     "output_type": "execute_result"
    }
   ],
   "source": [
    "df_limpieza = df_csv.copy()\n",
    "sc = MinMaxScaler()\n",
    "df_limpieza[\"price_minmax\"] = sc.fit_transform(df_limpieza[[\"price\"]])\n",
    "df_limpieza[\"price_z\"] = (df_limpieza[\"price\"]-df_limpieza[\"price\"].mean())/df_limpieza[\"price\"].std()\n",
    "df_limpieza[[\"price\",\"price_minmax\",\"price_z\"]].head(5)"
   ]
  },
  {
   "cell_type": "markdown",
   "id": "8c1fd0a1",
   "metadata": {},
   "source": [
    "### Parseo de fechas"
   ]
  },
  {
   "cell_type": "code",
   "execution_count": 57,
   "id": "9bdd6e22",
   "metadata": {},
   "outputs": [
    {
     "data": {
      "text/plain": [
       "0    2025\n",
       "1    2025\n",
       "Name: year, dtype: int32"
      ]
     },
     "execution_count": 57,
     "metadata": {},
     "output_type": "execute_result"
    }
   ],
   "source": [
    "df_limpieza = df_csv.copy()\n",
    "#date_f\n",
    "df_limpieza[\"year\"]= df_limpieza[\"date_f\"].dt.year\n",
    "df_limpieza[\"year\"].head(2)"
   ]
  },
  {
   "cell_type": "code",
   "execution_count": 58,
   "id": "84a96e5c",
   "metadata": {},
   "outputs": [
    {
     "data": {
      "text/plain": [
       "0     4\n",
       "1    12\n",
       "Name: month, dtype: int32"
      ]
     },
     "execution_count": 58,
     "metadata": {},
     "output_type": "execute_result"
    }
   ],
   "source": [
    "df_limpieza[\"month\"]= df_limpieza[\"date_f\"].dt.month\n",
    "df_limpieza[\"month\"].head(2)"
   ]
  },
  {
   "cell_type": "code",
   "execution_count": 59,
   "id": "e36194dd",
   "metadata": {},
   "outputs": [
    {
     "data": {
      "text/plain": [
       "0    13\n",
       "1    15\n",
       "Name: day, dtype: int32"
      ]
     },
     "execution_count": 59,
     "metadata": {},
     "output_type": "execute_result"
    }
   ],
   "source": [
    "df_limpieza[\"day\"]= df_limpieza[\"date_f\"].dt.day\n",
    "df_limpieza[\"day\"].head(2)"
   ]
  },
  {
   "cell_type": "code",
   "execution_count": 60,
   "id": "a8928c37",
   "metadata": {},
   "outputs": [
    {
     "data": {
      "text/html": [
       "<div>\n",
       "<style scoped>\n",
       "    .dataframe tbody tr th:only-of-type {\n",
       "        vertical-align: middle;\n",
       "    }\n",
       "\n",
       "    .dataframe tbody tr th {\n",
       "        vertical-align: top;\n",
       "    }\n",
       "\n",
       "    .dataframe thead th {\n",
       "        text-align: right;\n",
       "    }\n",
       "</style>\n",
       "<table border=\"1\" class=\"dataframe\">\n",
       "  <thead>\n",
       "    <tr style=\"text-align: right;\">\n",
       "      <th></th>\n",
       "      <th>date_f</th>\n",
       "      <th>year</th>\n",
       "      <th>month</th>\n",
       "      <th>day</th>\n",
       "    </tr>\n",
       "  </thead>\n",
       "  <tbody>\n",
       "    <tr>\n",
       "      <th>0</th>\n",
       "      <td>2025-04-13</td>\n",
       "      <td>2025</td>\n",
       "      <td>4</td>\n",
       "      <td>13</td>\n",
       "    </tr>\n",
       "    <tr>\n",
       "      <th>1</th>\n",
       "      <td>2025-12-15</td>\n",
       "      <td>2025</td>\n",
       "      <td>12</td>\n",
       "      <td>15</td>\n",
       "    </tr>\n",
       "    <tr>\n",
       "      <th>2</th>\n",
       "      <td>2025-09-28</td>\n",
       "      <td>2025</td>\n",
       "      <td>9</td>\n",
       "      <td>28</td>\n",
       "    </tr>\n",
       "    <tr>\n",
       "      <th>3</th>\n",
       "      <td>2025-04-17</td>\n",
       "      <td>2025</td>\n",
       "      <td>4</td>\n",
       "      <td>17</td>\n",
       "    </tr>\n",
       "    <tr>\n",
       "      <th>4</th>\n",
       "      <td>2025-03-13</td>\n",
       "      <td>2025</td>\n",
       "      <td>3</td>\n",
       "      <td>13</td>\n",
       "    </tr>\n",
       "  </tbody>\n",
       "</table>\n",
       "</div>"
      ],
      "text/plain": [
       "      date_f  year  month  day\n",
       "0 2025-04-13  2025      4   13\n",
       "1 2025-12-15  2025     12   15\n",
       "2 2025-09-28  2025      9   28\n",
       "3 2025-04-17  2025      4   17\n",
       "4 2025-03-13  2025      3   13"
      ]
     },
     "execution_count": 60,
     "metadata": {},
     "output_type": "execute_result"
    }
   ],
   "source": [
    "df_limpieza[[\"date_f\",\"year\",\"month\",\"day\"]].head(5)"
   ]
  },
  {
   "cell_type": "markdown",
   "id": "dd746089",
   "metadata": {},
   "source": [
    "### Renombrado de columnas"
   ]
  },
  {
   "cell_type": "code",
   "execution_count": 61,
   "id": "c354061e",
   "metadata": {},
   "outputs": [
    {
     "data": {
      "text/plain": [
       "Index(['unnamed: 0', 'country', 'description', 'designation', 'points',\n",
       "       'price', 'province', 'region1', 'region2', 'variety', 'winery',\n",
       "       'datef'],\n",
       "      dtype='object')"
      ]
     },
     "execution_count": 61,
     "metadata": {},
     "output_type": "execute_result"
    }
   ],
   "source": [
    "df_limpieza = df_csv.copy()\n",
    "df_limpieza.columns = df_limpieza.columns.str.lower().str.replace(\"_\",\"\")\n",
    "df_limpieza.columns"
   ]
  },
  {
   "cell_type": "markdown",
   "id": "c1a483f4",
   "metadata": {},
   "source": [
    "### Eliminar columnas o filas"
   ]
  },
  {
   "cell_type": "code",
   "execution_count": 62,
   "id": "dcf9418c",
   "metadata": {},
   "outputs": [
    {
     "data": {
      "text/plain": [
       "134716"
      ]
     },
     "execution_count": 62,
     "metadata": {},
     "output_type": "execute_result"
    }
   ],
   "source": [
    "df_limpieza = df_csv.copy()\n",
    "df_limpieza = df_limpieza.drop(columns=[\"country\"]).query(\"price > 7 and price < 151\")\n",
    "len(df_limpieza)"
   ]
  },
  {
   "cell_type": "code",
   "execution_count": 63,
   "id": "ddefa70a",
   "metadata": {},
   "outputs": [
    {
     "data": {
      "text/plain": [
       "count    134716.000000\n",
       "mean         30.988093\n",
       "std          22.125831\n",
       "min           8.000000\n",
       "25%          16.000000\n",
       "50%          24.000000\n",
       "75%          40.000000\n",
       "max         150.000000\n",
       "Name: price, dtype: float64"
      ]
     },
     "execution_count": 63,
     "metadata": {},
     "output_type": "execute_result"
    }
   ],
   "source": [
    "df_limpieza[\"price\"].describe()"
   ]
  },
  {
   "cell_type": "markdown",
   "id": "649f0a21",
   "metadata": {},
   "source": [
    "### validaciones"
   ]
  },
  {
   "cell_type": "code",
   "execution_count": 64,
   "id": "6f08b078",
   "metadata": {},
   "outputs": [
    {
     "ename": "AssertionError",
     "evalue": "x debe ser menor que 5",
     "output_type": "error",
     "traceback": [
      "\u001b[31m---------------------------------------------------------------------------\u001b[39m",
      "\u001b[31mAssertionError\u001b[39m                            Traceback (most recent call last)",
      "\u001b[36mCell\u001b[39m\u001b[36m \u001b[39m\u001b[32mIn[64]\u001b[39m\u001b[32m, line 3\u001b[39m\n\u001b[32m      1\u001b[39m x = \u001b[32m10\u001b[39m\n\u001b[32m      2\u001b[39m \u001b[38;5;28;01massert\u001b[39;00m x > \u001b[32m0\u001b[39m, \u001b[33m\"\u001b[39m\u001b[33mx debe ser mayor que 0\u001b[39m\u001b[33m\"\u001b[39m   \u001b[38;5;66;03m# ✅ no pasa nada\u001b[39;00m\n\u001b[32m----> \u001b[39m\u001b[32m3\u001b[39m \u001b[38;5;28;01massert\u001b[39;00m x < \u001b[32m5\u001b[39m, \u001b[33m\"\u001b[39m\u001b[33mx debe ser menor que 5\u001b[39m\u001b[33m\"\u001b[39m   \u001b[38;5;66;03m# ❌ lanza AssertionError\u001b[39;00m\n",
      "\u001b[31mAssertionError\u001b[39m: x debe ser menor que 5"
     ]
    }
   ],
   "source": [
    "x = 10\n",
    "assert x > 0, \"x debe ser mayor que 0\"   # ✅ no pasa nada\n",
    "assert x < 5, \"x debe ser menor que 5\"   # ❌ lanza AssertionError"
   ]
  },
  {
   "cell_type": "code",
   "execution_count": 65,
   "id": "6fe4c924",
   "metadata": {},
   "outputs": [
    {
     "data": {
      "text/plain": [
       "0         False\n",
       "1         False\n",
       "2         False\n",
       "3         False\n",
       "4         False\n",
       "          ...  \n",
       "150925    False\n",
       "150926    False\n",
       "150927    False\n",
       "150928    False\n",
       "150929    False\n",
       "Name: price, Length: 150930, dtype: bool"
      ]
     },
     "execution_count": 65,
     "metadata": {},
     "output_type": "execute_result"
    }
   ],
   "source": [
    "df_limpieza = df_csv.copy()\n",
    "(df_limpieza[\"price\"] > 3000)"
   ]
  },
  {
   "cell_type": "code",
   "execution_count": 66,
   "id": "8f24e65b",
   "metadata": {},
   "outputs": [
    {
     "ename": "AssertionError",
     "evalue": "price es outlier por encima ",
     "output_type": "error",
     "traceback": [
      "\u001b[31m---------------------------------------------------------------------------\u001b[39m",
      "\u001b[31mAssertionError\u001b[39m                            Traceback (most recent call last)",
      "\u001b[36mCell\u001b[39m\u001b[36m \u001b[39m\u001b[32mIn[66]\u001b[39m\u001b[32m, line 2\u001b[39m\n\u001b[32m      1\u001b[39m df_limpieza = df_csv.copy()\n\u001b[32m----> \u001b[39m\u001b[32m2\u001b[39m \u001b[38;5;28;01massert\u001b[39;00m (df_limpieza[\u001b[33m\"\u001b[39m\u001b[33mprice\u001b[39m\u001b[33m\"\u001b[39m] > \u001b[32m3000\u001b[39m).all(), \u001b[33m\"\u001b[39m\u001b[33mprice es outlier por encima \u001b[39m\u001b[33m\"\u001b[39m\n\u001b[32m      3\u001b[39m \u001b[38;5;28;01massert\u001b[39;00m (df_limpieza[\u001b[33m\"\u001b[39m\u001b[33mprice\u001b[39m\u001b[33m\"\u001b[39m] > \u001b[32m8\u001b[39m).all(), \u001b[33m\"\u001b[39m\u001b[33mprice es outlier por debajo \u001b[39m\u001b[33m\"\u001b[39m\n\u001b[32m      4\u001b[39m \u001b[33m\"\u001b[39m\u001b[33mel precio esta ok\u001b[39m\u001b[33m\"\u001b[39m\n",
      "\u001b[31mAssertionError\u001b[39m: price es outlier por encima "
     ]
    }
   ],
   "source": [
    "df_limpieza = df_csv.copy()\n",
    "assert (df_limpieza[\"price\"] > 3000).all(), \"price es outlier por encima \"\n",
    "assert (df_limpieza[\"price\"] > 8).all(), \"price es outlier por debajo \"\n",
    "\"el precio esta ok\""
   ]
  },
  {
   "cell_type": "markdown",
   "id": "04213aef",
   "metadata": {},
   "source": [
    "# Transformaciones y funciones"
   ]
  },
  {
   "cell_type": "markdown",
   "id": "6f076294",
   "metadata": {},
   "source": [
    "### apply / map / applymap\n",
    "- map: pensado para Series (columna o fila).\n",
    "- apply: funciona en Series y DataFrames, más flexible.\n",
    "- applymap: exclusivo de DataFrames, aplica una función elemento a elemento."
   ]
  },
  {
   "cell_type": "markdown",
   "id": "34eccec9",
   "metadata": {},
   "source": [
    "Funcion"
   ]
  },
  {
   "cell_type": "code",
   "execution_count": 67,
   "id": "26a1964b",
   "metadata": {},
   "outputs": [
    {
     "data": {
      "text/plain": [
       "Index(['Unnamed: 0', 'country', 'description', 'designation', 'points',\n",
       "       'price', 'province', 'region_1', 'region_2', 'variety', 'winery',\n",
       "       'date_f'],\n",
       "      dtype='object')"
      ]
     },
     "execution_count": 67,
     "metadata": {},
     "output_type": "execute_result"
    }
   ],
   "source": [
    "df_limpieza = df_csv.copy()\n",
    "df_limpieza.columns"
   ]
  },
  {
   "cell_type": "code",
   "execution_count": 68,
   "id": "4359c15e",
   "metadata": {},
   "outputs": [
    {
     "data": {
      "text/html": [
       "<div>\n",
       "<style scoped>\n",
       "    .dataframe tbody tr th:only-of-type {\n",
       "        vertical-align: middle;\n",
       "    }\n",
       "\n",
       "    .dataframe tbody tr th {\n",
       "        vertical-align: top;\n",
       "    }\n",
       "\n",
       "    .dataframe thead th {\n",
       "        text-align: right;\n",
       "    }\n",
       "</style>\n",
       "<table border=\"1\" class=\"dataframe\">\n",
       "  <thead>\n",
       "    <tr style=\"text-align: right;\">\n",
       "      <th></th>\n",
       "      <th>Unnamed: 0</th>\n",
       "      <th>country</th>\n",
       "      <th>description</th>\n",
       "      <th>designation</th>\n",
       "      <th>points</th>\n",
       "      <th>price</th>\n",
       "      <th>province</th>\n",
       "      <th>region_1</th>\n",
       "      <th>region_2</th>\n",
       "      <th>variety</th>\n",
       "      <th>winery</th>\n",
       "      <th>date_f</th>\n",
       "      <th>fecha</th>\n",
       "      <th>anio</th>\n",
       "      <th>total_log</th>\n",
       "    </tr>\n",
       "  </thead>\n",
       "  <tbody>\n",
       "    <tr>\n",
       "      <th>0</th>\n",
       "      <td>0</td>\n",
       "      <td>US</td>\n",
       "      <td>This tremendous 100% varietal wine hails from ...</td>\n",
       "      <td>Martha's Vineyard</td>\n",
       "      <td>96</td>\n",
       "      <td>235.0</td>\n",
       "      <td>California</td>\n",
       "      <td>Napa Valley</td>\n",
       "      <td>Napa</td>\n",
       "      <td>Cabernet Sauvignon</td>\n",
       "      <td>Heitz</td>\n",
       "      <td>2025-04-13</td>\n",
       "      <td>2025-04-13</td>\n",
       "      <td>2025</td>\n",
       "      <td>5.463832</td>\n",
       "    </tr>\n",
       "    <tr>\n",
       "      <th>1</th>\n",
       "      <td>1</td>\n",
       "      <td>Spain</td>\n",
       "      <td>Ripe aromas of fig, blackberry and cassis are ...</td>\n",
       "      <td>Carodorum Selección Especial Reserva</td>\n",
       "      <td>96</td>\n",
       "      <td>110.0</td>\n",
       "      <td>Northern Spain</td>\n",
       "      <td>Toro</td>\n",
       "      <td>NaN</td>\n",
       "      <td>Tinta de Toro</td>\n",
       "      <td>Bodega Carmen Rodríguez</td>\n",
       "      <td>2025-12-15</td>\n",
       "      <td>2025-12-15</td>\n",
       "      <td>2025</td>\n",
       "      <td>4.709530</td>\n",
       "    </tr>\n",
       "    <tr>\n",
       "      <th>2</th>\n",
       "      <td>2</td>\n",
       "      <td>US</td>\n",
       "      <td>Mac Watson honors the memory of a wine once ma...</td>\n",
       "      <td>Special Selected Late Harvest</td>\n",
       "      <td>96</td>\n",
       "      <td>90.0</td>\n",
       "      <td>California</td>\n",
       "      <td>Knights Valley</td>\n",
       "      <td>Sonoma</td>\n",
       "      <td>Sauvignon Blanc</td>\n",
       "      <td>Macauley</td>\n",
       "      <td>2025-09-28</td>\n",
       "      <td>2025-09-28</td>\n",
       "      <td>2025</td>\n",
       "      <td>4.510860</td>\n",
       "    </tr>\n",
       "  </tbody>\n",
       "</table>\n",
       "</div>"
      ],
      "text/plain": [
       "   Unnamed: 0 country                                        description  \\\n",
       "0           0      US  This tremendous 100% varietal wine hails from ...   \n",
       "1           1   Spain  Ripe aromas of fig, blackberry and cassis are ...   \n",
       "2           2      US  Mac Watson honors the memory of a wine once ma...   \n",
       "\n",
       "                            designation  points  price        province  \\\n",
       "0                     Martha's Vineyard      96  235.0      California   \n",
       "1  Carodorum Selección Especial Reserva      96  110.0  Northern Spain   \n",
       "2         Special Selected Late Harvest      96   90.0      California   \n",
       "\n",
       "         region_1 region_2             variety                   winery  \\\n",
       "0     Napa Valley     Napa  Cabernet Sauvignon                    Heitz   \n",
       "1            Toro      NaN       Tinta de Toro  Bodega Carmen Rodríguez   \n",
       "2  Knights Valley   Sonoma     Sauvignon Blanc                 Macauley   \n",
       "\n",
       "      date_f      fecha  anio  total_log  \n",
       "0 2025-04-13 2025-04-13  2025   5.463832  \n",
       "1 2025-12-15 2025-12-15  2025   4.709530  \n",
       "2 2025-09-28 2025-09-28  2025   4.510860  "
      ]
     },
     "execution_count": 68,
     "metadata": {},
     "output_type": "execute_result"
    }
   ],
   "source": [
    "\n",
    "(df_limpieza\n",
    " .assign(fecha=lambda d: pd.to_datetime(d['date_f']),\n",
    "         anio=lambda d: d['date_f'].dt.year,\n",
    "         total_log=lambda d: np.log1p(d['price']))\n",
    " .head(3))\n"
   ]
  },
  {
   "cell_type": "code",
   "execution_count": 69,
   "id": "a2dd3eca",
   "metadata": {},
   "outputs": [
    {
     "data": {
      "text/plain": [
       "[18.0, 32.0]"
      ]
     },
     "execution_count": 69,
     "metadata": {},
     "output_type": "execute_result"
    }
   ],
   "source": [
    "df_limpieza = df_csv.copy()\n",
    "df_limpieza['precio_red'] = df_limpieza['price'].apply(lambda x: round(x, 0))\n",
    "tramos = df_limpieza['price'].quantile([0.33, 0.66]).to_list()\n",
    "tramos\n"
   ]
  },
  {
   "cell_type": "code",
   "execution_count": 70,
   "id": "4f4a4c66",
   "metadata": {},
   "outputs": [],
   "source": [
    "def etiqueta(t):\n",
    "    if t <= tramos[0]: return 'bajo' # 18 \n",
    "    if t <= tramos[1]: return 'medio'\n",
    "    return 'alto'"
   ]
  },
  {
   "cell_type": "code",
   "execution_count": 71,
   "id": "5046f243",
   "metadata": {},
   "outputs": [
    {
     "data": {
      "text/html": [
       "<div>\n",
       "<style scoped>\n",
       "    .dataframe tbody tr th:only-of-type {\n",
       "        vertical-align: middle;\n",
       "    }\n",
       "\n",
       "    .dataframe tbody tr th {\n",
       "        vertical-align: top;\n",
       "    }\n",
       "\n",
       "    .dataframe thead th {\n",
       "        text-align: right;\n",
       "    }\n",
       "</style>\n",
       "<table border=\"1\" class=\"dataframe\">\n",
       "  <thead>\n",
       "    <tr style=\"text-align: right;\">\n",
       "      <th></th>\n",
       "      <th>price</th>\n",
       "      <th>precio_red</th>\n",
       "      <th>tramo_total</th>\n",
       "    </tr>\n",
       "  </thead>\n",
       "  <tbody>\n",
       "    <tr>\n",
       "      <th>0</th>\n",
       "      <td>235.0</td>\n",
       "      <td>235.0</td>\n",
       "      <td>alto</td>\n",
       "    </tr>\n",
       "    <tr>\n",
       "      <th>1</th>\n",
       "      <td>110.0</td>\n",
       "      <td>110.0</td>\n",
       "      <td>alto</td>\n",
       "    </tr>\n",
       "    <tr>\n",
       "      <th>2</th>\n",
       "      <td>90.0</td>\n",
       "      <td>90.0</td>\n",
       "      <td>alto</td>\n",
       "    </tr>\n",
       "    <tr>\n",
       "      <th>3</th>\n",
       "      <td>65.0</td>\n",
       "      <td>65.0</td>\n",
       "      <td>alto</td>\n",
       "    </tr>\n",
       "    <tr>\n",
       "      <th>4</th>\n",
       "      <td>66.0</td>\n",
       "      <td>66.0</td>\n",
       "      <td>alto</td>\n",
       "    </tr>\n",
       "    <tr>\n",
       "      <th>...</th>\n",
       "      <td>...</td>\n",
       "      <td>...</td>\n",
       "      <td>...</td>\n",
       "    </tr>\n",
       "    <tr>\n",
       "      <th>150925</th>\n",
       "      <td>20.0</td>\n",
       "      <td>20.0</td>\n",
       "      <td>medio</td>\n",
       "    </tr>\n",
       "    <tr>\n",
       "      <th>150926</th>\n",
       "      <td>27.0</td>\n",
       "      <td>27.0</td>\n",
       "      <td>medio</td>\n",
       "    </tr>\n",
       "    <tr>\n",
       "      <th>150927</th>\n",
       "      <td>20.0</td>\n",
       "      <td>20.0</td>\n",
       "      <td>medio</td>\n",
       "    </tr>\n",
       "    <tr>\n",
       "      <th>150928</th>\n",
       "      <td>52.0</td>\n",
       "      <td>52.0</td>\n",
       "      <td>alto</td>\n",
       "    </tr>\n",
       "    <tr>\n",
       "      <th>150929</th>\n",
       "      <td>15.0</td>\n",
       "      <td>15.0</td>\n",
       "      <td>bajo</td>\n",
       "    </tr>\n",
       "  </tbody>\n",
       "</table>\n",
       "<p>150930 rows × 3 columns</p>\n",
       "</div>"
      ],
      "text/plain": [
       "        price  precio_red tramo_total\n",
       "0       235.0       235.0        alto\n",
       "1       110.0       110.0        alto\n",
       "2        90.0        90.0        alto\n",
       "3        65.0        65.0        alto\n",
       "4        66.0        66.0        alto\n",
       "...       ...         ...         ...\n",
       "150925   20.0        20.0       medio\n",
       "150926   27.0        27.0       medio\n",
       "150927   20.0        20.0       medio\n",
       "150928   52.0        52.0        alto\n",
       "150929   15.0        15.0        bajo\n",
       "\n",
       "[150930 rows x 3 columns]"
      ]
     },
     "execution_count": 71,
     "metadata": {},
     "output_type": "execute_result"
    }
   ],
   "source": [
    "df_limpieza[\"tramo_total\"]= df_limpieza[\"price\"].map(etiqueta)\n",
    "df_limpieza[[\"price\",\"precio_red\",\"tramo_total\"]]\n"
   ]
  },
  {
   "cell_type": "markdown",
   "id": "01197c6b",
   "metadata": {},
   "source": [
    "### where / mask\n",
    "\n",
    "- where: mantiene los valores que cumplen la condición, y reemplaza el resto.\n",
    "- mask: reemplaza los valores que cumplen la condición, y mantiene los demás."
   ]
  },
  {
   "cell_type": "code",
   "execution_count": 72,
   "id": "bee4919a",
   "metadata": {},
   "outputs": [
    {
     "data": {
      "text/html": [
       "<div>\n",
       "<style scoped>\n",
       "    .dataframe tbody tr th:only-of-type {\n",
       "        vertical-align: middle;\n",
       "    }\n",
       "\n",
       "    .dataframe tbody tr th {\n",
       "        vertical-align: top;\n",
       "    }\n",
       "\n",
       "    .dataframe thead th {\n",
       "        text-align: right;\n",
       "    }\n",
       "</style>\n",
       "<table border=\"1\" class=\"dataframe\">\n",
       "  <thead>\n",
       "    <tr style=\"text-align: right;\">\n",
       "      <th></th>\n",
       "      <th>price</th>\n",
       "      <th>total_desc</th>\n",
       "    </tr>\n",
       "  </thead>\n",
       "  <tbody>\n",
       "    <tr>\n",
       "      <th>0</th>\n",
       "      <td>235.0</td>\n",
       "      <td>11.75</td>\n",
       "    </tr>\n",
       "    <tr>\n",
       "      <th>1</th>\n",
       "      <td>110.0</td>\n",
       "      <td>5.50</td>\n",
       "    </tr>\n",
       "    <tr>\n",
       "      <th>2</th>\n",
       "      <td>90.0</td>\n",
       "      <td>4.50</td>\n",
       "    </tr>\n",
       "    <tr>\n",
       "      <th>3</th>\n",
       "      <td>65.0</td>\n",
       "      <td>3.25</td>\n",
       "    </tr>\n",
       "    <tr>\n",
       "      <th>4</th>\n",
       "      <td>66.0</td>\n",
       "      <td>3.30</td>\n",
       "    </tr>\n",
       "    <tr>\n",
       "      <th>...</th>\n",
       "      <td>...</td>\n",
       "      <td>...</td>\n",
       "    </tr>\n",
       "    <tr>\n",
       "      <th>150925</th>\n",
       "      <td>20.0</td>\n",
       "      <td>20.00</td>\n",
       "    </tr>\n",
       "    <tr>\n",
       "      <th>150926</th>\n",
       "      <td>27.0</td>\n",
       "      <td>27.00</td>\n",
       "    </tr>\n",
       "    <tr>\n",
       "      <th>150927</th>\n",
       "      <td>20.0</td>\n",
       "      <td>20.00</td>\n",
       "    </tr>\n",
       "    <tr>\n",
       "      <th>150928</th>\n",
       "      <td>52.0</td>\n",
       "      <td>2.60</td>\n",
       "    </tr>\n",
       "    <tr>\n",
       "      <th>150929</th>\n",
       "      <td>15.0</td>\n",
       "      <td>15.00</td>\n",
       "    </tr>\n",
       "  </tbody>\n",
       "</table>\n",
       "<p>150930 rows × 2 columns</p>\n",
       "</div>"
      ],
      "text/plain": [
       "        price  total_desc\n",
       "0       235.0       11.75\n",
       "1       110.0        5.50\n",
       "2        90.0        4.50\n",
       "3        65.0        3.25\n",
       "4        66.0        3.30\n",
       "...       ...         ...\n",
       "150925   20.0       20.00\n",
       "150926   27.0       27.00\n",
       "150927   20.0       20.00\n",
       "150928   52.0        2.60\n",
       "150929   15.0       15.00\n",
       "\n",
       "[150930 rows x 2 columns]"
      ]
     },
     "execution_count": 72,
     "metadata": {},
     "output_type": "execute_result"
    }
   ],
   "source": [
    "df_limpieza = df_csv.copy()\n",
    "df_limpieza[\"total_desc\"] = df_limpieza[\"price\"].where(df_limpieza[\"price\"]<tramos[1],df_limpieza[\"price\"]*0.05)\n",
    "df_limpieza[[\"price\",\"total_desc\"]]"
   ]
  },
  {
   "cell_type": "markdown",
   "id": "211f8965",
   "metadata": {},
   "source": [
    "### Explode\n",
    "\n",
    "- explode es un método de pandas que toma una columna con elementos iterables (listas, tuplas, sets) y “despliega” cada elemento en una fila independiente, replicando los valores de las demás columnas.\n",
    "\n",
    "- Aplica sobre Series o columnas de un DataFrame."
   ]
  },
  {
   "cell_type": "code",
   "execution_count": 73,
   "id": "a52fc335",
   "metadata": {},
   "outputs": [
    {
     "data": {
      "text/html": [
       "<div>\n",
       "<style scoped>\n",
       "    .dataframe tbody tr th:only-of-type {\n",
       "        vertical-align: middle;\n",
       "    }\n",
       "\n",
       "    .dataframe tbody tr th {\n",
       "        vertical-align: top;\n",
       "    }\n",
       "\n",
       "    .dataframe thead th {\n",
       "        text-align: right;\n",
       "    }\n",
       "</style>\n",
       "<table border=\"1\" class=\"dataframe\">\n",
       "  <thead>\n",
       "    <tr style=\"text-align: right;\">\n",
       "      <th></th>\n",
       "      <th>id</th>\n",
       "      <th>lista</th>\n",
       "    </tr>\n",
       "  </thead>\n",
       "  <tbody>\n",
       "    <tr>\n",
       "      <th>0</th>\n",
       "      <td>1</td>\n",
       "      <td>a</td>\n",
       "    </tr>\n",
       "    <tr>\n",
       "      <th>0</th>\n",
       "      <td>1</td>\n",
       "      <td>b</td>\n",
       "    </tr>\n",
       "    <tr>\n",
       "      <th>1</th>\n",
       "      <td>2</td>\n",
       "      <td>b</td>\n",
       "    </tr>\n",
       "    <tr>\n",
       "      <th>1</th>\n",
       "      <td>2</td>\n",
       "      <td>c</td>\n",
       "    </tr>\n",
       "    <tr>\n",
       "      <th>1</th>\n",
       "      <td>2</td>\n",
       "      <td>d</td>\n",
       "    </tr>\n",
       "    <tr>\n",
       "      <th>2</th>\n",
       "      <td>3</td>\n",
       "      <td>x</td>\n",
       "    </tr>\n",
       "  </tbody>\n",
       "</table>\n",
       "</div>"
      ],
      "text/plain": [
       "   id lista\n",
       "0   1     a\n",
       "0   1     b\n",
       "1   2     b\n",
       "1   2     c\n",
       "1   2     d\n",
       "2   3     x"
      ]
     },
     "execution_count": 73,
     "metadata": {},
     "output_type": "execute_result"
    }
   ],
   "source": [
    "df_limpieza = df_csv.copy()\n",
    "id,lista = [1,2,3],[[\"a\",\"b\"],[\"b\",\"c\",\"d\"],[\"x\"]]\n",
    "df_temp = pd.DataFrame({\"id\":id,\"lista\":lista})\n",
    "df_temp.explode(\"lista\")"
   ]
  },
  {
   "cell_type": "markdown",
   "id": "1751f6bd",
   "metadata": {},
   "source": [
    "### Pivot y melt\n",
    "- pivot_table: método de pandas para crear tablas dinámicas (similar a Excel), resumir y reorganizar datos mediante agregaciones.\n",
    "- melt: método para transformar un DataFrame de formato ancho (wide) a formato largo (long), descomponiendo columnas en filas."
   ]
  },
  {
   "cell_type": "code",
   "execution_count": 74,
   "id": "27c7fe0d",
   "metadata": {},
   "outputs": [
    {
     "data": {
      "text/plain": [
       "Index(['Unnamed: 0', 'country', 'description', 'designation', 'points',\n",
       "       'price', 'province', 'region_1', 'region_2', 'variety', 'winery',\n",
       "       'date_f'],\n",
       "      dtype='object')"
      ]
     },
     "execution_count": 74,
     "metadata": {},
     "output_type": "execute_result"
    }
   ],
   "source": [
    "df_limpieza = df_csv.copy()\n",
    "df_limpieza.columns"
   ]
  },
  {
   "cell_type": "code",
   "execution_count": 75,
   "id": "383b6bed",
   "metadata": {},
   "outputs": [
    {
     "data": {
      "text/html": [
       "<div>\n",
       "<style scoped>\n",
       "    .dataframe tbody tr th:only-of-type {\n",
       "        vertical-align: middle;\n",
       "    }\n",
       "\n",
       "    .dataframe tbody tr th {\n",
       "        vertical-align: top;\n",
       "    }\n",
       "\n",
       "    .dataframe thead tr th {\n",
       "        text-align: left;\n",
       "    }\n",
       "\n",
       "    .dataframe thead tr:last-of-type th {\n",
       "        text-align: right;\n",
       "    }\n",
       "</style>\n",
       "<table border=\"1\" class=\"dataframe\">\n",
       "  <thead>\n",
       "    <tr>\n",
       "      <th></th>\n",
       "      <th colspan=\"10\" halign=\"left\">Unnamed: 0</th>\n",
       "      <th>...</th>\n",
       "      <th colspan=\"10\" halign=\"left\">winery</th>\n",
       "    </tr>\n",
       "    <tr>\n",
       "      <th>country</th>\n",
       "      <th>Albania</th>\n",
       "      <th>Argentina</th>\n",
       "      <th>Australia</th>\n",
       "      <th>Austria</th>\n",
       "      <th>Bosnia and Herzegovina</th>\n",
       "      <th>Brazil</th>\n",
       "      <th>Bulgaria</th>\n",
       "      <th>Canada</th>\n",
       "      <th>Chile</th>\n",
       "      <th>China</th>\n",
       "      <th>...</th>\n",
       "      <th>South Africa</th>\n",
       "      <th>South Korea</th>\n",
       "      <th>Spain</th>\n",
       "      <th>Switzerland</th>\n",
       "      <th>Tunisia</th>\n",
       "      <th>Turkey</th>\n",
       "      <th>US</th>\n",
       "      <th>US-France</th>\n",
       "      <th>Ukraine</th>\n",
       "      <th>Uruguay</th>\n",
       "    </tr>\n",
       "    <tr>\n",
       "      <th>date_f</th>\n",
       "      <th></th>\n",
       "      <th></th>\n",
       "      <th></th>\n",
       "      <th></th>\n",
       "      <th></th>\n",
       "      <th></th>\n",
       "      <th></th>\n",
       "      <th></th>\n",
       "      <th></th>\n",
       "      <th></th>\n",
       "      <th></th>\n",
       "      <th></th>\n",
       "      <th></th>\n",
       "      <th></th>\n",
       "      <th></th>\n",
       "      <th></th>\n",
       "      <th></th>\n",
       "      <th></th>\n",
       "      <th></th>\n",
       "      <th></th>\n",
       "      <th></th>\n",
       "    </tr>\n",
       "  </thead>\n",
       "  <tbody>\n",
       "    <tr>\n",
       "      <th>2025-01-01</th>\n",
       "      <td>NaN</td>\n",
       "      <td>1767920.0</td>\n",
       "      <td>2032672.0</td>\n",
       "      <td>286392.0</td>\n",
       "      <td>NaN</td>\n",
       "      <td>NaN</td>\n",
       "      <td>NaN</td>\n",
       "      <td>NaN</td>\n",
       "      <td>953332.0</td>\n",
       "      <td>NaN</td>\n",
       "      <td>...</td>\n",
       "      <td>Ataraxia</td>\n",
       "      <td>NaN</td>\n",
       "      <td>Portal del MontsantSeis de Azul y GaranzaFinca...</td>\n",
       "      <td>NaN</td>\n",
       "      <td>NaN</td>\n",
       "      <td>NaN</td>\n",
       "      <td>AuspicionMcIntyre VineyardsPeter Paul WinesDr....</td>\n",
       "      <td>NaN</td>\n",
       "      <td>NaN</td>\n",
       "      <td>NaN</td>\n",
       "    </tr>\n",
       "    <tr>\n",
       "      <th>2025-01-02</th>\n",
       "      <td>NaN</td>\n",
       "      <td>1199403.0</td>\n",
       "      <td>989714.0</td>\n",
       "      <td>489528.0</td>\n",
       "      <td>NaN</td>\n",
       "      <td>75533.0</td>\n",
       "      <td>NaN</td>\n",
       "      <td>NaN</td>\n",
       "      <td>1201865.0</td>\n",
       "      <td>NaN</td>\n",
       "      <td>...</td>\n",
       "      <td>Pecan StreamSpringfield EstateDe TorenWildekra...</td>\n",
       "      <td>NaN</td>\n",
       "      <td>CampiñaMontgóBodegas ValdemarAlidisBodegas Pir...</td>\n",
       "      <td>NaN</td>\n",
       "      <td>NaN</td>\n",
       "      <td>NaN</td>\n",
       "      <td>Dussek Family CellarsOso LibreDecoyPietra Sant...</td>\n",
       "      <td>NaN</td>\n",
       "      <td>Artemovsk</td>\n",
       "      <td>Establecimiento Juanico</td>\n",
       "    </tr>\n",
       "    <tr>\n",
       "      <th>2025-01-03</th>\n",
       "      <td>NaN</td>\n",
       "      <td>1876499.0</td>\n",
       "      <td>1376149.0</td>\n",
       "      <td>550571.0</td>\n",
       "      <td>NaN</td>\n",
       "      <td>NaN</td>\n",
       "      <td>NaN</td>\n",
       "      <td>29020.0</td>\n",
       "      <td>838730.0</td>\n",
       "      <td>NaN</td>\n",
       "      <td>...</td>\n",
       "      <td>EssayVrede en LustBuitenverwachtingBouchard Fi...</td>\n",
       "      <td>NaN</td>\n",
       "      <td>V&amp;N; CellarsElias MoraPago del VostalMasies d'...</td>\n",
       "      <td>NaN</td>\n",
       "      <td>NaN</td>\n",
       "      <td>NaN</td>\n",
       "      <td>Arbor CrestBergströmHoveyBranderMounts14 Hands...</td>\n",
       "      <td>NaN</td>\n",
       "      <td>NaN</td>\n",
       "      <td>NaN</td>\n",
       "    </tr>\n",
       "  </tbody>\n",
       "</table>\n",
       "<p>3 rows × 480 columns</p>\n",
       "</div>"
      ],
      "text/plain": [
       "           Unnamed: 0                                                         \\\n",
       "country       Albania  Argentina  Australia   Austria Bosnia and Herzegovina   \n",
       "date_f                                                                         \n",
       "2025-01-01        NaN  1767920.0  2032672.0  286392.0                    NaN   \n",
       "2025-01-02        NaN  1199403.0   989714.0  489528.0                    NaN   \n",
       "2025-01-03        NaN  1876499.0  1376149.0  550571.0                    NaN   \n",
       "\n",
       "                                                        ...  \\\n",
       "country      Brazil Bulgaria   Canada      Chile China  ...   \n",
       "date_f                                                  ...   \n",
       "2025-01-01      NaN      NaN      NaN   953332.0   NaN  ...   \n",
       "2025-01-02  75533.0      NaN      NaN  1201865.0   NaN  ...   \n",
       "2025-01-03      NaN      NaN  29020.0   838730.0   NaN  ...   \n",
       "\n",
       "                                                       winery              \\\n",
       "country                                          South Africa South Korea   \n",
       "date_f                                                                      \n",
       "2025-01-01                                           Ataraxia         NaN   \n",
       "2025-01-02  Pecan StreamSpringfield EstateDe TorenWildekra...         NaN   \n",
       "2025-01-03  EssayVrede en LustBuitenverwachtingBouchard Fi...         NaN   \n",
       "\n",
       "                                                                           \\\n",
       "country                                                 Spain Switzerland   \n",
       "date_f                                                                      \n",
       "2025-01-01  Portal del MontsantSeis de Azul y GaranzaFinca...         NaN   \n",
       "2025-01-02  CampiñaMontgóBodegas ValdemarAlidisBodegas Pir...         NaN   \n",
       "2025-01-03  V&N; CellarsElias MoraPago del VostalMasies d'...         NaN   \n",
       "\n",
       "                                                                              \\\n",
       "country    Tunisia Turkey                                                 US   \n",
       "date_f                                                                         \n",
       "2025-01-01     NaN    NaN  AuspicionMcIntyre VineyardsPeter Paul WinesDr....   \n",
       "2025-01-02     NaN    NaN  Dussek Family CellarsOso LibreDecoyPietra Sant...   \n",
       "2025-01-03     NaN    NaN  Arbor CrestBergströmHoveyBranderMounts14 Hands...   \n",
       "\n",
       "                                                          \n",
       "country    US-France    Ukraine                  Uruguay  \n",
       "date_f                                                    \n",
       "2025-01-01       NaN        NaN                      NaN  \n",
       "2025-01-02       NaN  Artemovsk  Establecimiento Juanico  \n",
       "2025-01-03       NaN        NaN                      NaN  \n",
       "\n",
       "[3 rows x 480 columns]"
      ]
     },
     "execution_count": 75,
     "metadata": {},
     "output_type": "execute_result"
    }
   ],
   "source": [
    "\n",
    "pivot_df = df_limpieza.pivot_table(index=\"date_f\",columns=\"country\",aggfunc=\"sum\")\n",
    "pivot_df.head(3)"
   ]
  },
  {
   "cell_type": "code",
   "execution_count": 76,
   "id": "62dfe920",
   "metadata": {},
   "outputs": [
    {
     "data": {
      "text/html": [
       "<div>\n",
       "<style scoped>\n",
       "    .dataframe tbody tr th:only-of-type {\n",
       "        vertical-align: middle;\n",
       "    }\n",
       "\n",
       "    .dataframe tbody tr th {\n",
       "        vertical-align: top;\n",
       "    }\n",
       "\n",
       "    .dataframe thead th {\n",
       "        text-align: right;\n",
       "    }\n",
       "</style>\n",
       "<table border=\"1\" class=\"dataframe\">\n",
       "  <thead>\n",
       "    <tr style=\"text-align: right;\">\n",
       "      <th></th>\n",
       "      <th>date_f</th>\n",
       "      <th>country</th>\n",
       "      <th>value</th>\n",
       "    </tr>\n",
       "  </thead>\n",
       "  <tbody>\n",
       "    <tr>\n",
       "      <th>0</th>\n",
       "      <td>2025-04-13</td>\n",
       "      <td>index</td>\n",
       "      <td>0</td>\n",
       "    </tr>\n",
       "    <tr>\n",
       "      <th>1</th>\n",
       "      <td>2025-12-15</td>\n",
       "      <td>index</td>\n",
       "      <td>1</td>\n",
       "    </tr>\n",
       "    <tr>\n",
       "      <th>2</th>\n",
       "      <td>2025-09-28</td>\n",
       "      <td>index</td>\n",
       "      <td>2</td>\n",
       "    </tr>\n",
       "    <tr>\n",
       "      <th>3</th>\n",
       "      <td>2025-04-17</td>\n",
       "      <td>index</td>\n",
       "      <td>3</td>\n",
       "    </tr>\n",
       "    <tr>\n",
       "      <th>4</th>\n",
       "      <td>2025-03-13</td>\n",
       "      <td>index</td>\n",
       "      <td>4</td>\n",
       "    </tr>\n",
       "  </tbody>\n",
       "</table>\n",
       "</div>"
      ],
      "text/plain": [
       "      date_f country value\n",
       "0 2025-04-13   index     0\n",
       "1 2025-12-15   index     1\n",
       "2 2025-09-28   index     2\n",
       "3 2025-04-17   index     3\n",
       "4 2025-03-13   index     4"
      ]
     },
     "execution_count": 76,
     "metadata": {},
     "output_type": "execute_result"
    }
   ],
   "source": [
    "df_long = df_limpieza.reset_index().melt(id_vars=\"date_f\",var_name=\"country\")\n",
    "df_long.head()"
   ]
  },
  {
   "cell_type": "markdown",
   "id": "f534a747",
   "metadata": {},
   "source": [
    "### rank\n",
    "- rank es un método de pandas que asigna un rango numérico a cada valor de una Serie o DataFrame, en función de su posición relativa."
   ]
  },
  {
   "cell_type": "code",
   "execution_count": 77,
   "id": "591936b2",
   "metadata": {},
   "outputs": [
    {
     "data": {
      "text/html": [
       "<div>\n",
       "<style scoped>\n",
       "    .dataframe tbody tr th:only-of-type {\n",
       "        vertical-align: middle;\n",
       "    }\n",
       "\n",
       "    .dataframe tbody tr th {\n",
       "        vertical-align: top;\n",
       "    }\n",
       "\n",
       "    .dataframe thead th {\n",
       "        text-align: right;\n",
       "    }\n",
       "</style>\n",
       "<table border=\"1\" class=\"dataframe\">\n",
       "  <thead>\n",
       "    <tr style=\"text-align: right;\">\n",
       "      <th></th>\n",
       "      <th>country</th>\n",
       "      <th>rank_country</th>\n",
       "    </tr>\n",
       "  </thead>\n",
       "  <tbody>\n",
       "    <tr>\n",
       "      <th>0</th>\n",
       "      <td>US</td>\n",
       "      <td>14.0</td>\n",
       "    </tr>\n",
       "    <tr>\n",
       "      <th>1</th>\n",
       "      <td>Spain</td>\n",
       "      <td>75.0</td>\n",
       "    </tr>\n",
       "    <tr>\n",
       "      <th>2</th>\n",
       "      <td>US</td>\n",
       "      <td>64.0</td>\n",
       "    </tr>\n",
       "    <tr>\n",
       "      <th>3</th>\n",
       "      <td>US</td>\n",
       "      <td>88.0</td>\n",
       "    </tr>\n",
       "    <tr>\n",
       "      <th>4</th>\n",
       "      <td>France</td>\n",
       "      <td>232.0</td>\n",
       "    </tr>\n",
       "  </tbody>\n",
       "</table>\n",
       "</div>"
      ],
      "text/plain": [
       "  country  rank_country\n",
       "0      US          14.0\n",
       "1   Spain          75.0\n",
       "2      US          64.0\n",
       "3      US          88.0\n",
       "4  France         232.0"
      ]
     },
     "execution_count": 77,
     "metadata": {},
     "output_type": "execute_result"
    }
   ],
   "source": [
    "df_limpieza = df_csv.copy()\n",
    "df_limpieza[\"rank_country\"]= df_limpieza.groupby(\"country\")[\"price\"].rank(ascending=False,method=\"dense\")\n",
    "df_limpieza[[\"country\",\"rank_country\"]].head()"
   ]
  },
  {
   "cell_type": "markdown",
   "id": "ebadac36",
   "metadata": {},
   "source": [
    "# Agrupaciones, pivotes y ventanas"
   ]
  },
  {
   "cell_type": "markdown",
   "id": "fe842877",
   "metadata": {},
   "source": [
    "### groupby básico"
   ]
  },
  {
   "cell_type": "code",
   "execution_count": 79,
   "id": "25c713cd",
   "metadata": {},
   "outputs": [
    {
     "data": {
      "text/html": [
       "<div>\n",
       "<style scoped>\n",
       "    .dataframe tbody tr th:only-of-type {\n",
       "        vertical-align: middle;\n",
       "    }\n",
       "\n",
       "    .dataframe tbody tr th {\n",
       "        vertical-align: top;\n",
       "    }\n",
       "\n",
       "    .dataframe thead th {\n",
       "        text-align: right;\n",
       "    }\n",
       "</style>\n",
       "<table border=\"1\" class=\"dataframe\">\n",
       "  <thead>\n",
       "    <tr style=\"text-align: right;\">\n",
       "      <th></th>\n",
       "      <th></th>\n",
       "      <th>sum</th>\n",
       "      <th>mean</th>\n",
       "    </tr>\n",
       "    <tr>\n",
       "      <th>country</th>\n",
       "      <th>points</th>\n",
       "      <th></th>\n",
       "      <th></th>\n",
       "    </tr>\n",
       "  </thead>\n",
       "  <tbody>\n",
       "    <tr>\n",
       "      <th>Albania</th>\n",
       "      <th>88</th>\n",
       "      <td>40.0</td>\n",
       "      <td>20.000000</td>\n",
       "    </tr>\n",
       "    <tr>\n",
       "      <th rowspan=\"4\" valign=\"top\">Argentina</th>\n",
       "      <th>80</th>\n",
       "      <td>1967.0</td>\n",
       "      <td>12.940789</td>\n",
       "    </tr>\n",
       "    <tr>\n",
       "      <th>81</th>\n",
       "      <td>2854.0</td>\n",
       "      <td>12.741071</td>\n",
       "    </tr>\n",
       "    <tr>\n",
       "      <th>82</th>\n",
       "      <td>3814.0</td>\n",
       "      <td>12.713333</td>\n",
       "    </tr>\n",
       "    <tr>\n",
       "      <th>83</th>\n",
       "      <td>7866.0</td>\n",
       "      <td>13.446154</td>\n",
       "    </tr>\n",
       "  </tbody>\n",
       "</table>\n",
       "</div>"
      ],
      "text/plain": [
       "                     sum       mean\n",
       "country   points                   \n",
       "Albania   88        40.0  20.000000\n",
       "Argentina 80      1967.0  12.940789\n",
       "          81      2854.0  12.741071\n",
       "          82      3814.0  12.713333\n",
       "          83      7866.0  13.446154"
      ]
     },
     "execution_count": 79,
     "metadata": {},
     "output_type": "execute_result"
    }
   ],
   "source": [
    "df_limpieza = df_csv.copy()\n",
    "df_limpieza.groupby([\"country\",\"points\"])[\"price\"].agg([\"sum\",\"mean\"]).head()"
   ]
  }
 ],
 "metadata": {
  "kernelspec": {
   "display_name": "Python 3",
   "language": "python",
   "name": "python3"
  },
  "language_info": {
   "codemirror_mode": {
    "name": "ipython",
    "version": 3
   },
   "file_extension": ".py",
   "mimetype": "text/x-python",
   "name": "python",
   "nbconvert_exporter": "python",
   "pygments_lexer": "ipython3",
   "version": "3.12.1"
  }
 },
 "nbformat": 4,
 "nbformat_minor": 5
}
