{
 "cells": [
  {
   "cell_type": "markdown",
   "id": "2b0a60ea",
   "metadata": {},
   "source": [
    "# Pandas "
   ]
  },
  {
   "cell_type": "markdown",
   "id": "dbfa3cb5",
   "metadata": {},
   "source": [
    "## contenido\n",
    "- Fundamentos y E/S\n",
    "- Selección, filtrado e indexación \n",
    "- Limpieza y preparación de datos \n",
    "- Transformaciones y funciones\n",
    "- Agrupaciones, pivotes y ventanas \n",
    "- Joins, concat y reshaping \n",
    "- Series de tiempo \n",
    "- Texto y categóricos\n",
    "- Rendimiento y depuración\n",
    "- Visualización con Matplotlib \n",
    "\n",
    "[Cheat sheet](https://pandas.pydata.org/Pandas_Cheat_Sheet.pdf)"
   ]
  },
  {
   "cell_type": "markdown",
   "id": "690f91c9",
   "metadata": {},
   "source": [
    "# importaciones"
   ]
  },
  {
   "cell_type": "code",
   "execution_count": null,
   "id": "4e1ffcbd",
   "metadata": {},
   "outputs": [],
   "source": [
    "import numpy as np\n",
    "import pandas as pd\n",
    "from pathlib import Path"
   ]
  },
  {
   "cell_type": "markdown",
   "id": "f61ddc99",
   "metadata": {},
   "source": [
    "# rutas"
   ]
  },
  {
   "cell_type": "code",
   "execution_count": null,
   "id": "36d797ca",
   "metadata": {},
   "outputs": [],
   "source": [
    "np.random.seed(42)\n",
    "data_dir = Path('static/data/')\n",
    "data_dir.mkdir(parents=True, exist_ok=True)"
   ]
  },
  {
   "cell_type": "markdown",
   "id": "b2878ea3",
   "metadata": {},
   "source": [
    "# Fundamentos y E/S"
   ]
  },
  {
   "cell_type": "markdown",
   "id": "f3cd303f",
   "metadata": {},
   "source": [
    "### Crear Series y DataFrames\n",
    "\n",
    "![Serie](static/img/serie.png) ![DataFrame](static/img/dataframe.png) "
   ]
  },
  {
   "cell_type": "code",
   "execution_count": 13,
   "id": "3195a131",
   "metadata": {},
   "outputs": [
    {
     "name": "stdout",
     "output_type": "stream",
     "text": [
      "0    x\n",
      "1    y\n",
      "2    z\n",
      "Name: S, dtype: object\n"
     ]
    }
   ],
   "source": [
    "s = [\"x\",\"y\",\"z\"]\n",
    "series = pd.Series(s, name=\"S\")\n",
    "print(series)"
   ]
  },
  {
   "cell_type": "code",
   "execution_count": 14,
   "id": "731322c1",
   "metadata": {},
   "outputs": [
    {
     "name": "stdout",
     "output_type": "stream",
     "text": [
      "   A  B\n",
      "0  1  x\n",
      "1  2  y\n",
      "2  3  z\n"
     ]
    }
   ],
   "source": [
    "a = [1,2,3]\n",
    "b = [\"x\",\"y\",\"z\"]\n",
    "df = pd.DataFrame({\"A\":a, \"B\":b})\n",
    "print(df)"
   ]
  },
  {
   "cell_type": "markdown",
   "id": "3d2da592",
   "metadata": {},
   "source": [
    "### Lectura"
   ]
  },
  {
   "cell_type": "code",
   "execution_count": 20,
   "id": "08071e25",
   "metadata": {},
   "outputs": [
    {
     "data": {
      "application/vnd.microsoft.datawrangler.viewer.v0+json": {
       "columns": [
        {
         "name": "index",
         "rawType": "int64",
         "type": "integer"
        },
        {
         "name": "country",
         "rawType": "object",
         "type": "string"
        },
        {
         "name": "designation",
         "rawType": "object",
         "type": "string"
        },
        {
         "name": "points",
         "rawType": "float64",
         "type": "float"
        },
        {
         "name": "price",
         "rawType": "float64",
         "type": "float"
        },
        {
         "name": "province",
         "rawType": "object",
         "type": "string"
        },
        {
         "name": "region_1",
         "rawType": "object",
         "type": "string"
        },
        {
         "name": "region_2",
         "rawType": "object",
         "type": "unknown"
        },
        {
         "name": "variety",
         "rawType": "object",
         "type": "string"
        },
        {
         "name": "winery",
         "rawType": "object",
         "type": "string"
        },
        {
         "name": "last_year_points",
         "rawType": "int64",
         "type": "integer"
        }
       ],
       "ref": "16d80bcb-ab12-4586-b05b-3cf0f2b58c2f",
       "rows": [
        [
         "0",
         "US",
         "Martha's Vineyard",
         "96.0",
         "235.0",
         "California",
         "Napa Valley",
         "Napa",
         "Cabernet Sauvignon",
         "Heitz",
         "94"
        ],
        [
         "1",
         "Spain",
         "Carodorum Selección Especial Reserva",
         "96.0",
         "110.0",
         "Northern Spain",
         "Toro",
         null,
         "Tinta de Toro",
         "Bodega Carmen Rodríguez",
         "92"
        ]
       ],
       "shape": {
        "columns": 10,
        "rows": 2
       }
      },
      "text/html": [
       "<div>\n",
       "<style scoped>\n",
       "    .dataframe tbody tr th:only-of-type {\n",
       "        vertical-align: middle;\n",
       "    }\n",
       "\n",
       "    .dataframe tbody tr th {\n",
       "        vertical-align: top;\n",
       "    }\n",
       "\n",
       "    .dataframe thead th {\n",
       "        text-align: right;\n",
       "    }\n",
       "</style>\n",
       "<table border=\"1\" class=\"dataframe\">\n",
       "  <thead>\n",
       "    <tr style=\"text-align: right;\">\n",
       "      <th></th>\n",
       "      <th>country</th>\n",
       "      <th>designation</th>\n",
       "      <th>points</th>\n",
       "      <th>price</th>\n",
       "      <th>province</th>\n",
       "      <th>region_1</th>\n",
       "      <th>region_2</th>\n",
       "      <th>variety</th>\n",
       "      <th>winery</th>\n",
       "      <th>last_year_points</th>\n",
       "    </tr>\n",
       "  </thead>\n",
       "  <tbody>\n",
       "    <tr>\n",
       "      <th>0</th>\n",
       "      <td>US</td>\n",
       "      <td>Martha's Vineyard</td>\n",
       "      <td>96.0</td>\n",
       "      <td>235.0</td>\n",
       "      <td>California</td>\n",
       "      <td>Napa Valley</td>\n",
       "      <td>Napa</td>\n",
       "      <td>Cabernet Sauvignon</td>\n",
       "      <td>Heitz</td>\n",
       "      <td>94</td>\n",
       "    </tr>\n",
       "    <tr>\n",
       "      <th>1</th>\n",
       "      <td>Spain</td>\n",
       "      <td>Carodorum Selección Especial Reserva</td>\n",
       "      <td>96.0</td>\n",
       "      <td>110.0</td>\n",
       "      <td>Northern Spain</td>\n",
       "      <td>Toro</td>\n",
       "      <td>NaN</td>\n",
       "      <td>Tinta de Toro</td>\n",
       "      <td>Bodega Carmen Rodríguez</td>\n",
       "      <td>92</td>\n",
       "    </tr>\n",
       "  </tbody>\n",
       "</table>\n",
       "</div>"
      ],
      "text/plain": [
       "  country                           designation  points  price  \\\n",
       "0      US                     Martha's Vineyard    96.0  235.0   \n",
       "1   Spain  Carodorum Selección Especial Reserva    96.0  110.0   \n",
       "\n",
       "         province     region_1 region_2             variety  \\\n",
       "0      California  Napa Valley     Napa  Cabernet Sauvignon   \n",
       "1  Northern Spain         Toro      NaN       Tinta de Toro   \n",
       "\n",
       "                    winery  last_year_points  \n",
       "0                    Heitz                94  \n",
       "1  Bodega Carmen Rodríguez                92  "
      ]
     },
     "execution_count": 20,
     "metadata": {},
     "output_type": "execute_result"
    }
   ],
   "source": [
    "# ruta\n",
    "ruta_csv = \"static/csv/winemag-data_first150k.csv\"\n",
    "# variable\n",
    "#lectura de csv\n",
    "df_csv = pd.read_csv(ruta_csv,delimiter=\";\")\n",
    "df_csv.head(2)\n",
    "#lectura de excel\n",
    "#ruta_excel = \"static/excel/mi_excel.xlsx\"\n",
    "#df_excel = pd.read_excel(ruta_excel, sheet_name=\"Hoja1\")\n",
    "#LECTURA DE JSON\n",
    "# ruta_json = \"static/json/mi_json.json\"  \n",
    "# df_json = pd.read_json(ruta_json)\n",
    "#LECTURA DE HTML\n",
    "# ruta_html = \"static/html/mi_html.html\"\n",
    "# df_html = pd.read_html(ruta_html)\n",
    "#LECTURA DE PARQUET\n",
    "# ruta_parquet = \"static/parquet/mi_parquet.parquet\"    \n",
    "# df_parquet = pd.read_parquet(ruta_parquet)"
   ]
  },
  {
   "cell_type": "markdown",
   "id": "d38e98a2",
   "metadata": {},
   "source": [
    "### Selección de columnas"
   ]
  },
  {
   "cell_type": "code",
   "execution_count": 22,
   "id": "af4c561e",
   "metadata": {},
   "outputs": [
    {
     "data": {
      "text/plain": [
       "['country',\n",
       " 'designation',\n",
       " 'points',\n",
       " 'price',\n",
       " 'province',\n",
       " 'region_1',\n",
       " 'region_2',\n",
       " 'variety',\n",
       " 'winery',\n",
       " 'last_year_points']"
      ]
     },
     "execution_count": 22,
     "metadata": {},
     "output_type": "execute_result"
    }
   ],
   "source": [
    "columnas = ['country', 'designation', 'points', 'price', 'province', 'region_1','region_2', 'variety', 'winery', 'last_year_points']\n",
    "columnas"
   ]
  },
  {
   "cell_type": "code",
   "execution_count": 23,
   "id": "2d9221f6",
   "metadata": {},
   "outputs": [
    {
     "data": {
      "application/vnd.microsoft.datawrangler.viewer.v0+json": {
       "columns": [
        {
         "name": "index",
         "rawType": "int64",
         "type": "integer"
        },
        {
         "name": "country",
         "rawType": "object",
         "type": "string"
        }
       ],
       "ref": "7a9f45d8-793c-4793-8036-6d213d809bdf",
       "rows": [
        [
         "0",
         "US"
        ],
        [
         "1",
         "Spain"
        ]
       ],
       "shape": {
        "columns": 1,
        "rows": 2
       }
      },
      "text/plain": [
       "0       US\n",
       "1    Spain\n",
       "Name: country, dtype: object"
      ]
     },
     "execution_count": 23,
     "metadata": {},
     "output_type": "execute_result"
    }
   ],
   "source": [
    "columnas_filtradas = ['country', 'designation', 'price']\n",
    "df_csv['country'].head(2)"
   ]
  },
  {
   "cell_type": "code",
   "execution_count": 25,
   "id": "b18e0aaa",
   "metadata": {},
   "outputs": [
    {
     "data": {
      "application/vnd.microsoft.datawrangler.viewer.v0+json": {
       "columns": [
        {
         "name": "index",
         "rawType": "int64",
         "type": "integer"
        },
        {
         "name": "country",
         "rawType": "object",
         "type": "string"
        },
        {
         "name": "designation",
         "rawType": "object",
         "type": "string"
        },
        {
         "name": "price",
         "rawType": "float64",
         "type": "float"
        }
       ],
       "ref": "fef2195e-3c68-48fd-a5f2-d693732afcdf",
       "rows": [
        [
         "0",
         "US",
         "Martha's Vineyard",
         "235.0"
        ],
        [
         "1",
         "Spain",
         "Carodorum Selección Especial Reserva",
         "110.0"
        ]
       ],
       "shape": {
        "columns": 3,
        "rows": 2
       }
      },
      "text/html": [
       "<div>\n",
       "<style scoped>\n",
       "    .dataframe tbody tr th:only-of-type {\n",
       "        vertical-align: middle;\n",
       "    }\n",
       "\n",
       "    .dataframe tbody tr th {\n",
       "        vertical-align: top;\n",
       "    }\n",
       "\n",
       "    .dataframe thead th {\n",
       "        text-align: right;\n",
       "    }\n",
       "</style>\n",
       "<table border=\"1\" class=\"dataframe\">\n",
       "  <thead>\n",
       "    <tr style=\"text-align: right;\">\n",
       "      <th></th>\n",
       "      <th>country</th>\n",
       "      <th>designation</th>\n",
       "      <th>price</th>\n",
       "    </tr>\n",
       "  </thead>\n",
       "  <tbody>\n",
       "    <tr>\n",
       "      <th>0</th>\n",
       "      <td>US</td>\n",
       "      <td>Martha's Vineyard</td>\n",
       "      <td>235.0</td>\n",
       "    </tr>\n",
       "    <tr>\n",
       "      <th>1</th>\n",
       "      <td>Spain</td>\n",
       "      <td>Carodorum Selección Especial Reserva</td>\n",
       "      <td>110.0</td>\n",
       "    </tr>\n",
       "  </tbody>\n",
       "</table>\n",
       "</div>"
      ],
      "text/plain": [
       "  country                           designation  price\n",
       "0      US                     Martha's Vineyard  235.0\n",
       "1   Spain  Carodorum Selección Especial Reserva  110.0"
      ]
     },
     "execution_count": 25,
     "metadata": {},
     "output_type": "execute_result"
    }
   ],
   "source": [
    "columnas_filtradas = ['country', 'designation', 'price']\n",
    "df_csv[columnas_filtradas].head(2)\n",
    "#df_2 =df_csv[columnas_filtradas].head(2)"
   ]
  },
  {
   "cell_type": "markdown",
   "id": "cfa8806d",
   "metadata": {},
   "source": [
    "### Información general dataframe"
   ]
  },
  {
   "cell_type": "code",
   "execution_count": 26,
   "id": "8ece8ebc",
   "metadata": {},
   "outputs": [
    {
     "name": "stdout",
     "output_type": "stream",
     "text": [
      "<class 'pandas.core.frame.DataFrame'>\n",
      "RangeIndex: 144037 entries, 0 to 144036\n",
      "Data columns (total 10 columns):\n",
      " #   Column            Non-Null Count   Dtype  \n",
      "---  ------            --------------   -----  \n",
      " 0   country           144035 non-null  object \n",
      " 1   designation       100211 non-null  object \n",
      " 2   points            144032 non-null  float64\n",
      " 3   price             130641 non-null  float64\n",
      " 4   province          144030 non-null  object \n",
      " 5   region_1          120192 non-null  object \n",
      " 6   region_2          58378 non-null   object \n",
      " 7   variety           144032 non-null  object \n",
      " 8   winery            144032 non-null  object \n",
      " 9   last_year_points  144037 non-null  int64  \n",
      "dtypes: float64(2), int64(1), object(7)\n",
      "memory usage: 11.0+ MB\n"
     ]
    }
   ],
   "source": [
    "df_csv.info()"
   ]
  },
  {
   "cell_type": "code",
   "execution_count": 28,
   "id": "41475796",
   "metadata": {},
   "outputs": [
    {
     "data": {
      "application/vnd.microsoft.datawrangler.viewer.v0+json": {
       "columns": [
        {
         "name": "index",
         "rawType": "object",
         "type": "string"
        },
        {
         "name": "points",
         "rawType": "float64",
         "type": "float"
        },
        {
         "name": "price",
         "rawType": "float64",
         "type": "float"
        },
        {
         "name": "last_year_points",
         "rawType": "float64",
         "type": "float"
        }
       ],
       "ref": "c1836f54-5c42-4445-99f1-6b250aa2ca53",
       "rows": [
        [
         "count",
         "144032.0",
         "130641.0",
         "144037.0"
        ],
        [
         "mean",
         "87.87342396134193",
         "33.12339923913626",
         "89.99845178669369"
        ],
        [
         "std",
         "3.2158211384041513",
         "36.368176847459615",
         "6.050240387805439"
        ],
        [
         "min",
         "80.0",
         "4.0",
         "80.0"
        ],
        [
         "25%",
         "86.0",
         "16.0",
         "85.0"
        ],
        [
         "50%",
         "88.0",
         "24.0",
         "90.0"
        ],
        [
         "75%",
         "90.0",
         "40.0",
         "95.0"
        ],
        [
         "max",
         "100.0",
         "2300.0",
         "100.0"
        ]
       ],
       "shape": {
        "columns": 3,
        "rows": 8
       }
      },
      "text/html": [
       "<div>\n",
       "<style scoped>\n",
       "    .dataframe tbody tr th:only-of-type {\n",
       "        vertical-align: middle;\n",
       "    }\n",
       "\n",
       "    .dataframe tbody tr th {\n",
       "        vertical-align: top;\n",
       "    }\n",
       "\n",
       "    .dataframe thead th {\n",
       "        text-align: right;\n",
       "    }\n",
       "</style>\n",
       "<table border=\"1\" class=\"dataframe\">\n",
       "  <thead>\n",
       "    <tr style=\"text-align: right;\">\n",
       "      <th></th>\n",
       "      <th>points</th>\n",
       "      <th>price</th>\n",
       "      <th>last_year_points</th>\n",
       "    </tr>\n",
       "  </thead>\n",
       "  <tbody>\n",
       "    <tr>\n",
       "      <th>count</th>\n",
       "      <td>144032.000000</td>\n",
       "      <td>130641.000000</td>\n",
       "      <td>144037.000000</td>\n",
       "    </tr>\n",
       "    <tr>\n",
       "      <th>mean</th>\n",
       "      <td>87.873424</td>\n",
       "      <td>33.123399</td>\n",
       "      <td>89.998452</td>\n",
       "    </tr>\n",
       "    <tr>\n",
       "      <th>std</th>\n",
       "      <td>3.215821</td>\n",
       "      <td>36.368177</td>\n",
       "      <td>6.050240</td>\n",
       "    </tr>\n",
       "    <tr>\n",
       "      <th>min</th>\n",
       "      <td>80.000000</td>\n",
       "      <td>4.000000</td>\n",
       "      <td>80.000000</td>\n",
       "    </tr>\n",
       "    <tr>\n",
       "      <th>25%</th>\n",
       "      <td>86.000000</td>\n",
       "      <td>16.000000</td>\n",
       "      <td>85.000000</td>\n",
       "    </tr>\n",
       "    <tr>\n",
       "      <th>50%</th>\n",
       "      <td>88.000000</td>\n",
       "      <td>24.000000</td>\n",
       "      <td>90.000000</td>\n",
       "    </tr>\n",
       "    <tr>\n",
       "      <th>75%</th>\n",
       "      <td>90.000000</td>\n",
       "      <td>40.000000</td>\n",
       "      <td>95.000000</td>\n",
       "    </tr>\n",
       "    <tr>\n",
       "      <th>max</th>\n",
       "      <td>100.000000</td>\n",
       "      <td>2300.000000</td>\n",
       "      <td>100.000000</td>\n",
       "    </tr>\n",
       "  </tbody>\n",
       "</table>\n",
       "</div>"
      ],
      "text/plain": [
       "              points          price  last_year_points\n",
       "count  144032.000000  130641.000000     144037.000000\n",
       "mean       87.873424      33.123399         89.998452\n",
       "std         3.215821      36.368177          6.050240\n",
       "min        80.000000       4.000000         80.000000\n",
       "25%        86.000000      16.000000         85.000000\n",
       "50%        88.000000      24.000000         90.000000\n",
       "75%        90.000000      40.000000         95.000000\n",
       "max       100.000000    2300.000000        100.000000"
      ]
     },
     "execution_count": 28,
     "metadata": {},
     "output_type": "execute_result"
    }
   ],
   "source": [
    "df_csv.describe()"
   ]
  },
  {
   "cell_type": "markdown",
   "id": "b2b9ddec",
   "metadata": {},
   "source": [
    "### Tipos de Conversion"
   ]
  },
  {
   "cell_type": "code",
   "execution_count": 29,
   "id": "818de027",
   "metadata": {},
   "outputs": [
    {
     "data": {
      "text/plain": [
       "144037"
      ]
     },
     "execution_count": 29,
     "metadata": {},
     "output_type": "execute_result"
    }
   ],
   "source": [
    "len(df_csv)"
   ]
  },
  {
   "cell_type": "code",
   "execution_count": 33,
   "id": "904ef0f7",
   "metadata": {},
   "outputs": [
    {
     "data": {
      "application/vnd.microsoft.datawrangler.viewer.v0+json": {
       "columns": [
        {
         "name": "index",
         "rawType": "int64",
         "type": "integer"
        },
        {
         "name": "date_f",
         "rawType": "datetime64[ns]",
         "type": "datetime"
        }
       ],
       "ref": "e43c0cbe-dbc9-423c-9590-034af2aa5399",
       "rows": [
        [
         "0",
         "2025-10-30 00:00:00"
        ],
        [
         "1",
         "2025-02-01 00:00:00"
        ]
       ],
       "shape": {
        "columns": 1,
        "rows": 2
       }
      },
      "text/plain": [
       "0   2025-10-30\n",
       "1   2025-02-01\n",
       "Name: date_f, dtype: datetime64[ns]"
      ]
     },
     "execution_count": 33,
     "metadata": {},
     "output_type": "execute_result"
    }
   ],
   "source": [
    "df_csv[\"date_f\"]= np.random.choice(pd.date_range(\"2025-01-01\", \"2025-12-31\"), size=len(df_csv))\n",
    "df_csv[\"date_f\"].head(2)"
   ]
  },
  {
   "cell_type": "code",
   "execution_count": null,
   "id": "c95092f7",
   "metadata": {},
   "outputs": [
    {
     "data": {
      "application/vnd.microsoft.datawrangler.viewer.v0+json": {
       "columns": [
        {
         "name": "index",
         "rawType": "int64",
         "type": "integer"
        },
        {
         "name": "fecha",
         "rawType": "datetime64[ns]",
         "type": "datetime"
        }
       ],
       "ref": "ae6a414a-d5fe-4353-a027-d2e41fdc846d",
       "rows": [
        [
         "0",
         "2025-10-30 00:00:00"
        ],
        [
         "1",
         "2025-02-01 00:00:00"
        ]
       ],
       "shape": {
        "columns": 1,
        "rows": 2
       }
      },
      "text/plain": [
       "0   2025-10-30\n",
       "1   2025-02-01\n",
       "Name: fecha, dtype: datetime64[ns]"
      ]
     },
     "execution_count": 35,
     "metadata": {},
     "output_type": "execute_result"
    }
   ],
   "source": [
    "df_fecha = pd.DataFrame()\n",
    "df_fecha[\"fecha\"] = pd.to_datetime(df_csv[\"date_f\"], format=\"%Y-%m-%d\")\n",
    "#df_fecha[\"fecha\"] = pd.to_datetime(df_csv[\"date_f\"], format=\"%Y-%m-%d\")\n",
    "df_fecha[\"fecha\"].head(2)"
   ]
  },
  {
   "cell_type": "code",
   "execution_count": 36,
   "id": "b38b398a",
   "metadata": {},
   "outputs": [
    {
     "data": {
      "application/vnd.microsoft.datawrangler.viewer.v0+json": {
       "columns": [
        {
         "name": "index",
         "rawType": "object",
         "type": "string"
        },
        {
         "name": "0",
         "rawType": "datetime64[ns]",
         "type": "datetime"
        }
       ],
       "ref": "15cf68a3-ac20-4730-96fe-17743ccba99a",
       "rows": [
        [
         "fecha",
         "2025-01-01 00:00:00"
        ]
       ],
       "shape": {
        "columns": 1,
        "rows": 1
       }
      },
      "text/plain": [
       "fecha   2025-01-01\n",
       "dtype: datetime64[ns]"
      ]
     },
     "execution_count": 36,
     "metadata": {},
     "output_type": "execute_result"
    }
   ],
   "source": [
    "df_fecha.min()"
   ]
  },
  {
   "cell_type": "code",
   "execution_count": 37,
   "id": "bbc10099",
   "metadata": {},
   "outputs": [
    {
     "data": {
      "application/vnd.microsoft.datawrangler.viewer.v0+json": {
       "columns": [
        {
         "name": "index",
         "rawType": "object",
         "type": "string"
        },
        {
         "name": "0",
         "rawType": "datetime64[ns]",
         "type": "datetime"
        }
       ],
       "ref": "05e73e09-9635-4ba6-b7fc-726c7aeac167",
       "rows": [
        [
         "fecha",
         "2025-12-31 00:00:00"
        ]
       ],
       "shape": {
        "columns": 1,
        "rows": 1
       }
      },
      "text/plain": [
       "fecha   2025-12-31\n",
       "dtype: datetime64[ns]"
      ]
     },
     "execution_count": 37,
     "metadata": {},
     "output_type": "execute_result"
    }
   ],
   "source": [
    "df_fecha.max()"
   ]
  },
  {
   "cell_type": "markdown",
   "id": "4c004dae",
   "metadata": {},
   "source": [
    "### Guardado de subconjunto"
   ]
  },
  {
   "cell_type": "code",
   "execution_count": 39,
   "id": "52c0db3b",
   "metadata": {},
   "outputs": [],
   "source": [
    "df_fecha[\"fecha2\"] = pd.to_datetime(df_csv[\"date_f\"], format=\"%Y-%m-%d\").copy()"
   ]
  },
  {
   "cell_type": "code",
   "execution_count": 41,
   "id": "b66ebf93",
   "metadata": {},
   "outputs": [
    {
     "data": {
      "application/vnd.microsoft.datawrangler.viewer.v0+json": {
       "columns": [
        {
         "name": "index",
         "rawType": "int64",
         "type": "integer"
        },
        {
         "name": "fecha",
         "rawType": "datetime64[ns]",
         "type": "datetime"
        },
        {
         "name": "fecha2",
         "rawType": "datetime64[ns]",
         "type": "datetime"
        }
       ],
       "ref": "665fedf4-d06c-4b26-9f57-555bfeb60c11",
       "rows": [
        [
         "0",
         "2025-10-30 00:00:00",
         "2025-10-30 00:00:00"
        ],
        [
         "6",
         "2025-10-25 00:00:00",
         "2025-10-25 00:00:00"
        ],
        [
         "7",
         "2025-11-26 00:00:00",
         "2025-11-26 00:00:00"
        ],
        [
         "14",
         "2025-12-04 00:00:00",
         "2025-12-04 00:00:00"
        ],
        [
         "15",
         "2025-12-10 00:00:00",
         "2025-12-10 00:00:00"
        ],
        [
         "16",
         "2025-10-30 00:00:00",
         "2025-10-30 00:00:00"
        ],
        [
         "17",
         "2025-11-28 00:00:00",
         "2025-11-28 00:00:00"
        ],
        [
         "18",
         "2025-11-04 00:00:00",
         "2025-11-04 00:00:00"
        ],
        [
         "21",
         "2025-09-24 00:00:00",
         "2025-09-24 00:00:00"
        ],
        [
         "24",
         "2025-10-01 00:00:00",
         "2025-10-01 00:00:00"
        ],
        [
         "28",
         "2025-12-21 00:00:00",
         "2025-12-21 00:00:00"
        ],
        [
         "31",
         "2025-12-03 00:00:00",
         "2025-12-03 00:00:00"
        ],
        [
         "32",
         "2025-12-13 00:00:00",
         "2025-12-13 00:00:00"
        ],
        [
         "35",
         "2025-12-04 00:00:00",
         "2025-12-04 00:00:00"
        ],
        [
         "36",
         "2025-12-12 00:00:00",
         "2025-12-12 00:00:00"
        ],
        [
         "37",
         "2025-10-03 00:00:00",
         "2025-10-03 00:00:00"
        ],
        [
         "39",
         "2025-11-24 00:00:00",
         "2025-11-24 00:00:00"
        ],
        [
         "42",
         "2025-10-25 00:00:00",
         "2025-10-25 00:00:00"
        ],
        [
         "47",
         "2025-12-25 00:00:00",
         "2025-12-25 00:00:00"
        ],
        [
         "48",
         "2025-11-14 00:00:00",
         "2025-11-14 00:00:00"
        ],
        [
         "50",
         "2025-09-09 00:00:00",
         "2025-09-09 00:00:00"
        ],
        [
         "53",
         "2025-12-05 00:00:00",
         "2025-12-05 00:00:00"
        ],
        [
         "57",
         "2025-10-07 00:00:00",
         "2025-10-07 00:00:00"
        ],
        [
         "61",
         "2025-09-01 00:00:00",
         "2025-09-01 00:00:00"
        ],
        [
         "62",
         "2025-10-30 00:00:00",
         "2025-10-30 00:00:00"
        ],
        [
         "64",
         "2025-09-07 00:00:00",
         "2025-09-07 00:00:00"
        ],
        [
         "66",
         "2025-09-16 00:00:00",
         "2025-09-16 00:00:00"
        ],
        [
         "68",
         "2025-09-17 00:00:00",
         "2025-09-17 00:00:00"
        ],
        [
         "72",
         "2025-12-30 00:00:00",
         "2025-12-30 00:00:00"
        ],
        [
         "77",
         "2025-10-08 00:00:00",
         "2025-10-08 00:00:00"
        ],
        [
         "81",
         "2025-09-28 00:00:00",
         "2025-09-28 00:00:00"
        ],
        [
         "87",
         "2025-10-10 00:00:00",
         "2025-10-10 00:00:00"
        ],
        [
         "92",
         "2025-11-08 00:00:00",
         "2025-11-08 00:00:00"
        ],
        [
         "96",
         "2025-09-20 00:00:00",
         "2025-09-20 00:00:00"
        ],
        [
         "97",
         "2025-11-11 00:00:00",
         "2025-11-11 00:00:00"
        ],
        [
         "100",
         "2025-11-29 00:00:00",
         "2025-11-29 00:00:00"
        ],
        [
         "104",
         "2025-10-22 00:00:00",
         "2025-10-22 00:00:00"
        ],
        [
         "106",
         "2025-11-14 00:00:00",
         "2025-11-14 00:00:00"
        ],
        [
         "107",
         "2025-10-01 00:00:00",
         "2025-10-01 00:00:00"
        ],
        [
         "108",
         "2025-12-18 00:00:00",
         "2025-12-18 00:00:00"
        ],
        [
         "110",
         "2025-10-03 00:00:00",
         "2025-10-03 00:00:00"
        ],
        [
         "113",
         "2025-12-06 00:00:00",
         "2025-12-06 00:00:00"
        ],
        [
         "114",
         "2025-12-22 00:00:00",
         "2025-12-22 00:00:00"
        ],
        [
         "115",
         "2025-11-19 00:00:00",
         "2025-11-19 00:00:00"
        ],
        [
         "120",
         "2025-09-10 00:00:00",
         "2025-09-10 00:00:00"
        ],
        [
         "123",
         "2025-10-07 00:00:00",
         "2025-10-07 00:00:00"
        ],
        [
         "125",
         "2025-09-15 00:00:00",
         "2025-09-15 00:00:00"
        ],
        [
         "127",
         "2025-12-23 00:00:00",
         "2025-12-23 00:00:00"
        ],
        [
         "129",
         "2025-12-12 00:00:00",
         "2025-12-12 00:00:00"
        ],
        [
         "134",
         "2025-09-29 00:00:00",
         "2025-09-29 00:00:00"
        ]
       ],
       "shape": {
        "columns": 2,
        "rows": 48140
       }
      },
      "text/html": [
       "<div>\n",
       "<style scoped>\n",
       "    .dataframe tbody tr th:only-of-type {\n",
       "        vertical-align: middle;\n",
       "    }\n",
       "\n",
       "    .dataframe tbody tr th {\n",
       "        vertical-align: top;\n",
       "    }\n",
       "\n",
       "    .dataframe thead th {\n",
       "        text-align: right;\n",
       "    }\n",
       "</style>\n",
       "<table border=\"1\" class=\"dataframe\">\n",
       "  <thead>\n",
       "    <tr style=\"text-align: right;\">\n",
       "      <th></th>\n",
       "      <th>fecha</th>\n",
       "      <th>fecha2</th>\n",
       "    </tr>\n",
       "  </thead>\n",
       "  <tbody>\n",
       "    <tr>\n",
       "      <th>0</th>\n",
       "      <td>2025-10-30</td>\n",
       "      <td>2025-10-30</td>\n",
       "    </tr>\n",
       "    <tr>\n",
       "      <th>6</th>\n",
       "      <td>2025-10-25</td>\n",
       "      <td>2025-10-25</td>\n",
       "    </tr>\n",
       "    <tr>\n",
       "      <th>7</th>\n",
       "      <td>2025-11-26</td>\n",
       "      <td>2025-11-26</td>\n",
       "    </tr>\n",
       "    <tr>\n",
       "      <th>14</th>\n",
       "      <td>2025-12-04</td>\n",
       "      <td>2025-12-04</td>\n",
       "    </tr>\n",
       "    <tr>\n",
       "      <th>15</th>\n",
       "      <td>2025-12-10</td>\n",
       "      <td>2025-12-10</td>\n",
       "    </tr>\n",
       "    <tr>\n",
       "      <th>...</th>\n",
       "      <td>...</td>\n",
       "      <td>...</td>\n",
       "    </tr>\n",
       "    <tr>\n",
       "      <th>144028</th>\n",
       "      <td>2025-09-03</td>\n",
       "      <td>2025-09-03</td>\n",
       "    </tr>\n",
       "    <tr>\n",
       "      <th>144029</th>\n",
       "      <td>2025-12-22</td>\n",
       "      <td>2025-12-22</td>\n",
       "    </tr>\n",
       "    <tr>\n",
       "      <th>144030</th>\n",
       "      <td>2025-09-13</td>\n",
       "      <td>2025-09-13</td>\n",
       "    </tr>\n",
       "    <tr>\n",
       "      <th>144031</th>\n",
       "      <td>2025-10-09</td>\n",
       "      <td>2025-10-09</td>\n",
       "    </tr>\n",
       "    <tr>\n",
       "      <th>144033</th>\n",
       "      <td>2025-09-29</td>\n",
       "      <td>2025-09-29</td>\n",
       "    </tr>\n",
       "  </tbody>\n",
       "</table>\n",
       "<p>48140 rows × 2 columns</p>\n",
       "</div>"
      ],
      "text/plain": [
       "            fecha     fecha2\n",
       "0      2025-10-30 2025-10-30\n",
       "6      2025-10-25 2025-10-25\n",
       "7      2025-11-26 2025-11-26\n",
       "14     2025-12-04 2025-12-04\n",
       "15     2025-12-10 2025-12-10\n",
       "...           ...        ...\n",
       "144028 2025-09-03 2025-09-03\n",
       "144029 2025-12-22 2025-12-22\n",
       "144030 2025-09-13 2025-09-13\n",
       "144031 2025-10-09 2025-10-09\n",
       "144033 2025-09-29 2025-09-29\n",
       "\n",
       "[48140 rows x 2 columns]"
      ]
     },
     "execution_count": 41,
     "metadata": {},
     "output_type": "execute_result"
    }
   ],
   "source": [
    "df_fecha[df_fecha[\"fecha2\"] > \"2025-08-31\"].copy()"
   ]
  },
  {
   "cell_type": "markdown",
   "id": "fdf0b533",
   "metadata": {},
   "source": [
    "### Creación de indice"
   ]
  },
  {
   "cell_type": "code",
   "execution_count": 43,
   "id": "fb190ad7",
   "metadata": {},
   "outputs": [
    {
     "name": "stdout",
     "output_type": "stream",
     "text": [
      "               fecha2\n",
      "fecha                \n",
      "2025-10-30 2025-10-30\n",
      "2025-02-01 2025-02-01\n",
      "   index      fecha     fecha2\n",
      "0      0 2025-10-30 2025-10-30\n",
      "1      1 2025-02-01 2025-02-01\n"
     ]
    }
   ],
   "source": [
    "# definir la columna fecha como indice\n",
    "indices =   df_fecha.set_index(\"fecha\").copy()\n",
    "print(indices.head(2))\n",
    "# crear indice general\n",
    "indices2 = df_fecha.reset_index().copy()\n",
    "print(indices2.head(2))"
   ]
  },
  {
   "cell_type": "markdown",
   "id": "05dd35e9",
   "metadata": {},
   "source": [
    "### valores unicos"
   ]
  },
  {
   "cell_type": "code",
   "execution_count": 44,
   "id": "160811ff",
   "metadata": {},
   "outputs": [
    {
     "data": {
      "text/plain": [
       "365"
      ]
     },
     "execution_count": 44,
     "metadata": {},
     "output_type": "execute_result"
    }
   ],
   "source": [
    "indices2[\"fecha\"].nunique()"
   ]
  },
  {
   "cell_type": "markdown",
   "id": "82276424",
   "metadata": {},
   "source": [
    "### Ordenar"
   ]
  },
  {
   "cell_type": "code",
   "execution_count": 46,
   "id": "6ab81216",
   "metadata": {},
   "outputs": [
    {
     "data": {
      "application/vnd.microsoft.datawrangler.viewer.v0+json": {
       "columns": [
        {
         "name": "index",
         "rawType": "int64",
         "type": "integer"
        },
        {
         "name": "index",
         "rawType": "int64",
         "type": "integer"
        },
        {
         "name": "fecha",
         "rawType": "datetime64[ns]",
         "type": "datetime"
        },
        {
         "name": "fecha2",
         "rawType": "datetime64[ns]",
         "type": "datetime"
        }
       ],
       "ref": "23b9f082-5bea-4d56-9151-f4f0a56bb11a",
       "rows": [
        [
         "59647",
         "59647",
         "2025-01-01 00:00:00",
         "2025-01-01 00:00:00"
        ],
        [
         "31258",
         "31258",
         "2025-01-01 00:00:00",
         "2025-01-01 00:00:00"
        ],
        [
         "84176",
         "84176",
         "2025-01-01 00:00:00",
         "2025-01-01 00:00:00"
        ],
        [
         "17906",
         "17906",
         "2025-01-01 00:00:00",
         "2025-01-01 00:00:00"
        ],
        [
         "133859",
         "133859",
         "2025-01-01 00:00:00",
         "2025-01-01 00:00:00"
        ],
        [
         "23126",
         "23126",
         "2025-01-01 00:00:00",
         "2025-01-01 00:00:00"
        ],
        [
         "124404",
         "124404",
         "2025-01-01 00:00:00",
         "2025-01-01 00:00:00"
        ],
        [
         "37430",
         "37430",
         "2025-01-01 00:00:00",
         "2025-01-01 00:00:00"
        ],
        [
         "3860",
         "3860",
         "2025-01-01 00:00:00",
         "2025-01-01 00:00:00"
        ],
        [
         "405",
         "405",
         "2025-01-01 00:00:00",
         "2025-01-01 00:00:00"
        ]
       ],
       "shape": {
        "columns": 3,
        "rows": 10
       }
      },
      "text/html": [
       "<div>\n",
       "<style scoped>\n",
       "    .dataframe tbody tr th:only-of-type {\n",
       "        vertical-align: middle;\n",
       "    }\n",
       "\n",
       "    .dataframe tbody tr th {\n",
       "        vertical-align: top;\n",
       "    }\n",
       "\n",
       "    .dataframe thead th {\n",
       "        text-align: right;\n",
       "    }\n",
       "</style>\n",
       "<table border=\"1\" class=\"dataframe\">\n",
       "  <thead>\n",
       "    <tr style=\"text-align: right;\">\n",
       "      <th></th>\n",
       "      <th>index</th>\n",
       "      <th>fecha</th>\n",
       "      <th>fecha2</th>\n",
       "    </tr>\n",
       "  </thead>\n",
       "  <tbody>\n",
       "    <tr>\n",
       "      <th>59647</th>\n",
       "      <td>59647</td>\n",
       "      <td>2025-01-01</td>\n",
       "      <td>2025-01-01</td>\n",
       "    </tr>\n",
       "    <tr>\n",
       "      <th>31258</th>\n",
       "      <td>31258</td>\n",
       "      <td>2025-01-01</td>\n",
       "      <td>2025-01-01</td>\n",
       "    </tr>\n",
       "    <tr>\n",
       "      <th>84176</th>\n",
       "      <td>84176</td>\n",
       "      <td>2025-01-01</td>\n",
       "      <td>2025-01-01</td>\n",
       "    </tr>\n",
       "    <tr>\n",
       "      <th>17906</th>\n",
       "      <td>17906</td>\n",
       "      <td>2025-01-01</td>\n",
       "      <td>2025-01-01</td>\n",
       "    </tr>\n",
       "    <tr>\n",
       "      <th>133859</th>\n",
       "      <td>133859</td>\n",
       "      <td>2025-01-01</td>\n",
       "      <td>2025-01-01</td>\n",
       "    </tr>\n",
       "    <tr>\n",
       "      <th>23126</th>\n",
       "      <td>23126</td>\n",
       "      <td>2025-01-01</td>\n",
       "      <td>2025-01-01</td>\n",
       "    </tr>\n",
       "    <tr>\n",
       "      <th>124404</th>\n",
       "      <td>124404</td>\n",
       "      <td>2025-01-01</td>\n",
       "      <td>2025-01-01</td>\n",
       "    </tr>\n",
       "    <tr>\n",
       "      <th>37430</th>\n",
       "      <td>37430</td>\n",
       "      <td>2025-01-01</td>\n",
       "      <td>2025-01-01</td>\n",
       "    </tr>\n",
       "    <tr>\n",
       "      <th>3860</th>\n",
       "      <td>3860</td>\n",
       "      <td>2025-01-01</td>\n",
       "      <td>2025-01-01</td>\n",
       "    </tr>\n",
       "    <tr>\n",
       "      <th>405</th>\n",
       "      <td>405</td>\n",
       "      <td>2025-01-01</td>\n",
       "      <td>2025-01-01</td>\n",
       "    </tr>\n",
       "  </tbody>\n",
       "</table>\n",
       "</div>"
      ],
      "text/plain": [
       "         index      fecha     fecha2\n",
       "59647    59647 2025-01-01 2025-01-01\n",
       "31258    31258 2025-01-01 2025-01-01\n",
       "84176    84176 2025-01-01 2025-01-01\n",
       "17906    17906 2025-01-01 2025-01-01\n",
       "133859  133859 2025-01-01 2025-01-01\n",
       "23126    23126 2025-01-01 2025-01-01\n",
       "124404  124404 2025-01-01 2025-01-01\n",
       "37430    37430 2025-01-01 2025-01-01\n",
       "3860      3860 2025-01-01 2025-01-01\n",
       "405        405 2025-01-01 2025-01-01"
      ]
     },
     "execution_count": 46,
     "metadata": {},
     "output_type": "execute_result"
    }
   ],
   "source": [
    "indices2.sort_values(by=\"fecha\", ascending=True).head(10)"
   ]
  },
  {
   "cell_type": "markdown",
   "id": "99fe4f8e",
   "metadata": {},
   "source": [
    "# Selección, filtrado e indexación "
   ]
  },
  {
   "cell_type": "markdown",
   "id": "5edd9e63",
   "metadata": {},
   "source": [
    "### loc / iloc"
   ]
  },
  {
   "cell_type": "code",
   "execution_count": 48,
   "id": "9167d99f",
   "metadata": {},
   "outputs": [
    {
     "data": {
      "application/vnd.microsoft.datawrangler.viewer.v0+json": {
       "columns": [
        {
         "name": "index",
         "rawType": "int64",
         "type": "integer"
        },
        {
         "name": "fecha",
         "rawType": "datetime64[ns]",
         "type": "datetime"
        }
       ],
       "ref": "59935387-0f74-4abe-a54b-fc3342568333",
       "rows": [
        [
         "500",
         "2025-03-14 00:00:00"
        ],
        [
         "501",
         "2025-10-01 00:00:00"
        ],
        [
         "502",
         "2025-01-07 00:00:00"
        ],
        [
         "503",
         "2025-08-02 00:00:00"
        ],
        [
         "504",
         "2025-07-24 00:00:00"
        ],
        [
         "505",
         "2025-12-15 00:00:00"
        ],
        [
         "506",
         "2025-07-03 00:00:00"
        ],
        [
         "507",
         "2025-10-30 00:00:00"
        ],
        [
         "508",
         "2025-09-30 00:00:00"
        ],
        [
         "509",
         "2025-01-12 00:00:00"
        ],
        [
         "510",
         "2025-07-13 00:00:00"
        ],
        [
         "511",
         "2025-03-23 00:00:00"
        ],
        [
         "512",
         "2025-01-19 00:00:00"
        ],
        [
         "513",
         "2025-03-02 00:00:00"
        ],
        [
         "514",
         "2025-03-13 00:00:00"
        ],
        [
         "515",
         "2025-05-15 00:00:00"
        ],
        [
         "516",
         "2025-04-01 00:00:00"
        ],
        [
         "517",
         "2025-09-29 00:00:00"
        ],
        [
         "518",
         "2025-01-24 00:00:00"
        ],
        [
         "519",
         "2025-03-03 00:00:00"
        ],
        [
         "520",
         "2025-03-28 00:00:00"
        ],
        [
         "521",
         "2025-11-15 00:00:00"
        ],
        [
         "522",
         "2025-02-02 00:00:00"
        ],
        [
         "523",
         "2025-11-19 00:00:00"
        ],
        [
         "524",
         "2025-11-04 00:00:00"
        ],
        [
         "525",
         "2025-06-15 00:00:00"
        ],
        [
         "526",
         "2025-06-20 00:00:00"
        ],
        [
         "527",
         "2025-12-29 00:00:00"
        ],
        [
         "528",
         "2025-08-17 00:00:00"
        ],
        [
         "529",
         "2025-03-10 00:00:00"
        ],
        [
         "530",
         "2025-01-02 00:00:00"
        ],
        [
         "531",
         "2025-04-19 00:00:00"
        ],
        [
         "532",
         "2025-03-21 00:00:00"
        ],
        [
         "533",
         "2025-01-07 00:00:00"
        ],
        [
         "534",
         "2025-11-23 00:00:00"
        ],
        [
         "535",
         "2025-01-26 00:00:00"
        ],
        [
         "536",
         "2025-07-02 00:00:00"
        ],
        [
         "537",
         "2025-11-20 00:00:00"
        ],
        [
         "538",
         "2025-12-17 00:00:00"
        ],
        [
         "539",
         "2025-04-19 00:00:00"
        ],
        [
         "540",
         "2025-08-04 00:00:00"
        ],
        [
         "541",
         "2025-08-23 00:00:00"
        ],
        [
         "542",
         "2025-09-28 00:00:00"
        ],
        [
         "543",
         "2025-10-03 00:00:00"
        ],
        [
         "544",
         "2025-06-30 00:00:00"
        ],
        [
         "545",
         "2025-08-28 00:00:00"
        ],
        [
         "546",
         "2025-07-03 00:00:00"
        ],
        [
         "547",
         "2025-01-06 00:00:00"
        ],
        [
         "548",
         "2025-08-15 00:00:00"
        ],
        [
         "549",
         "2025-03-24 00:00:00"
        ]
       ],
       "shape": {
        "columns": 1,
        "rows": 143537
       }
      },
      "text/html": [
       "<div>\n",
       "<style scoped>\n",
       "    .dataframe tbody tr th:only-of-type {\n",
       "        vertical-align: middle;\n",
       "    }\n",
       "\n",
       "    .dataframe tbody tr th {\n",
       "        vertical-align: top;\n",
       "    }\n",
       "\n",
       "    .dataframe thead th {\n",
       "        text-align: right;\n",
       "    }\n",
       "</style>\n",
       "<table border=\"1\" class=\"dataframe\">\n",
       "  <thead>\n",
       "    <tr style=\"text-align: right;\">\n",
       "      <th></th>\n",
       "      <th>fecha</th>\n",
       "    </tr>\n",
       "  </thead>\n",
       "  <tbody>\n",
       "    <tr>\n",
       "      <th>500</th>\n",
       "      <td>2025-03-14</td>\n",
       "    </tr>\n",
       "    <tr>\n",
       "      <th>501</th>\n",
       "      <td>2025-10-01</td>\n",
       "    </tr>\n",
       "    <tr>\n",
       "      <th>502</th>\n",
       "      <td>2025-01-07</td>\n",
       "    </tr>\n",
       "    <tr>\n",
       "      <th>503</th>\n",
       "      <td>2025-08-02</td>\n",
       "    </tr>\n",
       "    <tr>\n",
       "      <th>504</th>\n",
       "      <td>2025-07-24</td>\n",
       "    </tr>\n",
       "    <tr>\n",
       "      <th>...</th>\n",
       "      <td>...</td>\n",
       "    </tr>\n",
       "    <tr>\n",
       "      <th>144032</th>\n",
       "      <td>2025-03-13</td>\n",
       "    </tr>\n",
       "    <tr>\n",
       "      <th>144033</th>\n",
       "      <td>2025-09-29</td>\n",
       "    </tr>\n",
       "    <tr>\n",
       "      <th>144034</th>\n",
       "      <td>2025-03-22</td>\n",
       "    </tr>\n",
       "    <tr>\n",
       "      <th>144035</th>\n",
       "      <td>2025-06-22</td>\n",
       "    </tr>\n",
       "    <tr>\n",
       "      <th>144036</th>\n",
       "      <td>2025-07-01</td>\n",
       "    </tr>\n",
       "  </tbody>\n",
       "</table>\n",
       "<p>143537 rows × 1 columns</p>\n",
       "</div>"
      ],
      "text/plain": [
       "            fecha\n",
       "500    2025-03-14\n",
       "501    2025-10-01\n",
       "502    2025-01-07\n",
       "503    2025-08-02\n",
       "504    2025-07-24\n",
       "...           ...\n",
       "144032 2025-03-13\n",
       "144033 2025-09-29\n",
       "144034 2025-03-22\n",
       "144035 2025-06-22\n",
       "144036 2025-07-01\n",
       "\n",
       "[143537 rows x 1 columns]"
      ]
     },
     "execution_count": 48,
     "metadata": {},
     "output_type": "execute_result"
    }
   ],
   "source": [
    "df_fecha.loc[500:, [\"fecha\"]]"
   ]
  },
  {
   "cell_type": "code",
   "execution_count": 53,
   "id": "28bc5bc0",
   "metadata": {},
   "outputs": [
    {
     "data": {
      "application/vnd.microsoft.datawrangler.viewer.v0+json": {
       "columns": [
        {
         "name": "index",
         "rawType": "int64",
         "type": "integer"
        },
        {
         "name": "index",
         "rawType": "int64",
         "type": "integer"
        },
        {
         "name": "fecha",
         "rawType": "datetime64[ns]",
         "type": "datetime"
        },
        {
         "name": "fecha2",
         "rawType": "datetime64[ns]",
         "type": "datetime"
        }
       ],
       "ref": "5dd9943a-851b-492e-b1ba-815f20203aee",
       "rows": [
        [
         "0",
         "0",
         "2025-10-30 00:00:00",
         "2025-10-30 00:00:00"
        ],
        [
         "1",
         "1",
         "2025-02-01 00:00:00",
         "2025-02-01 00:00:00"
        ],
        [
         "2",
         "2",
         "2025-02-11 00:00:00",
         "2025-02-11 00:00:00"
        ],
        [
         "3",
         "3",
         "2025-04-24 00:00:00",
         "2025-04-24 00:00:00"
        ],
        [
         "4",
         "4",
         "2025-01-27 00:00:00",
         "2025-01-27 00:00:00"
        ],
        [
         "5",
         "5",
         "2025-06-14 00:00:00",
         "2025-06-14 00:00:00"
        ],
        [
         "6",
         "6",
         "2025-10-25 00:00:00",
         "2025-10-25 00:00:00"
        ],
        [
         "7",
         "7",
         "2025-11-26 00:00:00",
         "2025-11-26 00:00:00"
        ],
        [
         "8",
         "8",
         "2025-08-31 00:00:00",
         "2025-08-31 00:00:00"
        ],
        [
         "9",
         "9",
         "2025-04-19 00:00:00",
         "2025-04-19 00:00:00"
        ],
        [
         "10",
         "10",
         "2025-01-28 00:00:00",
         "2025-01-28 00:00:00"
        ],
        [
         "11",
         "11",
         "2025-06-21 00:00:00",
         "2025-06-21 00:00:00"
        ],
        [
         "12",
         "12",
         "2025-05-15 00:00:00",
         "2025-05-15 00:00:00"
        ],
        [
         "13",
         "13",
         "2025-01-09 00:00:00",
         "2025-01-09 00:00:00"
        ],
        [
         "14",
         "14",
         "2025-12-04 00:00:00",
         "2025-12-04 00:00:00"
        ],
        [
         "15",
         "15",
         "2025-12-10 00:00:00",
         "2025-12-10 00:00:00"
        ],
        [
         "16",
         "16",
         "2025-10-30 00:00:00",
         "2025-10-30 00:00:00"
        ],
        [
         "17",
         "17",
         "2025-11-28 00:00:00",
         "2025-11-28 00:00:00"
        ],
        [
         "18",
         "18",
         "2025-11-04 00:00:00",
         "2025-11-04 00:00:00"
        ],
        [
         "19",
         "19",
         "2025-08-08 00:00:00",
         "2025-08-08 00:00:00"
        ],
        [
         "20",
         "20",
         "2025-05-07 00:00:00",
         "2025-05-07 00:00:00"
        ],
        [
         "21",
         "21",
         "2025-09-24 00:00:00",
         "2025-09-24 00:00:00"
        ],
        [
         "22",
         "22",
         "2025-05-30 00:00:00",
         "2025-05-30 00:00:00"
        ],
        [
         "23",
         "23",
         "2025-06-24 00:00:00",
         "2025-06-24 00:00:00"
        ],
        [
         "24",
         "24",
         "2025-10-01 00:00:00",
         "2025-10-01 00:00:00"
        ],
        [
         "25",
         "25",
         "2025-02-25 00:00:00",
         "2025-02-25 00:00:00"
        ],
        [
         "26",
         "26",
         "2025-08-07 00:00:00",
         "2025-08-07 00:00:00"
        ],
        [
         "27",
         "27",
         "2025-08-05 00:00:00",
         "2025-08-05 00:00:00"
        ],
        [
         "28",
         "28",
         "2025-12-21 00:00:00",
         "2025-12-21 00:00:00"
        ],
        [
         "29",
         "29",
         "2025-04-17 00:00:00",
         "2025-04-17 00:00:00"
        ],
        [
         "30",
         "30",
         "2025-06-20 00:00:00",
         "2025-06-20 00:00:00"
        ],
        [
         "31",
         "31",
         "2025-12-03 00:00:00",
         "2025-12-03 00:00:00"
        ],
        [
         "32",
         "32",
         "2025-12-13 00:00:00",
         "2025-12-13 00:00:00"
        ],
        [
         "33",
         "33",
         "2025-06-11 00:00:00",
         "2025-06-11 00:00:00"
        ],
        [
         "34",
         "34",
         "2025-03-14 00:00:00",
         "2025-03-14 00:00:00"
        ],
        [
         "35",
         "35",
         "2025-12-04 00:00:00",
         "2025-12-04 00:00:00"
        ],
        [
         "36",
         "36",
         "2025-12-12 00:00:00",
         "2025-12-12 00:00:00"
        ],
        [
         "37",
         "37",
         "2025-10-03 00:00:00",
         "2025-10-03 00:00:00"
        ],
        [
         "38",
         "38",
         "2025-05-07 00:00:00",
         "2025-05-07 00:00:00"
        ],
        [
         "39",
         "39",
         "2025-11-24 00:00:00",
         "2025-11-24 00:00:00"
        ],
        [
         "40",
         "40",
         "2025-01-05 00:00:00",
         "2025-01-05 00:00:00"
        ],
        [
         "41",
         "41",
         "2025-04-21 00:00:00",
         "2025-04-21 00:00:00"
        ],
        [
         "42",
         "42",
         "2025-10-25 00:00:00",
         "2025-10-25 00:00:00"
        ],
        [
         "43",
         "43",
         "2025-08-11 00:00:00",
         "2025-08-11 00:00:00"
        ],
        [
         "44",
         "44",
         "2025-08-23 00:00:00",
         "2025-08-23 00:00:00"
        ],
        [
         "45",
         "45",
         "2025-05-23 00:00:00",
         "2025-05-23 00:00:00"
        ],
        [
         "46",
         "46",
         "2025-03-25 00:00:00",
         "2025-03-25 00:00:00"
        ],
        [
         "47",
         "47",
         "2025-12-25 00:00:00",
         "2025-12-25 00:00:00"
        ],
        [
         "48",
         "48",
         "2025-11-14 00:00:00",
         "2025-11-14 00:00:00"
        ],
        [
         "49",
         "49",
         "2025-03-28 00:00:00",
         "2025-03-28 00:00:00"
        ]
       ],
       "shape": {
        "columns": 3,
        "rows": 144037
       }
      },
      "text/html": [
       "<div>\n",
       "<style scoped>\n",
       "    .dataframe tbody tr th:only-of-type {\n",
       "        vertical-align: middle;\n",
       "    }\n",
       "\n",
       "    .dataframe tbody tr th {\n",
       "        vertical-align: top;\n",
       "    }\n",
       "\n",
       "    .dataframe thead th {\n",
       "        text-align: right;\n",
       "    }\n",
       "</style>\n",
       "<table border=\"1\" class=\"dataframe\">\n",
       "  <thead>\n",
       "    <tr style=\"text-align: right;\">\n",
       "      <th></th>\n",
       "      <th>index</th>\n",
       "      <th>fecha</th>\n",
       "      <th>fecha2</th>\n",
       "    </tr>\n",
       "  </thead>\n",
       "  <tbody>\n",
       "    <tr>\n",
       "      <th>0</th>\n",
       "      <td>0</td>\n",
       "      <td>2025-10-30</td>\n",
       "      <td>2025-10-30</td>\n",
       "    </tr>\n",
       "    <tr>\n",
       "      <th>1</th>\n",
       "      <td>1</td>\n",
       "      <td>2025-02-01</td>\n",
       "      <td>2025-02-01</td>\n",
       "    </tr>\n",
       "    <tr>\n",
       "      <th>2</th>\n",
       "      <td>2</td>\n",
       "      <td>2025-02-11</td>\n",
       "      <td>2025-02-11</td>\n",
       "    </tr>\n",
       "    <tr>\n",
       "      <th>3</th>\n",
       "      <td>3</td>\n",
       "      <td>2025-04-24</td>\n",
       "      <td>2025-04-24</td>\n",
       "    </tr>\n",
       "    <tr>\n",
       "      <th>4</th>\n",
       "      <td>4</td>\n",
       "      <td>2025-01-27</td>\n",
       "      <td>2025-01-27</td>\n",
       "    </tr>\n",
       "    <tr>\n",
       "      <th>...</th>\n",
       "      <td>...</td>\n",
       "      <td>...</td>\n",
       "      <td>...</td>\n",
       "    </tr>\n",
       "    <tr>\n",
       "      <th>144032</th>\n",
       "      <td>144032</td>\n",
       "      <td>2025-03-13</td>\n",
       "      <td>2025-03-13</td>\n",
       "    </tr>\n",
       "    <tr>\n",
       "      <th>144033</th>\n",
       "      <td>144033</td>\n",
       "      <td>2025-09-29</td>\n",
       "      <td>2025-09-29</td>\n",
       "    </tr>\n",
       "    <tr>\n",
       "      <th>144034</th>\n",
       "      <td>144034</td>\n",
       "      <td>2025-03-22</td>\n",
       "      <td>2025-03-22</td>\n",
       "    </tr>\n",
       "    <tr>\n",
       "      <th>144035</th>\n",
       "      <td>144035</td>\n",
       "      <td>2025-06-22</td>\n",
       "      <td>2025-06-22</td>\n",
       "    </tr>\n",
       "    <tr>\n",
       "      <th>144036</th>\n",
       "      <td>144036</td>\n",
       "      <td>2025-07-01</td>\n",
       "      <td>2025-07-01</td>\n",
       "    </tr>\n",
       "  </tbody>\n",
       "</table>\n",
       "<p>144037 rows × 3 columns</p>\n",
       "</div>"
      ],
      "text/plain": [
       "         index      fecha     fecha2\n",
       "0            0 2025-10-30 2025-10-30\n",
       "1            1 2025-02-01 2025-02-01\n",
       "2            2 2025-02-11 2025-02-11\n",
       "3            3 2025-04-24 2025-04-24\n",
       "4            4 2025-01-27 2025-01-27\n",
       "...        ...        ...        ...\n",
       "144032  144032 2025-03-13 2025-03-13\n",
       "144033  144033 2025-09-29 2025-09-29\n",
       "144034  144034 2025-03-22 2025-03-22\n",
       "144035  144035 2025-06-22 2025-06-22\n",
       "144036  144036 2025-07-01 2025-07-01\n",
       "\n",
       "[144037 rows x 3 columns]"
      ]
     },
     "execution_count": 53,
     "metadata": {},
     "output_type": "execute_result"
    }
   ],
   "source": [
    "df_fecha.reset_index()"
   ]
  },
  {
   "cell_type": "code",
   "execution_count": 64,
   "id": "2eec191a",
   "metadata": {},
   "outputs": [
    {
     "data": {
      "application/vnd.microsoft.datawrangler.viewer.v0+json": {
       "columns": [
        {
         "name": "index",
         "rawType": "int64",
         "type": "integer"
        },
        {
         "name": "country",
         "rawType": "object",
         "type": "string"
        },
        {
         "name": "designation",
         "rawType": "object",
         "type": "string"
        }
       ],
       "ref": "a3fe5c5b-0044-4b2a-b98a-0f1b58b7fa4e",
       "rows": [
        [
         "3",
         "US",
         "Reserve"
        ],
        [
         "4",
         "France",
         "La Brûlade"
        ]
       ],
       "shape": {
        "columns": 2,
        "rows": 2
       }
      },
      "text/html": [
       "<div>\n",
       "<style scoped>\n",
       "    .dataframe tbody tr th:only-of-type {\n",
       "        vertical-align: middle;\n",
       "    }\n",
       "\n",
       "    .dataframe tbody tr th {\n",
       "        vertical-align: top;\n",
       "    }\n",
       "\n",
       "    .dataframe thead th {\n",
       "        text-align: right;\n",
       "    }\n",
       "</style>\n",
       "<table border=\"1\" class=\"dataframe\">\n",
       "  <thead>\n",
       "    <tr style=\"text-align: right;\">\n",
       "      <th></th>\n",
       "      <th>country</th>\n",
       "      <th>designation</th>\n",
       "    </tr>\n",
       "  </thead>\n",
       "  <tbody>\n",
       "    <tr>\n",
       "      <th>3</th>\n",
       "      <td>US</td>\n",
       "      <td>Reserve</td>\n",
       "    </tr>\n",
       "    <tr>\n",
       "      <th>4</th>\n",
       "      <td>France</td>\n",
       "      <td>La Brûlade</td>\n",
       "    </tr>\n",
       "  </tbody>\n",
       "</table>\n",
       "</div>"
      ],
      "text/plain": [
       "  country designation\n",
       "3      US     Reserve\n",
       "4  France  La Brûlade"
      ]
     },
     "execution_count": 64,
     "metadata": {},
     "output_type": "execute_result"
    }
   ],
   "source": [
    "df_csv.iloc[3:5, 0:2]"
   ]
  },
  {
   "cell_type": "markdown",
   "id": "998193b3",
   "metadata": {},
   "source": [
    "### filtrado por condiciones"
   ]
  },
  {
   "cell_type": "code",
   "execution_count": 65,
   "id": "3a4183fb",
   "metadata": {},
   "outputs": [
    {
     "data": {
      "text/plain": [
       "Index(['country', 'designation', 'points', 'price', 'province', 'region_1',\n",
       "       'region_2', 'variety', 'winery', 'last_year_points', 'date_f'],\n",
       "      dtype='object')"
      ]
     },
     "execution_count": 65,
     "metadata": {},
     "output_type": "execute_result"
    }
   ],
   "source": [
    "df_csv.columns"
   ]
  },
  {
   "cell_type": "code",
   "execution_count": 66,
   "id": "946c807b",
   "metadata": {},
   "outputs": [
    {
     "data": {
      "application/vnd.microsoft.datawrangler.viewer.v0+json": {
       "columns": [
        {
         "name": "index",
         "rawType": "int64",
         "type": "integer"
        },
        {
         "name": "country",
         "rawType": "object",
         "type": "string"
        },
        {
         "name": "designation",
         "rawType": "object",
         "type": "unknown"
        },
        {
         "name": "points",
         "rawType": "float64",
         "type": "float"
        },
        {
         "name": "price",
         "rawType": "float64",
         "type": "float"
        },
        {
         "name": "province",
         "rawType": "object",
         "type": "string"
        },
        {
         "name": "region_1",
         "rawType": "object",
         "type": "unknown"
        },
        {
         "name": "region_2",
         "rawType": "object",
         "type": "unknown"
        },
        {
         "name": "variety",
         "rawType": "object",
         "type": "string"
        },
        {
         "name": "winery",
         "rawType": "object",
         "type": "string"
        },
        {
         "name": "last_year_points",
         "rawType": "int64",
         "type": "integer"
        },
        {
         "name": "date_f",
         "rawType": "datetime64[ns]",
         "type": "datetime"
        }
       ],
       "ref": "bb4e91c7-c803-4eee-b417-86d9bd0c1189",
       "rows": [
        [
         "1350",
         "US",
         "Estate Vineyard",
         "91.0",
         "44.0",
         "California",
         "Fort Ross-Seaview",
         "Sonoma",
         "Chardonnay",
         "Failla",
         "82",
         "2025-10-31 00:00:00"
        ],
        [
         "3965",
         "US",
         "Reserve",
         "91.0",
         "150.0",
         "California",
         "Napa Valley",
         "Napa",
         "Cabernet Sauvignon",
         "Ideology",
         "80",
         "2025-10-31 00:00:00"
        ],
        [
         "6311",
         "US",
         "Firepeak",
         "92.0",
         "33.0",
         "California",
         "Edna Valley",
         "Central Coast",
         "Pinot Noir",
         "Baileyana",
         "82",
         "2025-10-31 00:00:00"
        ],
        [
         "7519",
         "Germany",
         null,
         "92.0",
         "37.0",
         "Baden",
         null,
         null,
         "Pinot Noir",
         "Huber",
         "96",
         "2025-10-31 00:00:00"
        ],
        [
         "8547",
         "Italy",
         "SP 68",
         "92.0",
         "30.0",
         "Sicily & Sardinia",
         "Terre Siciliane",
         null,
         "Red Blend",
         "Occhipinti",
         "94",
         "2025-10-31 00:00:00"
        ]
       ],
       "shape": {
        "columns": 11,
        "rows": 5
       }
      },
      "text/html": [
       "<div>\n",
       "<style scoped>\n",
       "    .dataframe tbody tr th:only-of-type {\n",
       "        vertical-align: middle;\n",
       "    }\n",
       "\n",
       "    .dataframe tbody tr th {\n",
       "        vertical-align: top;\n",
       "    }\n",
       "\n",
       "    .dataframe thead th {\n",
       "        text-align: right;\n",
       "    }\n",
       "</style>\n",
       "<table border=\"1\" class=\"dataframe\">\n",
       "  <thead>\n",
       "    <tr style=\"text-align: right;\">\n",
       "      <th></th>\n",
       "      <th>country</th>\n",
       "      <th>designation</th>\n",
       "      <th>points</th>\n",
       "      <th>price</th>\n",
       "      <th>province</th>\n",
       "      <th>region_1</th>\n",
       "      <th>region_2</th>\n",
       "      <th>variety</th>\n",
       "      <th>winery</th>\n",
       "      <th>last_year_points</th>\n",
       "      <th>date_f</th>\n",
       "    </tr>\n",
       "  </thead>\n",
       "  <tbody>\n",
       "    <tr>\n",
       "      <th>1350</th>\n",
       "      <td>US</td>\n",
       "      <td>Estate Vineyard</td>\n",
       "      <td>91.0</td>\n",
       "      <td>44.0</td>\n",
       "      <td>California</td>\n",
       "      <td>Fort Ross-Seaview</td>\n",
       "      <td>Sonoma</td>\n",
       "      <td>Chardonnay</td>\n",
       "      <td>Failla</td>\n",
       "      <td>82</td>\n",
       "      <td>2025-10-31</td>\n",
       "    </tr>\n",
       "    <tr>\n",
       "      <th>3965</th>\n",
       "      <td>US</td>\n",
       "      <td>Reserve</td>\n",
       "      <td>91.0</td>\n",
       "      <td>150.0</td>\n",
       "      <td>California</td>\n",
       "      <td>Napa Valley</td>\n",
       "      <td>Napa</td>\n",
       "      <td>Cabernet Sauvignon</td>\n",
       "      <td>Ideology</td>\n",
       "      <td>80</td>\n",
       "      <td>2025-10-31</td>\n",
       "    </tr>\n",
       "    <tr>\n",
       "      <th>6311</th>\n",
       "      <td>US</td>\n",
       "      <td>Firepeak</td>\n",
       "      <td>92.0</td>\n",
       "      <td>33.0</td>\n",
       "      <td>California</td>\n",
       "      <td>Edna Valley</td>\n",
       "      <td>Central Coast</td>\n",
       "      <td>Pinot Noir</td>\n",
       "      <td>Baileyana</td>\n",
       "      <td>82</td>\n",
       "      <td>2025-10-31</td>\n",
       "    </tr>\n",
       "    <tr>\n",
       "      <th>7519</th>\n",
       "      <td>Germany</td>\n",
       "      <td>NaN</td>\n",
       "      <td>92.0</td>\n",
       "      <td>37.0</td>\n",
       "      <td>Baden</td>\n",
       "      <td>NaN</td>\n",
       "      <td>NaN</td>\n",
       "      <td>Pinot Noir</td>\n",
       "      <td>Huber</td>\n",
       "      <td>96</td>\n",
       "      <td>2025-10-31</td>\n",
       "    </tr>\n",
       "    <tr>\n",
       "      <th>8547</th>\n",
       "      <td>Italy</td>\n",
       "      <td>SP 68</td>\n",
       "      <td>92.0</td>\n",
       "      <td>30.0</td>\n",
       "      <td>Sicily &amp; Sardinia</td>\n",
       "      <td>Terre Siciliane</td>\n",
       "      <td>NaN</td>\n",
       "      <td>Red Blend</td>\n",
       "      <td>Occhipinti</td>\n",
       "      <td>94</td>\n",
       "      <td>2025-10-31</td>\n",
       "    </tr>\n",
       "  </tbody>\n",
       "</table>\n",
       "</div>"
      ],
      "text/plain": [
       "      country      designation  points  price           province  \\\n",
       "1350       US  Estate Vineyard    91.0   44.0         California   \n",
       "3965       US          Reserve    91.0  150.0         California   \n",
       "6311       US         Firepeak    92.0   33.0         California   \n",
       "7519  Germany              NaN    92.0   37.0              Baden   \n",
       "8547    Italy            SP 68    92.0   30.0  Sicily & Sardinia   \n",
       "\n",
       "               region_1       region_2             variety      winery  \\\n",
       "1350  Fort Ross-Seaview         Sonoma          Chardonnay      Failla   \n",
       "3965        Napa Valley           Napa  Cabernet Sauvignon    Ideology   \n",
       "6311        Edna Valley  Central Coast          Pinot Noir   Baileyana   \n",
       "7519                NaN            NaN          Pinot Noir       Huber   \n",
       "8547    Terre Siciliane            NaN           Red Blend  Occhipinti   \n",
       "\n",
       "      last_year_points     date_f  \n",
       "1350                82 2025-10-31  \n",
       "3965                80 2025-10-31  \n",
       "6311                82 2025-10-31  \n",
       "7519                96 2025-10-31  \n",
       "8547                94 2025-10-31  "
      ]
     },
     "execution_count": 66,
     "metadata": {},
     "output_type": "execute_result"
    }
   ],
   "source": [
    "df_csv[(df_csv['date_f'] == \"2025-10-31 00:00:00\") & (df_csv['points'] > 90)].head(5)"
   ]
  },
  {
   "cell_type": "markdown",
   "id": "c482a4ef",
   "metadata": {},
   "source": [
    "### filtrado por multiplex condiciones"
   ]
  },
  {
   "cell_type": "code",
   "execution_count": 67,
   "id": "81b5cb18",
   "metadata": {},
   "outputs": [
    {
     "data": {
      "application/vnd.microsoft.datawrangler.viewer.v0+json": {
       "columns": [
        {
         "name": "index",
         "rawType": "int64",
         "type": "integer"
        },
        {
         "name": "country",
         "rawType": "object",
         "type": "string"
        },
        {
         "name": "designation",
         "rawType": "object",
         "type": "unknown"
        },
        {
         "name": "points",
         "rawType": "float64",
         "type": "float"
        },
        {
         "name": "price",
         "rawType": "float64",
         "type": "float"
        },
        {
         "name": "province",
         "rawType": "object",
         "type": "string"
        },
        {
         "name": "region_1",
         "rawType": "object",
         "type": "unknown"
        },
        {
         "name": "region_2",
         "rawType": "object",
         "type": "unknown"
        },
        {
         "name": "variety",
         "rawType": "object",
         "type": "string"
        },
        {
         "name": "winery",
         "rawType": "object",
         "type": "string"
        },
        {
         "name": "last_year_points",
         "rawType": "int64",
         "type": "integer"
        },
        {
         "name": "date_f",
         "rawType": "datetime64[ns]",
         "type": "datetime"
        }
       ],
       "ref": "6f31ea33-2e03-48f0-ac8e-0f57071f5a9c",
       "rows": [
        [
         "48",
         "Italy",
         null,
         "90.0",
         "50.0",
         "Tuscany",
         "Brunello di Montalcino",
         null,
         "Sangiovese",
         "Brunelli Martoccia",
         "98",
         "2025-11-14 00:00:00"
        ],
        [
         "68",
         "US",
         "Schindler Vineyard",
         "91.0",
         "50.0",
         "Oregon",
         "Eola-Amity Hills",
         "Willamette Valley",
         "Pinot Noir",
         "Panther Creek",
         "94",
         "2025-09-17 00:00:00"
        ],
        [
         "89",
         "US",
         "Magnificat",
         "91.0",
         "50.0",
         "California",
         "Napa Valley",
         "Napa",
         "Meritage",
         "Franciscan",
         "90",
         "2025-08-28 00:00:00"
        ],
        [
         "90",
         "US",
         null,
         "86.0",
         "10.0",
         "California",
         "California",
         "California Other",
         "Cabernet Sauvignon",
         "Belle Ambiance",
         "83",
         "2025-04-28 00:00:00"
        ],
        [
         "94",
         "Portugal",
         "Muros de Vinha",
         "86.0",
         "10.0",
         "Douro",
         null,
         null,
         "Portuguese Red",
         "Quinta do Portal",
         "98",
         "2025-07-08 00:00:00"
        ]
       ],
       "shape": {
        "columns": 11,
        "rows": 5
       }
      },
      "text/html": [
       "<div>\n",
       "<style scoped>\n",
       "    .dataframe tbody tr th:only-of-type {\n",
       "        vertical-align: middle;\n",
       "    }\n",
       "\n",
       "    .dataframe tbody tr th {\n",
       "        vertical-align: top;\n",
       "    }\n",
       "\n",
       "    .dataframe thead th {\n",
       "        text-align: right;\n",
       "    }\n",
       "</style>\n",
       "<table border=\"1\" class=\"dataframe\">\n",
       "  <thead>\n",
       "    <tr style=\"text-align: right;\">\n",
       "      <th></th>\n",
       "      <th>country</th>\n",
       "      <th>designation</th>\n",
       "      <th>points</th>\n",
       "      <th>price</th>\n",
       "      <th>province</th>\n",
       "      <th>region_1</th>\n",
       "      <th>region_2</th>\n",
       "      <th>variety</th>\n",
       "      <th>winery</th>\n",
       "      <th>last_year_points</th>\n",
       "      <th>date_f</th>\n",
       "    </tr>\n",
       "  </thead>\n",
       "  <tbody>\n",
       "    <tr>\n",
       "      <th>48</th>\n",
       "      <td>Italy</td>\n",
       "      <td>NaN</td>\n",
       "      <td>90.0</td>\n",
       "      <td>50.0</td>\n",
       "      <td>Tuscany</td>\n",
       "      <td>Brunello di Montalcino</td>\n",
       "      <td>NaN</td>\n",
       "      <td>Sangiovese</td>\n",
       "      <td>Brunelli Martoccia</td>\n",
       "      <td>98</td>\n",
       "      <td>2025-11-14</td>\n",
       "    </tr>\n",
       "    <tr>\n",
       "      <th>68</th>\n",
       "      <td>US</td>\n",
       "      <td>Schindler Vineyard</td>\n",
       "      <td>91.0</td>\n",
       "      <td>50.0</td>\n",
       "      <td>Oregon</td>\n",
       "      <td>Eola-Amity Hills</td>\n",
       "      <td>Willamette Valley</td>\n",
       "      <td>Pinot Noir</td>\n",
       "      <td>Panther Creek</td>\n",
       "      <td>94</td>\n",
       "      <td>2025-09-17</td>\n",
       "    </tr>\n",
       "    <tr>\n",
       "      <th>89</th>\n",
       "      <td>US</td>\n",
       "      <td>Magnificat</td>\n",
       "      <td>91.0</td>\n",
       "      <td>50.0</td>\n",
       "      <td>California</td>\n",
       "      <td>Napa Valley</td>\n",
       "      <td>Napa</td>\n",
       "      <td>Meritage</td>\n",
       "      <td>Franciscan</td>\n",
       "      <td>90</td>\n",
       "      <td>2025-08-28</td>\n",
       "    </tr>\n",
       "    <tr>\n",
       "      <th>90</th>\n",
       "      <td>US</td>\n",
       "      <td>NaN</td>\n",
       "      <td>86.0</td>\n",
       "      <td>10.0</td>\n",
       "      <td>California</td>\n",
       "      <td>California</td>\n",
       "      <td>California Other</td>\n",
       "      <td>Cabernet Sauvignon</td>\n",
       "      <td>Belle Ambiance</td>\n",
       "      <td>83</td>\n",
       "      <td>2025-04-28</td>\n",
       "    </tr>\n",
       "    <tr>\n",
       "      <th>94</th>\n",
       "      <td>Portugal</td>\n",
       "      <td>Muros de Vinha</td>\n",
       "      <td>86.0</td>\n",
       "      <td>10.0</td>\n",
       "      <td>Douro</td>\n",
       "      <td>NaN</td>\n",
       "      <td>NaN</td>\n",
       "      <td>Portuguese Red</td>\n",
       "      <td>Quinta do Portal</td>\n",
       "      <td>98</td>\n",
       "      <td>2025-07-08</td>\n",
       "    </tr>\n",
       "  </tbody>\n",
       "</table>\n",
       "</div>"
      ],
      "text/plain": [
       "     country         designation  points  price    province  \\\n",
       "48     Italy                 NaN    90.0   50.0     Tuscany   \n",
       "68        US  Schindler Vineyard    91.0   50.0      Oregon   \n",
       "89        US          Magnificat    91.0   50.0  California   \n",
       "90        US                 NaN    86.0   10.0  California   \n",
       "94  Portugal      Muros de Vinha    86.0   10.0       Douro   \n",
       "\n",
       "                  region_1           region_2             variety  \\\n",
       "48  Brunello di Montalcino                NaN          Sangiovese   \n",
       "68        Eola-Amity Hills  Willamette Valley          Pinot Noir   \n",
       "89             Napa Valley               Napa            Meritage   \n",
       "90              California   California Other  Cabernet Sauvignon   \n",
       "94                     NaN                NaN      Portuguese Red   \n",
       "\n",
       "                winery  last_year_points     date_f  \n",
       "48  Brunelli Martoccia                98 2025-11-14  \n",
       "68       Panther Creek                94 2025-09-17  \n",
       "89          Franciscan                90 2025-08-28  \n",
       "90      Belle Ambiance                83 2025-04-28  \n",
       "94    Quinta do Portal                98 2025-07-08  "
      ]
     },
     "execution_count": 67,
     "metadata": {},
     "output_type": "execute_result"
    }
   ],
   "source": [
    "df_csv[(df_csv['price'].isin([10,50])) & (df_csv['points'].between(75,95))].head(5)"
   ]
  },
  {
   "cell_type": "markdown",
   "id": "5795050a",
   "metadata": {},
   "source": [
    "### isin"
   ]
  },
  {
   "cell_type": "code",
   "execution_count": 69,
   "id": "4d680935",
   "metadata": {},
   "outputs": [
    {
     "data": {
      "application/vnd.microsoft.datawrangler.viewer.v0+json": {
       "columns": [
        {
         "name": "index",
         "rawType": "int64",
         "type": "integer"
        },
        {
         "name": "price",
         "rawType": "bool",
         "type": "boolean"
        }
       ],
       "ref": "245e0371-4ca2-4b86-95ef-5bf0c3028d93",
       "rows": [
        [
         "0",
         "False"
        ],
        [
         "1",
         "False"
        ]
       ],
       "shape": {
        "columns": 1,
        "rows": 2
       }
      },
      "text/plain": [
       "0    False\n",
       "1    False\n",
       "Name: price, dtype: bool"
      ]
     },
     "execution_count": 69,
     "metadata": {},
     "output_type": "execute_result"
    }
   ],
   "source": [
    "df_csv['price'].isin([10,50]).head(2)"
   ]
  },
  {
   "cell_type": "markdown",
   "id": "7e854e89",
   "metadata": {},
   "source": [
    "### BETWEEN "
   ]
  },
  {
   "cell_type": "code",
   "execution_count": null,
   "id": "c0f4f24b",
   "metadata": {},
   "outputs": [
    {
     "data": {
      "application/vnd.microsoft.datawrangler.viewer.v0+json": {
       "columns": [
        {
         "name": "index",
         "rawType": "int64",
         "type": "integer"
        },
        {
         "name": "points",
         "rawType": "bool",
         "type": "boolean"
        }
       ],
       "ref": "93aa361e-44f8-4669-b7a8-8da6f8be9dee",
       "rows": [
        [
         "0",
         "False"
        ],
        [
         "1",
         "False"
        ],
        [
         "2",
         "False"
        ],
        [
         "3",
         "False"
        ],
        [
         "4",
         "True"
        ]
       ],
       "shape": {
        "columns": 1,
        "rows": 5
       }
      },
      "text/plain": [
       "0    False\n",
       "1    False\n",
       "2    False\n",
       "3    False\n",
       "4     True\n",
       "Name: points, dtype: bool"
      ]
     },
     "execution_count": 70,
     "metadata": {},
     "output_type": "execute_result"
    }
   ],
   "source": [
    "(df_csv['points'].between(75,95)).head(5) # QUERY"
   ]
  },
  {
   "cell_type": "markdown",
   "id": "96907262",
   "metadata": {},
   "source": [
    "### QUERY"
   ]
  },
  {
   "cell_type": "code",
   "execution_count": 72,
   "id": "240e4a25",
   "metadata": {},
   "outputs": [
    {
     "data": {
      "application/vnd.microsoft.datawrangler.viewer.v0+json": {
       "columns": [
        {
         "name": "index",
         "rawType": "int64",
         "type": "integer"
        },
        {
         "name": "points",
         "rawType": "bool",
         "type": "boolean"
        }
       ],
       "ref": "37de2949-2c90-4db2-99a4-5fe2cec9d4e5",
       "rows": [
        [
         "0",
         "False"
        ],
        [
         "1",
         "False"
        ],
        [
         "2",
         "False"
        ],
        [
         "3",
         "False"
        ],
        [
         "4",
         "True"
        ]
       ],
       "shape": {
        "columns": 1,
        "rows": 5
       }
      },
      "text/plain": [
       "0    False\n",
       "1    False\n",
       "2    False\n",
       "3    False\n",
       "4     True\n",
       "Name: points, dtype: bool"
      ]
     },
     "execution_count": 72,
     "metadata": {},
     "output_type": "execute_result"
    }
   ],
   "source": [
    "((df_csv['points'] >= 75) & (df_csv['points'] <= 95)).head(5)"
   ]
  },
  {
   "cell_type": "markdown",
   "id": "ca39e2a7",
   "metadata": {},
   "source": [
    "### top-k por grupo"
   ]
  },
  {
   "cell_type": "code",
   "execution_count": 74,
   "id": "26fcabc8",
   "metadata": {},
   "outputs": [
    {
     "data": {
      "application/vnd.microsoft.datawrangler.viewer.v0+json": {
       "columns": [
        {
         "name": "index",
         "rawType": "int64",
         "type": "integer"
        },
        {
         "name": "country",
         "rawType": "object",
         "type": "string"
        },
        {
         "name": "designation",
         "rawType": "object",
         "type": "unknown"
        },
        {
         "name": "points",
         "rawType": "float64",
         "type": "float"
        },
        {
         "name": "price",
         "rawType": "float64",
         "type": "float"
        },
        {
         "name": "province",
         "rawType": "object",
         "type": "string"
        },
        {
         "name": "region_1",
         "rawType": "object",
         "type": "unknown"
        },
        {
         "name": "region_2",
         "rawType": "object",
         "type": "unknown"
        },
        {
         "name": "variety",
         "rawType": "object",
         "type": "string"
        },
        {
         "name": "winery",
         "rawType": "object",
         "type": "string"
        },
        {
         "name": "last_year_points",
         "rawType": "int64",
         "type": "integer"
        },
        {
         "name": "date_f",
         "rawType": "datetime64[ns]",
         "type": "datetime"
        }
       ],
       "ref": "b19dc631-1905-4015-b1cf-6f6cc32ae3c7",
       "rows": [
        [
         "98513",
         "Spain",
         "Estate Bottled",
         "84.0",
         "4.0",
         "Levante",
         "Yecla",
         null,
         "Tempranillo",
         "Terrenal",
         "92",
         "2025-10-22 00:00:00"
        ],
        [
         "109697",
         "US",
         "White Zinfandel",
         "83.0",
         "4.0",
         "California",
         "California",
         "California Other",
         "Zinfandel",
         "Round Hill",
         "80",
         "2025-11-03 00:00:00"
        ],
        [
         "47305",
         "US",
         null,
         "86.0",
         "4.0",
         "California",
         "California",
         "California Other",
         "Merlot",
         "Bandit",
         "97",
         "2025-05-08 00:00:00"
        ],
        [
         "121434",
         "US",
         null,
         "86.0",
         "4.0",
         "California",
         "California",
         "California Other",
         "Merlot",
         "Bandit",
         "85",
         "2025-05-14 00:00:00"
        ],
        [
         "24886",
         "US",
         null,
         "86.0",
         "4.0",
         "California",
         "California",
         "California Other",
         "Merlot",
         "Bandit",
         "97",
         "2025-11-25 00:00:00"
        ],
        [
         "88364",
         "Argentina",
         "Red",
         "84.0",
         "4.0",
         "Mendoza Province",
         "Mendoza",
         null,
         "Malbec-Syrah",
         "Broke Ass",
         "93",
         "2025-07-14 00:00:00"
        ],
        [
         "77245",
         "US",
         null,
         "86.0",
         "4.0",
         "California",
         "California",
         "California Other",
         "Merlot",
         "Bandit",
         "88",
         "2025-06-07 00:00:00"
        ],
        [
         "95361",
         "Portugal",
         "Toutalga",
         "86.0",
         "4.0",
         "Alentejano",
         null,
         null,
         "Portuguese Red",
         "Herdade dos Machados",
         "97",
         "2025-05-09 00:00:00"
        ],
        [
         "70676",
         "Romania",
         "UnWineD",
         "86.0",
         "4.0",
         "Viile Timisului",
         null,
         null,
         "Pinot Grigio",
         "Cramele Recas",
         "88",
         "2025-07-28 00:00:00"
        ],
        [
         "114469",
         "US",
         null,
         "84.0",
         "4.0",
         "California",
         "California",
         "California Other",
         "Chardonnay",
         "Bandit",
         "80",
         "2025-01-27 00:00:00"
        ],
        [
         "1837",
         "US",
         "Unoaked",
         "83.0",
         "4.0",
         "California",
         "California",
         "California Other",
         "Chardonnay",
         "Pam's Cuties",
         "90",
         "2025-12-09 00:00:00"
        ],
        [
         "33775",
         "Spain",
         "Estate Bottled",
         "84.0",
         "4.0",
         "Levante",
         "Yecla",
         null,
         "Tempranillo",
         "Terrenal",
         "89",
         "2025-12-04 00:00:00"
        ],
        [
         "98229",
         "Spain",
         null,
         "84.0",
         "4.0",
         "Levante",
         "Yecla",
         null,
         "Cabernet Sauvignon",
         "Terrenal",
         "94",
         "2025-02-07 00:00:00"
        ],
        [
         "35766",
         "Argentina",
         "Red",
         "84.0",
         "4.0",
         "Mendoza Province",
         "Mendoza",
         null,
         "Malbec-Syrah",
         "Broke Ass",
         "90",
         "2025-01-17 00:00:00"
        ],
        [
         "33511",
         "Spain",
         null,
         "84.0",
         "4.0",
         "Levante",
         "Yecla",
         null,
         "Cabernet Sauvignon",
         "Terrenal",
         "97",
         "2025-11-23 00:00:00"
        ],
        [
         "113579",
         "US",
         null,
         "84.0",
         "4.0",
         "California",
         "California",
         "California Other",
         "Cabernet Sauvignon",
         "Bandit",
         "90",
         "2025-08-22 00:00:00"
        ],
        [
         "114479",
         "US",
         null,
         "84.0",
         "4.0",
         "California",
         "California",
         "California Other",
         "Merlot",
         "Bandit",
         "82",
         "2025-01-25 00:00:00"
        ],
        [
         "99260",
         "Australia",
         null,
         "84.0",
         "5.0",
         "Australia Other",
         "South Eastern Australia",
         null,
         "Riesling",
         "Banrock Station",
         "90",
         "2025-10-15 00:00:00"
        ],
        [
         "130264",
         "US",
         null,
         "83.0",
         "5.0",
         "California",
         "California",
         "California Other",
         "Merlot",
         "Gallo Family Vineyards",
         "84",
         "2025-01-27 00:00:00"
        ],
        [
         "135393",
         "Germany",
         "QbA",
         "82.0",
         "5.0",
         "Mosel-Saar-Ruwer",
         null,
         null,
         "Riesling",
         "Landshut",
         "85",
         "2025-08-09 00:00:00"
        ],
        [
         "111786",
         "Portugal",
         "Branco",
         "83.0",
         "5.0",
         "Vinho Verde",
         null,
         null,
         "Portuguese White",
         "Campelo",
         "84",
         "2025-06-23 00:00:00"
        ],
        [
         "103388",
         "Portugal",
         "Sul South",
         "84.0",
         "5.0",
         "Estremadura",
         null,
         null,
         "Portuguese Red",
         "Dão Sul",
         "99",
         "2025-05-02 00:00:00"
        ],
        [
         "46607",
         "Germany",
         null,
         "86.0",
         "5.0",
         "Mosel",
         null,
         null,
         "Riesling",
         "Landshut",
         "90",
         "2025-12-27 00:00:00"
        ],
        [
         "114369",
         "Portugal",
         null,
         "84.0",
         "5.0",
         "Vinho Verde",
         null,
         null,
         "Rosé",
         "Campelo",
         "84",
         "2025-11-11 00:00:00"
        ],
        [
         "21145",
         "Portugal",
         "D'Ó",
         "84.0",
         "5.0",
         "Portuguese Table Wine",
         null,
         null,
         "Portuguese Red",
         "Adega Cooperativa da Batalha",
         "86",
         "2025-09-05 00:00:00"
        ],
        [
         "98530",
         "Portugal",
         "Morgado da Canita",
         "84.0",
         "5.0",
         "Alentejano",
         null,
         null,
         "Portuguese Red",
         "Herdade dos Machados",
         "100",
         "2025-06-24 00:00:00"
        ],
        [
         "115227",
         "Portugal",
         "Tinto",
         "83.0",
         "5.0",
         "Vinho Verde",
         null,
         null,
         "Portuguese Red",
         "Campelo",
         "81",
         "2025-03-05 00:00:00"
        ],
        [
         "130548",
         "Italy",
         null,
         "82.0",
         "5.0",
         "Central Italy",
         "Emilia-Romagna",
         null,
         "Lambrusco",
         "Cantine Riunite",
         "93",
         "2025-09-20 00:00:00"
        ],
        [
         "115354",
         "Portugal",
         null,
         "82.0",
         "5.0",
         "Vinho Verde",
         null,
         null,
         "Portuguese White",
         "Lagosta",
         "97",
         "2025-10-23 00:00:00"
        ],
        [
         "97864",
         "Australia",
         null,
         "83.0",
         "5.0",
         "Australia Other",
         "South Eastern Australia",
         null,
         "Chardonnay",
         "Banrock Station",
         "93",
         "2025-09-10 00:00:00"
        ],
        [
         "100036",
         "Argentina",
         null,
         "80.0",
         "5.0",
         "Mendoza Province",
         "Mendoza",
         null,
         "Malbec",
         "Toca Diamonte",
         "89",
         "2025-11-30 00:00:00"
        ],
        [
         "141638",
         "Chile",
         "Gato Blanco",
         "83.0",
         "5.0",
         "Central Valley",
         null,
         null,
         "Chardonnay",
         "San Pedro",
         "94",
         "2025-04-29 00:00:00"
        ],
        [
         "137231",
         "Chile",
         "Gato Negro",
         "83.0",
         "5.0",
         "Central Valley",
         null,
         null,
         "Sauvignon Blanc",
         "San Pedro",
         "95",
         "2025-09-21 00:00:00"
        ],
        [
         "111460",
         "Portugal",
         null,
         "84.0",
         "5.0",
         "Vinho Verde",
         null,
         null,
         "Rosé",
         "Campelo",
         "89",
         "2025-01-06 00:00:00"
        ],
        [
         "97855",
         "Australia",
         null,
         "83.0",
         "5.0",
         "Australia Other",
         "South Eastern Australia",
         null,
         "Chardonnay",
         "Kelly's Revenge",
         "96",
         "2025-04-20 00:00:00"
        ],
        [
         "22966",
         "South Africa",
         null,
         "83.0",
         "5.0",
         "Western Cape",
         null,
         null,
         "Moscato",
         "Chaza",
         "96",
         "2025-03-12 00:00:00"
        ],
        [
         "115526",
         "Portugal",
         "Branco",
         "83.0",
         "5.0",
         "Vinho Verde",
         null,
         null,
         "Portuguese White",
         "Campelo",
         "85",
         "2025-08-20 00:00:00"
        ],
        [
         "124144",
         "Australia",
         null,
         "83.0",
         "5.0",
         "Australia Other",
         "South Eastern Australia",
         null,
         "Chardonnay",
         "Banrock Station",
         "95",
         "2025-02-24 00:00:00"
        ],
        [
         "133386",
         "Chile",
         "Gato Negro",
         "83.0",
         "5.0",
         "Central Valley",
         null,
         null,
         "Cabernet Sauvignon",
         "San Pedro",
         "94",
         "2025-09-21 00:00:00"
        ],
        [
         "124135",
         "Australia",
         null,
         "83.0",
         "5.0",
         "Australia Other",
         "South Eastern Australia",
         null,
         "Chardonnay",
         "Kelly's Revenge",
         "85",
         "2025-07-28 00:00:00"
        ],
        [
         "122160",
         "Australia",
         null,
         "85.0",
         "5.0",
         "Australia Other",
         "South Eastern Australia",
         null,
         "Shiraz",
         "Banrock Station",
         "95",
         "2025-10-27 00:00:00"
        ],
        [
         "137768",
         "Argentina",
         null,
         "84.0",
         "5.0",
         "Other",
         "Cuyo",
         null,
         "Merlot-Malbec",
         "Falling Star",
         "97",
         "2025-08-20 00:00:00"
        ],
        [
         "108137",
         "Chile",
         "Gato Blanco",
         "83.0",
         "5.0",
         "Central Valley",
         null,
         null,
         "Chardonnay",
         "San Pedro",
         "85",
         "2025-04-15 00:00:00"
        ],
        [
         "113074",
         "Australia",
         null,
         "81.0",
         "5.0",
         "Australia Other",
         "South Eastern Australia",
         null,
         "Cabernet Sauvignon",
         "Kelly's Revenge",
         "81",
         "2025-11-11 00:00:00"
        ],
        [
         "54566",
         "Australia",
         null,
         "82.0",
         "5.0",
         "Australia Other",
         "South Eastern Australia",
         null,
         "Shiraz",
         "Kelly's Revenge",
         "85",
         "2025-09-26 00:00:00"
        ],
        [
         "78089",
         "Germany",
         null,
         "84.0",
         "5.0",
         "Mosel",
         null,
         null,
         "Riesling",
         "Landshut",
         "94",
         "2025-06-19 00:00:00"
        ],
        [
         "142794",
         "Australia",
         null,
         "85.0",
         "5.0",
         "Australia Other",
         "South Eastern Australia",
         null,
         "Riesling",
         "Banrock Station",
         "98",
         "2025-09-01 00:00:00"
        ],
        [
         "133377",
         "Chile",
         null,
         "84.0",
         "5.0",
         "Central Valley",
         null,
         null,
         "Sauvignon Blanc",
         "Walnut Crest",
         "88",
         "2025-04-15 00:00:00"
        ],
        [
         "100935",
         "Spain",
         "Abrazo del Toro",
         "85.0",
         "5.0",
         "Northern Spain",
         "Cariñena",
         null,
         "Syrah",
         "Abrazo",
         "80",
         "2025-09-21 00:00:00"
        ],
        [
         "35415",
         "Argentina",
         null,
         "80.0",
         "5.0",
         "Mendoza Province",
         "Mendoza",
         null,
         "Malbec",
         "Toca Diamonte",
         "84",
         "2025-01-02 00:00:00"
        ]
       ],
       "shape": {
        "columns": 11,
        "rows": 385
       }
      },
      "text/html": [
       "<div>\n",
       "<style scoped>\n",
       "    .dataframe tbody tr th:only-of-type {\n",
       "        vertical-align: middle;\n",
       "    }\n",
       "\n",
       "    .dataframe tbody tr th {\n",
       "        vertical-align: top;\n",
       "    }\n",
       "\n",
       "    .dataframe thead th {\n",
       "        text-align: right;\n",
       "    }\n",
       "</style>\n",
       "<table border=\"1\" class=\"dataframe\">\n",
       "  <thead>\n",
       "    <tr style=\"text-align: right;\">\n",
       "      <th></th>\n",
       "      <th>country</th>\n",
       "      <th>designation</th>\n",
       "      <th>points</th>\n",
       "      <th>price</th>\n",
       "      <th>province</th>\n",
       "      <th>region_1</th>\n",
       "      <th>region_2</th>\n",
       "      <th>variety</th>\n",
       "      <th>winery</th>\n",
       "      <th>last_year_points</th>\n",
       "      <th>date_f</th>\n",
       "    </tr>\n",
       "  </thead>\n",
       "  <tbody>\n",
       "    <tr>\n",
       "      <th>98513</th>\n",
       "      <td>Spain</td>\n",
       "      <td>Estate Bottled</td>\n",
       "      <td>84.0</td>\n",
       "      <td>4.0</td>\n",
       "      <td>Levante</td>\n",
       "      <td>Yecla</td>\n",
       "      <td>NaN</td>\n",
       "      <td>Tempranillo</td>\n",
       "      <td>Terrenal</td>\n",
       "      <td>92</td>\n",
       "      <td>2025-10-22</td>\n",
       "    </tr>\n",
       "    <tr>\n",
       "      <th>109697</th>\n",
       "      <td>US</td>\n",
       "      <td>White Zinfandel</td>\n",
       "      <td>83.0</td>\n",
       "      <td>4.0</td>\n",
       "      <td>California</td>\n",
       "      <td>California</td>\n",
       "      <td>California Other</td>\n",
       "      <td>Zinfandel</td>\n",
       "      <td>Round Hill</td>\n",
       "      <td>80</td>\n",
       "      <td>2025-11-03</td>\n",
       "    </tr>\n",
       "    <tr>\n",
       "      <th>47305</th>\n",
       "      <td>US</td>\n",
       "      <td>NaN</td>\n",
       "      <td>86.0</td>\n",
       "      <td>4.0</td>\n",
       "      <td>California</td>\n",
       "      <td>California</td>\n",
       "      <td>California Other</td>\n",
       "      <td>Merlot</td>\n",
       "      <td>Bandit</td>\n",
       "      <td>97</td>\n",
       "      <td>2025-05-08</td>\n",
       "    </tr>\n",
       "    <tr>\n",
       "      <th>121434</th>\n",
       "      <td>US</td>\n",
       "      <td>NaN</td>\n",
       "      <td>86.0</td>\n",
       "      <td>4.0</td>\n",
       "      <td>California</td>\n",
       "      <td>California</td>\n",
       "      <td>California Other</td>\n",
       "      <td>Merlot</td>\n",
       "      <td>Bandit</td>\n",
       "      <td>85</td>\n",
       "      <td>2025-05-14</td>\n",
       "    </tr>\n",
       "    <tr>\n",
       "      <th>24886</th>\n",
       "      <td>US</td>\n",
       "      <td>NaN</td>\n",
       "      <td>86.0</td>\n",
       "      <td>4.0</td>\n",
       "      <td>California</td>\n",
       "      <td>California</td>\n",
       "      <td>California Other</td>\n",
       "      <td>Merlot</td>\n",
       "      <td>Bandit</td>\n",
       "      <td>97</td>\n",
       "      <td>2025-11-25</td>\n",
       "    </tr>\n",
       "    <tr>\n",
       "      <th>...</th>\n",
       "      <td>...</td>\n",
       "      <td>...</td>\n",
       "      <td>...</td>\n",
       "      <td>...</td>\n",
       "      <td>...</td>\n",
       "      <td>...</td>\n",
       "      <td>...</td>\n",
       "      <td>...</td>\n",
       "      <td>...</td>\n",
       "      <td>...</td>\n",
       "      <td>...</td>\n",
       "    </tr>\n",
       "    <tr>\n",
       "      <th>114188</th>\n",
       "      <td>Egypt</td>\n",
       "      <td>Caspar Blanc de Noirs</td>\n",
       "      <td>84.0</td>\n",
       "      <td>NaN</td>\n",
       "      <td>Egypt</td>\n",
       "      <td>NaN</td>\n",
       "      <td>NaN</td>\n",
       "      <td>Grenache</td>\n",
       "      <td>Sahara Vineyards</td>\n",
       "      <td>91</td>\n",
       "      <td>2025-04-24</td>\n",
       "    </tr>\n",
       "    <tr>\n",
       "      <th>114213</th>\n",
       "      <td>Egypt</td>\n",
       "      <td>Caspar</td>\n",
       "      <td>84.0</td>\n",
       "      <td>NaN</td>\n",
       "      <td>Egypt</td>\n",
       "      <td>NaN</td>\n",
       "      <td>NaN</td>\n",
       "      <td>Chenin Blanc</td>\n",
       "      <td>Sahara Vineyards</td>\n",
       "      <td>98</td>\n",
       "      <td>2025-01-25</td>\n",
       "    </tr>\n",
       "    <tr>\n",
       "      <th>115051</th>\n",
       "      <td>Egypt</td>\n",
       "      <td>NaN</td>\n",
       "      <td>83.0</td>\n",
       "      <td>NaN</td>\n",
       "      <td>Egypt</td>\n",
       "      <td>NaN</td>\n",
       "      <td>NaN</td>\n",
       "      <td>Viognier</td>\n",
       "      <td>Sahara Vineyards</td>\n",
       "      <td>97</td>\n",
       "      <td>2025-02-24</td>\n",
       "    </tr>\n",
       "    <tr>\n",
       "      <th>132359</th>\n",
       "      <td>Tunisia</td>\n",
       "      <td>Selian Mystère</td>\n",
       "      <td>87.0</td>\n",
       "      <td>NaN</td>\n",
       "      <td>Tunisia</td>\n",
       "      <td>NaN</td>\n",
       "      <td>NaN</td>\n",
       "      <td>Rosé</td>\n",
       "      <td>Domaine Neferis</td>\n",
       "      <td>81</td>\n",
       "      <td>2025-01-18</td>\n",
       "    </tr>\n",
       "    <tr>\n",
       "      <th>134014</th>\n",
       "      <td>Tunisia</td>\n",
       "      <td>Selian</td>\n",
       "      <td>85.0</td>\n",
       "      <td>NaN</td>\n",
       "      <td>Tunisia</td>\n",
       "      <td>NaN</td>\n",
       "      <td>NaN</td>\n",
       "      <td>White Blend</td>\n",
       "      <td>Domaine Neferis</td>\n",
       "      <td>94</td>\n",
       "      <td>2025-09-28</td>\n",
       "    </tr>\n",
       "  </tbody>\n",
       "</table>\n",
       "<p>385 rows × 11 columns</p>\n",
       "</div>"
      ],
      "text/plain": [
       "        country            designation  points  price    province    region_1  \\\n",
       "98513     Spain         Estate Bottled    84.0    4.0     Levante       Yecla   \n",
       "109697       US        White Zinfandel    83.0    4.0  California  California   \n",
       "47305        US                    NaN    86.0    4.0  California  California   \n",
       "121434       US                    NaN    86.0    4.0  California  California   \n",
       "24886        US                    NaN    86.0    4.0  California  California   \n",
       "...         ...                    ...     ...    ...         ...         ...   \n",
       "114188    Egypt  Caspar Blanc de Noirs    84.0    NaN       Egypt         NaN   \n",
       "114213    Egypt                 Caspar    84.0    NaN       Egypt         NaN   \n",
       "115051    Egypt                    NaN    83.0    NaN       Egypt         NaN   \n",
       "132359  Tunisia         Selian Mystère    87.0    NaN     Tunisia         NaN   \n",
       "134014  Tunisia                 Selian    85.0    NaN     Tunisia         NaN   \n",
       "\n",
       "                region_2       variety            winery  last_year_points  \\\n",
       "98513                NaN   Tempranillo          Terrenal                92   \n",
       "109697  California Other     Zinfandel        Round Hill                80   \n",
       "47305   California Other        Merlot            Bandit                97   \n",
       "121434  California Other        Merlot            Bandit                85   \n",
       "24886   California Other        Merlot            Bandit                97   \n",
       "...                  ...           ...               ...               ...   \n",
       "114188               NaN      Grenache  Sahara Vineyards                91   \n",
       "114213               NaN  Chenin Blanc  Sahara Vineyards                98   \n",
       "115051               NaN      Viognier  Sahara Vineyards                97   \n",
       "132359               NaN          Rosé   Domaine Neferis                81   \n",
       "134014               NaN   White Blend   Domaine Neferis                94   \n",
       "\n",
       "           date_f  \n",
       "98513  2025-10-22  \n",
       "109697 2025-11-03  \n",
       "47305  2025-05-08  \n",
       "121434 2025-05-14  \n",
       "24886  2025-11-25  \n",
       "...           ...  \n",
       "114188 2025-04-24  \n",
       "114213 2025-01-25  \n",
       "115051 2025-02-24  \n",
       "132359 2025-01-18  \n",
       "134014 2025-09-28  \n",
       "\n",
       "[385 rows x 11 columns]"
      ]
     },
     "execution_count": 74,
     "metadata": {},
     "output_type": "execute_result"
    }
   ],
   "source": [
    "df_csv.sort_values('price', ascending= True).groupby('country').head(10)"
   ]
  },
  {
   "cell_type": "markdown",
   "id": "9cf9785d",
   "metadata": {},
   "source": []
  },
  {
   "cell_type": "markdown",
   "id": "967a9bcb",
   "metadata": {},
   "source": []
  }
 ],
 "metadata": {
  "kernelspec": {
   "display_name": "venv (3.13.2)",
   "language": "python",
   "name": "python3"
  },
  "language_info": {
   "codemirror_mode": {
    "name": "ipython",
    "version": 3
   },
   "file_extension": ".py",
   "mimetype": "text/x-python",
   "name": "python",
   "nbconvert_exporter": "python",
   "pygments_lexer": "ipython3",
   "version": "3.13.2"
  }
 },
 "nbformat": 4,
 "nbformat_minor": 5
}
