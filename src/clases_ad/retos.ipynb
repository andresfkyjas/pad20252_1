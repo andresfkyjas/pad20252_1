{
 "cells": [
  {
   "cell_type": "code",
   "execution_count": 2,
   "id": "3dc59e13",
   "metadata": {},
   "outputs": [],
   "source": [
    "import pandas as pd"
   ]
  },
  {
   "cell_type": "markdown",
   "id": "1700a07c",
   "metadata": {},
   "source": [
    "## Reto 1"
   ]
  },
  {
   "cell_type": "markdown",
   "id": "2b3f9483",
   "metadata": {},
   "source": [
    "Tienes un DataFrame de clientes con nombre, edad y ciudad. Filtra los clientes mayores de 30 años y crea una columna 'rango' que clasifique la edad en 'Joven' (<40) y 'Adulto' (>=40)."
   ]
  },
  {
   "cell_type": "code",
   "execution_count": 3,
   "id": "c0d48bd6",
   "metadata": {},
   "outputs": [],
   "source": [
    "nombres = [\"Monica\",\"Melani\",\"Gladis\",\"Andres\",\"Maria\"]\n",
    "edades = [23,34,29,41,25]\n",
    "ciudades = [\"Medellín\",\"Bogota\",\"Cali\",\"Cartagena\",\"Bucaramanga\"]\n",
    "df_personas = pd.DataFrame({\n",
    "    \"nombres\":nombres,\n",
    "    \"edades\":edades,\n",
    "    \"ciudades\":ciudades\n",
    "})"
   ]
  },
  {
   "cell_type": "code",
   "execution_count": 4,
   "id": "eaf85ea0",
   "metadata": {},
   "outputs": [
    {
     "data": {
      "text/html": [
       "<div>\n",
       "<style scoped>\n",
       "    .dataframe tbody tr th:only-of-type {\n",
       "        vertical-align: middle;\n",
       "    }\n",
       "\n",
       "    .dataframe tbody tr th {\n",
       "        vertical-align: top;\n",
       "    }\n",
       "\n",
       "    .dataframe thead th {\n",
       "        text-align: right;\n",
       "    }\n",
       "</style>\n",
       "<table border=\"1\" class=\"dataframe\">\n",
       "  <thead>\n",
       "    <tr style=\"text-align: right;\">\n",
       "      <th></th>\n",
       "      <th>nombres</th>\n",
       "      <th>edades</th>\n",
       "      <th>ciudades</th>\n",
       "    </tr>\n",
       "  </thead>\n",
       "  <tbody>\n",
       "    <tr>\n",
       "      <th>0</th>\n",
       "      <td>Monica</td>\n",
       "      <td>23</td>\n",
       "      <td>Medellín</td>\n",
       "    </tr>\n",
       "    <tr>\n",
       "      <th>1</th>\n",
       "      <td>Melani</td>\n",
       "      <td>34</td>\n",
       "      <td>Bogota</td>\n",
       "    </tr>\n",
       "  </tbody>\n",
       "</table>\n",
       "</div>"
      ],
      "text/plain": [
       "  nombres  edades  ciudades\n",
       "0  Monica      23  Medellín\n",
       "1  Melani      34    Bogota"
      ]
     },
     "execution_count": 4,
     "metadata": {},
     "output_type": "execute_result"
    }
   ],
   "source": [
    "df_personas.head(2)"
   ]
  },
  {
   "cell_type": "code",
   "execution_count": null,
   "id": "6d53b570",
   "metadata": {},
   "outputs": [
    {
     "data": {
      "text/html": [
       "<div>\n",
       "<style scoped>\n",
       "    .dataframe tbody tr th:only-of-type {\n",
       "        vertical-align: middle;\n",
       "    }\n",
       "\n",
       "    .dataframe tbody tr th {\n",
       "        vertical-align: top;\n",
       "    }\n",
       "\n",
       "    .dataframe thead th {\n",
       "        text-align: right;\n",
       "    }\n",
       "</style>\n",
       "<table border=\"1\" class=\"dataframe\">\n",
       "  <thead>\n",
       "    <tr style=\"text-align: right;\">\n",
       "      <th></th>\n",
       "      <th>nombres</th>\n",
       "      <th>edades</th>\n",
       "      <th>ciudades</th>\n",
       "    </tr>\n",
       "  </thead>\n",
       "  <tbody>\n",
       "    <tr>\n",
       "      <th>1</th>\n",
       "      <td>Melani</td>\n",
       "      <td>34</td>\n",
       "      <td>Bogota</td>\n",
       "    </tr>\n",
       "    <tr>\n",
       "      <th>3</th>\n",
       "      <td>Andres</td>\n",
       "      <td>41</td>\n",
       "      <td>Cartagena</td>\n",
       "    </tr>\n",
       "  </tbody>\n",
       "</table>\n",
       "</div>"
      ],
      "text/plain": [
       "  nombres  edades   ciudades\n",
       "1  Melani      34     Bogota\n",
       "3  Andres      41  Cartagena"
      ]
     },
     "execution_count": 5,
     "metadata": {},
     "output_type": "execute_result"
    }
   ],
   "source": [
    "df_30 = df_personas[df_personas[\"edades\"]>30].copy()\n",
    "df_30.head(2)\n",
    "#"
   ]
  },
  {
   "cell_type": "markdown",
   "id": "d119d8fa",
   "metadata": {},
   "source": [
    "Puedos hacer una funcion def ó puedo tener lamda"
   ]
  },
  {
   "cell_type": "code",
   "execution_count": 6,
   "id": "c39c0f9d",
   "metadata": {},
   "outputs": [
    {
     "data": {
      "text/html": [
       "<div>\n",
       "<style scoped>\n",
       "    .dataframe tbody tr th:only-of-type {\n",
       "        vertical-align: middle;\n",
       "    }\n",
       "\n",
       "    .dataframe tbody tr th {\n",
       "        vertical-align: top;\n",
       "    }\n",
       "\n",
       "    .dataframe thead th {\n",
       "        text-align: right;\n",
       "    }\n",
       "</style>\n",
       "<table border=\"1\" class=\"dataframe\">\n",
       "  <thead>\n",
       "    <tr style=\"text-align: right;\">\n",
       "      <th></th>\n",
       "      <th>nombres</th>\n",
       "      <th>edades</th>\n",
       "      <th>ciudades</th>\n",
       "      <th>rango</th>\n",
       "    </tr>\n",
       "  </thead>\n",
       "  <tbody>\n",
       "    <tr>\n",
       "      <th>1</th>\n",
       "      <td>Melani</td>\n",
       "      <td>34</td>\n",
       "      <td>Bogota</td>\n",
       "      <td>Joven</td>\n",
       "    </tr>\n",
       "    <tr>\n",
       "      <th>3</th>\n",
       "      <td>Andres</td>\n",
       "      <td>41</td>\n",
       "      <td>Cartagena</td>\n",
       "      <td>Adulto</td>\n",
       "    </tr>\n",
       "  </tbody>\n",
       "</table>\n",
       "</div>"
      ],
      "text/plain": [
       "  nombres  edades   ciudades   rango\n",
       "1  Melani      34     Bogota   Joven\n",
       "3  Andres      41  Cartagena  Adulto"
      ]
     },
     "execution_count": 6,
     "metadata": {},
     "output_type": "execute_result"
    }
   ],
   "source": [
    "df_30[\"rango\"]=df_30[\"edades\"].apply(lambda x: \"Joven\" if x<40 else \"Adulto\")\n",
    "df_30.head()"
   ]
  },
  {
   "cell_type": "markdown",
   "id": "05a21ea0",
   "metadata": {},
   "source": [
    "## Reto 2 "
   ]
  },
  {
   "cell_type": "markdown",
   "id": "eca1496c",
   "metadata": {},
   "source": [
    "Un DataFrame contiene productos y sus precios. Normaliza los precios entre 0 y 1 usando lambda."
   ]
  },
  {
   "cell_type": "code",
   "execution_count": 7,
   "id": "7630f407",
   "metadata": {},
   "outputs": [
    {
     "name": "stdout",
     "output_type": "stream",
     "text": [
      "2500 15000\n"
     ]
    }
   ],
   "source": [
    "productos = [\"Leche\",\"Arroz\",\"Cafe\",\"Aceite\",\"Azucar\"]\n",
    "precios = [6000,4000,15000,8500,2500]\n",
    "#min_precio, max_precio = max(precios),min(precios)\n",
    "df_productos = pd.DataFrame({\n",
    "    \"productos\":productos,\n",
    "    \"precios\":precios\n",
    "})\n",
    "min_precio, max_precio = df_productos[\"precios\"].min(),df_productos[\"precios\"].max()\n",
    "print(min_precio, max_precio)"
   ]
  },
  {
   "cell_type": "code",
   "execution_count": 8,
   "id": "5356a89d",
   "metadata": {},
   "outputs": [
    {
     "data": {
      "text/html": [
       "<div>\n",
       "<style scoped>\n",
       "    .dataframe tbody tr th:only-of-type {\n",
       "        vertical-align: middle;\n",
       "    }\n",
       "\n",
       "    .dataframe tbody tr th {\n",
       "        vertical-align: top;\n",
       "    }\n",
       "\n",
       "    .dataframe thead th {\n",
       "        text-align: right;\n",
       "    }\n",
       "</style>\n",
       "<table border=\"1\" class=\"dataframe\">\n",
       "  <thead>\n",
       "    <tr style=\"text-align: right;\">\n",
       "      <th></th>\n",
       "      <th>productos</th>\n",
       "      <th>precios</th>\n",
       "      <th>precios_normal</th>\n",
       "    </tr>\n",
       "  </thead>\n",
       "  <tbody>\n",
       "    <tr>\n",
       "      <th>0</th>\n",
       "      <td>Leche</td>\n",
       "      <td>6000</td>\n",
       "      <td>0.28</td>\n",
       "    </tr>\n",
       "    <tr>\n",
       "      <th>1</th>\n",
       "      <td>Arroz</td>\n",
       "      <td>4000</td>\n",
       "      <td>0.12</td>\n",
       "    </tr>\n",
       "    <tr>\n",
       "      <th>2</th>\n",
       "      <td>Cafe</td>\n",
       "      <td>15000</td>\n",
       "      <td>1.00</td>\n",
       "    </tr>\n",
       "    <tr>\n",
       "      <th>3</th>\n",
       "      <td>Aceite</td>\n",
       "      <td>8500</td>\n",
       "      <td>0.48</td>\n",
       "    </tr>\n",
       "    <tr>\n",
       "      <th>4</th>\n",
       "      <td>Azucar</td>\n",
       "      <td>2500</td>\n",
       "      <td>0.00</td>\n",
       "    </tr>\n",
       "  </tbody>\n",
       "</table>\n",
       "</div>"
      ],
      "text/plain": [
       "  productos  precios  precios_normal\n",
       "0     Leche     6000            0.28\n",
       "1     Arroz     4000            0.12\n",
       "2      Cafe    15000            1.00\n",
       "3    Aceite     8500            0.48\n",
       "4    Azucar     2500            0.00"
      ]
     },
     "execution_count": 8,
     "metadata": {},
     "output_type": "execute_result"
    }
   ],
   "source": [
    "df_productos[\"precios_normal\"]=df_productos[\"precios\"].apply(lambda x: (x-min_precio)/(max_precio-min_precio))\n",
    "df_productos.head()"
   ]
  },
  {
   "cell_type": "markdown",
   "id": "aee3a379",
   "metadata": {},
   "source": [
    "## Reto 3 Generar etiquetas de ingresos"
   ]
  },
  {
   "cell_type": "markdown",
   "id": "dc9c96fa",
   "metadata": {},
   "source": [
    "Un DataFrame de empleados contiene salarios. Crea una columna 'nivel_ingreso' con 'Alto' si el salario > 4000, 'Medio' entre 2000-4000 y 'Bajo' si <2000."
   ]
  },
  {
   "cell_type": "code",
   "execution_count": null,
   "id": "827d0582",
   "metadata": {},
   "outputs": [],
   "source": []
  }
 ],
 "metadata": {
  "kernelspec": {
   "display_name": "Python 3",
   "language": "python",
   "name": "python3"
  },
  "language_info": {
   "codemirror_mode": {
    "name": "ipython",
    "version": 3
   },
   "file_extension": ".py",
   "mimetype": "text/x-python",
   "name": "python",
   "nbconvert_exporter": "python",
   "pygments_lexer": "ipython3",
   "version": "3.12.1"
  }
 },
 "nbformat": 4,
 "nbformat_minor": 5
}
