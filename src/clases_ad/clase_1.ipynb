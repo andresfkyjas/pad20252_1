{
 "cells": [
  {
   "cell_type": "markdown",
   "id": "9604ac66",
   "metadata": {},
   "source": [
    "\n",
    "# Clase 1 — Programación Orientada a Objetos (POO) — Guía Detallada\n",
    "**Curso:** Analítica de Datos (PREICA2502B010096)  \n",
    "**Docente:** Andres Felipe Callejas Jaramillo  \n",
    "**Fecha de preparación:** 2025-08-14 00:30\n",
    "\n",
    "> Objetivo: Comprender paso a paso conceptos clave (atributos, tipos, funciones, parámetros, clases, inicializadores, herencia, abstracción, polimorfismo e importaciones) con **explicaciones detalladas** y **ejemplos comentados**.\n"
   ]
  },
  {
   "cell_type": "markdown",
   "id": "176e88aa",
   "metadata": {},
   "source": [
    "\n",
    "## Índice\n",
    "1. Preparación y recomendaciones\n",
    "2. **Atributos y Tipos de datos** (int, float, str, bool, list, tuple, dict, set; mutabilidad)\n",
    "3. **Funciones** (def, return, docstrings, tipado, ámbito LEGB)\n",
    "4. **Parámetros** (posicionales, nombrados, por defecto, `*args`, `**kwargs`, orden recomendado)\n",
    "5. **Clases** (atributos de instancia y de clase, métodos, `self`)\n",
    "6. **Inicializadores** (`__init__`) y métodos especiales (`__repr__`, `__str__`, `__eq__`)\n",
    "7. **Encapsulación y propiedades** (`@property`, validaciones)\n",
    "8. **Métodos de clase y estáticos** (`@classmethod`, `@staticmethod`)\n",
    "9. **Herencia** (simple), `super()`, sobrescritura\n",
    "10. **Abstracción y polimorfismo** (ABC, duck typing)\n",
    "11. **Importación de librerías** (estándar, terceros y módulos locales)\n",
    "12. **Mini–proyecto integrador** y **retos de práctica**"
   ]
  },
  {
   "cell_type": "markdown",
   "id": "176ad36e",
   "metadata": {},
   "source": [
    "\n",
    "## 1) Preparación y recomendaciones de uso\n",
    "- Ejecuta cada celda en orden (Shift + Enter).\n",
    "- Lee los comentarios `#` dentro del código: describen **qué** y **por qué**.\n",
    "- Siente libertad de **modificar** variables y **experimentar**.\n",
    "- Marca las secciones de **tareas ✍️** para practicar."
   ]
  },
  {
   "cell_type": "markdown",
   "id": "42ea7ee6",
   "metadata": {},
   "source": [
    "## 2) Atributos y Tipos de datos\n",
    "Los *atributos* son **datos** asociados a un objeto (o a una clase). Antes de ver clases, repasemos **tipos básicos** de Python."
   ]
  },
  {
   "cell_type": "code",
   "execution_count": 2,
   "id": "7d011703",
   "metadata": {},
   "outputs": [],
   "source": [
    "# Tipos básicos y mutabilidad: ejecuta y observa salidas\n",
    "\n",
    "# Números\n",
    "entero = 42                # int\n",
    "flotante = 3.1415          # float\n",
    "booleano = True            # bool"
   ]
  },
  {
   "cell_type": "code",
   "execution_count": 8,
   "id": "c6c5695e",
   "metadata": {},
   "outputs": [
    {
     "data": {
      "text/plain": [
       "bool"
      ]
     },
     "execution_count": 8,
     "metadata": {},
     "output_type": "execute_result"
    }
   ],
   "source": [
    "booleano = False\n",
    "type(booleano) # type para conocer el tipo de dato de la variable"
   ]
  },
  {
   "cell_type": "code",
   "execution_count": 14,
   "id": "d36dccfa",
   "metadata": {},
   "outputs": [
    {
     "name": "stdout",
     "output_type": "stream",
     "text": [
      "130691232\n"
     ]
    }
   ],
   "source": [
    "print(entero ** 5) # imprime en consola"
   ]
  },
  {
   "cell_type": "code",
   "execution_count": 10,
   "id": "0bf6b3ce",
   "metadata": {},
   "outputs": [
    {
     "data": {
      "text/plain": [
       "42"
      ]
     },
     "execution_count": 10,
     "metadata": {},
     "output_type": "execute_result"
    }
   ],
   "source": [
    "entero"
   ]
  },
  {
   "cell_type": "code",
   "execution_count": 15,
   "id": "19acea44",
   "metadata": {},
   "outputs": [
    {
     "name": "stdout",
     "output_type": "stream",
     "text": [
      "<class 'int'> <class 'float'> <class 'bool'>\n",
      "<class 'str'> <class 'list'> <class 'tuple'> <class 'set'> <class 'dict'>\n",
      "Lista mutada: [1, 2, 3, 4]\n",
      "Tupla es inmutable: 'tuple' object does not support item assignment\n"
     ]
    }
   ],
   "source": [
    "# Texto (cadena)\n",
    "texto = \"Analítica de Datos\"  # str (inmutable)\n",
    "\n",
    "# Secuencias y colecciones\n",
    "lista = [1, 2, 3]          # list (mutable)\n",
    "tupla = (1, 2, 3)          # tuple (inmutable)\n",
    "conjunto = {1, 2, 2, 3}    # set (sin duplicados, mutable)\n",
    "dicc = {\"curso\": \"Analítica\", \"clase\": 1}  # dict (mutable)\n",
    "\n",
    "print(type(entero), type(flotante), type(booleano))\n",
    "print(type(texto), type(lista), type(tupla), type(conjunto), type(dicc))\n",
    "\n",
    "# Mutabilidad: cambiar lista SÍ cambia el objeto; cambiar tupla NO es posible\n",
    "lista.append(4)\n",
    "print(\"Lista mutada:\", lista)\n",
    "try:\n",
    "    tupla[0] = 99\n",
    "except TypeError as e:\n",
    "    print(\"Tupla es inmutable:\", e)\n"
   ]
  },
  {
   "cell_type": "markdown",
   "id": "dc897de1",
   "metadata": {},
   "source": [
    "## 3) Funciones\n",
    "Una **función** encapsula un comportamiento reutilizable. Buenas prácticas:\n",
    "- Usa **docstrings** para documentar.\n",
    "- Usa **anotaciones de tipo** para claridad (no obligatorias, sí recomendadas).\n",
    "- Devuelve valores con `return` (o `None` implícito)."
   ]
  },
  {
   "cell_type": "code",
   "execution_count": null,
   "id": "115e6b8a",
   "metadata": {},
   "outputs": [
    {
     "name": "stdout",
     "output_type": "stream",
     "text": [
      "Area de 3x5 MMMMM\n",
      "docs : Calcular el area del triangulo\n",
      "    :param base: base del triangulo\n",
      "    :param alto: altura del triagulo\n",
      "    :return: area del triangulo\n",
      "    \n"
     ]
    }
   ],
   "source": [
    "# definicion de funcion con docstring y tipos\n",
    "def area_rectangulo(base :float ,alto :float) -> float:\n",
    "    \"\"\"Calcular el area del triangulo\n",
    "    :param base: base del triangulo\n",
    "    :param alto: altura del triagulo\n",
    "    :return: area del triangulo\n",
    "    \"\"\"\n",
    "    return base * alto\n",
    "\n",
    "print(\"Area de 3x5\",area_rectangulo(\"M\",5))\n",
    "print(\"docs : \",area_rectangulo.__doc__)"
   ]
  },
  {
   "cell_type": "code",
   "execution_count": null,
   "id": "598f3fea",
   "metadata": {},
   "outputs": [
    {
     "name": "stdout",
     "output_type": "stream",
     "text": [
      "Dentro de interno -> local\n",
      "Dentro de externo -> enclosing\n",
      "En módulo -> global\n"
     ]
    }
   ],
   "source": [
    "# Ámbito de variables (LEGB): Local, Enclosing, Global, Built-in\n",
    "\n",
    "x = \"global\"\n",
    "\n",
    "def externo():\n",
    "    x = \"enclosing\"\n",
    "    def interno():\n",
    "        x = \"local\"\n",
    "        print(\"Dentro de interno ->\", x)\n",
    "    interno()\n",
    "    print(\"Dentro de externo ->\", x)\n",
    "\n",
    "externo()\n",
    "print(\"En módulo ->\", x)"
   ]
  },
  {
   "cell_type": "markdown",
   "id": "62c9c93a",
   "metadata": {},
   "source": [
    "## 4) Parámetros (posicionales, nombrados, por defecto, `*args`, `**kwargs`)\n",
    "Orden recomendado de parámetros en Python:\n",
    "1. Posicionales puros\n",
    "2. Posicionales/nombrados\n",
    "3. `*args` (tupla de posicionales variables)\n",
    "4. Nombrados puros (después de `*`)\n",
    "5. `**kwargs` (diccionario de nombrados variables)"
   ]
  },
  {
   "cell_type": "code",
   "execution_count": 23,
   "id": "d61e4ade",
   "metadata": {},
   "outputs": [
    {
     "name": "stdout",
     "output_type": "stream",
     "text": [
      "Curso=Analítica, Clase=1, Temas=('POO', 'Herencia'), Obligatorio=True, Extras={'docente': 'Andres'}\n",
      "Curso=Analítica, Clase=2, Temas=(), Obligatorio=False, Extras={'campus': 'Virtual'}\n"
     ]
    }
   ],
   "source": [
    "# Demostración de tipos de parámetros y orden de llamada\n",
    "\n",
    "def reporte(curso: str, clase: int = 1, *topics, obligatorio=False, **extras):\n",
    "    \"\"\"Ejemplo de combinación de parámetros.\n",
    "    - curso: posicional/nombrado\n",
    "    - clase: nombrado con valor por defecto\n",
    "    - *topics: posicionales variables\n",
    "    - obligatorio: nombrado puro (aparece tras *)\n",
    "    - **extras: nombrados variables\n",
    "    \"\"\"\n",
    "    print(f\"Curso={curso}, Clase={clase}, Temas={topics}, Obligatorio={obligatorio}, Extras={extras}\")\n",
    "\n",
    "# Llamadas\n",
    "reporte(\"Analítica\", 1, \"POO\", \"Herencia\", obligatorio=True, docente=\"Andres\")\n",
    "reporte(curso=\"Analítica\", clase=2, obligatorio=False, campus=\"Virtual\")"
   ]
  },
  {
   "cell_type": "code",
   "execution_count": 24,
   "id": "ab5505ce",
   "metadata": {},
   "outputs": [
    {
     "name": "stdout",
     "output_type": "stream",
     "text": [
      "[1]\n",
      "[1, 2]\n",
      "[1]\n",
      "[2]\n"
     ]
    }
   ],
   "source": [
    "# PELIGRO: valores por defecto mutables (antipatrones)\n",
    "def append_mal(x, contenedor=[]):\n",
    "    contenedor.append(x)\n",
    "    return contenedor\n",
    "\n",
    "print(append_mal(1))\n",
    "print(append_mal(2))  # Sorprende: ¡acumula estado entre llamadas!\n",
    "\n",
    "# Solución: usar None y crear un nuevo objeto por llamada\n",
    "def append_bien(x, contenedor=None):\n",
    "    if contenedor is None:\n",
    "        contenedor = []\n",
    "    contenedor.append(x)\n",
    "    return contenedor\n",
    "\n",
    "print(append_bien(1))\n",
    "print(append_bien(2))"
   ]
  },
  {
   "cell_type": "markdown",
   "id": "480e3be9",
   "metadata": {},
   "source": [
    "## 5) Clases\n",
    "Una **clase** agrupa datos (atributos) y comportamientos (métodos). `self` referencia la **instancia actual**."
   ]
  },
  {
   "cell_type": "code",
   "execution_count": 33,
   "id": "13c74051",
   "metadata": {},
   "outputs": [
    {
     "name": "stdout",
     "output_type": "stream",
     "text": [
      "I.U. Digital I.U. Digital\n",
      "Ana -> semestre 2\n",
      "Ana -> semestre 3\n",
      "Luis -> semestre 2\n",
      "A0022 14\n"
     ]
    }
   ],
   "source": [
    "# Clase con atributos de instancia y de clase\n",
    "\n",
    "class Estudiante:\n",
    "    # Atributo de clase (compartido por todas las instancias)\n",
    "    universidad = \"I.U. Digital\"\n",
    "\n",
    "    def __init__(self, nombre: str, codigo: str, semestre: int = 1):\n",
    "        # Atributos de instancia (propios de cada objeto)\n",
    "        self.nombre = nombre\n",
    "        self.codigo = codigo\n",
    "        self.semestre = semestre\n",
    "\n",
    "    def avanzar(self):\n",
    "        self.semestre += 1\n",
    "        return self.semestre\n",
    "    \n",
    "    def cambiar(self):\n",
    "        self.codigo = \"A002{} {}{}\".format(2,1,4)#\"A002\" + \"2\" #\"A002{} {}{}\".format(2,1,4)\n",
    "        print(self.codigo)\n",
    "\n",
    "e1 = Estudiante(\"Ana\", \"A001\", 2)\n",
    "e2 = Estudiante(\"Luis\", \"A002\")\n",
    "\n",
    "print(e1.universidad, e2.universidad)  # atributo de clase\n",
    "print(e1.nombre, \"-> semestre\", e1.semestre)\n",
    "e1.avanzar()\n",
    "print(e1.nombre, \"-> semestre\", e1.semestre)\n",
    "e2.avanzar()\n",
    "print(e2.nombre, \"-> semestre\", e2.semestre)\n",
    "e2.cambiar()\n"
   ]
  },
  {
   "cell_type": "code",
   "execution_count": null,
   "id": "a3d82a9f",
   "metadata": {},
   "outputs": [],
   "source": []
  }
 ],
 "metadata": {
  "kernelspec": {
   "display_name": "Python 3",
   "language": "python",
   "name": "python3"
  },
  "language_info": {
   "codemirror_mode": {
    "name": "ipython",
    "version": 3
   },
   "file_extension": ".py",
   "mimetype": "text/x-python",
   "name": "python",
   "nbconvert_exporter": "python",
   "pygments_lexer": "ipython3",
   "version": "3.12.1"
  }
 },
 "nbformat": 4,
 "nbformat_minor": 5
}
